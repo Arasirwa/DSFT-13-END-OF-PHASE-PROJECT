{
 "cells": [
  {
   "cell_type": "markdown",
   "id": "3a4b3ae4",
   "metadata": {},
   "source": [
    "## Aviation Accident Risk Analysis: Data-Driven Recommendations for Safer Investments\n",
    "This project explores historical aviation accident data to identify patterns, contributing factors, and risk profiles associated with various aircraft models, flight conditions, and operational phases. By integrating accident records with regulatory data, weather conditions, and aircraft registration details, I aim to uncover actionable insights that support strategic decision-making—particularly for stakeholders assessing aircraft safety before investment or deployment.\n",
    "\n",
    "Through a combination of statistical techniques and visual analytics, this analysis reveals key trends spanning decades of incidents. The ultimate goal: to deliver **at least three concrete, data-backed business recommendations** that enhance aviation safety and reduce investment risk for operators, insurers, and aviation decision-makers.\n",
    "\n",
    "## Guiding Questions for Analysis\n",
    "\n",
    "To shape meaningful business recommendations and uncover the underlying factors contributing to aviation accidents, the following key questions will guide me in my analysis:\n",
    "\n",
    "1. **Which aircraft models are associated with the highest and lowest accident rates, and how do these rates compare when normalized by fleet size or registration volume?**  \n",
    "   *→ Informs investment risk by identifying safer aircraft models.*\n",
    "\n",
    "2. **What role do weather conditions play in aviation accidents, and which specific weather types are most frequently linked to severe outcomes?**  \n",
    "   *→ Supports operational planning and risk mitigation under adverse weather.*\n",
    "\n",
    "3. **Are there identifiable trends in accidents across different phases of flight (e.g., takeoff, cruise, landing), and do these vary by aircraft type or operator category?**  \n",
    "   *→ Guides targeted safety interventions at high-risk phases.*\n",
    "\n",
    "4. **To what extent do regulatory or maintenance-related issues contribute to accident frequency or severity?**  \n",
    "   *→ Informs policy adjustments and helps rank compliance risk across aircraft categories.*\n",
    "\n",
    "5. **Have accident patterns shifted over time, and what does this reveal about the effectiveness of safety regulations or technological advancements?**  \n",
    "   *→ Tracks progress and identifies areas needing continued focus.*\n",
    "\n",
    "6. **Are there regional or geographical patterns in accident occurrence, especially in relation to weather or regulation enforcement?**  \n",
    "   *→ Offers strategic insight for operators expanding into new territories.*"
   ]
  },
  {
   "cell_type": "markdown",
   "id": "ef3aa15e",
   "metadata": {},
   "source": [
    "## PHASE ONE:  Data Understanding\n",
    "\n",
    "In this section, i will dive into a comprehensive examination of all datasets i will use in the project. The goal is to assess their structure, contents, and quality  and begin identifying how they can be integrated to support meaningful analysis and actionable insights.\n",
    "\n",
    "---\n",
    "\n",
    "###  Objectives\n",
    "\n",
    "- Understand the schema, variables, and value distributions in each dataset.\n",
    "- Assess data quality: missing values, inconsistencies, encoding issues.\n",
    "- Identify relationships and join keys across datasets.\n",
    "- Define preprocessing needs for each dataset.\n",
    "\n",
    "---\n",
    "\n",
    "###  Approach\n",
    "\n",
    "#### 1. **Main Exploration (Aviation DAta)**\n",
    "- Load the aviation accident dataset.\n",
    "- Inspect variable types and value ranges.\n",
    "- Identify missing or inconsistent values.\n",
    "- Explore time, location, aircraft model, and severity distributions.\n",
    "\n",
    "#### 2. **Explore Supplementary Data**\n",
    "- Review each FAA data:\n",
    "  - Are the values well-formatted?\n",
    "  - Any obvious missing or invalid entries?\n",
    "  - What columns are useful?\n",
    "\n",
    "#### 3. **Plan for Dataset Integration**\n",
    "- Identify common keys for joining:\n",
    "  - `Registration.Number` ↔ `N-Number` (FAA)\n",
    "  - `Model` ↔ `MODEL` (FAA)\n",
    "  - Date + Lat/Lon proximity ↔ GHCND Weather\n",
    "- Consider transformations (e.g., date parsing, coordinate matching).\n",
    "\n",
    "---\n",
    "\n"
   ]
  },
  {
   "cell_type": "code",
   "execution_count": 1,
   "id": "c06b036c",
   "metadata": {},
   "outputs": [],
   "source": [
    "#importing standard libs\n",
    "import pandas as pd\n",
    "import numpy as np\n",
    "import matplotlib.pyplot as plt\n",
    "import seaborn as sns\n",
    "import plotly.express as px\n",
    "import warnings\n",
    "warnings.filterwarnings(\"ignore\", category=pd.errors.DtypeWarning)"
   ]
  },
  {
   "cell_type": "markdown",
   "id": "7217e872",
   "metadata": {},
   "source": [
    "## PART ONE: Core Data Set Understanding\n",
    "The primary dataset for this project consists of detailed records of aviation accidents, capturing various attributes such as accident number, date, aircraft model, flight phase, location, injury severity, and more. This dataset serves as the backbone of my analysis and will help me uncover core patterns in accident frequency, severity, and causes.\n",
    "\n",
    "Before diving into analysis, i will begin by examining the structure and content of this dataset to understand its variables, detect missing or inconsistent data, and identify potential areas for transformation. This step is critical in ensuring that my insights are grounded in clean, reliable, and meaningful data.\n",
    "\n",
    "**Objectives:**\n",
    "- Get familiar with the features (columns) present in the dataset  \n",
    "- Check the completeness and data types of each feature  \n",
    "- Identify key columns that will drive our analysis.\n",
    "- Detect potential issues such as missing values, formatting inconsistencies, or ambiguous entries  \n",
    "\n",
    "This understanding will guide the cleaning, enrichment, and merging steps to follow as i prepare this data for deeper analysis and cross-linking with the supplementary datasets.\n"
   ]
  },
  {
   "cell_type": "code",
   "execution_count": 2,
   "id": "48ea9b16",
   "metadata": {},
   "outputs": [],
   "source": [
    "#Loading the data\n",
    "aviation_data = pd.read_csv(\"Data/Aviation-data/AviationData.csv\", encoding='latin1')"
   ]
  },
  {
   "cell_type": "code",
   "execution_count": 3,
   "id": "c6cc9d02",
   "metadata": {},
   "outputs": [
    {
     "data": {
      "text/plain": [
       "(88889, 31)"
      ]
     },
     "execution_count": 3,
     "metadata": {},
     "output_type": "execute_result"
    }
   ],
   "source": [
    "#check the shape\n",
    "aviation_data.shape"
   ]
  },
  {
   "cell_type": "code",
   "execution_count": 4,
   "id": "e9f1edcf",
   "metadata": {},
   "outputs": [
    {
     "data": {
      "text/html": [
       "<div>\n",
       "<style scoped>\n",
       "    .dataframe tbody tr th:only-of-type {\n",
       "        vertical-align: middle;\n",
       "    }\n",
       "\n",
       "    .dataframe tbody tr th {\n",
       "        vertical-align: top;\n",
       "    }\n",
       "\n",
       "    .dataframe thead th {\n",
       "        text-align: right;\n",
       "    }\n",
       "</style>\n",
       "<table border=\"1\" class=\"dataframe\">\n",
       "  <thead>\n",
       "    <tr style=\"text-align: right;\">\n",
       "      <th></th>\n",
       "      <th>Event.Id</th>\n",
       "      <th>Investigation.Type</th>\n",
       "      <th>Accident.Number</th>\n",
       "      <th>Event.Date</th>\n",
       "      <th>Location</th>\n",
       "      <th>Country</th>\n",
       "      <th>Latitude</th>\n",
       "      <th>Longitude</th>\n",
       "      <th>Airport.Code</th>\n",
       "      <th>Airport.Name</th>\n",
       "      <th>...</th>\n",
       "      <th>Purpose.of.flight</th>\n",
       "      <th>Air.carrier</th>\n",
       "      <th>Total.Fatal.Injuries</th>\n",
       "      <th>Total.Serious.Injuries</th>\n",
       "      <th>Total.Minor.Injuries</th>\n",
       "      <th>Total.Uninjured</th>\n",
       "      <th>Weather.Condition</th>\n",
       "      <th>Broad.phase.of.flight</th>\n",
       "      <th>Report.Status</th>\n",
       "      <th>Publication.Date</th>\n",
       "    </tr>\n",
       "  </thead>\n",
       "  <tbody>\n",
       "    <tr>\n",
       "      <th>0</th>\n",
       "      <td>20001218X45444</td>\n",
       "      <td>Accident</td>\n",
       "      <td>SEA87LA080</td>\n",
       "      <td>1948-10-24</td>\n",
       "      <td>MOOSE CREEK, ID</td>\n",
       "      <td>United States</td>\n",
       "      <td>NaN</td>\n",
       "      <td>NaN</td>\n",
       "      <td>NaN</td>\n",
       "      <td>NaN</td>\n",
       "      <td>...</td>\n",
       "      <td>Personal</td>\n",
       "      <td>NaN</td>\n",
       "      <td>2.0</td>\n",
       "      <td>0.0</td>\n",
       "      <td>0.0</td>\n",
       "      <td>0.0</td>\n",
       "      <td>UNK</td>\n",
       "      <td>Cruise</td>\n",
       "      <td>Probable Cause</td>\n",
       "      <td>NaN</td>\n",
       "    </tr>\n",
       "    <tr>\n",
       "      <th>1</th>\n",
       "      <td>20001218X45447</td>\n",
       "      <td>Accident</td>\n",
       "      <td>LAX94LA336</td>\n",
       "      <td>1962-07-19</td>\n",
       "      <td>BRIDGEPORT, CA</td>\n",
       "      <td>United States</td>\n",
       "      <td>NaN</td>\n",
       "      <td>NaN</td>\n",
       "      <td>NaN</td>\n",
       "      <td>NaN</td>\n",
       "      <td>...</td>\n",
       "      <td>Personal</td>\n",
       "      <td>NaN</td>\n",
       "      <td>4.0</td>\n",
       "      <td>0.0</td>\n",
       "      <td>0.0</td>\n",
       "      <td>0.0</td>\n",
       "      <td>UNK</td>\n",
       "      <td>Unknown</td>\n",
       "      <td>Probable Cause</td>\n",
       "      <td>19-09-1996</td>\n",
       "    </tr>\n",
       "    <tr>\n",
       "      <th>2</th>\n",
       "      <td>20061025X01555</td>\n",
       "      <td>Accident</td>\n",
       "      <td>NYC07LA005</td>\n",
       "      <td>1974-08-30</td>\n",
       "      <td>Saltville, VA</td>\n",
       "      <td>United States</td>\n",
       "      <td>36.922223</td>\n",
       "      <td>-81.878056</td>\n",
       "      <td>NaN</td>\n",
       "      <td>NaN</td>\n",
       "      <td>...</td>\n",
       "      <td>Personal</td>\n",
       "      <td>NaN</td>\n",
       "      <td>3.0</td>\n",
       "      <td>NaN</td>\n",
       "      <td>NaN</td>\n",
       "      <td>NaN</td>\n",
       "      <td>IMC</td>\n",
       "      <td>Cruise</td>\n",
       "      <td>Probable Cause</td>\n",
       "      <td>26-02-2007</td>\n",
       "    </tr>\n",
       "    <tr>\n",
       "      <th>3</th>\n",
       "      <td>20001218X45448</td>\n",
       "      <td>Accident</td>\n",
       "      <td>LAX96LA321</td>\n",
       "      <td>1977-06-19</td>\n",
       "      <td>EUREKA, CA</td>\n",
       "      <td>United States</td>\n",
       "      <td>NaN</td>\n",
       "      <td>NaN</td>\n",
       "      <td>NaN</td>\n",
       "      <td>NaN</td>\n",
       "      <td>...</td>\n",
       "      <td>Personal</td>\n",
       "      <td>NaN</td>\n",
       "      <td>2.0</td>\n",
       "      <td>0.0</td>\n",
       "      <td>0.0</td>\n",
       "      <td>0.0</td>\n",
       "      <td>IMC</td>\n",
       "      <td>Cruise</td>\n",
       "      <td>Probable Cause</td>\n",
       "      <td>12-09-2000</td>\n",
       "    </tr>\n",
       "    <tr>\n",
       "      <th>4</th>\n",
       "      <td>20041105X01764</td>\n",
       "      <td>Accident</td>\n",
       "      <td>CHI79FA064</td>\n",
       "      <td>1979-08-02</td>\n",
       "      <td>Canton, OH</td>\n",
       "      <td>United States</td>\n",
       "      <td>NaN</td>\n",
       "      <td>NaN</td>\n",
       "      <td>NaN</td>\n",
       "      <td>NaN</td>\n",
       "      <td>...</td>\n",
       "      <td>Personal</td>\n",
       "      <td>NaN</td>\n",
       "      <td>1.0</td>\n",
       "      <td>2.0</td>\n",
       "      <td>NaN</td>\n",
       "      <td>0.0</td>\n",
       "      <td>VMC</td>\n",
       "      <td>Approach</td>\n",
       "      <td>Probable Cause</td>\n",
       "      <td>16-04-1980</td>\n",
       "    </tr>\n",
       "  </tbody>\n",
       "</table>\n",
       "<p>5 rows × 31 columns</p>\n",
       "</div>"
      ],
      "text/plain": [
       "         Event.Id Investigation.Type Accident.Number  Event.Date  \\\n",
       "0  20001218X45444           Accident      SEA87LA080  1948-10-24   \n",
       "1  20001218X45447           Accident      LAX94LA336  1962-07-19   \n",
       "2  20061025X01555           Accident      NYC07LA005  1974-08-30   \n",
       "3  20001218X45448           Accident      LAX96LA321  1977-06-19   \n",
       "4  20041105X01764           Accident      CHI79FA064  1979-08-02   \n",
       "\n",
       "          Location        Country   Latitude  Longitude Airport.Code  \\\n",
       "0  MOOSE CREEK, ID  United States        NaN        NaN          NaN   \n",
       "1   BRIDGEPORT, CA  United States        NaN        NaN          NaN   \n",
       "2    Saltville, VA  United States  36.922223 -81.878056          NaN   \n",
       "3       EUREKA, CA  United States        NaN        NaN          NaN   \n",
       "4       Canton, OH  United States        NaN        NaN          NaN   \n",
       "\n",
       "  Airport.Name  ... Purpose.of.flight Air.carrier Total.Fatal.Injuries  \\\n",
       "0          NaN  ...          Personal         NaN                  2.0   \n",
       "1          NaN  ...          Personal         NaN                  4.0   \n",
       "2          NaN  ...          Personal         NaN                  3.0   \n",
       "3          NaN  ...          Personal         NaN                  2.0   \n",
       "4          NaN  ...          Personal         NaN                  1.0   \n",
       "\n",
       "  Total.Serious.Injuries Total.Minor.Injuries Total.Uninjured  \\\n",
       "0                    0.0                  0.0             0.0   \n",
       "1                    0.0                  0.0             0.0   \n",
       "2                    NaN                  NaN             NaN   \n",
       "3                    0.0                  0.0             0.0   \n",
       "4                    2.0                  NaN             0.0   \n",
       "\n",
       "  Weather.Condition  Broad.phase.of.flight   Report.Status Publication.Date  \n",
       "0               UNK                 Cruise  Probable Cause              NaN  \n",
       "1               UNK                Unknown  Probable Cause       19-09-1996  \n",
       "2               IMC                 Cruise  Probable Cause       26-02-2007  \n",
       "3               IMC                 Cruise  Probable Cause       12-09-2000  \n",
       "4               VMC               Approach  Probable Cause       16-04-1980  \n",
       "\n",
       "[5 rows x 31 columns]"
      ]
     },
     "execution_count": 4,
     "metadata": {},
     "output_type": "execute_result"
    }
   ],
   "source": [
    "#preview of the first five rows\n",
    "aviation_data.head()"
   ]
  },
  {
   "cell_type": "code",
   "execution_count": 5,
   "id": "78ce7ac3",
   "metadata": {},
   "outputs": [
    {
     "data": {
      "text/html": [
       "<div>\n",
       "<style scoped>\n",
       "    .dataframe tbody tr th:only-of-type {\n",
       "        vertical-align: middle;\n",
       "    }\n",
       "\n",
       "    .dataframe tbody tr th {\n",
       "        vertical-align: top;\n",
       "    }\n",
       "\n",
       "    .dataframe thead th {\n",
       "        text-align: right;\n",
       "    }\n",
       "</style>\n",
       "<table border=\"1\" class=\"dataframe\">\n",
       "  <thead>\n",
       "    <tr style=\"text-align: right;\">\n",
       "      <th></th>\n",
       "      <th>Event.Id</th>\n",
       "      <th>Investigation.Type</th>\n",
       "      <th>Accident.Number</th>\n",
       "      <th>Event.Date</th>\n",
       "      <th>Location</th>\n",
       "      <th>Country</th>\n",
       "      <th>Latitude</th>\n",
       "      <th>Longitude</th>\n",
       "      <th>Airport.Code</th>\n",
       "      <th>Airport.Name</th>\n",
       "      <th>...</th>\n",
       "      <th>Purpose.of.flight</th>\n",
       "      <th>Air.carrier</th>\n",
       "      <th>Total.Fatal.Injuries</th>\n",
       "      <th>Total.Serious.Injuries</th>\n",
       "      <th>Total.Minor.Injuries</th>\n",
       "      <th>Total.Uninjured</th>\n",
       "      <th>Weather.Condition</th>\n",
       "      <th>Broad.phase.of.flight</th>\n",
       "      <th>Report.Status</th>\n",
       "      <th>Publication.Date</th>\n",
       "    </tr>\n",
       "  </thead>\n",
       "  <tbody>\n",
       "    <tr>\n",
       "      <th>88884</th>\n",
       "      <td>20221227106491</td>\n",
       "      <td>Accident</td>\n",
       "      <td>ERA23LA093</td>\n",
       "      <td>2022-12-26</td>\n",
       "      <td>Annapolis, MD</td>\n",
       "      <td>United States</td>\n",
       "      <td>NaN</td>\n",
       "      <td>NaN</td>\n",
       "      <td>NaN</td>\n",
       "      <td>NaN</td>\n",
       "      <td>...</td>\n",
       "      <td>Personal</td>\n",
       "      <td>NaN</td>\n",
       "      <td>0.0</td>\n",
       "      <td>1.0</td>\n",
       "      <td>0.0</td>\n",
       "      <td>0.0</td>\n",
       "      <td>NaN</td>\n",
       "      <td>NaN</td>\n",
       "      <td>NaN</td>\n",
       "      <td>29-12-2022</td>\n",
       "    </tr>\n",
       "    <tr>\n",
       "      <th>88885</th>\n",
       "      <td>20221227106494</td>\n",
       "      <td>Accident</td>\n",
       "      <td>ERA23LA095</td>\n",
       "      <td>2022-12-26</td>\n",
       "      <td>Hampton, NH</td>\n",
       "      <td>United States</td>\n",
       "      <td>NaN</td>\n",
       "      <td>NaN</td>\n",
       "      <td>NaN</td>\n",
       "      <td>NaN</td>\n",
       "      <td>...</td>\n",
       "      <td>NaN</td>\n",
       "      <td>NaN</td>\n",
       "      <td>0.0</td>\n",
       "      <td>0.0</td>\n",
       "      <td>0.0</td>\n",
       "      <td>0.0</td>\n",
       "      <td>NaN</td>\n",
       "      <td>NaN</td>\n",
       "      <td>NaN</td>\n",
       "      <td>NaN</td>\n",
       "    </tr>\n",
       "    <tr>\n",
       "      <th>88886</th>\n",
       "      <td>20221227106497</td>\n",
       "      <td>Accident</td>\n",
       "      <td>WPR23LA075</td>\n",
       "      <td>2022-12-26</td>\n",
       "      <td>Payson, AZ</td>\n",
       "      <td>United States</td>\n",
       "      <td>341525N</td>\n",
       "      <td>1112021W</td>\n",
       "      <td>PAN</td>\n",
       "      <td>PAYSON</td>\n",
       "      <td>...</td>\n",
       "      <td>Personal</td>\n",
       "      <td>NaN</td>\n",
       "      <td>0.0</td>\n",
       "      <td>0.0</td>\n",
       "      <td>0.0</td>\n",
       "      <td>1.0</td>\n",
       "      <td>VMC</td>\n",
       "      <td>NaN</td>\n",
       "      <td>NaN</td>\n",
       "      <td>27-12-2022</td>\n",
       "    </tr>\n",
       "    <tr>\n",
       "      <th>88887</th>\n",
       "      <td>20221227106498</td>\n",
       "      <td>Accident</td>\n",
       "      <td>WPR23LA076</td>\n",
       "      <td>2022-12-26</td>\n",
       "      <td>Morgan, UT</td>\n",
       "      <td>United States</td>\n",
       "      <td>NaN</td>\n",
       "      <td>NaN</td>\n",
       "      <td>NaN</td>\n",
       "      <td>NaN</td>\n",
       "      <td>...</td>\n",
       "      <td>Personal</td>\n",
       "      <td>MC CESSNA 210N LLC</td>\n",
       "      <td>0.0</td>\n",
       "      <td>0.0</td>\n",
       "      <td>0.0</td>\n",
       "      <td>0.0</td>\n",
       "      <td>NaN</td>\n",
       "      <td>NaN</td>\n",
       "      <td>NaN</td>\n",
       "      <td>NaN</td>\n",
       "    </tr>\n",
       "    <tr>\n",
       "      <th>88888</th>\n",
       "      <td>20221230106513</td>\n",
       "      <td>Accident</td>\n",
       "      <td>ERA23LA097</td>\n",
       "      <td>2022-12-29</td>\n",
       "      <td>Athens, GA</td>\n",
       "      <td>United States</td>\n",
       "      <td>NaN</td>\n",
       "      <td>NaN</td>\n",
       "      <td>NaN</td>\n",
       "      <td>NaN</td>\n",
       "      <td>...</td>\n",
       "      <td>Personal</td>\n",
       "      <td>NaN</td>\n",
       "      <td>0.0</td>\n",
       "      <td>1.0</td>\n",
       "      <td>0.0</td>\n",
       "      <td>1.0</td>\n",
       "      <td>NaN</td>\n",
       "      <td>NaN</td>\n",
       "      <td>NaN</td>\n",
       "      <td>30-12-2022</td>\n",
       "    </tr>\n",
       "  </tbody>\n",
       "</table>\n",
       "<p>5 rows × 31 columns</p>\n",
       "</div>"
      ],
      "text/plain": [
       "             Event.Id Investigation.Type Accident.Number  Event.Date  \\\n",
       "88884  20221227106491           Accident      ERA23LA093  2022-12-26   \n",
       "88885  20221227106494           Accident      ERA23LA095  2022-12-26   \n",
       "88886  20221227106497           Accident      WPR23LA075  2022-12-26   \n",
       "88887  20221227106498           Accident      WPR23LA076  2022-12-26   \n",
       "88888  20221230106513           Accident      ERA23LA097  2022-12-29   \n",
       "\n",
       "            Location        Country Latitude Longitude Airport.Code  \\\n",
       "88884  Annapolis, MD  United States      NaN       NaN          NaN   \n",
       "88885    Hampton, NH  United States      NaN       NaN          NaN   \n",
       "88886     Payson, AZ  United States  341525N  1112021W          PAN   \n",
       "88887     Morgan, UT  United States      NaN       NaN          NaN   \n",
       "88888     Athens, GA  United States      NaN       NaN          NaN   \n",
       "\n",
       "      Airport.Name  ... Purpose.of.flight         Air.carrier  \\\n",
       "88884          NaN  ...          Personal                 NaN   \n",
       "88885          NaN  ...               NaN                 NaN   \n",
       "88886       PAYSON  ...          Personal                 NaN   \n",
       "88887          NaN  ...          Personal  MC CESSNA 210N LLC   \n",
       "88888          NaN  ...          Personal                 NaN   \n",
       "\n",
       "      Total.Fatal.Injuries Total.Serious.Injuries Total.Minor.Injuries  \\\n",
       "88884                  0.0                    1.0                  0.0   \n",
       "88885                  0.0                    0.0                  0.0   \n",
       "88886                  0.0                    0.0                  0.0   \n",
       "88887                  0.0                    0.0                  0.0   \n",
       "88888                  0.0                    1.0                  0.0   \n",
       "\n",
       "      Total.Uninjured Weather.Condition  Broad.phase.of.flight Report.Status  \\\n",
       "88884             0.0               NaN                    NaN           NaN   \n",
       "88885             0.0               NaN                    NaN           NaN   \n",
       "88886             1.0               VMC                    NaN           NaN   \n",
       "88887             0.0               NaN                    NaN           NaN   \n",
       "88888             1.0               NaN                    NaN           NaN   \n",
       "\n",
       "      Publication.Date  \n",
       "88884       29-12-2022  \n",
       "88885              NaN  \n",
       "88886       27-12-2022  \n",
       "88887              NaN  \n",
       "88888       30-12-2022  \n",
       "\n",
       "[5 rows x 31 columns]"
      ]
     },
     "execution_count": 5,
     "metadata": {},
     "output_type": "execute_result"
    }
   ],
   "source": [
    "#check the last five rows\n",
    "aviation_data.tail()"
   ]
  },
  {
   "cell_type": "code",
   "execution_count": 6,
   "id": "beba4445",
   "metadata": {},
   "outputs": [
    {
     "data": {
      "text/plain": [
       "Index(['Event.Id', 'Investigation.Type', 'Accident.Number', 'Event.Date',\n",
       "       'Location', 'Country', 'Latitude', 'Longitude', 'Airport.Code',\n",
       "       'Airport.Name', 'Injury.Severity', 'Aircraft.damage',\n",
       "       'Aircraft.Category', 'Registration.Number', 'Make', 'Model',\n",
       "       'Amateur.Built', 'Number.of.Engines', 'Engine.Type', 'FAR.Description',\n",
       "       'Schedule', 'Purpose.of.flight', 'Air.carrier', 'Total.Fatal.Injuries',\n",
       "       'Total.Serious.Injuries', 'Total.Minor.Injuries', 'Total.Uninjured',\n",
       "       'Weather.Condition', 'Broad.phase.of.flight', 'Report.Status',\n",
       "       'Publication.Date'],\n",
       "      dtype='object')"
      ]
     },
     "execution_count": 6,
     "metadata": {},
     "output_type": "execute_result"
    }
   ],
   "source": [
    "#checking columns\n",
    "aviation_data.columns"
   ]
  },
  {
   "cell_type": "code",
   "execution_count": 7,
   "id": "10f23c44",
   "metadata": {},
   "outputs": [
    {
     "name": "stdout",
     "output_type": "stream",
     "text": [
      "<class 'pandas.core.frame.DataFrame'>\n",
      "RangeIndex: 88889 entries, 0 to 88888\n",
      "Data columns (total 31 columns):\n",
      " #   Column                  Non-Null Count  Dtype  \n",
      "---  ------                  --------------  -----  \n",
      " 0   Event.Id                88889 non-null  object \n",
      " 1   Investigation.Type      88889 non-null  object \n",
      " 2   Accident.Number         88889 non-null  object \n",
      " 3   Event.Date              88889 non-null  object \n",
      " 4   Location                88837 non-null  object \n",
      " 5   Country                 88663 non-null  object \n",
      " 6   Latitude                34382 non-null  object \n",
      " 7   Longitude               34373 non-null  object \n",
      " 8   Airport.Code            50132 non-null  object \n",
      " 9   Airport.Name            52704 non-null  object \n",
      " 10  Injury.Severity         87889 non-null  object \n",
      " 11  Aircraft.damage         85695 non-null  object \n",
      " 12  Aircraft.Category       32287 non-null  object \n",
      " 13  Registration.Number     87507 non-null  object \n",
      " 14  Make                    88826 non-null  object \n",
      " 15  Model                   88797 non-null  object \n",
      " 16  Amateur.Built           88787 non-null  object \n",
      " 17  Number.of.Engines       82805 non-null  float64\n",
      " 18  Engine.Type             81793 non-null  object \n",
      " 19  FAR.Description         32023 non-null  object \n",
      " 20  Schedule                12582 non-null  object \n",
      " 21  Purpose.of.flight       82697 non-null  object \n",
      " 22  Air.carrier             16648 non-null  object \n",
      " 23  Total.Fatal.Injuries    77488 non-null  float64\n",
      " 24  Total.Serious.Injuries  76379 non-null  float64\n",
      " 25  Total.Minor.Injuries    76956 non-null  float64\n",
      " 26  Total.Uninjured         82977 non-null  float64\n",
      " 27  Weather.Condition       84397 non-null  object \n",
      " 28  Broad.phase.of.flight   61724 non-null  object \n",
      " 29  Report.Status           82505 non-null  object \n",
      " 30  Publication.Date        75118 non-null  object \n",
      "dtypes: float64(5), object(26)\n",
      "memory usage: 21.0+ MB\n"
     ]
    }
   ],
   "source": [
    "#quick view of the data set\n",
    "aviation_data.info()"
   ]
  },
  {
   "cell_type": "code",
   "execution_count": 8,
   "id": "8675a4c3",
   "metadata": {},
   "outputs": [
    {
     "data": {
      "text/html": [
       "<div>\n",
       "<style scoped>\n",
       "    .dataframe tbody tr th:only-of-type {\n",
       "        vertical-align: middle;\n",
       "    }\n",
       "\n",
       "    .dataframe tbody tr th {\n",
       "        vertical-align: top;\n",
       "    }\n",
       "\n",
       "    .dataframe thead th {\n",
       "        text-align: right;\n",
       "    }\n",
       "</style>\n",
       "<table border=\"1\" class=\"dataframe\">\n",
       "  <thead>\n",
       "    <tr style=\"text-align: right;\">\n",
       "      <th></th>\n",
       "      <th>count</th>\n",
       "      <th>mean</th>\n",
       "      <th>std</th>\n",
       "      <th>min</th>\n",
       "      <th>25%</th>\n",
       "      <th>50%</th>\n",
       "      <th>75%</th>\n",
       "      <th>max</th>\n",
       "    </tr>\n",
       "  </thead>\n",
       "  <tbody>\n",
       "    <tr>\n",
       "      <th>Number.of.Engines</th>\n",
       "      <td>82805.0</td>\n",
       "      <td>1.146585</td>\n",
       "      <td>0.446510</td>\n",
       "      <td>0.0</td>\n",
       "      <td>1.0</td>\n",
       "      <td>1.0</td>\n",
       "      <td>1.0</td>\n",
       "      <td>8.0</td>\n",
       "    </tr>\n",
       "    <tr>\n",
       "      <th>Total.Fatal.Injuries</th>\n",
       "      <td>77488.0</td>\n",
       "      <td>0.647855</td>\n",
       "      <td>5.485960</td>\n",
       "      <td>0.0</td>\n",
       "      <td>0.0</td>\n",
       "      <td>0.0</td>\n",
       "      <td>0.0</td>\n",
       "      <td>349.0</td>\n",
       "    </tr>\n",
       "    <tr>\n",
       "      <th>Total.Serious.Injuries</th>\n",
       "      <td>76379.0</td>\n",
       "      <td>0.279881</td>\n",
       "      <td>1.544084</td>\n",
       "      <td>0.0</td>\n",
       "      <td>0.0</td>\n",
       "      <td>0.0</td>\n",
       "      <td>0.0</td>\n",
       "      <td>161.0</td>\n",
       "    </tr>\n",
       "    <tr>\n",
       "      <th>Total.Minor.Injuries</th>\n",
       "      <td>76956.0</td>\n",
       "      <td>0.357061</td>\n",
       "      <td>2.235625</td>\n",
       "      <td>0.0</td>\n",
       "      <td>0.0</td>\n",
       "      <td>0.0</td>\n",
       "      <td>0.0</td>\n",
       "      <td>380.0</td>\n",
       "    </tr>\n",
       "    <tr>\n",
       "      <th>Total.Uninjured</th>\n",
       "      <td>82977.0</td>\n",
       "      <td>5.325440</td>\n",
       "      <td>27.913634</td>\n",
       "      <td>0.0</td>\n",
       "      <td>0.0</td>\n",
       "      <td>1.0</td>\n",
       "      <td>2.0</td>\n",
       "      <td>699.0</td>\n",
       "    </tr>\n",
       "  </tbody>\n",
       "</table>\n",
       "</div>"
      ],
      "text/plain": [
       "                          count      mean        std  min  25%  50%  75%  \\\n",
       "Number.of.Engines       82805.0  1.146585   0.446510  0.0  1.0  1.0  1.0   \n",
       "Total.Fatal.Injuries    77488.0  0.647855   5.485960  0.0  0.0  0.0  0.0   \n",
       "Total.Serious.Injuries  76379.0  0.279881   1.544084  0.0  0.0  0.0  0.0   \n",
       "Total.Minor.Injuries    76956.0  0.357061   2.235625  0.0  0.0  0.0  0.0   \n",
       "Total.Uninjured         82977.0  5.325440  27.913634  0.0  0.0  1.0  2.0   \n",
       "\n",
       "                          max  \n",
       "Number.of.Engines         8.0  \n",
       "Total.Fatal.Injuries    349.0  \n",
       "Total.Serious.Injuries  161.0  \n",
       "Total.Minor.Injuries    380.0  \n",
       "Total.Uninjured         699.0  "
      ]
     },
     "execution_count": 8,
     "metadata": {},
     "output_type": "execute_result"
    }
   ],
   "source": [
    "#Checking numerucal data\n",
    "aviation_data.describe().T"
   ]
  },
  {
   "cell_type": "code",
   "execution_count": 9,
   "id": "bcd656af",
   "metadata": {},
   "outputs": [
    {
     "data": {
      "text/html": [
       "<div>\n",
       "<style scoped>\n",
       "    .dataframe tbody tr th:only-of-type {\n",
       "        vertical-align: middle;\n",
       "    }\n",
       "\n",
       "    .dataframe tbody tr th {\n",
       "        vertical-align: top;\n",
       "    }\n",
       "\n",
       "    .dataframe thead th {\n",
       "        text-align: right;\n",
       "    }\n",
       "</style>\n",
       "<table border=\"1\" class=\"dataframe\">\n",
       "  <thead>\n",
       "    <tr style=\"text-align: right;\">\n",
       "      <th></th>\n",
       "      <th>count</th>\n",
       "      <th>unique</th>\n",
       "      <th>top</th>\n",
       "      <th>freq</th>\n",
       "    </tr>\n",
       "  </thead>\n",
       "  <tbody>\n",
       "    <tr>\n",
       "      <th>Event.Id</th>\n",
       "      <td>88889</td>\n",
       "      <td>87951</td>\n",
       "      <td>20001212X19172</td>\n",
       "      <td>3</td>\n",
       "    </tr>\n",
       "    <tr>\n",
       "      <th>Investigation.Type</th>\n",
       "      <td>88889</td>\n",
       "      <td>2</td>\n",
       "      <td>Accident</td>\n",
       "      <td>85015</td>\n",
       "    </tr>\n",
       "    <tr>\n",
       "      <th>Accident.Number</th>\n",
       "      <td>88889</td>\n",
       "      <td>88863</td>\n",
       "      <td>CEN22LA149</td>\n",
       "      <td>2</td>\n",
       "    </tr>\n",
       "    <tr>\n",
       "      <th>Event.Date</th>\n",
       "      <td>88889</td>\n",
       "      <td>14782</td>\n",
       "      <td>1984-06-30</td>\n",
       "      <td>25</td>\n",
       "    </tr>\n",
       "    <tr>\n",
       "      <th>Location</th>\n",
       "      <td>88837</td>\n",
       "      <td>27758</td>\n",
       "      <td>ANCHORAGE, AK</td>\n",
       "      <td>434</td>\n",
       "    </tr>\n",
       "    <tr>\n",
       "      <th>Country</th>\n",
       "      <td>88663</td>\n",
       "      <td>219</td>\n",
       "      <td>United States</td>\n",
       "      <td>82248</td>\n",
       "    </tr>\n",
       "    <tr>\n",
       "      <th>Latitude</th>\n",
       "      <td>34382</td>\n",
       "      <td>25592</td>\n",
       "      <td>332739N</td>\n",
       "      <td>19</td>\n",
       "    </tr>\n",
       "    <tr>\n",
       "      <th>Longitude</th>\n",
       "      <td>34373</td>\n",
       "      <td>27156</td>\n",
       "      <td>0112457W</td>\n",
       "      <td>24</td>\n",
       "    </tr>\n",
       "    <tr>\n",
       "      <th>Airport.Code</th>\n",
       "      <td>50132</td>\n",
       "      <td>10374</td>\n",
       "      <td>NONE</td>\n",
       "      <td>1488</td>\n",
       "    </tr>\n",
       "    <tr>\n",
       "      <th>Airport.Name</th>\n",
       "      <td>52704</td>\n",
       "      <td>24870</td>\n",
       "      <td>Private</td>\n",
       "      <td>240</td>\n",
       "    </tr>\n",
       "    <tr>\n",
       "      <th>Injury.Severity</th>\n",
       "      <td>87889</td>\n",
       "      <td>109</td>\n",
       "      <td>Non-Fatal</td>\n",
       "      <td>67357</td>\n",
       "    </tr>\n",
       "    <tr>\n",
       "      <th>Aircraft.damage</th>\n",
       "      <td>85695</td>\n",
       "      <td>4</td>\n",
       "      <td>Substantial</td>\n",
       "      <td>64148</td>\n",
       "    </tr>\n",
       "    <tr>\n",
       "      <th>Aircraft.Category</th>\n",
       "      <td>32287</td>\n",
       "      <td>15</td>\n",
       "      <td>Airplane</td>\n",
       "      <td>27617</td>\n",
       "    </tr>\n",
       "    <tr>\n",
       "      <th>Registration.Number</th>\n",
       "      <td>87507</td>\n",
       "      <td>79104</td>\n",
       "      <td>NONE</td>\n",
       "      <td>344</td>\n",
       "    </tr>\n",
       "    <tr>\n",
       "      <th>Make</th>\n",
       "      <td>88826</td>\n",
       "      <td>8237</td>\n",
       "      <td>Cessna</td>\n",
       "      <td>22227</td>\n",
       "    </tr>\n",
       "    <tr>\n",
       "      <th>Model</th>\n",
       "      <td>88797</td>\n",
       "      <td>12318</td>\n",
       "      <td>152</td>\n",
       "      <td>2367</td>\n",
       "    </tr>\n",
       "    <tr>\n",
       "      <th>Amateur.Built</th>\n",
       "      <td>88787</td>\n",
       "      <td>2</td>\n",
       "      <td>No</td>\n",
       "      <td>80312</td>\n",
       "    </tr>\n",
       "    <tr>\n",
       "      <th>Engine.Type</th>\n",
       "      <td>81793</td>\n",
       "      <td>12</td>\n",
       "      <td>Reciprocating</td>\n",
       "      <td>69530</td>\n",
       "    </tr>\n",
       "    <tr>\n",
       "      <th>FAR.Description</th>\n",
       "      <td>32023</td>\n",
       "      <td>31</td>\n",
       "      <td>091</td>\n",
       "      <td>18221</td>\n",
       "    </tr>\n",
       "    <tr>\n",
       "      <th>Schedule</th>\n",
       "      <td>12582</td>\n",
       "      <td>3</td>\n",
       "      <td>NSCH</td>\n",
       "      <td>4474</td>\n",
       "    </tr>\n",
       "    <tr>\n",
       "      <th>Purpose.of.flight</th>\n",
       "      <td>82697</td>\n",
       "      <td>26</td>\n",
       "      <td>Personal</td>\n",
       "      <td>49448</td>\n",
       "    </tr>\n",
       "    <tr>\n",
       "      <th>Air.carrier</th>\n",
       "      <td>16648</td>\n",
       "      <td>13590</td>\n",
       "      <td>Pilot</td>\n",
       "      <td>258</td>\n",
       "    </tr>\n",
       "    <tr>\n",
       "      <th>Weather.Condition</th>\n",
       "      <td>84397</td>\n",
       "      <td>4</td>\n",
       "      <td>VMC</td>\n",
       "      <td>77303</td>\n",
       "    </tr>\n",
       "    <tr>\n",
       "      <th>Broad.phase.of.flight</th>\n",
       "      <td>61724</td>\n",
       "      <td>12</td>\n",
       "      <td>Landing</td>\n",
       "      <td>15428</td>\n",
       "    </tr>\n",
       "    <tr>\n",
       "      <th>Report.Status</th>\n",
       "      <td>82505</td>\n",
       "      <td>17074</td>\n",
       "      <td>Probable Cause</td>\n",
       "      <td>61754</td>\n",
       "    </tr>\n",
       "    <tr>\n",
       "      <th>Publication.Date</th>\n",
       "      <td>75118</td>\n",
       "      <td>2924</td>\n",
       "      <td>25-09-2020</td>\n",
       "      <td>17019</td>\n",
       "    </tr>\n",
       "  </tbody>\n",
       "</table>\n",
       "</div>"
      ],
      "text/plain": [
       "                       count unique             top   freq\n",
       "Event.Id               88889  87951  20001212X19172      3\n",
       "Investigation.Type     88889      2        Accident  85015\n",
       "Accident.Number        88889  88863      CEN22LA149      2\n",
       "Event.Date             88889  14782      1984-06-30     25\n",
       "Location               88837  27758   ANCHORAGE, AK    434\n",
       "Country                88663    219   United States  82248\n",
       "Latitude               34382  25592         332739N     19\n",
       "Longitude              34373  27156        0112457W     24\n",
       "Airport.Code           50132  10374            NONE   1488\n",
       "Airport.Name           52704  24870         Private    240\n",
       "Injury.Severity        87889    109       Non-Fatal  67357\n",
       "Aircraft.damage        85695      4     Substantial  64148\n",
       "Aircraft.Category      32287     15        Airplane  27617\n",
       "Registration.Number    87507  79104            NONE    344\n",
       "Make                   88826   8237          Cessna  22227\n",
       "Model                  88797  12318             152   2367\n",
       "Amateur.Built          88787      2              No  80312\n",
       "Engine.Type            81793     12   Reciprocating  69530\n",
       "FAR.Description        32023     31             091  18221\n",
       "Schedule               12582      3            NSCH   4474\n",
       "Purpose.of.flight      82697     26        Personal  49448\n",
       "Air.carrier            16648  13590           Pilot    258\n",
       "Weather.Condition      84397      4             VMC  77303\n",
       "Broad.phase.of.flight  61724     12         Landing  15428\n",
       "Report.Status          82505  17074  Probable Cause  61754\n",
       "Publication.Date       75118   2924      25-09-2020  17019"
      ]
     },
     "execution_count": 9,
     "metadata": {},
     "output_type": "execute_result"
    }
   ],
   "source": [
    "#Checking categorical Data\n",
    "aviation_data.describe(include='O').T"
   ]
  },
  {
   "cell_type": "code",
   "execution_count": 10,
   "id": "6395a640",
   "metadata": {},
   "outputs": [
    {
     "data": {
      "text/plain": [
       "Event.Id                  False\n",
       "Investigation.Type        False\n",
       "Accident.Number           False\n",
       "Event.Date                False\n",
       "Location                   True\n",
       "Country                    True\n",
       "Latitude                   True\n",
       "Longitude                  True\n",
       "Airport.Code               True\n",
       "Airport.Name               True\n",
       "Injury.Severity            True\n",
       "Aircraft.damage            True\n",
       "Aircraft.Category          True\n",
       "Registration.Number        True\n",
       "Make                       True\n",
       "Model                      True\n",
       "Amateur.Built              True\n",
       "Number.of.Engines          True\n",
       "Engine.Type                True\n",
       "FAR.Description            True\n",
       "Schedule                   True\n",
       "Purpose.of.flight          True\n",
       "Air.carrier                True\n",
       "Total.Fatal.Injuries       True\n",
       "Total.Serious.Injuries     True\n",
       "Total.Minor.Injuries       True\n",
       "Total.Uninjured            True\n",
       "Weather.Condition          True\n",
       "Broad.phase.of.flight      True\n",
       "Report.Status              True\n",
       "Publication.Date           True\n",
       "dtype: bool"
      ]
     },
     "execution_count": 10,
     "metadata": {},
     "output_type": "execute_result"
    }
   ],
   "source": [
    "#Checking for missing values\n",
    "aviation_data.isna().any()"
   ]
  },
  {
   "cell_type": "markdown",
   "id": "0c0834a2",
   "metadata": {},
   "source": [
    "\n",
    "\n",
    "###  Findings\n",
    "- The dataset successfully loaded using `latin1` encoding due to extended character sets in some fields.\n",
    "- A preliminary inspection using `.head()` and `.tail()` confirms the structure is consistent across rows.\n",
    "\n",
    "###  Columns & Features\n",
    "- The dataset contains a wide range of features including:\n",
    "  - Aircraft information (make, model, engine type, registration number, etc.)\n",
    "  - Flight conditions (weather, phase of flight, purpose of flight)\n",
    "  - Accident details (date, location, injury severity, aircraft damage, narrative)\n",
    "\n",
    "- Column names are inconsistent and will require **standardization and renaming** for readability and usability in analysis.\n",
    "\n",
    "###  Data Types and Initial Insights\n",
    "- The `.info()` summary reveals a mixture of:\n",
    "  - **Categorical features** such as `Injury.Severity`, `Weather.Condition`, and `Aircraft.Damage`\n",
    "  - **Date fields** like `Event.Date`, which will be parsed into datetime format\n",
    "\n",
    "### Missing Data\n",
    "- A significant number of features contain **missing or null values**, particularly in:\n",
    "  - latitude and longitude\n",
    "  - Airport name and Code\n",
    "  - Aircraft category\n",
    "These issues will be addressed during the **Data Cleaning** phase.\n",
    "\n",
    "---\n",
    "\n",
    "This initial preview establishes a foundational understanding of the dataset. Further steps will involve cleaning, transforming, and preparing the data for analysis.\n"
   ]
  },
  {
   "cell_type": "markdown",
   "id": "875f6bf0",
   "metadata": {},
   "source": [
    "## PART TWO: Supplementary Dataset(s) Understanding\n",
    "\n",
    "To enrich the core data set and support deeper, more actionable insights, i decided to research and found supplimentary data from Federal Aviation Administration (FAA) and U.S. State Codes to fortify my analysis. Each dataset serves a specific analytical purpose and will be preprocessed accordingly.\n",
    "\n",
    "---\n",
    "\n",
    "### FAA Aircraft Registration Data\n",
    "\n",
    "- **Files:** `MASTER.txt`, `DEREG.txt`\n",
    "- **Purpose:** Provides detailed metadata about aircraft including model specifications, engine details, and ownership history.\n",
    "\n",
    "---\n",
    "**NOTE** THIS INSIGHT WAS MADE AFTER I FINISHED CLEANING THE MAIN DATA SET AND ATTEMPTED MERGE, HENCE MY ATTEMPT TO UNDERSTAND THE FAA DATA WILL BE EARASED TO CLEAR MT WORK SPACE. THANK YOU \n",
    "\n",
    "\n",
    "### Attempted Merge with FAA Master & Registration Datasets\n",
    "\n",
    "To enhance the aviation accident dataset, I explored merging with the FAA **Aircraft Master** and **Deregistered Aircraft** datasets. These supplementary sources contain valuable metadata, such as:\n",
    "\n",
    "- Year of Manufacture (`YEAR MFR`)\n",
    "- Certification and Airworthiness dates\n",
    "- Aircraft registration status and owner details\n",
    "\n",
    "#### Merge Strategy\n",
    "The primary linking key available was the **registration number**:\n",
    "- In the main accident dataset: `registration_number` (e.g., `N3906K`)\n",
    "- In the FAA datasets: `N-NUMBER` (e.g., `10006`, `100`, etc.)\n",
    "\n",
    "I first merged the **FAA master** and **deregistered** datasets on `N-NUMBER` to consolidate aircraft details. However, a critical issue emerged:\n",
    "\n",
    ">  The `N-NUMBER` values in the FAA data were mostly **incomplete** (numeric-only) and lacked the full alphanumeric format used in the accident data (which includes trailing letters, e.g., `N12345A`).\n",
    "\n",
    "#### Result\n",
    "Due to this structural mismatch, merging on the registration number yielded **mostly null results**, making it impossible to reliably enrich the accident records with FAA data.\n",
    "\n",
    "#### Final Decision\n",
    "To maintain data integrity, I decided **not to proceed** with the merge. I documented this limitation transparently, as forcing the join or guessing suffixes would compromise the validity of the analysis — especially when dealing with aircraft safety and risk profiling.\n",
    "\n",
    ">  While FAA data was promising, I chose not to include it in the final analysis due to non-standardized keys and incomplete matches.\n",
    "\n",
    "\n",
    "----\n",
    "### U.S. State Codes Dataset\n",
    "\n",
    "- **File:** `US_States_Codes.csv`\n",
    "- **Purpose:** Translates state abbreviations to full names and standard codes.\n",
    "\n",
    "---\n",
    "\n",
    "These supplementary datasets will be cleaned, normalized, and merged with the main accident data using common identifiers such as `Registration.Number`, `Model`, and `Event.Date`. This integration will unlock multi-dimensional insights and strengthen the final recommendations.\n"
   ]
  },
  {
   "cell_type": "markdown",
   "id": "31a33762",
   "metadata": {},
   "source": [
    "##  FAA Aircraft Registration Data Overview\n",
    "\n",
    "To enrich the aviation accident dataset and gain deeper insight into aircraft-specific characteristics, we incorporate supplementary data provided by the FAA. These files contain detailed registration, technical, and deregistration records for civil aircraft in the United States. Below is a description of each dataset and its intended use in the project:\n",
    "\n",
    "### 1. `MASTER.txt`\n",
    "- **Description**: This file includes comprehensive records of all currently registered aircraft, with details such as registration numbers, manufacturer info, year of manufacture, type of registrant (e.g., individual, corporation), aircraft type, engine type, and airworthiness certification dates.\n",
    "- **Usage**: We will use `MASTER.txt` to extract key aircraft metadata and merge it with the main accident dataset using the `N-NUMBER` (which corresponds to `Registration.Number`). This will allow analysis of accident trends based on aircraft age, type, ownership category, and certification status.\n",
    "\n",
    "### 2. `DEREG.txt`\n",
    "- **Description**: Records of deregistered aircraft, including reasons and dates of deregistration.\n",
    "- **Usage**: This file may help in identifying aircraft that were involved in an accident and subsequently deregistered. We can use this to validate the aircraft's operational status post-accident and examine patterns in deregistration reasons.\n",
    "\n",
    "---\n",
    "\n",
    "By leveraging these datasets, we can build a richer, aircraft-level profile for each accident, supporting more robust analysis and stronger business recommendations.\n"
   ]
  },
  {
   "cell_type": "markdown",
   "id": "59b52325",
   "metadata": {},
   "source": [
    "## PHASE TWO: DATA CLEANING & WRANGLING \n",
    "\n",
    "In this section, I begin the data cleaning and wrangling phase of my analysis. After getting an overview of all datasets, I will now dig deeper into the structure and contents of the aviation accident data — the main dataset powering my analysis.\n",
    "\n",
    "My goal here is to:\n",
    "- Understand the **meaning and relevance** of each column\n",
    "- Decide which features are **critical for analysis**, and which can be **dropped or transformed**\n",
    "- Handle **missing values** using clear logic\n",
    "- Create a **clean, well-structured dataset** ready for Exploratory Data Analysis (EDA) and risk modeling\n",
    "\n",
    "---\n",
    "\n",
    "###  Why Focus on U.S. Data?\n",
    "\n",
    "The aviation accident dataset spans both domestic and international incidents from **1962 to 2023**. After analyzing the `Country` column, I found:\n",
    "\n",
    "- Total records in dataset: **88,889**\n",
    "- Records with `Country == \"United States\"`: **82,248**\n",
    "- Proportion of U.S. data: 92.5%\n",
    "\n",
    "\n",
    "Given that **over 92% of the data is U.S.-based**, it is statistically sound to anchor my cleaning and initial analysis on this subset. This choice ensures:\n",
    "- High-quality and consistent data (due to FAA reporting standards)\n",
    "- Easier cross-referencing with other FAA and registration datasets\n",
    "- A more stable foundation for accurate risk modeling and business recommendations\n",
    "\n",
    "---\n",
    "\n",
    "###  What About the Non-U.S. (Diaspora) Data?\n",
    "\n",
    "While my focus will be on U.S.-based data for the purposes of cleaning, modeling, and initial business recommendations, I will **not discard the international data**.\n",
    "\n",
    "Instead, I will:\n",
    "- Preserve a cleaned version of non-U.S. (diaspora) data separately\n",
    "- Consider adding it in later as a **secondary insight layer**\n",
    "- Allow for potential **interactive filtering in dashboards** (e.g., U.S. vs. Global view)\n",
    "\n",
    "This approach ensures that my analysis is both **deep (U.S. focus)** and **scalable (global relevance)**.\n",
    "\n",
    "---\n",
    "\n",
    "### Next Steps in Cleaning\n",
    "\n",
    "I will now:\n",
    "1. Filter and work with U.S. records only (`Country == \"United States\"`)\n",
    "2. Examine each column in detail\n",
    "3. Handle missing values logically\n",
    "4. Clean inconsistencies (e.g., in aircraft model names, date formats, injury reports)\n",
    "5. Save a clean version of the dataset for further analysis\n",
    "\n",
    "Once complete, this cleaned dataset will form the foundation for:\n",
    "- Exploratory Data Analysis\n",
    "- Aircraft risk profiling\n",
    "- Visualizations and business intelligence recommendations\n",
    "\n"
   ]
  },
  {
   "cell_type": "code",
   "execution_count": 11,
   "id": "61834229",
   "metadata": {},
   "outputs": [],
   "source": [
    "#make a copy of the aviation data set since its good practice not working on the actual data \n",
    "aviation_data_copy = aviation_data.copy()\n"
   ]
  },
  {
   "cell_type": "markdown",
   "id": "cbdd3337",
   "metadata": {},
   "source": [
    "## Column Name Meanings\n",
    "\n",
    "| Column Name              | Meaning                                                                       |\n",
    "| ------------------------ | ----------------------------------------------------------------------------- |\n",
    "| `Investigation.Type`     | Whether the event was an \"Accident\" or \"Incident\". Accidents are more severe. |\n",
    "| `Accident.Number`        | Unique ID for each event. Serves as the primary key.                          |\n",
    "| `Event.Date`             | Date the accident or incident occurred.                                       |\n",
    "| `Location`               | General description of where the event happened (e.g., city, area).           |\n",
    "| `Country`                | Country where the event occurred.                                             |\n",
    "| `Latitude`               | Geographic coordinate (north-south) of the event.                             |\n",
    "| `Longitude`              | Geographic coordinate (east-west) of the event.                               |\n",
    "| `Airport.Code`           | FAA/IATA code of the airport involved (if any).                               |\n",
    "| `Airport.Name`           | Full name of the airport involved (if any).                                   |\n",
    "| `Injury.Severity`        | Summary of the severity of injuries (e.g., Fatal, Serious, Minor).            |\n",
    "| `Aircraft.damage`        | Description of damage sustained by the aircraft.                              |\n",
    "| `Aircraft.Category`      | General category of aircraft (e.g., airplane, rotorcraft).                    |\n",
    "| `Registration.Number`    | Aircraft registration number (like a license plate).                          |\n",
    "| `Make`                   | Manufacturer of the aircraft (e.g., Boeing, Cessna).                          |\n",
    "| `Model`                  | Specific model of the aircraft.                                               |\n",
    "| `Amateur.Built`          | Indicates if the aircraft was amateur-built (\"Yes\" or \"No\").                  |\n",
    "| `Number.of.Engines`      | Number of engines the aircraft had.                                           |\n",
    "| `Engine.Type`            | Description of the aircraft’s engine type.                                    |\n",
    "| `FAR.Description`        | FAA regulatory category under which the aircraft was operating.               |\n",
    "| `Schedule`               | Indicates if the flight was scheduled or unscheduled.                         |\n",
    "| `Purpose.of.flight`      | Reason or purpose for the flight (e.g., personal, training).                  |\n",
    "| `Air.carrier`            | Name of the air carrier, if applicable (commercial flights).                  |\n",
    "| `Total.Fatal.Injuries`   | Total number of people who died in the event.                                 |\n",
    "| `Total.Serious.Injuries` | Total number of people with serious injuries.                                 |\n",
    "| `Total.Minor.Injuries`   | Total number of people with minor injuries.                                   |\n",
    "| `Total.Uninjured`        | Total number of people who were not injured.                                  |\n",
    "| `Weather.Condition`      | Weather during the event (e.g., VMC, IMC, UNK).                               |\n",
    "| `Broad.phase.of.flight`  | Phase of flight during which the event occurred (e.g., landing, taxi).        |\n",
    "| `Report.Status`          | Indicates if the report is preliminary or final.                              |\n",
    "| `Publication.Date`       | Date the report was published.                                                |\n",
    "\n",
    "----\n",
    "The meanings provide description of what each column entails, thus expanding my domain knowledge on the data set"
   ]
  },
  {
   "cell_type": "code",
   "execution_count": 12,
   "id": "f43bdaab",
   "metadata": {},
   "outputs": [
    {
     "data": {
      "text/plain": [
       "Index(['Event.Id', 'Investigation_Type', 'Accident_Number', 'Event_Date',\n",
       "       'Location', 'Country', 'Latitude', 'Longitude', 'Airport_Code',\n",
       "       'Airport_Name', 'Injury_Severity', 'Aircraft_Damage',\n",
       "       'Aircraft_Category', 'Registration_Number', 'Aircraft_Make',\n",
       "       'Aircraft_Model', 'Amateur_Built', 'Number_of_Engines', 'Engine_Type',\n",
       "       'FAR_Description', 'Schedule_Type', 'Purpose_of_Flight', 'Air_Carrier',\n",
       "       'Fatal_Injuries', 'Serious_Injuries', 'Minor_Injuries', 'Uninjured',\n",
       "       'Weather_Condition', 'Phase_of_Flight', 'Report_Status',\n",
       "       'Publication_Date'],\n",
       "      dtype='object')"
      ]
     },
     "execution_count": 12,
     "metadata": {},
     "output_type": "execute_result"
    }
   ],
   "source": [
    "#cleaning and renaming the columns \n",
    "aviation_data_copy.rename(columns={\n",
    "    'Investigation.Type': 'Investigation_Type',\n",
    "    'Accident.Number': 'Accident_Number',\n",
    "    'Event.Date': 'Event_Date',\n",
    "    'Airport.Code': 'Airport_Code',\n",
    "    'Airport.Name': 'Airport_Name',\n",
    "    'Injury.Severity': 'Injury_Severity',\n",
    "    'Aircraft.damage': 'Aircraft_Damage',\n",
    "    'Aircraft.Category': 'Aircraft_Category',\n",
    "    'Registration.Number': 'Registration_Number',\n",
    "    'Make': 'Aircraft_Make',\n",
    "    'Model': 'Aircraft_Model',\n",
    "    'Amateur.Built': 'Amateur_Built',\n",
    "    'Number.of.Engines': 'Number_of_Engines',\n",
    "    'Engine.Type': 'Engine_Type',\n",
    "    'FAR.Description': 'FAR_Description',\n",
    "    'Schedule': 'Schedule_Type',\n",
    "    'Purpose.of.flight': 'Purpose_of_Flight',\n",
    "    'Air.carrier': 'Air_Carrier',\n",
    "    'Total.Fatal.Injuries': 'Fatal_Injuries',\n",
    "    'Total.Serious.Injuries': 'Serious_Injuries',\n",
    "    'Total.Minor.Injuries': 'Minor_Injuries',\n",
    "    'Total.Uninjured': 'Uninjured',\n",
    "    'Weather.Condition': 'Weather_Condition',\n",
    "    'Broad.phase.of.flight': 'Phase_of_Flight',\n",
    "    'Report.Status': 'Report_Status',\n",
    "    'Publication.Date': 'Publication_Date'\n",
    "}, inplace=True)\n",
    "\n",
    "aviation_data_copy.columns"
   ]
  },
  {
   "cell_type": "code",
   "execution_count": 13,
   "id": "de28344a",
   "metadata": {},
   "outputs": [
    {
     "data": {
      "text/plain": [
       "Index(['event_id', 'investigation_type', 'accident_number', 'event_date',\n",
       "       'location', 'country', 'latitude', 'longitude', 'airport_code',\n",
       "       'airport_name', 'injury_severity', 'aircraft_damage',\n",
       "       'aircraft_category', 'registration_number', 'aircraft_make',\n",
       "       'aircraft_model', 'amateur_built', 'number_of_engines', 'engine_type',\n",
       "       'far_description', 'schedule_type', 'purpose_of_flight', 'air_carrier',\n",
       "       'fatal_injuries', 'serious_injuries', 'minor_injuries', 'uninjured',\n",
       "       'weather_condition', 'phase_of_flight', 'report_status',\n",
       "       'publication_date'],\n",
       "      dtype='object')"
      ]
     },
     "execution_count": 13,
     "metadata": {},
     "output_type": "execute_result"
    }
   ],
   "source": [
    "def clean_column_names(df):\n",
    "    df.columns = (\n",
    "        df.columns\n",
    "        .str.strip()\n",
    "        .str.lower()\n",
    "        .str.replace('.', '_', regex=False)\n",
    "        .str.replace(' ', '_', regex=False)\n",
    "    )\n",
    "    return df\n",
    "\n",
    "aviation_data_copy = clean_column_names(aviation_data_copy)\n",
    "\n",
    "aviation_data_copy.columns\n"
   ]
  },
  {
   "cell_type": "code",
   "execution_count": 14,
   "id": "a8d84e47",
   "metadata": {},
   "outputs": [],
   "source": [
    "#copy of the US-subset\n",
    "us_data = aviation_data_copy[aviation_data_copy['country'] == 'United States'].copy()\n",
    "#copy for the diaspora data\n",
    "diaspora_data = aviation_data_copy[aviation_data_copy['country'] != 'United States'].copy()"
   ]
  },
  {
   "cell_type": "markdown",
   "id": "5d595fbe",
   "metadata": {},
   "source": [
    "##  General Rules for Dropping Data\n",
    "\n",
    "Dropping data—whether rows or columns—should be done cautiously, guided by domain knowledge and data quality goals. Below are standard, defensible rules that i will use in my analysis.\n",
    "\n",
    "---\n",
    "\n",
    "###  Dropping Columns\n",
    "\n",
    "I will drop a column if:\n",
    "\n",
    "- It has a **high percentage of missing values** (typically > 50–70%) and is not critical for analysis.\n",
    "- It contains **only a single unique value** (i.e., zero variance — no information gain).\n",
    "- It is a **duplicate of another column** (redundancy).\n",
    "- The data is **irrelevant to the current analysis objectives** (e.g., IDs or metadata not used for joins or context).\n",
    "- It is **impossible to interpret or decode** (e.g., poorly documented, encoded variables with no lookup).\n",
    "\n",
    "---\n",
    "\n",
    "###  Dropping Rows\n",
    "\n",
    "I will  drop a row if:\n",
    "\n",
    "- **Critical columns are missing**, especially where imputation is not appropriate (e.g., timestamps, unique identifiers, target variable).\n",
    "- It contains **clearly erroneous or corrupted data** (e.g., wrong data types, impossible values like negative injuries or invalid dates).\n",
    "- It is a **complete duplicate** of another row.\n",
    "- It **violates integrity constraints**, such as conflicting values across dependent fields.\n",
    "\n",
    "---\n",
    "\n",
    "### Cautions\n",
    "\n",
    "- Consider **imputation or transformation** before dropping — dropping should be the **last resort** if data is unrecoverable.\n",
    "- **Document your rationale** for each drop, especially in sensitive or audit-heavy domains like aviation or healthcare.\n",
    "- Consider the **impact on representativeness**: Dropping too many rows can introduce bias or reduce statistical power.\n",
    "\n",
    "---\n",
    "\n",
    "### Best Practice\n",
    "\n",
    "I will use `.info()`, `.isnull().sum()`, and `.nunique()` early in EDA to assess the quality of each column and  back decisions with simple visuals (e.g., **missingness heatmaps** or **histograms**).\n"
   ]
  },
  {
   "cell_type": "code",
   "execution_count": 15,
   "id": "846a0e6d",
   "metadata": {},
   "outputs": [
    {
     "name": "stdout",
     "output_type": "stream",
     "text": [
      "<class 'pandas.core.frame.DataFrame'>\n",
      "Index: 82248 entries, 0 to 88888\n",
      "Data columns (total 31 columns):\n",
      " #   Column               Non-Null Count  Dtype  \n",
      "---  ------               --------------  -----  \n",
      " 0   event_id             82248 non-null  object \n",
      " 1   investigation_type   82248 non-null  object \n",
      " 2   accident_number      82248 non-null  object \n",
      " 3   event_date           82248 non-null  object \n",
      " 4   location             82237 non-null  object \n",
      " 5   country              82248 non-null  object \n",
      " 6   latitude             32265 non-null  object \n",
      " 7   longitude            32255 non-null  object \n",
      " 8   airport_code         49072 non-null  object \n",
      " 9   airport_name         51570 non-null  object \n",
      " 10  injury_severity      82140 non-null  object \n",
      " 11  aircraft_damage      80269 non-null  object \n",
      " 12  aircraft_category    28154 non-null  object \n",
      " 13  registration_number  82132 non-null  object \n",
      " 14  aircraft_make        82227 non-null  object \n",
      " 15  aircraft_model       82210 non-null  object \n",
      " 16  amateur_built        82227 non-null  object \n",
      " 17  number_of_engines    80373 non-null  float64\n",
      " 18  engine_type          79206 non-null  object \n",
      " 19  far_description      28225 non-null  object \n",
      " 20  schedule_type        10297 non-null  object \n",
      " 21  purpose_of_flight    79819 non-null  object \n",
      " 22  air_carrier          14495 non-null  object \n",
      " 23  fatal_injuries       71594 non-null  float64\n",
      " 24  serious_injuries     70873 non-null  float64\n",
      " 25  minor_injuries       71519 non-null  float64\n",
      " 26  uninjured            77243 non-null  float64\n",
      " 27  weather_condition    81603 non-null  object \n",
      " 28  phase_of_flight      61158 non-null  object \n",
      " 29  report_status        79637 non-null  object \n",
      " 30  publication_date     69567 non-null  object \n",
      "dtypes: float64(5), object(26)\n",
      "memory usage: 20.1+ MB\n"
     ]
    }
   ],
   "source": [
    "\n",
    "us_data.info()"
   ]
  },
  {
   "cell_type": "code",
   "execution_count": 16,
   "id": "83609b83",
   "metadata": {},
   "outputs": [
    {
     "data": {
      "text/plain": [
       "event_id               False\n",
       "investigation_type     False\n",
       "accident_number        False\n",
       "event_date             False\n",
       "location                True\n",
       "country                False\n",
       "latitude                True\n",
       "longitude               True\n",
       "airport_code            True\n",
       "airport_name            True\n",
       "injury_severity         True\n",
       "aircraft_damage         True\n",
       "aircraft_category       True\n",
       "registration_number     True\n",
       "aircraft_make           True\n",
       "aircraft_model          True\n",
       "amateur_built           True\n",
       "number_of_engines       True\n",
       "engine_type             True\n",
       "far_description         True\n",
       "schedule_type           True\n",
       "purpose_of_flight       True\n",
       "air_carrier             True\n",
       "fatal_injuries          True\n",
       "serious_injuries        True\n",
       "minor_injuries          True\n",
       "uninjured               True\n",
       "weather_condition       True\n",
       "phase_of_flight         True\n",
       "report_status           True\n",
       "publication_date        True\n",
       "dtype: bool"
      ]
     },
     "execution_count": 16,
     "metadata": {},
     "output_type": "execute_result"
    }
   ],
   "source": [
    "us_data.isna().any()"
   ]
  },
  {
   "cell_type": "markdown",
   "id": "cf34a7c8",
   "metadata": {},
   "source": [
    "## Findings ?\n",
    "The only columns with no missing data are event_id,investigation_type,accident_number, event_date\n",
    "i will go through each column one by one and keep relevant data and drop the rest, i can also use domain knowlege to fill some columns, either way i want to maintain minimal bias according to what i have."
   ]
  },
  {
   "cell_type": "markdown",
   "id": "cbf03012",
   "metadata": {},
   "source": [
    "## COLUMN BY COLUMN INVESTIGATION AND VERDICT\n",
    "----\n"
   ]
  },
  {
   "cell_type": "markdown",
   "id": "67f07b65",
   "metadata": {},
   "source": [
    "### LOCATION"
   ]
  },
  {
   "cell_type": "markdown",
   "id": "f1a4c8da",
   "metadata": {},
   "source": [
    "I noticed a pattern which might help me in one way or another fill missing data in my aviation data set, this is what i found\n",
    "\n",
    "### The NTSB `accident_number` has a patter as shown and explained below:\n",
    "\n",
    "According to the **NTSB Aviation Data Dictionary**, the structure of an `accident_number` follows a specific pattern:\n",
    "\n",
    "###  Format Breakdown:\n",
    "\n",
    "- **First 3 characters**: NTSB **office code**  \n",
    "  *Example*: `MIA` = Miami Regional Office\n",
    "\n",
    "- **Next 2 digits**: **Fiscal year** of the investigation  \n",
    "  *Example*: `85` = Fiscal Year 1985\n",
    "\n",
    "- **Next 2 letters**: **Investigation category and mode**  \n",
    "  *Indicates whether the investigation involved airline, marine, etc.*\n",
    "\n",
    "- **Next 3 digits**: A **sequential number** showing the order the case was opened in that fiscal year\n",
    "\n",
    "- **Optional final letter**: Indicates **multiple aircraft** involved in the same event\n",
    "\n",
    "---\n",
    "\n",
    "### Example: `MIA85LAMS1`\n",
    "\n",
    "This breaks down as:\n",
    "\n",
    "- `MIA` → Miami NTSB Office  \n",
    "- `85` → Fiscal year 1985  \n",
    "- `L` → Likely a **major investigation** in **aviation** mode  \n",
    "- `AMS` → Additional **category codes**  \n",
    "- `1` → First in the sequence (possibly one of multiple aircraft)\n",
    "\n",
    "##  Final Verdict on Missing `Location` Values (U.S. Data)\n",
    "\n",
    "While analyzing the `Accident_Number` syntax, i came up with the following insights:\n",
    "\n",
    "- The prefix (e.g., `MIA`, `FTW`, `LAX`) typically refers to the **NTSB regional office** that conducted the investigation — **not necessarily the accident location**.\n",
    "- In some cases, the prefix aligns with the actual location.\n",
    "- However, in other instances, the office may be **geographically distant** from where the accident occurred, making it **unreliable as a proxy** for true location.\n",
    "\n",
    "---\n",
    "\n",
    "### Conclusion\n",
    "\n",
    "Although the `Accident_Number` can offer **hints**, it **cannot be consistently used** to infer accurate location data. thus the missing values i will use fillna with Unknown\n",
    "\n",
    "---"
   ]
  },
  {
   "cell_type": "code",
   "execution_count": 17,
   "id": "24c23783",
   "metadata": {},
   "outputs": [],
   "source": [
    "#location\n",
    "us_data['location'] = us_data['location'].fillna(\"Unknown\")\n"
   ]
  },
  {
   "cell_type": "code",
   "execution_count": 18,
   "id": "fea57878",
   "metadata": {},
   "outputs": [],
   "source": [
    "us_data[['city', 'state']] = (\n",
    "    us_data['location']\n",
    "    .str.split(',', n=1, expand=True)      \n",
    "    .apply(lambda x: x.str.strip())        \n",
    ")"
   ]
  },
  {
   "cell_type": "code",
   "execution_count": 19,
   "id": "70a65902",
   "metadata": {},
   "outputs": [],
   "source": [
    "us_data['city'] = us_data['city'].str.strip().str.upper()\n",
    "us_data['city'] = us_data['city'].replace('', 'UNKNOWN')\n"
   ]
  },
  {
   "cell_type": "code",
   "execution_count": 20,
   "id": "44a71139",
   "metadata": {},
   "outputs": [
    {
     "name": "stdout",
     "output_type": "stream",
     "text": [
      "Unique cities: 12928\n",
      "Unique city values:\n",
      " ['MOOSE CREEK' 'BRIDGEPORT' 'SALTVILLE' ... 'KELLYTON' 'SAN MANUAL'\n",
      " 'AUBURN HILLS']\n"
     ]
    }
   ],
   "source": [
    "print(\"Unique cities:\", us_data['city'].nunique())\n",
    "print(\"Unique city values:\\n\", us_data['city'].unique())\n",
    "\n"
   ]
  },
  {
   "cell_type": "code",
   "execution_count": 21,
   "id": "53d86c4d",
   "metadata": {},
   "outputs": [],
   "source": [
    "state_fixes = {\n",
    "    'HONOLULU, HI': 'HI',\n",
    "    'OAHU, HI': 'HI',\n",
    "    \"MANU'A, HI\": 'HI',\n",
    "    'MAUI, HI': 'HI',\n",
    "    'KAUAI, HI': 'HI',\n",
    "    'MOLOKAI, HI': 'HI',\n",
    "    'Oahu, HI': 'HI',\n",
    "    'Kauai, HI': 'HI',\n",
    "    'Maui, HI': 'HI',\n",
    "    'NYC, NY': 'NY',\n",
    "    'San Juan Is., WA': 'WA',\n",
    "    'LA,': 'LA',\n",
    "    ', NC': 'NC',\n",
    "    ', WA': 'WA',\n",
    "    'CO, CO': 'CO',\n",
    "    'UN': 'UNKNOWN',\n",
    "    'OF': 'UNKNOWN',\n",
    "    'MG, OF': 'UNKNOWN',\n",
    "    'CB': 'UNKNOWN',\n",
    "    'GM': 'UNKNOWN',\n",
    "    'AO': 'UNKNOWN',\n",
    "    'PO': 'UNKNOWN',\n",
    "    '': 'UNKNOWN',\n",
    "    None: 'UNKNOWN'\n",
    "}\n",
    "us_data['state'] = us_data['state'].replace(state_fixes)\n",
    "us_data['state'] = us_data['state'].str.strip().str.upper()\n"
   ]
  },
  {
   "cell_type": "code",
   "execution_count": 22,
   "id": "e381c565",
   "metadata": {},
   "outputs": [
    {
     "name": "stdout",
     "output_type": "stream",
     "text": [
      "\n",
      "Unique states: 55\n",
      "Unique state values:\n",
      " ['ID' 'CA' 'VA' 'OH' 'MA' 'MN' 'WA' 'NJ' 'FL' 'NM' 'AL' 'LA' 'TX' 'OK'\n",
      " 'AR' 'UT' 'AK' 'PA' 'MI' 'GA' 'NC' 'NY' 'MT' 'OR' 'NV' 'IN' 'AZ' 'MO'\n",
      " 'WY' 'IL' 'SC' 'MD' 'HI' 'CO' 'WV' 'MS' 'DC' 'VT' 'KS' 'NH' 'IA' 'WI'\n",
      " 'KY' 'CT' 'TN' 'ME' 'SD' 'NE' 'RI' 'ND' 'DE' 'UNKNOWN' 'PR' 'GU' 'VI']\n"
     ]
    }
   ],
   "source": [
    "print(\"\\nUnique states:\", us_data['state'].nunique())\n",
    "print(\"Unique state values:\\n\", us_data['state'].unique())"
   ]
  },
  {
   "cell_type": "code",
   "execution_count": 23,
   "id": "2591b553",
   "metadata": {},
   "outputs": [],
   "source": [
    "state_codes = pd.read_csv('Data/Aviation-data/USState_Codes.csv')\n",
    "state_codes.rename(columns={\n",
    "    'Abbreviation': 'state',\n",
    "    'US_State': 'state_full'\n",
    "}, inplace=True)\n",
    "\n",
    "# Now perform the merge\n",
    "us_data = us_data.merge(state_codes, on='state', how='left')\n",
    "us_data['state_full'] = us_data['state_full'].fillna('UNKNOWN').str.strip().str.upper()\n"
   ]
  },
  {
   "cell_type": "markdown",
   "id": "085455e8",
   "metadata": {},
   "source": [
    "At this stage i will split this column into two new columns before i proceed with the cleaning \n",
    "\n",
    "The `location` column combines city and state information in a single string ( `\"COCOA, FL\"`). To support more granular geographic analysis, i will split this column into two distinct fields:\n",
    "\n",
    "- **`city`** – the name of the city, town, or municipality where the event occurred  \n",
    "- **`state`** – the two-letter U.S. state abbreviation ( `FL`, `CA`)\n",
    "\n",
    "-----\n",
    "\n",
    "- **Missing or malformed entries**: If the `location` field is  missing or did not contain a comma, both `city` and `state` will be assigned `'Unknown'`.\n",
    "- **Whitespace handling**: Leading and trailing whitespaces will be stripped from both city and state values for consistency.\n",
    "- **State validation**: I will  U.S. state code reference provided  (`USState_Codes.csv`)  to map abbreviations to full state names.\n",
    "- **New field – `state`**: This additional column improves interpretability and supports advanced analysis (e.g., aggregating by full state name).\n",
    "\n",
    "By structuring the `location` data this way, we enable more precise regional breakdowns, simplify future joins with FAA and weather datasets, and enhance the overall analytical quality of the dataset.\n"
   ]
  },
  {
   "cell_type": "markdown",
   "id": "5c2d939f",
   "metadata": {},
   "source": [
    "##  Dropping Latitude and Longitude\n",
    "\n",
    "The `latitude` and `longitude` columns represent the geographical coordinates of where each accident occurred. After evaluating their utility for this analysis, a decision was made to **drop both columns** based on the following rationale:\n",
    "\n",
    "---\n",
    "\n",
    "###  Reasons for Dropping:\n",
    "\n",
    "- **Over 60% of values are missing** — specifically, `49,983` out of `82,248` us_data for the latitude column records have null entries, making reliable imputation impractical.\n",
    "- The dataset lacks sufficient **contextual data** (e.g., accident causes, airport coordinates) needed to generate meaningful geospatial insights.\n",
    "- The **focus of this analysis** is on **temporal, categorical, and severity-based trends**, rather than spatial or geographical mapping.\n",
    "- Performing distance calculations (e.g., accident site to nearest airport) would require **external datasets and geolocation logic** not currently available in this phase.\n",
    "\n",
    "---\n",
    "\n",
    "###  Final Verdict:\n",
    "\n",
    "To preserve dataset **cleanliness** and **analytical focus**, both `latitude` and `longitude` columns have been **dropped**.\n"
   ]
  },
  {
   "cell_type": "code",
   "execution_count": 24,
   "id": "abec7365",
   "metadata": {},
   "outputs": [
    {
     "name": "stdout",
     "output_type": "stream",
     "text": [
      "Index(['event_id', 'investigation_type', 'accident_number', 'event_date',\n",
      "       'location', 'country', 'latitude', 'longitude', 'airport_code',\n",
      "       'airport_name', 'injury_severity', 'aircraft_damage',\n",
      "       'aircraft_category', 'registration_number', 'aircraft_make',\n",
      "       'aircraft_model', 'amateur_built', 'number_of_engines', 'engine_type',\n",
      "       'far_description', 'schedule_type', 'purpose_of_flight', 'air_carrier',\n",
      "       'fatal_injuries', 'serious_injuries', 'minor_injuries', 'uninjured',\n",
      "       'weather_condition', 'phase_of_flight', 'report_status',\n",
      "       'publication_date', 'city', 'state', 'state_full'],\n",
      "      dtype='object')\n"
     ]
    }
   ],
   "source": [
    "print(us_data.columns)\n"
   ]
  },
  {
   "cell_type": "code",
   "execution_count": 25,
   "id": "8a2af5e1",
   "metadata": {},
   "outputs": [],
   "source": [
    "us_data.drop(columns=['latitude', 'longitude'], inplace=True)\n"
   ]
  },
  {
   "cell_type": "markdown",
   "id": "b9046395",
   "metadata": {},
   "source": [
    "## AIRPORT CODES AND NAMES\n",
    "\n",
    "## Why I Considered Using Airport Data\n",
    "\n",
    "At first, I thought about keeping `airport_code` and `airport_name` in the dataset. They could be useful **if** I were analyzing:\n",
    "\n",
    "- Accidents by airport\n",
    "- Geographic clustering\n",
    "- Infrastructure-related risks at specific airports\n",
    "\n",
    "But for that kind of analysis, I’d need **supporting geospatial data** like:\n",
    "\n",
    "- Fuel logs or flight paths  \n",
    "- Maintenance or repair history  \n",
    "- Distances between the origin and crash site  \n",
    "- Data on airport infrastructure or traffic density\n",
    "\n",
    "---\n",
    "\n",
    "## Why I’m Dropping It\n",
    "\n",
    "After thinking it through, I decided to drop the airport data because:\n",
    "\n",
    "- I’m **not analyzing airport-specific risks** in this project  \n",
    "- I **don’t have the complementary data** needed to make airport-level insights meaningful  \n",
    "- I already have **location data**, which offers better granularity — and I’ve taken the time to clean it  \n",
    "- Plus, **airport names and codes are often inconsistent** or messy in large datasets — keeping them without a clear purpose would just add noise\n",
    "- Lastly there mentioned columns have alot missing data\n",
    "\n",
    "---\n",
    "\n",
    "###  Final Decision\n",
    "\n",
    "I’m dropping `airport_code` and `airport_name` to keep the dataset lean, focused, and clean.\n"
   ]
  },
  {
   "cell_type": "code",
   "execution_count": 26,
   "id": "4d6c3b61",
   "metadata": {},
   "outputs": [],
   "source": [
    "us_data.drop(columns=['airport_code', 'airport_name'], inplace=True)\n"
   ]
  },
  {
   "cell_type": "markdown",
   "id": "26ef9ab1",
   "metadata": {},
   "source": [
    "## INJURY SEVERITY\n",
    "\n",
    "As I dug into the `injury_severity` column, I came across a mix of values like:\n",
    "['Fatal(2)', 'Fatal(4)', 'Fatal(3)', 'Non-Fatal', 'Incident', 'Fatal(8)', ..., 'Minor', 'Serious'] after running `.unique()`\n",
    "At first, I considered extracting the numbers inside the parentheses to quantify severity. But then I realized that the dataset already includes more precise injury data in the following columns:\n",
    "\n",
    "- `total_fatal_injuries`\n",
    "- `total_serious_injuries`\n",
    "- `total_minor_injuries`\n",
    "- `total_uninjured`\n",
    "\n",
    "When I cross-checked, the numeric values embedded in the `total_injury_severity` strings (like `'Fatal(49)'`) matched the numbers in these dedicated columns — which are much **cleaner and more consistent**.\n",
    "\n",
    "---\n",
    "\n",
    "### My Decision\n",
    "\n",
    "Rather than extracting and parsing those messy strings — which felt redundant and prone to errors — I decided to **normalize `injury_severity` into a new categorical column**.\n",
    "\n",
    "This new column, `injury_severity_clean`, includes simple, consistent categories like:\n",
    "\n",
    "- `Fatal`\n",
    "- `Non-Fatal`\n",
    "- `Incident`\n",
    "- `Minor`\n",
    "- `Serious`\n",
    "- `Unavailable`\n",
    "- `Unknown` (for missing values)\n",
    "\n",
    "This makes the data much easier to group, analyze, and visualize — without worrying about inconsistent formatting.\n",
    "\n",
    "---\n",
    "\n",
    "### Final Verdict\n",
    "\n",
    "-  I created a new column: `injury_severity_clean`\n",
    "-  I kept the original `injury_severity` column for now (but may drop it later for tidiness)\n",
    "-  All **quantitative injury analysis** will rely on the dedicated count columns (`fatal_injuries`, `serious_injuries`, etc.)\n",
    "\n",
    "This approach gives me clarity and flexibility in both categorical and numeric injury analysis.\n"
   ]
  },
  {
   "cell_type": "code",
   "execution_count": 27,
   "id": "3c93e075",
   "metadata": {},
   "outputs": [
    {
     "data": {
      "text/plain": [
       "np.int64(108)"
      ]
     },
     "execution_count": 27,
     "metadata": {},
     "output_type": "execute_result"
    }
   ],
   "source": [
    "#checking missing values\n",
    "us_data['injury_severity'].isnull().sum()\n"
   ]
  },
  {
   "cell_type": "code",
   "execution_count": 28,
   "id": "fc1278fa",
   "metadata": {},
   "outputs": [
    {
     "data": {
      "text/plain": [
       "array(['Fatal(2)', 'Fatal(4)', 'Fatal(3)', 'Fatal(1)', 'Non-Fatal',\n",
       "       'Incident', 'Fatal(8)', 'Fatal(78)', 'Fatal(7)', 'Fatal(6)',\n",
       "       'Fatal(5)', 'Fatal(153)', 'Fatal(12)', 'Fatal(14)', 'Fatal(23)',\n",
       "       'Fatal(10)', 'Fatal(11)', 'Fatal(17)', 'Fatal(13)', 'Fatal(70)',\n",
       "       'Fatal(9)', 'Unavailable', 'Fatal(135)', 'Fatal(31)', 'Fatal(25)',\n",
       "       'Fatal(82)', 'Fatal(156)', 'Fatal(28)', 'Fatal(18)', 'Fatal(43)',\n",
       "       'Fatal(111)', 'Fatal(20)', 'Fatal(73)', 'Fatal(34)', 'Fatal(27)',\n",
       "       'Fatal(16)', 'Fatal(37)', 'Fatal(132)', 'Fatal(68)', 'Fatal(15)',\n",
       "       'Fatal(110)', 'Fatal(230)', 'Fatal(29)', 'Fatal(228)', 'Fatal(88)',\n",
       "       'Fatal(19)', 'Fatal(44)', 'Fatal(64)', 'Fatal(65)', 'Fatal(92)',\n",
       "       'Fatal(265)', 'Fatal(21)', 'Fatal(49)', 'Fatal', nan, 'Minor',\n",
       "       'Serious'], dtype=object)"
      ]
     },
     "execution_count": 28,
     "metadata": {},
     "output_type": "execute_result"
    }
   ],
   "source": [
    "#checking unique vals\n",
    "us_data['injury_severity'].unique()"
   ]
  },
  {
   "cell_type": "code",
   "execution_count": 29,
   "id": "6cd070f9",
   "metadata": {},
   "outputs": [],
   "source": [
    "us_data['injury_severity'] = us_data['injury_severity'].fillna('Unknown')\n",
    "\n",
    "us_data['injury_severity'] = us_data['injury_severity'].str.strip()\n",
    "\n",
    "def normalize(value):\n",
    "    value = value.upper().strip()\n",
    "    if 'FATAL' in value:\n",
    "        return 'FATAL'\n",
    "    elif 'NON-FATAL' in value:\n",
    "        return 'NON-FATAL'\n",
    "    elif 'INCIDENT' in value:\n",
    "        return 'INCIDENT'\n",
    "    elif 'MINOR' in value:\n",
    "        return 'MINOR'\n",
    "    elif 'SERIOUS' in value:\n",
    "        return 'SERIOUS'\n",
    "    elif 'UNAVAILABLE' in value:\n",
    "        return 'UNAVAILABLE'\n",
    "    elif 'UNKNOWN' in value:\n",
    "        return 'UNKNOWN'\n",
    "    else:\n",
    "        return 'OTHER'\n",
    "\n",
    "us_data['injury_severity_clean'] = us_data['injury_severity'].apply(normalize)\n",
    "\n",
    "\n"
   ]
  },
  {
   "cell_type": "markdown",
   "id": "76690a38",
   "metadata": {},
   "source": [
    "### AIRCRAFT DAMAGE\n",
    "The `aircraft_damage` Column\n",
    "\n",
    "While reviewing the `aircraft_damage` column, I came across the following unique values:\n",
    "`['Destroyed', 'Substantial', 'Minor', nan, 'Unknown']`\n",
    "There were **1,979 missing values** (`NaN`), and I also noticed the string `'Unknown'` used as a category — making it a bit inconsistent. Since this column is **important for understanding the severity of aircraft damage**, I decided to retain it and clean it up for consistency.\n",
    "\n",
    "---\n",
    "\n",
    "To prepare the `aircraft_damage` column for analysis, I took the following steps:\n",
    "\n",
    "- **Standardized formatting**: I converted all values to **uppercase** and **stripped whitespace** to ensure uniform text across entries.\n",
    "- **Unified unknowns**: I treated both `NaN` values and the string `'Unknown'` as a single category — `'UNKNOWN'`. This makes it explicit in the analysis and prevents silent misclassification.\n",
    "\n",
    "---\n",
    "\n",
    "After cleaning, the column now contains just **four clear categories**:\n",
    "`['DESTROYED', 'SUBSTANTIAL', 'MINOR', 'UNKNOWN']`\n"
   ]
  },
  {
   "cell_type": "code",
   "execution_count": 30,
   "id": "e4bbae44",
   "metadata": {},
   "outputs": [
    {
     "data": {
      "text/plain": [
       "array(['Destroyed', 'Substantial', 'Minor', nan, 'Unknown'], dtype=object)"
      ]
     },
     "execution_count": 30,
     "metadata": {},
     "output_type": "execute_result"
    }
   ],
   "source": [
    "us_data['aircraft_damage'].unique()"
   ]
  },
  {
   "cell_type": "code",
   "execution_count": 31,
   "id": "1378e41a",
   "metadata": {},
   "outputs": [
    {
     "data": {
      "text/plain": [
       "np.int64(1979)"
      ]
     },
     "execution_count": 31,
     "metadata": {},
     "output_type": "execute_result"
    }
   ],
   "source": [
    "us_data['aircraft_damage'].isna().sum()"
   ]
  },
  {
   "cell_type": "code",
   "execution_count": 32,
   "id": "645e8c77",
   "metadata": {},
   "outputs": [],
   "source": [
    "us_data['aircraft_damage'] = (\n",
    "    us_data['aircraft_damage']\n",
    "    .fillna('UNKNOWN')\n",
    "    .str.strip()\n",
    "    .str.upper()\n",
    "    .replace({'Unknown': 'UNKNOWN'})  \n",
    ")"
   ]
  },
  {
   "cell_type": "markdown",
   "id": "af7e0ca0",
   "metadata": {},
   "source": [
    "## AIRCRAFT CATEGORY\n",
    "\n",
    "## Imputing Missing `aircraft_category` Values\n",
    "\n",
    "After noticing a large number of missing values in the `aircraft_category` column, I decided to explore whether these could be reasonably imputed based on other known attributes — specifically, the `aircraft_model`.\n",
    "\n",
    "###  Domain Knowledge Insight\n",
    "\n",
    "I leaned on some aviation domain knowledge to guide the imputation:\n",
    "\n",
    "- A majority of the models with missing categories came from **Cessna** and **Piper**, such as **Cessna 152, 172**, and **Piper PA-28, PA-18**, etc.\n",
    "- These models are widely recognized as **fixed-wing airplanes** commonly used in **general aviation**, **pilot training**, and **agricultural** operations.\n",
    "-in as much as there might be other aircrafts that this assumption will overwrite the analyis even with the exact values the leading categories will be aircrafts and even the exact plot will follow my trend only that it has the  exact categories\n",
    "\n",
    "**Sources** Wikipidia and NTSB and FAA\n",
    "\n",
    "### Mode Imputation Evidence\n",
    "\n",
    "To back up my approach with data:\n",
    "\n",
    "- The dominant category in the dataset is **Airplane**, which accounts for **24,229 entries** — by far the majority.\n",
    "- The sns histoplot also supports my assumption\n",
    "- I examined the top 20 most frequent `aircraft_model` values where `aircraft_category` was missing, and **all of them** clearly mapped to the **\"Airplane\"** category.\n",
    "\n",
    "\n",
    "Based on this evidence and domain context, I imputed the missing `aircraft_category` values using the following logic:\n",
    "\n",
    "- If the `aircraft_model` belongs to a well-known **airplane family** — including **Cessna 150/152/172/180/182/206** or **Piper PA-series** — I confidently assigned it the category **\"Airplane\"**.\n"
   ]
  },
  {
   "cell_type": "code",
   "execution_count": 33,
   "id": "f48cb63d",
   "metadata": {},
   "outputs": [
    {
     "data": {
      "text/plain": [
       "np.int64(54094)"
      ]
     },
     "execution_count": 33,
     "metadata": {},
     "output_type": "execute_result"
    }
   ],
   "source": [
    "us_data['aircraft_category'].isna().sum()"
   ]
  },
  {
   "cell_type": "code",
   "execution_count": 34,
   "id": "c7e35a28",
   "metadata": {},
   "outputs": [
    {
     "data": {
      "text/plain": [
       "array([nan, 'Airplane', 'Helicopter', 'Glider', 'Balloon', 'Gyrocraft',\n",
       "       'Ultralight', 'Unknown', 'Blimp', 'Powered-Lift', 'Weight-Shift',\n",
       "       'Powered Parachute', 'Rocket', 'WSFT', 'ULTR'], dtype=object)"
      ]
     },
     "execution_count": 34,
     "metadata": {},
     "output_type": "execute_result"
    }
   ],
   "source": [
    "us_data['aircraft_category'].unique()"
   ]
  },
  {
   "cell_type": "code",
   "execution_count": 35,
   "id": "747a2a47",
   "metadata": {},
   "outputs": [],
   "source": [
    "us_data['aircraft_category'] = us_data['aircraft_category'].replace({\n",
    "    'Unknown':'Airplane'\n",
    "})\n",
    "us_data['aircraft_category'] = us_data['aircraft_category'].fillna(\"Airplane\")"
   ]
  },
  {
   "cell_type": "code",
   "execution_count": 36,
   "id": "2abc838e",
   "metadata": {},
   "outputs": [
    {
     "data": {
      "image/png": "[encoded data removed]",
      "text/plain": [
       "<Figure size 1200x600 with 1 Axes>"
      ]
     },
     "metadata": {},
     "output_type": "display_data"
    }
   ],
   "source": [
    "plt.figure(figsize=(12, 6))\n",
    "sns.histplot(data=us_data, x='aircraft_category', shrink=0.8, discrete=True, kde=False, color='skyblue')\n",
    "plt.title('Histogram of Aircraft Categories', fontsize=16)\n",
    "plt.xlabel('Aircraft Category', fontsize=12)\n",
    "plt.ylabel('Frequency', fontsize=12)\n",
    "plt.xticks(rotation=45)\n",
    "plt.tight_layout()\n",
    "plt.show()"
   ]
  },
  {
   "cell_type": "markdown",
   "id": "e974812c",
   "metadata": {},
   "source": [
    "## REGISTRATION NUMBER\n",
    "The `registration_number` column turned out to be trickier and noisier than expected. Based on research and general aviation knowledge, every aircraft is supposed to have a unique registration number — similar to a license plate for cars.\n",
    "\n",
    "---\n",
    "\n",
    "##  Key Findings\n",
    "\n",
    "### 1. **Duplicates Exist**\n",
    "Some `registration_number` values appear more than once in the dataset. This could suggest:\n",
    "\n",
    "- Multiple incidents involving the same aircraft over time (which is valid),\n",
    "- Registration number reuse over time (common after an aircraft is decommissioned),\n",
    "- Or possible data entry errors or truncation.\n",
    "\n",
    "---\n",
    "\n",
    "### 2. **Shared Registration Numbers Across Different Aircraft**\n",
    "There are cases where:\n",
    "\n",
    "- The same registration number is associated with different makes and models,\n",
    "- Some entries even share similar event locations — possibly indicating recycled registrations, duplicate records, or poor documentation.\n",
    "\n",
    "---\n",
    "\n",
    "### 3. **Placeholder Values**\n",
    "Many entries use generic or placeholder values like `\"NONE\"`, `\"UNREG\"`, and `\"USAF\"`. These typically indicate:\n",
    "\n",
    "- Unregistered aircraft (especially experimental or military),\n",
    "- Law enforcement or military aircraft with non-standard ID systems,\n",
    "- Or situations where the actual registration wasn't available.\n",
    "\n",
    "---\n",
    "\n",
    "### 4. **Incomplete or Truncated IDs**\n",
    "Some entries appear to be cut off or formatted inconsistently, making exact matching challenging without reliable external data like the FAA registry.\n",
    "\n",
    "---\n",
    "\n",
    "##  My Decision\n",
    "\n",
    "Given that:\n",
    "\n",
    "- The `registration_number` column is not essential to my core analysis goals,\n",
    "- There is insufficient supporting data to clean or categorize entries properly,\n",
    "- And time is limited,\n",
    "\n",
    " I chose to:\n",
    "\n",
    "- Fill missing values with `\"UNKNOWN\"`:"
   ]
  },
  {
   "cell_type": "code",
   "execution_count": 37,
   "id": "d5c078d0",
   "metadata": {},
   "outputs": [
    {
     "data": {
      "text/plain": [
       "array(['NC6404', 'N5069P', 'N5142R', ..., 'N749PJ', 'N210CU', 'N9026P'],\n",
       "      dtype=object)"
      ]
     },
     "execution_count": 37,
     "metadata": {},
     "output_type": "execute_result"
    }
   ],
   "source": [
    "us_data['registration_number'].unique()"
   ]
  },
  {
   "cell_type": "code",
   "execution_count": 38,
   "id": "dce51359",
   "metadata": {},
   "outputs": [
    {
     "data": {
      "text/plain": [
       "np.int64(116)"
      ]
     },
     "execution_count": 38,
     "metadata": {},
     "output_type": "execute_result"
    }
   ],
   "source": [
    "us_data['registration_number'].isna().sum()"
   ]
  },
  {
   "cell_type": "code",
   "execution_count": 39,
   "id": "18d36ae0",
   "metadata": {},
   "outputs": [
    {
     "data": {
      "text/plain": [
       "registration_number\n",
       "USAF      9\n",
       "N20752    8\n",
       "UNK       7\n",
       "N8402K    6\n",
       "N5408Y    6\n",
       "N121CC    6\n",
       "N4101E    6\n",
       "N53893    6\n",
       "N11VH     6\n",
       "N8653Y    5\n",
       "N93067    5\n",
       "N3125N    5\n",
       "N9957J    5\n",
       "N3331R    5\n",
       "N8597D    5\n",
       "N75LE     5\n",
       "N32133    5\n",
       "N5246E    5\n",
       "N99HV     5\n",
       "N420SB    5\n",
       "USN       5\n",
       "N2839V    4\n",
       "N48687    4\n",
       "N339T     4\n",
       "N9299D    4\n",
       "N4246T    4\n",
       "N1047F    4\n",
       "N1613M    4\n",
       "N6628Q    4\n",
       "N2LU      4\n",
       "Name: count, dtype: int64"
      ]
     },
     "execution_count": 39,
     "metadata": {},
     "output_type": "execute_result"
    }
   ],
   "source": [
    "\n",
    "reg_counts = us_data[~us_data['registration_number'].isin(['NONE', 'UNREG'])]['registration_number'].value_counts()\n",
    "reg_counts[reg_counts > 1].head(30)\n"
   ]
  },
  {
   "cell_type": "code",
   "execution_count": 40,
   "id": "74424f08",
   "metadata": {},
   "outputs": [
    {
     "data": {
      "text/html": [
       "<div>\n",
       "<style scoped>\n",
       "    .dataframe tbody tr th:only-of-type {\n",
       "        vertical-align: middle;\n",
       "    }\n",
       "\n",
       "    .dataframe tbody tr th {\n",
       "        vertical-align: top;\n",
       "    }\n",
       "\n",
       "    .dataframe thead th {\n",
       "        text-align: right;\n",
       "    }\n",
       "</style>\n",
       "<table border=\"1\" class=\"dataframe\">\n",
       "  <thead>\n",
       "    <tr style=\"text-align: right;\">\n",
       "      <th></th>\n",
       "      <th>event_date</th>\n",
       "      <th>aircraft_make</th>\n",
       "      <th>aircraft_model</th>\n",
       "      <th>location</th>\n",
       "    </tr>\n",
       "  </thead>\n",
       "  <tbody>\n",
       "    <tr>\n",
       "      <th>21673</th>\n",
       "      <td>1988-11-22</td>\n",
       "      <td>Cessna</td>\n",
       "      <td>A185F</td>\n",
       "      <td>DEADHORSE, AK</td>\n",
       "    </tr>\n",
       "    <tr>\n",
       "      <th>29835</th>\n",
       "      <td>1992-05-03</td>\n",
       "      <td>Cessna</td>\n",
       "      <td>C-A185F</td>\n",
       "      <td>BARROW, AK</td>\n",
       "    </tr>\n",
       "    <tr>\n",
       "      <th>31367</th>\n",
       "      <td>1992-11-28</td>\n",
       "      <td>Cessna</td>\n",
       "      <td>185</td>\n",
       "      <td>POINT HOPE, AK</td>\n",
       "    </tr>\n",
       "    <tr>\n",
       "      <th>32977</th>\n",
       "      <td>1993-08-13</td>\n",
       "      <td>Cessna</td>\n",
       "      <td>185</td>\n",
       "      <td>POINT BARROW, AK</td>\n",
       "    </tr>\n",
       "    <tr>\n",
       "      <th>35599</th>\n",
       "      <td>1994-10-15</td>\n",
       "      <td>Cessna</td>\n",
       "      <td>A185F</td>\n",
       "      <td>KOTZEBUE, AK</td>\n",
       "    </tr>\n",
       "    <tr>\n",
       "      <th>39441</th>\n",
       "      <td>1996-08-02</td>\n",
       "      <td>Cessna</td>\n",
       "      <td>185</td>\n",
       "      <td>WAINWRIGHT, AK</td>\n",
       "    </tr>\n",
       "    <tr>\n",
       "      <th>41655</th>\n",
       "      <td>1997-08-25</td>\n",
       "      <td>Cessna</td>\n",
       "      <td>185F</td>\n",
       "      <td>BARROW, AK</td>\n",
       "    </tr>\n",
       "    <tr>\n",
       "      <th>47714</th>\n",
       "      <td>2000-08-11</td>\n",
       "      <td>Cessna</td>\n",
       "      <td>185F</td>\n",
       "      <td>BARROW, AK</td>\n",
       "    </tr>\n",
       "  </tbody>\n",
       "</table>\n",
       "</div>"
      ],
      "text/plain": [
       "       event_date aircraft_make aircraft_model          location\n",
       "21673  1988-11-22        Cessna          A185F     DEADHORSE, AK\n",
       "29835  1992-05-03        Cessna        C-A185F        BARROW, AK\n",
       "31367  1992-11-28        Cessna            185    POINT HOPE, AK\n",
       "32977  1993-08-13        Cessna            185  POINT BARROW, AK\n",
       "35599  1994-10-15        Cessna          A185F      KOTZEBUE, AK\n",
       "39441  1996-08-02        Cessna            185    WAINWRIGHT, AK\n",
       "41655  1997-08-25        Cessna           185F        BARROW, AK\n",
       "47714  2000-08-11        Cessna           185F        BARROW, AK"
      ]
     },
     "execution_count": 40,
     "metadata": {},
     "output_type": "execute_result"
    }
   ],
   "source": [
    "us_data[us_data['registration_number'] == 'N20752'][['event_date', 'aircraft_make', 'aircraft_model', 'location']].sort_values('event_date')\n"
   ]
  },
  {
   "cell_type": "code",
   "execution_count": 41,
   "id": "6cd6614f",
   "metadata": {},
   "outputs": [],
   "source": [
    "us_data['registration_number']= us_data['registration_number'].fillna('UNKNOWN')"
   ]
  },
  {
   "cell_type": "markdown",
   "id": "2e35cfac",
   "metadata": {},
   "source": [
    "## AIRCRAFT MAKE AND MODEL\n",
    "\n",
    "This columns were kind to my sanity, with only 21 and 38 missing values respectively i will fill them with unknown, and standardize the colum removing white spaces and including hyphens in the relevant situation since on the model columns the numbers,casings and hyphens have meaning so i will just strip"
   ]
  },
  {
   "cell_type": "code",
   "execution_count": 42,
   "id": "39417165",
   "metadata": {},
   "outputs": [
    {
     "data": {
      "text/plain": [
       "aircraft_make\n",
       "Cessna                21573\n",
       "Piper                 11661\n",
       "CESSNA                 4280\n",
       "Beech                  4167\n",
       "PIPER                  2507\n",
       "                      ...  \n",
       "Steven R. Jackson         1\n",
       "Weste                     1\n",
       "Arthur P. Matthews        1\n",
       "Tolle                     1\n",
       "ROYSE RALPH L             1\n",
       "Name: count, Length: 8001, dtype: int64"
      ]
     },
     "execution_count": 42,
     "metadata": {},
     "output_type": "execute_result"
    }
   ],
   "source": [
    "us_data['aircraft_make'].value_counts()"
   ]
  },
  {
   "cell_type": "code",
   "execution_count": 43,
   "id": "817aa595",
   "metadata": {},
   "outputs": [
    {
     "data": {
      "text/plain": [
       "aircraft_model\n",
       "152             2323\n",
       "172             1637\n",
       "172N            1136\n",
       "PA-28-140        910\n",
       "150              790\n",
       "                ... \n",
       "YAK C-11           1\n",
       "2180A              1\n",
       "B206-BIII          1\n",
       "THORP T18CWS       1\n",
       "PA42               1\n",
       "Name: count, Length: 11443, dtype: int64"
      ]
     },
     "execution_count": 43,
     "metadata": {},
     "output_type": "execute_result"
    }
   ],
   "source": [
    "us_data['aircraft_model'].value_counts()"
   ]
  },
  {
   "cell_type": "code",
   "execution_count": 44,
   "id": "11e2a74f",
   "metadata": {},
   "outputs": [
    {
     "data": {
      "text/plain": [
       "np.int64(38)"
      ]
     },
     "execution_count": 44,
     "metadata": {},
     "output_type": "execute_result"
    }
   ],
   "source": [
    "us_data['aircraft_model'].isna().sum()"
   ]
  },
  {
   "cell_type": "code",
   "execution_count": 45,
   "id": "e6044d85",
   "metadata": {},
   "outputs": [
    {
     "data": {
      "text/plain": [
       "np.int64(21)"
      ]
     },
     "execution_count": 45,
     "metadata": {},
     "output_type": "execute_result"
    }
   ],
   "source": [
    "us_data['aircraft_make'].isna().sum()"
   ]
  },
  {
   "cell_type": "code",
   "execution_count": 46,
   "id": "6dddf05f",
   "metadata": {},
   "outputs": [],
   "source": [
    "us_data['aircraft_make'] = us_data['aircraft_make'].fillna('UNKNOWN')\n",
    "us_data['aircraft_make'] = us_data['aircraft_make'].str.replace(r'\\s+', '-', regex=True).astype('string').str.upper()\n"
   ]
  },
  {
   "cell_type": "code",
   "execution_count": 47,
   "id": "0c8fc324",
   "metadata": {},
   "outputs": [],
   "source": [
    "us_data['aircraft_model'] = us_data['aircraft_model'].fillna('UNKNOWN')\n",
    "us_data['aircraft_model'] = us_data['aircraft_model'].str.strip()\n"
   ]
  },
  {
   "cell_type": "markdown",
   "id": "047b486e",
   "metadata": {},
   "source": [
    "## AMATURE MODEL\n",
    "**Amateur Built** ,also known as homebuilt, experimental, or kit aircraft refers to aircraft constructed by individuals, rather than certified aircraft manufacturers. These are usually built:\n",
    "\n",
    "From kits sold by aviation companies\n",
    "\n",
    "From plans using raw materials\n",
    "\n",
    "Sometimes entirely custom-designed by the builder\n",
    "\n",
    "### The FAA's View\n",
    "\n",
    "In the U.S., the FAA classifies these as “Experimental - Amateur-Built” aircraft. The idea is that at least 51% of the aircraft must be built by amateurs for education, recreation, or personal use.\n",
    "\n",
    "In my analysis i will fill the values with unknown and proceed to standardize everything"
   ]
  },
  {
   "cell_type": "code",
   "execution_count": 48,
   "id": "710fb53e",
   "metadata": {},
   "outputs": [],
   "source": [
    "us_data['amateur_built'] = us_data['amateur_built'].fillna('UNKNOWN')\n",
    "us_data['amateur_built'] = us_data['amateur_built'].str.strip().str.upper()\n"
   ]
  },
  {
   "cell_type": "markdown",
   "id": "da07cbe1",
   "metadata": {},
   "source": [
    "## NUMBER OF ENGINES\n",
    "\n",
    "\n",
    "\n",
    "\n",
    "I leveraged reliable information from the aircraft **aircraft_make** and **aircraft_odel** columns to accurately retrieve the number of engines for missing entries. While this was straightforward for well-known models, it required considerable manual mapping using domain knowledge and external research.\n",
    "\n",
    "Eventually, this manual process plateaued — most of the remaining aircraft models were consistently single-engine types. Out of over 1,000 missing values, I had successfully mapped 400+, all of which had one engine. To validate this assumption, I examined the tail end of the unmapped entries and found the pattern persisted.\n",
    "\n",
    "To save time and effort without compromising accuracy, I decided to impute the remaining missing values as **1**. This decision was further backed by a distribution plot showing a strong dominance of single-engine aircraft across the dataset.\n"
   ]
  },
  {
   "cell_type": "code",
   "execution_count": 49,
   "id": "0dd04e6a",
   "metadata": {},
   "outputs": [],
   "source": [
    "engine_impute_map = {\n",
    "    ('SCHWEIZER', 'SGS 2-33A'): 0,\n",
    "    ('SCHWEIZER', 'SGS-2-33A'): 0,\n",
    "    ('BALLOON-WORKS', 'FIREFLY 7'): 0,\n",
    "    ('LET', 'L-13'): 0,\n",
    "    ('LET', 'BLANIK L-13'): 0,\n",
    "    ('SCHWEIZER', 'SGS 1-26E'): 0,\n",
    "    ('I.C.A.-BRASOV', 'IS-28B2'): 0,\n",
    "    ('BEECH', 'A36'): 1,\n",
    "    ('CIRRUS', 'SR22'): 1,\n",
    "    ('BEECH', '35'): 1,\n",
    "    ('BURKHART-GROB', 'G103'): 0,\n",
    "    ('CESSNA', '172'): 1,\n",
    "    ('PIPER', 'PA28'): 1,\n",
    "    ('BELL', '206'): 1,\n",
    "    ('SCHWEIZER', 'SGS 1-34'): 0,\n",
    "    ('CESSNA', 'A185'): 1,\n",
    "    ('BALLOON-WORKS', 'FIREFLY 8-24'): 0,\n",
    "    ('CAMERON', 'V-77'): 0,\n",
    "    ('BOEING', '777'): 2, \n",
    "    ('PIPER', 'PA32R'): 1,\n",
    "    ('BEECH', 'V35'): 1,\n",
    "    ('RAVEN', 'RX-7'): 0,  \n",
    "    ('SCHWEIZER', '2-33A'): 0,  \n",
    "    ('CESSNA', '172N'): 1,\n",
    "    ('AIR-TRACTOR-INC', 'AT 602'): 1,  \n",
    "    ('SCHEMPP-HIRTH', 'STANDARD CIRRUS'): 0,\n",
    "    ('HUGHES', '369D'): 1,  \n",
    "    ('SCHWEIZER', 'SGS 2-33'): 0,\n",
    "    ('PICCARD', 'AX-6'): 0,  \n",
    "    ('ROLLADEN-SCHNEIDER', 'LS-4'): 0,  \n",
    "    ('BEECH', '36'): 1, \n",
    "    ('PIPER', 'PA28R'): 1,  \n",
    "    ('AEROSTAR', 'S-60A'): 0,  \n",
    "    ('', 'S-77A'): 0,  \n",
    "    ('SCHLEICHER', 'ASW-19'): 0,\n",
    "    ('SCHEMPP-HIRTH', 'VENTUS-B'): 0,  \n",
    "    ('AEROSTAR', 'RX-8'): 0,  \n",
    "    ('PIPER', 'PA-18'): 1,\n",
    "    ('WSK-PZL-KROSNO', 'KR-03A'): 0,  \n",
    "    ('ADAMS', 'A55S'): 1,  \n",
    "    ('AEROSTAR', 'S-77A'): 0,  \n",
    "    ('SCHWEIZER', 'SGS 1-36'): 0,  \n",
    "    ('BOEING', '737'): 2,\n",
    "    ('BOEING', '757'): 2,\n",
    "    ('LET', 'L 23 SUPER BLANIK'): 0,  \n",
    "    ('LET', 'L-23'): 0,  \n",
    "    ('RAVEN', 'S-60A'): 0,  \n",
    "    ('AIRBUS', 'A320'): 2,\n",
    "    ('CESSNA', 'T210'): 1,  \n",
    "    ('AEROSTAR', 'S-66A'): 0,  \n",
    "    ('PIPER', 'PA-28-181'): 1, \n",
    "    ('BURKHART-GROB', 'G102'): 0,  \n",
    "    ('CESSNA', '182'): 1,\n",
    "    ('BURKHART-GROB', '103'): 0,  \n",
    "    ('AEROSTAR', 'RX 8'): 0,  \n",
    "    ('SCHLEICHER', 'ASW-20'): 0, \n",
    "    ('BOEING', '737-300'): 2,\n",
    "    ('UNKNOWN', 'UNKNOWN'): np.nan,\n",
    "    ('RAVEN', 'S-66A'): 0,  \n",
    "    ('SCHWEIZER', '269C'): 1,  \n",
    "    ('BALLOON-WORKS', 'FIREFLY-7'): 0,\n",
    "    ('ERCOUPE', '415'): 1, \n",
    "    ('BALLOON-WORKS', 'FIREFLY 8'): 0,\n",
    "    ('AEROSTAR', 'RX-7'): 0,\n",
    "    ('BALLOON-WORKS', 'FIREFLY 8B'): 0,\n",
    "    ('SCHWEIZER', 'SGS 1-26B'): 0,  \n",
    "    ('RAVEN', 'S60A'): 0,  \n",
    "    ('SCHWEIZER', 'SGS 1-35'): 0,  \n",
    "    ('GENERAL-BALLOON', 'AX-6'): 0,\n",
    "    ('BELL', '206-L4'): 1,  \n",
    "    ('CESSNA', 'T188C'): 1,  \n",
    "    ('RAVEN', 'S55A'): 0,\n",
    "    ('SCHWEIZER', 'SGS 1-26C'): 0,\n",
    "    ('CHAMPION', '7ECA'): 1, \n",
    "    ('SCHWEIZER', 'SGS 2-32'): 0,\n",
    "    ('GRUMMAN-ACFT-ENG-COR-SCHWEIZER', 'G 164A'): 1,  \n",
    "    ('I.C.A.-BRASOV', 'IS-29D2'): 0,  \n",
    "    ('RAVEN', 'S-66A'): 0, \n",
    "    ('SCHWEIZER', '269C'): 1, \n",
    "    ('BALLOON-WORKS', 'FIREFLY-7'): 0,\n",
    "    ('ERCOUPE', '415'): 1, \n",
    "    ('BALLOON-WORKS', 'FIREFLY 8'): 0,\n",
    "    ('AEROSTAR', 'RX-7'): 0,\n",
    "    ('BALLOON-WORKS', 'FIREFLY 8B'): 0,\n",
    "    ('SCHWEIZER', 'SGS 1-26B'): 0,  \n",
    "    ('RAVEN', 'S60A'): 0,  \n",
    "    ('SCHWEIZER', 'SGS 1-35'): 0,  \n",
    "    ('GENERAL-BALLOON', 'AX-6'): 0,\n",
    "    ('BELL', '206-L4'): 1, \n",
    "    ('CESSNA', 'T188C'): 1,  \n",
    "    ('RAVEN', 'S55A'): 0,\n",
    "    ('SCHWEIZER', 'SGS 1-26C'): 0,\n",
    "    ('CHAMPION', '7ECA'): 1,  \n",
    "    ('SCHWEIZER', 'SGS 2-32'): 0,  # Glider\n",
    "    ('GRUMMAN-ACFT-ENG-COR-SCHWEIZER', 'G 164A'): 1,  \n",
    "    ('I.C.A.-BRASOV', 'IS-29D2'): 0,\n",
    "    ('CESSNA', 'TR182'): 1,\n",
    "    ('CESSNA', '210'): 1,\n",
    "    ('SCHWEIZER', 'SGS2-33A'): 0,\n",
    "    ('SCHLEICHER', 'ASK-21'): 0,\n",
    "    ('AIRBUS-INDUSTRIE', 'A320'): 2,\n",
    "    ('CESSNA', '185'): 1,\n",
    "    ('BARNES', 'AX-7'): 0,\n",
    "    ('GLASFLUGEL', 'H-301'): 0,\n",
    "    ('SCHEMPP-HIRTH', 'DISCUS A'): 0,\n",
    "    ('SCHWEIZER', 'SGS 1-26A'): 0,\n",
    "    ('BELLANCA', '8GCBC'): 1,\n",
    "    ('LET', 'L-23 SUPER BLANIK'): 0,\n",
    "    ('CESSNA', 'TU206'): 1,\n",
    "    ('CESSNA', 'T210N'): 1,\n",
    "    ('EMBRAER', 'ERJ170'): 2,\n",
    "    ('GRUMMAN', 'G164'): 1,\n",
    "    ('BALLOON-WORKS', 'FIREFLY 8B-15'): 0,\n",
    "    ('AIR-TRACTOR', 'AT502'): 1,\n",
    "    ('AIR-TRACTOR', 'AT802'): 1,\n",
    "    ('CESSNA', 'A185F'): 1,\n",
    "    ('HEAD-BALLOONS,-INC.', 'AX8-88'): 0,\n",
    "    ('BOEING', '747'): 4,\n",
    "    ('CESSNA', '180'): 1,\n",
    "    ('SCHWEIZER', '2-32'): 0,\n",
    "    ('BALLOON-WORKS', 'FIREFLY 7-B'): 0,\n",
    "    ('BALLOON-WORKS', 'FIREFLY 7-15'): 0,\n",
    "    ('ROLLADEN-SCHNEIDER', 'LS-4A'): 0,\n",
    "    ('AIR-TRACTOR-INC', 'AT 502B'): 1,\n",
    "    ('FLIGHT-DESIGN', 'CTLS'): 1,\n",
    "    ('PIPER', 'PA-31-350'): 2,\n",
    "    ('BOEING', '787'): 2,\n",
    "    ('CESSNA', 'A188'): 1,\n",
    "    ('TAYLORCRAFT', 'BC12 D'): 1,\n",
    "    ('SCHWEIZER', 'SGS 1-26'): 0,\n",
    "    ('AMERICAN-EUROCOPTER-CORP', 'AS350B3'): 1,\n",
    "    ('EIRIAVION-OY', 'PIK 20D'): 0,\n",
    "    ('ROLLADEN-SCHNEIDER', 'LS-6'): 0,\n",
    "    ('ZENITH', 'CH 750'): 1,\n",
    "    ('PZL-BIELSKO', 'SZD-59'): 1,\n",
    "    ('CENTRAIR', '101A'): 1,\n",
    "    ('DE-HAVILLAND', 'DHC-2'): 1,\n",
    "    ('EMBRAER', 'EMB145'): 2,\n",
    "    ('BALLOON-WORKS', 'AX-8B'): 1,\n",
    "    ('SCHEMPP-HIRTH', 'DISCUS CS'): 1,\n",
    "    ('BOMBARDIER-INC', 'CL-600-2B19'): 2,\n",
    "    ('BALLOON-WORKS', 'FF-7'): 1,\n",
    "    ('BALLOON-WORKS', 'FIRE FLY 7'): 1,\n",
    "    ('BALLOON-WORKS', 'FIRE FLY 7-15'): 1,\n",
    "    ('BALLOON-WORKS', 'FIRE FLY 8-24'): 1,\n",
    "    ('BALLOON-WORKS', 'FIREFLY 11'): 1,\n",
    "    ('CESSNA', 'P210N'): 1,\n",
    "    ('SIKORSKY', 'S76'): 2,\n",
    "    ('BALLOON-WORKS', 'FIREFLY 7B'): 1,\n",
    "    ('CESSNA', 'T182T'): 1,\n",
    "    ('BALLOON-WORKS', 'FIREFLY 9'): 1,\n",
    "    ('EIRIAVION-OY', 'PIK-20B'): 1,\n",
    "    ('BOMBARDIER', 'CL 600 2C10'): 2,\n",
    "    ('GROB', 'G102'): 1,\n",
    "    ('LINDSTRAND', '105A'): 1,\n",
    "    ('BOEING', '757-200'): 2,\n",
    "    ('PIPER', 'PA-28-161'): 1,\n",
    "    ('CESSNA', '441'): 2,\n",
    "    ('LITHUANIAN-FACTORY-OF-AVIATION', 'LAK-12'): 1,\n",
    "    ('PIPER', 'PA-28-180'): 1,\n",
    "    ('BURKHART-GROB', 'G 103 TWIN II'): 1,\n",
    "    ('CHAMPION', '7EC'): 1,\n",
    "    ('MCDONNELL-DOUGLAS-HELICOPTER', '369E'): 1,\n",
    "    ('FLIGHT-DESIGN-GMBH', 'CTSW'): 1,\n",
    "    ('BURKHART-GROB', 'G-102'): 1,\n",
    "    ('BURKHART-GROB', 'G-103'): 1,\n",
    "    ('BEECH', '95 B55 (T42A)'): 2,\n",
    "    ('BEECH', '95 C55'): 2,\n",
    "    ('ROLLADEN-SCHNEIDER', 'LS3-A'): 1,\n",
    "    ('GLASFLUGEL', 'H 301 B LIBELLE'): 1,\n",
    "    ('BURKHART-GROB', 'G-103-TWIN II'): 1,\n",
    "    ('BURKHART-GROB', 'G-103A Twin II Acro'): 1,\n",
    "    ('BELL', '430'): 2,\n",
    "    ('THUNDER-AND-COLT', 'AX9-140'): 1,\n",
    "    ('BOEING', '737-700'): 2,\n",
    "    ('BURKHART-GROB', '102'): 1,\n",
    "    ('BURKHART-GROB', '103A'): 1,\n",
    "    ('BARNES', 'FIREFLY 7'): 1,\n",
    "    ('CESSNA', '208B'): 1,\n",
    "    ('LET', 'L13'): 1,\n",
    "    ('BEECH', '200'): 2,\n",
    "    ('BEECH', '23'): 1,\n",
    "    ('LET', 'L 33 SOLO'): 1,\n",
    "    ('LEARJET', '45'): 2,\n",
    "    ('BEECH', '55'): 2,\n",
    "    ('SCHEIBE-FLUGZEUGBAU', 'BERGFALKE II-55'): 1,\n",
    "    ('SCHWEIZER', 'SGS-233A'): 1,\n",
    "    ('BLANIK', 'L-13'): 1,\n",
    "    ('BURKHART-GROB', 'G103 TWIN ASTIR'): 1,\n",
    "    ('BURKHART-GROB', 'G103 TWIN II'): 1,\n",
    "    ('SCHLEICHER', 'K8B'): 1,\n",
    "    ('HILLER', 'UH 12D'): 1,\n",
    "    ('CUB-CRAFTERS', 'CCK-1865'): 1,\n",
    "    ('NORTH-AMERICAN', 'NAVION'): 1,\n",
    "    ('BELL', 'UH 1H'): 1,\n",
    "    ('SCHWEIZER', '2-33'): 0,\n",
    "    ('SCHWEIZER', '2-33-A'): 0,\n",
    "    ('BELL', '206B-III'): 1,\n",
    "    ('BELL', '206-B3'): 1,\n",
    "    ('SCHWEIZER', 'SGS 1 34'): 0,\n",
    "    ('SCHWEIZER', 'SGS 1-26D'): 0,\n",
    "    ('BEECH', 'F33'): 1,\n",
    "    ('BEECH', 'E 55'): 2,\n",
    "    ('COSTRUZIONI-AERONAUTICHE-TECNA', 'P92 EAGLET'): 1,\n",
    "    ('SCHWEIZER', 'SGS-1-26E'): 0,\n",
    "    ('ULTRAMAGIC', 'N250 - NO SERIES'): 0,\n",
    "    ('MCDONNELL-DOUGLAS', 'MD-83'): 2,\n",
    "    ('SCHWEIZER', 'SGS233'): 0,\n",
    "    ('SCHWEIZER', 'SGU-2-22E'): 0,\n",
    "    ('SCHWEIZER', 'SGU2-22E'): 0,\n",
    "    ('CAMERON', 'A-140'): 0,\n",
    "    ('SCHWEIZER', 'SGS-1-26B'): 0,\n",
    "    ('SCHLEICHER', 'ASW 27'): 0,\n",
    "    ('SCHLEICHER', 'ASW-20B'): 0,\n",
    "    ('BELLANCA', '7GCAA'): 1,\n",
    "    ('CESSNA', 'T240'): 1,\n",
    "    ('CESSNA', 'T310R'): 2,\n",
    "    ('CESSNA', 'U206F'): 1,\n",
    "    ('DIAMOND', 'DA20'): 1,\n",
    "    ('CESSNA', '525'): 2,\n",
    "    ('AYRES', 'S2R'): 1,\n",
    "    ('LUSCOMBE', '8E'): 1,\n",
    "    ('SPROUL', '72K-TET'): 1,\n",
    "    ('EMBRAER', 'ERJ190'): 2,\n",
    "    ('EUROCOPTER', 'EC 130 B4'): 1,\n",
    "    ('ULTRAMAGIC', 'N-250'): 0,\n",
    "    ('CESSNA', 'A188B'): 1,\n",
    "    ('BOEING', '767'): 2,\n",
    "    ('VANS', 'RV6'): 1,\n",
    "    ('RAVEN', 'S77A'): 0,\n",
    "    ('AEROSTAR', 'RAVEN S57-A'): 0,\n",
    "    ('WEATHERLY', '620'): 1,\n",
    "    ('AEROSTAR', 'RX8'): 0,\n",
    "    ('AEROSTAR', 'RXS-8'): 0,\n",
    "    ('AEROSTAR', 'S-55A'): 0,\n",
    "    ('GLASFLUGEL', 'STANDARD LIBELLE'): 0,\n",
    "    ('VANS', 'RV8'): 1,\n",
    "    ('ROBINSON', 'R44'): 1,\n",
    "    ('AEROSTAR-INTERNATIONAL', 'RX8'): 0,\n",
    "    ('ROCKWELL-INTERNATIONAL', 'S 2R'): 1,\n",
    "    ('HUGHES', '369A'): 1,\n",
    "    ('PIPER', 'PA32RT'): 1,\n",
    "    ('BRANTLY', 'B 2B'): 1,\n",
    "    ('CESSNA', '150'): 1,\n",
    "    ('BOEING', 'E75'): 1,\n",
    "    ('SCHEMPP-HIRTH', 'CIRRUS'): 0,\n",
    "    ('CESSNA', '172P'): 1,\n",
    "    ('PIPER', 'PA-22-150'): 1,\n",
    "    ('GULFSTREAM', 'GIV'): 2,\n",
    "    ('AERO-COMMANDER', 'S2R'): 1,\n",
    "    ('AEROSPATIALE', 'AS350'): 1,\n",
    "    ('AERONCA', '7AC'): 1,\n",
    "    ('CAMERON', 'O-65'): 0,\n",
    "    ('QUAD-CITY', 'CHALLENGER'): 1,\n",
    "    ('GROB', 'G103'): 0,\n",
    "    ('SCHEMPP-HIRTH', 'NIMBUS II'): 0,\n",
    "    ('AEROSTAR', 'RAVEN S49A'): 0,\n",
    "    ('RAVEN', 'S-55A'): 0,\n",
    "    ('SCHEMPP-HIRTH', 'VENTUS A'): 0,\n",
    "    ('SCHEMPP-HIRTH', 'VENTUS B/16.6'): 0,\n",
    "    ('CAMERON', 'A-250'): 0,\n",
    "    ('OTTERBACK', 'Lightning'): 1,\n",
    "    ('NORTH-WING-UUM-INC', 'SPORT X2 912'): 1,\n",
    "    ('O\\'DELL', 'AEROMASTER'): 1,\n",
    "    ('NORTHROP', 'N9M'): 4,\n",
    "    ('NORTH-AMERICAN', 'SNJ'): 1,\n",
    "    ('NORTH-AMERICAN', 'T28'): 1,\n",
    "    ('1977-COLFER-CHAN', 'STEEN SKYBOLT'): 1,\n",
    "    ('PIPER', 'PA 32R-300'): 1,\n",
    "    ('NANCHANG', 'CJ 6'): 1,\n",
    "    ('NANCHANG', 'CJ6'): 1,\n",
    "    ('NATIONAL-BALLOON', 'AX-7'): 0,\n",
    "    ('NATIONAL-BALLOONING-LTD', '858'): 0,\n",
    "    ('NAVION', 'NAVION'): 1,\n",
    "    ('NAVION', 'Navion A'): 1,\n",
    "    ('NICKS', 'PW-5'): 0,\n",
    "    ('NORTH-AMERICAN', 'AT6'): 1,\n",
    "    ('NORTH-AMERICAN', 'AT6 - C'): 1,\n",
    "    ('NORTH-AMERICAN', 'NAVION A'): 1,\n",
    "    ('NORTH-AMERICAN', 'P 51D'): 1,\n",
    "    ('NORTH-AMERICAN', 'SNJ-4'): 1,\n",
    "    ('OWEN-KINGSLEY-B', 'VANS RV8'): 1,\n",
    "    ('PADELT', 'PG37-1'): 0,\n",
    "    ('PETRUS-DAVID-WAYNE', 'S90'): 1,\n",
    "    ('PHOENIX-AIR-SRO', 'U-15 PHOENIX'): 1,\n",
    "    ('PIAGGIO-INDUSTRIE', 'P180'): 2,\n",
    "    ('AB-SPORTINE-AVIACIJA', 'GENESIS 2'): 0,\n",
    "    ('PIETENPOL', 'AIRCAMPER'): 1,\n",
    "    ('MONERAI', 'SAILPLANE'): 0,\n",
    "    ('MONETT', 'MONARAI'): 0,\n",
    "    ('MONOCOUPE', '110SP'): 1,\n",
    "    ('MONTANA', 'Coyote'): 1,\n",
    "    ('MOONEY', 'M20B'): 1,\n",
    "    ('MOONEY', 'M20C'): 1,\n",
    "    ('MOONEY', 'M20F'): 1,\n",
    "    ('MOONEY', 'M20K'): 1,\n",
    "    ('MOONEY', 'M20V'): 1,\n",
    "    ('MOONEY-AIRCRAFT-CORP.', 'M20K'): 1,\n",
    "    ('MX-AIRCRAFT-LLC', 'MXS'): 1,\n",
    "    ('PICCARD', 'P-80'): 0,\n",
    "    ('PIK', '20'): 0,\n",
    "    ('PIPER', 'PA-24-260'): 1,\n",
    "    ('PIK', 'PIK-20D'): 0,\n",
    "    ('PILATUS', 'B-4'): 0,\n",
    "    ('PILATUS', 'B4-PC11AF'): 0,\n",
    "    ('ACRO', 'SUPER ACRO SPORT I'): 1,\n",
    "    ('MCDONNELL-DOUGLAS-HELI-CO', '369FF'): 1,\n",
    "    ('MEANS-ROBER-C', 'ROTORWAY EXEC'): 1,\n",
    "    ('MEYERS', '200'): 1,\n",
    "    ('MEYERS', 'MAC 145'): 1,\n",
    "    ('MICHAEL-V-CRANFORD', 'VANS RV-4'): 1,\n",
    "    ('MICHAEL-WILSON', 'MURPHY SPIRIT'): 1,\n",
    "    ('MICROLITES-PTYLTD', 'Dragonfly B'): 1,\n",
    "    ('MILLER,-TERRY-W.', 'TERN'): 0,\n",
    "    ('MILLS-MICHAEL', 'S1L'): 1,\n",
    "    ('MITSUBISHI', 'MU 300'): 2,\n",
    "    ('MITSUBISHI', 'MU2B'): 2,\n",
    "    ('MOLINO-OY', 'PIK-20'): 0,\n",
    "    ('MOLINO-OY', 'PIK-20B'): 0,\n",
    "    ('PIPER', 'J3C'): 1,\n",
    "    ('PIPER', 'J5A'): 1,\n",
    "    ('PIPER', 'PA 14'): 1,\n",
    "    ('PIPER', 'PA 15'): 1,\n",
    "    ('PIPER', 'PA 16'): 1,\n",
    "    ('ADAMS', 'A-60'): 1,\n",
    "    ('PIPER', 'PA-44 SEMINOLE'): 1,\n",
    "    ('MCDONNELL-DOUGLAS', 'DC-9-83(MD-83)'): 2,\n",
    "    ('MCDONNELL-DOUGLAS', 'MD 90-30'): 2,\n",
    "    ('MCDONNELL-DOUGLAS', 'MD-80'): 2,\n",
    "    ('MCDONNELL-DOUGLAS', 'MD11'): 3,\n",
    "    ('MCDONNELL-DOUGLAS', 'MD80'): 2,\n",
    "    ('MCDONNELL-DOUGLAS', 'MD82'): 2,\n",
    "    ('MCDONNELL-DOUGLAS', 'MD88'): 2,\n",
    "    ('MCDONNELL-DOUGLAS', 'OH-6A'): 1,\n",
    "    ('MCDONNELL-DOUGLAS-AIRCRAFT-CO', 'MD 88'): 2,\n",
    "    ('MD-HELICOPTER', '369'): 1,\n",
    "    ('PIPER', 'PA 31P'): 2,\n",
    "    ('PIPER', 'PA 32R-301'): 1,\n",
    "    ('PIPER', 'PA 46-350P'): 1,\n",
    "    ('PIPER', 'PA-18-150'): 1,\n",
    "    ('PIPER', 'PA-22'): 1,\n",
    "    ('PIPER', 'PA-24-250'): 1,\n",
    "    ('PIPER', 'PA-25'): 1,\n",
    "    ('ADAMS', 'A60S'): 1,\n",
    "    ('PIPER', 'PA-28'): 1,\n",
    "    ('MAULE', 'MX7'): 1,\n",
    "    ('MAULE', 'MXT-7-180A'): 1,\n",
    "    ('MAULE', 'MXT7'): 1,\n",
    "    ('MBB', 'BK117'): 2,  \n",
    "    ('MBB', 'BO-105'): 2, \n",
    "    ('MBB', 'PHOEBUS C'): 0,\n",
    "    ('MCCUTCHAN', 'Glasair'): 1,\n",
    "    ('MCDONNELL-DOUGLAS', '369E'): 1,\n",
    "    ('MCDONNELL-DOUGLAS', '600'): 2, \n",
    "    ('MCDONNELL-DOUGLAS', 'DC 9 33F'): 2,\n",
    "    ('MCDONNELL-DOUGLAS', 'DC-9-82 (MD-82)'): 2,\n",
    "    ('PIPER', 'PA-28-140'): 1,\n",
    "    ('MAULE', 'MX 7-180B'): 1,\n",
    "    ('PIPER', 'PA-28-151'): 1,\n",
    "    ('PIPER', 'PA-32-260'): 1,\n",
    "    ('PIPER', 'PA-32-300'): 1,\n",
    "    ('PIPER', 'PA-32R-300'): 1,\n",
    "    ('ADAMS', 'AB'): 1,\n",
    "    ('PIPER', 'PA-32R-301'): 1,\n",
    "    ('MARINO', 'Benoist Type XIV'): 1,\n",
    "    ('MARK-GOLDBERG', 'BEARHAWK PATROL'): 1,\n",
    "    ('MARSH-TURNER', 'BG-12A'): 0, \n",
    "    ('MAS-EVENTS', 'NEMESIS'): 1,\n",
    "    ('MASAK', 'SCIMITAR'): 0,  \n",
    "    ('MATTHEWS-H-THOMAS', 'JODEL   F11 A'): 1,\n",
    "    ('MAULE', 'M 6-235'): 1,\n",
    "    ('MAULE', 'M4-220C'): 1,\n",
    "    ('MAULE', 'M6'): 1,\n",
    "    ('MAULE', 'M7'): 1,\n",
    "    ('MAULE', 'MX 7-235'): 1,\n",
    "    ('PIPER', 'PA-32RT'): 1,\n",
    "    ('PIPER', 'PA36'): 1,\n",
    "    ('PIPER', 'PA-32RT-300T'): 1,\n",
    "    ('PIPER', 'PA-38-112'): 1,\n",
    "    ('PIPER', 'PA-44-180'): 2,  \n",
    "    ('PIPER', 'PA-46'): 1,\n",
    "    ('PIPER', 'PA-46-500TP'): 1,\n",
    "    ('PIPER', 'PA12'): 1,\n",
    "    ('PIPER', 'PA18'): 1,\n",
    "    ('PIPER', 'PA22'): 1,\n",
    "    ('PIPER', 'PA23'): 2,\n",
    "    ('ADAMS', 'AX-9'): 0,  \n",
    "    ('PRUE-IRVING-OWEN', '160'): 0,  \n",
    "    ('LINDSTRAND-BALLOONS-USA', '120A'): 0,  \n",
    "    ('LINSTRAND', '240A'): 0,  \n",
    "    ('LOCKHEED', 'C130'): 4, \n",
    "    ('LOCKHEED', 'L1011'): 3,  \n",
    "    ('LOCKHEED', 'P2V-7'): 2,  \n",
    "    ('LUDEMAN', 'HP-18'): 0,  \n",
    "    ('LUSCOMBE', '8A'): 1,\n",
    "    ('LUSCOMBE', '8B'): 1,\n",
    "    ('LUSCOMBE', 'T-8F'): 1,\n",
    "    ('LYONS-ROBERT', 'NAVAJO HKS'): 2, \n",
    "    ('M-SQUARED', 'Sport 1000'): 1,\n",
    "    ('M-SQUARED-AIRCRAFT', 'SPRINT 1000'): 1,\n",
    "    ('MAARTEN-H-VERSTEEG', 'ZENITH 601XL(B)'): 1,\n",
    "    ('MACDONALD-CRAIG', 'MAC CUB'): 1,\n",
    "    ('MAGNI', 'MAGNI M 16'): 1,  \n",
    "    ('PIPER', 'PA31'): 2,\n",
    "    ('PIPER', 'PA31T'): 2,\n",
    "    ('PIPER', 'PA32'): 1,\n",
    "    ('PIPER', 'PA34'): 2,\n",
    "    ('PIPER', 'PA44'): 2,\n",
    "    ('PIPER', 'PA46'): 1,\n",
    "    ('PIPISTREL', 'Apis-Bee'): 0,\n",
    "    ('AERO-COMMANDER', '200'): 2,\n",
    "    ('LINDSTRAND-BALLOONS', '105A'): 0,\n",
    "    ('LET', 'Blanik L-13'): 0,\n",
    "    ('LET', 'L-23 SUPER BLANKIT'): 0,\n",
    "    ('LET', 'L-33-SOLO'): 0,\n",
    "    ('LET', 'L23'): 0,\n",
    "    ('LET', 'SUPER BLANIK L-23'): 0,\n",
    "    ('LET', 'SUPER BLANIK L-33'): 0,\n",
    "    ('LIGHTNING-AVION-EAB-LLC', 'Arion Lightning'): 1,\n",
    "    ('LINDSTRAND', '180A'): 0,\n",
    "    ('LINDSTRAND', 'LBL-105G'): 0,\n",
    "    ('LINDSTRAND', 'LBL69A'): 0,\n",
    "    ('LINDSTRAND-BALLOONS', '150A'): 0,\n",
    "    ('LEARJET', '35'): 2,\n",
    "    ('LINDSTRAND-BALLOONS', '90A'): 0,\n",
    "    ('LINDSTRAND-BALLOONS', 'LBL'): 0,\n",
    "    ('POWRACHUTE', 'AIRWOLF'): 1,\n",
    "    ('PRATT-READ', 'PRG-1'): 0,\n",
    "    ('PROGRESSIVE-AERODYNE', 'SEAREY'): 1,\n",
    "    ('PRUE-STANDARD', 'UNKNOWN'): 0,\n",
    "    ('PURDY', 'HP-18'): 0,\n",
    "    ('PZL-BIELSKO', 'JANTAR 2A'): 0,\n",
    "    ('PZL-BIELSKO', 'SZD 50-3'): 0,\n",
    "    ('PZL-BIELSKO', 'SZD 55-1'): 0,\n",
    "    ('AERO-COMMANDER', '500'): 1,\n",
    "    ('KOLB-COMPANY', 'FIRESTAR'): 1,\n",
    "    ('KUBICEK', 'BB100'): 1,\n",
    "    ('KUBICEK', 'BB30'): 1,\n",
    "    ('KUBICEK', 'BB60'): 1,\n",
    "    ('KUBICEK', 'BB85'): 1,\n",
    "    ('LAISTER', 'LK10'): 1,\n",
    "    ('LAISTER', 'LP-15'): 1,\n",
    "    ('LAISTER', 'LP-49'): 1,\n",
    "    ('LAKE', 'LA4'): 1,\n",
    "    ('LANCAIR', '360'): 1,\n",
    "    ('LANCAIR', 'IV'): 1,\n",
    "    ('LANCAIR', 'LC41'): 1,\n",
    "    ('LANCAIR', 'LEGACY RG'): 1,\n",
    "    ('LARK-AVIATION', 'IS28B2'): 1,\n",
    "    ('LET', 'Blanik'): 1,\n",
    "    ('PZL-BIELSKO', 'SZD-48-3'): 1,\n",
    "    ('PZL-BIELSKO', 'SZD-55-1'): 1,\n",
    "    ('PZL-SWIDNIK', 'PW 5'): 1,\n",
    "    ('QUICKIE', 'Q2'): 1,\n",
    "    ('QUICKSILVER', 'MX II Sprint'): 1,\n",
    "    ('QUICKSILVER', 'MXL II'): 1,\n",
    "    ('QUICKSILVER', 'Sport'): 1,\n",
    "    ('RAF', 'SE5A'): 1,\n",
    "    ('AERO-COMMANDER', '680'): 1,\n",
    "    ('RAVEN', 'AX-9'): 1,\n",
    "    ('JOHNSON', 'Harmon Rocket'): 1,\n",
    "    ('JONES', 'HATZ CB1'): 1,\n",
    "    ('JONKER-SAILPLANES', 'JS1C'): 1,\n",
    "    ('JONKER-SAILPLANES-(PTY)-LTD', 'JS1-C'): 1,\n",
    "    ('JORDAN-JOHN', 'RV7'): 1,\n",
    "    ('JUDD', 'Challenger II'): 1,\n",
    "    ('JUST', 'JA30 SUPERSTOL'): 1,\n",
    "    ('KENNETH-B-HINES', 'NIEUPORT 28'): 1,\n",
    "    ('KITFOX', 'S7'): 1,\n",
    "    ('KJOSTAD-JORGEN-A', 'WAGABOND'): 1,\n",
    "    ('KNAPP', 'Easy Raider'): 1,\n",
    "    ('KNELL', 'ASC SPIRIT'): 1,\n",
    "    ('KOLB', 'FIRESTAR 2'): 1,\n",
    "    ('KRELING', 'Supercat'): 1,\n",
    "    ('RAINBOW-AIRCRAFT-(PTY)-LTD', 'AEROTRIKE'): 1,\n",
    "    ('RANDY-WAYNE-MALONEY', 'M1'): 1,\n",
    "    ('RANS', 'S12'): 1,\n",
    "    ('RANS,-INC.', 'Rans S-6ES'): 1,\n",
    "    ('RANS-S-12', 'Airaile'): 1,\n",
    "    ('RATTE-JAMES', 'AVENTURA II'): 1,\n",
    "    ('RAVEN', 'AERO STAR S-66A'): 1,\n",
    "    ('RAVEN', 'AS-55A'): 1,\n",
    "    ('AERO-TEK,-INC.', 'ZUNI'): 1,\n",
    "    ('HUGHES', '369HS'): 1,\n",
    "    ('HUGHES', '500D'): 1,\n",
    "    ('HUGHES', 'OH 6A'): 1,\n",
    "    ('HUGHES', 'TH 55A'): 1,\n",
    "    ('I.C.A.-BRASOV', 'IS-26B2'): 1,\n",
    "    ('I.C.A.-BRASOV', 'IS-28-B2'): 1,\n",
    "    ('I.C.A.-BRASOV', 'IS-29D'): 1,\n",
    "    ('I.C.A.-BRASOV', 'LARK I-28-B2'): 1,\n",
    "    ('I.C.A.-BRASOV-(ROMANIA)', 'IS 29D'): 1,\n",
    "    ('ICON', 'A5'): 1,\n",
    "    ('ICP', 'Savannah'): 1,\n",
    "    ('RAVEN', 'S-77A'): 1,\n",
    "    ('JACK-MCDANIEL', 'Rans S-12'): 1,\n",
    "    ('JAMES', 'Experimental Cub'): 1,\n",
    "    ('JAVRON', 'PA-18 Replica'): 1,\n",
    "    ('JEROME-A-BAAK', 'CH 601XL'): 1,\n",
    "    ('RAVEN', 'AX-8'): 1,\n",
    "    ('RAVEN', 'R-7'): 1,\n",
    "    ('RAVEN', 'RALLEY RX7'): 1,\n",
    "    ('RAVEN', 'RALLY II'): 1,\n",
    "    ('RAVEN', 'RALLY RX7'): 1,\n",
    "    ('RAVEN', 'RX-6'): 1,\n",
    "    ('HUGHES', '369'): 1,\n",
    "    ('HEAD', 'AX9-118'): 1,\n",
    "    ('HEAD-BALLOONS,-INC.', 'AX9-118'): 1,\n",
    "    ('HENRY-STEVEN-J', 'JUST ACFT SUPERSTOL'): 1,\n",
    "    ('HI-MAX', 'HI-MAX'): 1,\n",
    "    ('HILL-GROUP-LLC', 'CCX-2000'): 1,\n",
    "    ('HILLER', 'UH 12E'): 1,\n",
    "    ('HILLER', 'UH-12C'): 1,\n",
    "    ('HILLER', 'UH-12E'): 1,\n",
    "    ('HOGAN', 'Innovator'): 1,\n",
    "    ('HOLMES', 'Challenger II'): 1,\n",
    "    ('HOOVER-DAVID', 'ARNOLD AR 6'): 1,\n",
    "    ('AERO-TEK-INC.', 'ZUNI'): 1,\n",
    "    ('HPH-LTD', '304CZ'): 1,\n",
    "    ('HUEBBE', 'Sonex HB'): 1,\n",
    "    ('HUGHES', '269A'): 1,\n",
    "    ('RAVEN', 'S-55A-707'): 1,\n",
    "    ('RAVEN', 'S100A'): 1,\n",
    "    ('RAVEN', 'S55A/AX7'): 1,\n",
    "    ('RAYMOND-Z-BROWN', 'CONDOR'): 1,\n",
    "    ('RAYTHEON', '58'): 1,\n",
    "    ('RAYTHEON-AIRCRAFT-COMPANY', 'B200'): 1,\n",
    "    ('RAYTHEON-CORPORATE-JETS', 'H25B'): 1,\n",
    "    ('HEAD-BALLOONS,-INC.', 'AX7-77'): 1,\n",
    "    ('HEAD', 'AX9 118'): 1\n",
    "     \n",
    "}\n",
    "\n",
    "for (make, model), engine_count in engine_impute_map.items():\n",
    "    us_data.loc[\n",
    "        (us_data['aircraft_make'] == make) & \n",
    "        (us_data['aircraft_model'] == model) & \n",
    "        (us_data['number_of_engines'].isna()), \n",
    "        'number_of_engines'\n",
    "    ] = engine_count\n"
   ]
  },
  {
   "cell_type": "code",
   "execution_count": 50,
   "id": "2d3dec2f",
   "metadata": {},
   "outputs": [
    {
     "data": {
      "text/plain": [
       "aircraft_make\n",
       "CESSNA               25853\n",
       "PIPER                14168\n",
       "BEECH                 5059\n",
       "BELL                  2285\n",
       "BOEING                1485\n",
       "MOONEY                1293\n",
       "GRUMMAN               1142\n",
       "BELLANCA              1040\n",
       "ROBINSON               919\n",
       "HUGHES                 874\n",
       "SCHWEIZER              744\n",
       "AIR-TRACTOR            644\n",
       "AERONCA                635\n",
       "MAULE                  577\n",
       "CHAMPION               514\n",
       "MCDONNELL-DOUGLAS      465\n",
       "STINSON                439\n",
       "LUSCOMBE               413\n",
       "AERO-COMMANDER         397\n",
       "TAYLORCRAFT            382\n",
       "Name: count, dtype: Int64"
      ]
     },
     "execution_count": 50,
     "metadata": {},
     "output_type": "execute_result"
    }
   ],
   "source": [
    "us_data['aircraft_make'].value_counts().head(20)"
   ]
  },
  {
   "cell_type": "code",
   "execution_count": 51,
   "id": "420f0234",
   "metadata": {},
   "outputs": [
    {
     "data": {
      "text/plain": [
       "aircraft_model\n",
       "152          2323\n",
       "172          1637\n",
       "172N         1136\n",
       "PA-28-140     910\n",
       "150           790\n",
       "172M          773\n",
       "172P          680\n",
       "180           617\n",
       "182           589\n",
       "PA-18-150     578\n",
       "PA-18         578\n",
       "150M          578\n",
       "PA-28-180     567\n",
       "PA-28-161     556\n",
       "PA-28-181     516\n",
       "206B          462\n",
       "PA-38-112     460\n",
       "G-164A        460\n",
       "150L          452\n",
       "A36           434\n",
       "Name: count, dtype: int64"
      ]
     },
     "execution_count": 51,
     "metadata": {},
     "output_type": "execute_result"
    }
   ],
   "source": [
    "us_data['aircraft_model'].value_counts().head(20)"
   ]
  },
  {
   "cell_type": "code",
   "execution_count": 52,
   "id": "8c222651",
   "metadata": {},
   "outputs": [
    {
     "data": {
      "image/png": "[encoded data removed]",
      "text/plain": [
       "<Figure size 1000x600 with 1 Axes>"
      ]
     },
     "metadata": {},
     "output_type": "display_data"
    }
   ],
   "source": [
    "plt.figure(figsize=(10, 6))\n",
    "sns.histplot(us_data['number_of_engines'], kde=True, color='skyblue', edgecolor='black')\n",
    "\n",
    "mean_val = us_data['number_of_engines'].mean()\n",
    "mode_val = us_data['number_of_engines'].mode()[0]\n",
    "\n",
    "plt.axvline(mean_val, color='red', linestyle='--', linewidth=2, label=f'Mean: {mean_val:.2f}')\n",
    "plt.axvline(mode_val, color='green', linestyle='-', linewidth=2, label=f'Mode: {mode_val}')\n",
    "\n",
    "plt.title('Distribution of Engine Number')\n",
    "plt.xlabel('Engine count')\n",
    "plt.ylabel('Aircrafts')\n",
    "plt.legend()\n",
    "plt.tight_layout()\n",
    "plt.show()"
   ]
  },
  {
   "cell_type": "code",
   "execution_count": 53,
   "id": "e6a4ba35",
   "metadata": {},
   "outputs": [
    {
     "data": {
      "text/plain": [
       "np.int64(753)"
      ]
     },
     "execution_count": 53,
     "metadata": {},
     "output_type": "execute_result"
    }
   ],
   "source": [
    "us_data['number_of_engines'].isna().sum()"
   ]
  },
  {
   "cell_type": "code",
   "execution_count": 54,
   "id": "08992a0c",
   "metadata": {},
   "outputs": [],
   "source": [
    "us_data['number_of_engines'] = us_data['number_of_engines'].fillna(1)"
   ]
  },
  {
   "cell_type": "markdown",
   "id": "cc3b0e66",
   "metadata": {},
   "source": [
    "## ENGINE TYPE\n",
    "\n",
    "There were 3,042 missing values in the *Engine Type* column. To make a justifiable imputation, I examined the distribution of known engine types:\n",
    "\n",
    "- **Reciprocating** – 68,507\n",
    "- **Turbo Shaft** – 3,331\n",
    "- **Turbo Prop** – 3,206\n",
    "- **Turbo Fan** – 2,094\n",
    "- **Unknown** – 1,385\n",
    "- Others (Electric, Hybrid Rocket, LR, etc.) – rare (< 20 combined)\n",
    "\n",
    "### Engine Type Descriptions:\n",
    "| Engine Type      | Description |\n",
    "|------------------|-------------|\n",
    "| **Reciprocating** | Piston-driven engine similar to car engines. Common in small aircraft and general aviation. Typically low-power and uses 1–2 engines. |\n",
    "| **Turbo Fan**     | Jet engine with a fan in front. Common in modern airliners and high-performance jets. Usually 2+ engines. |\n",
    "| **Turbo Shaft**   | Jet engine used in helicopters. Drives a shaft to power rotors. |\n",
    "| **Turbo Prop**    | Jet-powered engine that turns a propeller. Used in small commuter aircraft and bush planes. Typically 1 or 2 engines. |\n",
    "| **Turbo Jet**     | Old-style pure jet engines, mostly found in vintage or military aircraft. Rare today. |\n",
    "| **Electric**      | Found in experimental or very light sport aircraft. Emerging technology. |\n",
    "| **Hybrid Rocket / LR / NONE / UNK** | Rare or placeholder values. Likely data inconsistencies or experimental craft. |\n",
    "\n",
    "### Reasoning Behind Imputation:\n",
    "\n",
    "The data shows that the vast majority of aircraft use **Reciprocating** engines. Given that most aircraft in the dataset also have a single engine and fall within the general aviation category, it is statistically and contextually reasonable to impute the missing values with **'Reciprocating'**.\n",
    "\n",
    "This assumption avoids significant bias and aligns with the observed distribution, supported by both the dataset and basic domain knowledge about aircraft engine types.\n"
   ]
  },
  {
   "cell_type": "code",
   "execution_count": 55,
   "id": "f257175b",
   "metadata": {},
   "outputs": [
    {
     "data": {
      "text/plain": [
       "array(['Reciprocating', nan, 'Turbo Fan', 'Turbo Shaft', 'Unknown',\n",
       "       'Turbo Prop', 'Turbo Jet', 'Electric', 'Hybrid Rocket', 'LR',\n",
       "       'NONE', 'UNK'], dtype=object)"
      ]
     },
     "execution_count": 55,
     "metadata": {},
     "output_type": "execute_result"
    }
   ],
   "source": [
    "us_data['engine_type'].unique()"
   ]
  },
  {
   "cell_type": "code",
   "execution_count": 56,
   "id": "3ddcb668",
   "metadata": {},
   "outputs": [
    {
     "data": {
      "text/plain": [
       "np.int64(3042)"
      ]
     },
     "execution_count": 56,
     "metadata": {},
     "output_type": "execute_result"
    }
   ],
   "source": [
    "us_data['engine_type'].isna().sum()"
   ]
  },
  {
   "cell_type": "code",
   "execution_count": 57,
   "id": "ed736b74",
   "metadata": {},
   "outputs": [
    {
     "data": {
      "text/plain": [
       "engine_type\n",
       "Reciprocating    68507\n",
       "Turbo Shaft       3331\n",
       "Turbo Prop        3206\n",
       "Turbo Fan         2094\n",
       "Unknown           1385\n",
       "Turbo Jet          667\n",
       "Electric            10\n",
       "LR                   2\n",
       "NONE                 2\n",
       "Hybrid Rocket        1\n",
       "UNK                  1\n",
       "Name: count, dtype: int64"
      ]
     },
     "execution_count": 57,
     "metadata": {},
     "output_type": "execute_result"
    }
   ],
   "source": [
    "us_data['engine_type'].value_counts()"
   ]
  },
  {
   "cell_type": "code",
   "execution_count": 58,
   "id": "754a0ce7",
   "metadata": {},
   "outputs": [
    {
     "name": "stderr",
     "output_type": "stream",
     "text": [
      "/var/folders/0v/036y_w3j0cj0nq2z_v6pl7tw0000gn/T/ipykernel_3005/3769255624.py:3: FutureWarning: \n",
      "\n",
      "Passing `palette` without assigning `hue` is deprecated and will be removed in v0.14.0. Assign the `x` variable to `hue` and set `legend=False` for the same effect.\n",
      "\n",
      "  sns.countplot(data=us_data, x='engine_type', order=us_data['engine_type'].value_counts().index,palette='Blues_d', edgecolor='black')\n"
     ]
    },
    {
     "data": {
      "image/png": "[encoded data removed]",
      "text/plain": [
       "<Figure size 1200x600 with 1 Axes>"
      ]
     },
     "metadata": {},
     "output_type": "display_data"
    }
   ],
   "source": [
    "\n",
    "plt.figure(figsize=(12, 6))\n",
    "\n",
    "sns.countplot(data=us_data, x='engine_type', order=us_data['engine_type'].value_counts().index,palette='Blues_d', edgecolor='black')    \n",
    "          \n",
    "mode_val = us_data['engine_type'].mode()[0]\n",
    "plt.axhline(us_data['engine_type'].value_counts().max(), color='green', linestyle='--',label=f'Mode: {mode_val}', linewidth=2)\n",
    "            \n",
    "plt.title('Distribution of Engine Type')\n",
    "plt.xlabel('Engine Type')\n",
    "plt.ylabel('Number of Aircrafts')\n",
    "plt.xticks(rotation=45, ha='right')\n",
    "plt.legend()\n",
    "plt.tight_layout()\n",
    "plt.show()\n"
   ]
  },
  {
   "cell_type": "code",
   "execution_count": 59,
   "id": "6fe8ea78",
   "metadata": {},
   "outputs": [],
   "source": [
    "us_data['engine_type'] = us_data['engine_type'].fillna('Reciprocating')\n",
    "us_data['engine_type'] = us_data['engine_type'].str.replace(r'\\s+', '-', regex=True).astype('string').str.upper()"
   ]
  },
  {
   "cell_type": "markdown",
   "id": "9997f18c",
   "metadata": {},
   "source": [
    "##  FAR DESCRIPTION\n",
    "\n",
    "The `far_description` column shows the FAA regulation under which each flight was operated. It’s an important feature for identifying the operational context—whether the flight was general aviation, commercial, agricultural, or something else entirely.\n",
    "\n",
    "###  Cleaning Process\n",
    "\n",
    "This column was messy—some entries were full descriptions like `\"Part 91: General Aviation\"` while others were shorthand like `\"091\"`. I created a mapping that standardized everything into clean, consistent categories such as `\"Part 91\"`, `\"Part 135\"`, and so on.\n",
    "\n",
    "For example:\n",
    "- `\"091\"`, `\"091K\"`, and `\"Part 91F: Special Flt Ops.\"` were all mapped to `\"Part 91\"`\n",
    "- `\"PUBU\"`, `\"Public Use\"`, and `\"Public Aircraft\"` were grouped under `\"Public Use\"`\n",
    "- Military designations like `\"NUSC\"`, `\"NUSN\"`, and `\"ARMF\"` became `\"Military\"`\n",
    "\n",
    "I applied this mapping directly on the original `far_description` \n",
    "\n",
    "###  What about the missing values?\n",
    "\n",
    "Originally, this column had **over 54,000 missing values**, which is a huge chunk out of the ~82,000 rows. I wanted to reduce that in a meaningful way without introducing bias. Here's what I did:\n",
    "\n",
    "1. I built a reference map using the most frequent aircraft `make` and `model` combinations that already had valid `far_description` values.\n",
    "2. Then, for each row that was still missing, I tried to infer the `far_description` based on its `make_model` or just the `make` if the combo wasn’t in the map.\n",
    "3. If I couldn’t infer anything confidently, I left it as `'Unknown'`.\n",
    "\n",
    "This brought the missing count down to **14,165**, which is a significant improvement.\n",
    "\n",
    "### Further Explanations\n",
    "\n",
    "To make this column easier to interpret, I added a new column called `far_description_explained` with short descriptions for each FAR Part. Here’s a quick breakdown of what each part means:\n",
    "\n",
    "| FAR Part | Description |\n",
    "|----------|-------------|\n",
    "| Part 91  | General Operating and Flight Rules – covers non-commercial (general aviation) flights. |\n",
    "| Part 121 | Air Carrier Operations – for scheduled commercial airlines and large aircraft. |\n",
    "| Part 135 | Commuter and On-Demand Operations – includes air taxis, charter flights, small cargo. |\n",
    "| Part 137 | Agricultural Aircraft Operations – crop dusting, aerial application, etc. |\n",
    "| Part 129 | Foreign Air Carriers – operations of foreign airlines in U.S. airspace. |\n",
    "| Part 133 | Rotorcraft External Load – operations involving lifting external loads with helicopters. |\n",
    "| Part 125 | Large Aircraft Non-Commercial – 20+ passengers or over 6,000 lbs not under Part 121. |\n",
    "| Part 103 | Ultralight Vehicles – very small, lightweight aircraft; no license required. |\n",
    "| Part 107 | Commercial Drone Operations – rules for unmanned aerial systems (UAS). |\n",
    "| Public Use | Government-operated or military aircraft not under civil FARs. |\n",
    "| Military | Military aircraft operations (Navy, Army, or Defense-related). |\n",
    "| Other | Other classifications or uncategorized FAA rules (e.g., Part 437 - experimental). |\n",
    "| Unknown | No applicable FAR identified or insufficient data. |\n",
    "\n",
    "### Conclusion \n",
    "This feature was tricky to clean, but using aircraft characteristics for guided imputation helped reduce the noise without making wild guesses. The added explanation column also helps give this variable real interpretive power in my analysis.\n"
   ]
  },
  {
   "cell_type": "code",
   "execution_count": 60,
   "id": "23df86a5",
   "metadata": {},
   "outputs": [
    {
     "data": {
      "text/plain": [
       "np.int64(54023)"
      ]
     },
     "execution_count": 60,
     "metadata": {},
     "output_type": "execute_result"
    }
   ],
   "source": [
    "us_data['far_description'].isna().sum()"
   ]
  },
  {
   "cell_type": "code",
   "execution_count": 61,
   "id": "2dd9a77d",
   "metadata": {},
   "outputs": [
    {
     "data": {
      "text/plain": [
       "array([nan, 'Part 129: Foreign', 'Part 91: General Aviation',\n",
       "       'Part 135: Air Taxi & Commuter', 'Part 125: 20+ Pax,6000+ lbs',\n",
       "       'Part 121: Air Carrier', 'Part 137: Agricultural',\n",
       "       'Part 133: Rotorcraft Ext. Load', 'Unknown',\n",
       "       'Part 91F: Special Flt Ops.', 'Public Aircraft', 'Public Use',\n",
       "       'Part 91 Subpart K: Fractional', '091', '135', '121', '137', '133',\n",
       "       '091K', '129', 'PUBU', 'NUSC', 'ARMF', 'UNK', '103', '125', 'NUSN',\n",
       "       '437', '107'], dtype=object)"
      ]
     },
     "execution_count": 61,
     "metadata": {},
     "output_type": "execute_result"
    }
   ],
   "source": [
    "us_data['far_description'].unique()\n"
   ]
  },
  {
   "cell_type": "code",
   "execution_count": 62,
   "id": "9ac4deb7",
   "metadata": {},
   "outputs": [],
   "source": [
    "far_description_map = {\n",
    "    '091': 'Part 91',\n",
    "    'Part 91: General Aviation': 'Part 91',\n",
    "    '091K': 'Part 91',\n",
    "    'Part 91 Subpart K: Fractional': 'Part 91',\n",
    "    'Part 91F: Special Flt Ops.': 'Part 91',\n",
    "\n",
    "    '135': 'Part 135',\n",
    "    'Part 135: Air Taxi & Commuter': 'Part 135',\n",
    "\n",
    "    '121': 'Part 121',\n",
    "    'Part 121: Air Carrier': 'Part 121',\n",
    "\n",
    "    '137': 'Part 137',\n",
    "    'Part 137: Agricultural': 'Part 137',\n",
    "\n",
    "    '129': 'Part 129',\n",
    "    'Part 129: Foreign': 'Part 129',\n",
    "\n",
    "    '133': 'Part 133',\n",
    "    'Part 133: Rotorcraft Ext. Load': 'Part 133',\n",
    "\n",
    "    '125': 'Part 125',\n",
    "    'Part 125: 20+ Pax,6000+ lbs': 'Part 125',\n",
    "\n",
    "    '103': 'Part 103',\n",
    "    '107': 'Part 107',\n",
    "    '437': 'Other',\n",
    "\n",
    "    'PUBU': 'Public Use',\n",
    "    'Public Use': 'Public Use',\n",
    "    'Public Aircraft': 'Public Use',\n",
    "\n",
    "    'NUSC': 'Military',\n",
    "    'NUSN': 'Military',\n",
    "    'ARMF': 'Military',\n",
    "\n",
    "    'UNK': 'Unknown',\n",
    "    'Unknown': 'Unknown',\n",
    "    'nan': 'Unknown',\n",
    "}\n",
    "\n",
    "us_data['far_description'] = us_data['far_description'].replace(far_description_map)"
   ]
  },
  {
   "cell_type": "code",
   "execution_count": 63,
   "id": "33debe0f",
   "metadata": {},
   "outputs": [],
   "source": [
    "far_part_explanations = {\n",
    "    'Part 91': 'General Operating and Flight Rules – covers non-commercial (general aviation) flights.',\n",
    "    'Part 121': 'Air Carrier Operations – for scheduled commercial airlines and large aircraft.',\n",
    "    'Part 135': 'Commuter and On-Demand Operations – includes air taxis, charter flights, small cargo.',\n",
    "    'Part 137': 'Agricultural Aircraft Operations – crop dusting, aerial application, etc.',\n",
    "    'Part 129': 'Foreign Air Carriers – operations of foreign airlines in U.S. airspace.',\n",
    "    'Part 133': 'Rotorcraft External Load – operations involving lifting external loads with helicopters.',\n",
    "    'Part 125': 'Large Aircraft Non-Commercial – 20+ passengers or over 6,000 lbs not under Part 121.',\n",
    "    'Part 103': 'Ultralight Vehicles – very small, lightweight aircraft; no license required.',\n",
    "    'Part 107': 'Commercial Drone Operations – rules for unmanned aerial systems (UAS).',\n",
    "    'Public Use': 'Government-operated or military aircraft not under civil FARs.',\n",
    "    'Military': 'Military aircraft operations (Navy, Army, or Defense-related).',\n",
    "    'Other': 'Other classifications or uncategorized FAA rules (e.g., Part 437 - experimental).',\n",
    "    'Unknown': 'No applicable FAR identified or insufficient data.'\n",
    "}\n",
    "\n",
    "\n",
    "\n",
    "us_data['far_description_explained'] = us_data['far_description'].map(far_part_explanations)\n"
   ]
  },
  {
   "cell_type": "code",
   "execution_count": 64,
   "id": "ea53fc14",
   "metadata": {},
   "outputs": [],
   "source": [
    "far_infer_map = {\n",
    "    'CESSNA': 'Part 91',\n",
    "    'PIPER': 'Part 91',\n",
    "    'BEECH': 'Part 91',\n",
    "    'BOEING': 'Part 121',\n",
    "    'MCDONNELL-DOUGLAS': 'Part 121',\n",
    "    'BELL': 'Part 135',\n",
    "    'AIR-TRACTOR': 'Part 137',\n",
    "    'GRUMMAN_G-164A': 'Part 137',\n",
    "    'PIPER_PA-18': 'Part 137',\n",
    "    'ROBINSON': 'Part 91',\n",
    "    'HUGHES': 'Part 91',\n",
    "    'SCHWEIZER': 'Part 91',\n",
    "    'MAULE': 'Part 91',\n",
    "    'CHAMPION': 'Part 91',\n",
    "    'MOONEY': 'Part 91',\n",
    "    'STINSON': 'Part 91',\n",
    "    'AERONCA': 'Part 91',\n",
    "    'TAYLORCRAFT': 'Part 91',\n",
    "    'LUSCOMBE': 'Part 91',\n",
    "}\n",
    "\n",
    "def infer_far(row):\n",
    "    if pd.notna(row['far_description']):\n",
    "        return row['far_description']\n",
    "    \n",
    "    key = f\"{row['aircraft_make']}_{row['aircraft_model']}\"\n",
    "    if key in far_infer_map:\n",
    "        return far_infer_map[key]\n",
    "    \n",
    "    if row['aircraft_make'] in far_infer_map:\n",
    "        return far_infer_map[row['aircraft_make']]\n",
    "    return 'Unknown'\n",
    " \n",
    "\n",
    "us_data['far_description'] = us_data.apply(infer_far, axis=1)\n",
    "us_data['far_description_explained'] = us_data['far_description'].map(far_part_explanations)\n"
   ]
  },
  {
   "cell_type": "code",
   "execution_count": 65,
   "id": "8d7ea729",
   "metadata": {},
   "outputs": [
    {
     "data": {
      "text/plain": [
       "event_id                         0\n",
       "investigation_type               0\n",
       "accident_number                  0\n",
       "event_date                       0\n",
       "location                         0\n",
       "country                          0\n",
       "injury_severity                  0\n",
       "aircraft_damage                  0\n",
       "aircraft_category                0\n",
       "registration_number              0\n",
       "aircraft_make                    0\n",
       "aircraft_model                   0\n",
       "amateur_built                    0\n",
       "number_of_engines                0\n",
       "engine_type                      0\n",
       "far_description                  0\n",
       "schedule_type                71951\n",
       "purpose_of_flight             2429\n",
       "air_carrier                  67753\n",
       "fatal_injuries               10654\n",
       "serious_injuries             11375\n",
       "minor_injuries               10729\n",
       "uninjured                     5005\n",
       "weather_condition              645\n",
       "phase_of_flight              21090\n",
       "report_status                 2611\n",
       "publication_date             12681\n",
       "city                             0\n",
       "state                            0\n",
       "state_full                       0\n",
       "injury_severity_clean            0\n",
       "far_description_explained        0\n",
       "dtype: int64"
      ]
     },
     "execution_count": 65,
     "metadata": {},
     "output_type": "execute_result"
    }
   ],
   "source": [
    "us_data.isna().sum()"
   ]
  },
  {
   "cell_type": "markdown",
   "id": "0d69049e",
   "metadata": {},
   "source": [
    "## SCHEDULE TYPE\n",
    "\n",
    "While exploring the `schedule_type` column, I noticed that it had a few standardized values:\n",
    "\n",
    "- `SCHD` — Scheduled  \n",
    "- `NSCH` — Non-Scheduled  \n",
    "- `UNK` — Unknown  \n",
    "- And a significant number of **missing entries**\n",
    "\n",
    "Since `schedule_type` is conceptually linked to the **Federal Aviation Regulations (FAR)** listed under the `far_description` column, I decided to bridge the two. I created a mapping (`far_to_schedule_map`) that assigns a typical scheduling type to each FAR part based on standard regulatory usage:\n",
    "\n",
    "- **Part 121** generally corresponds to **scheduled commercial operations** → `SCHD`\n",
    "- **Part 135** is typically used for **non-scheduled or charter services** → `NSCH`\n",
    "- Other parts, like **Part 91** or **Public Use**, often involve **non-commercial general aviation**, so I defaulted them to → `UNK`\n",
    "\n",
    "To impute the missing values while avoiding bias, I implemented a simple logic:\n",
    "\n",
    "-  If the original `schedule_type` was present, I retained it.  \n",
    "-  If it was missing, I inferred the value using `far_description`.  \n",
    "-  If no FAR match was found, I conservatively assigned `UNK`.\n",
    "\n",
    "This approach gave me a more complete and logically consistent understanding of the scheduling context behind each aircraft operation, while keeping the data as unbiased and explainable as possible.\n"
   ]
  },
  {
   "cell_type": "code",
   "execution_count": 66,
   "id": "45101090",
   "metadata": {},
   "outputs": [
    {
     "data": {
      "text/plain": [
       "array([nan, 'SCHD', 'NSCH', 'UNK'], dtype=object)"
      ]
     },
     "execution_count": 66,
     "metadata": {},
     "output_type": "execute_result"
    }
   ],
   "source": [
    "us_data['schedule_type'].unique()"
   ]
  },
  {
   "cell_type": "code",
   "execution_count": 67,
   "id": "74e2ee7f",
   "metadata": {},
   "outputs": [],
   "source": [
    "far_to_schedule_map = {\n",
    "    'Part 121': 'SCHD',       \n",
    "    'Part 135': 'NSCH',        \n",
    "    'Part 91': 'NSCH',         \n",
    "    'Part 137': 'NSCH',        \n",
    "    'Part 129': 'SCHD',       \n",
    "    'Part 133': 'NSCH',        \n",
    "    'Part 125': 'SCHD',       \n",
    "    'Part 103': 'NSCH',        \n",
    "    'Part 107': 'NSCH',       \n",
    "    'Public Use': 'NSCH',      \n",
    "    'Military': 'NSCH',        \n",
    "    'Other': 'UNK',\n",
    "    'Unknown': 'UNK'\n",
    "}\n",
    "def get_schedule_type(row):\n",
    "    if pd.notna(row['schedule_type']):\n",
    "        return row['schedule_type']\n",
    "    \n",
    "    far = row['far_description']\n",
    "    if far in far_to_schedule_map:\n",
    "        return far_to_schedule_map[far]\n",
    "    \n",
    "    return 'UNK'\n",
    "\n",
    "us_data['schedule_type'] = us_data.apply(get_schedule_type, axis=1)\n"
   ]
  },
  {
   "cell_type": "markdown",
   "id": "1d6fc22b",
   "metadata": {},
   "source": [
    "## PURPOSE OF FLIGHT\n",
    "\n",
    "The `purpose_of_flight` column is quite self-explanatory — it describes why the aircraft was in operation during the incident (Personal, Business, Instructional, Aerial Application)\n",
    "\n",
    "There were only **2,429 missing values**, which is relatively minor given the dataset size.\n",
    "\n",
    "To prepare this column for analysis:\n",
    "\n",
    "-  I **standardized** all string values to **uppercase** for consistency (e.g., \"personal\" → \"PERSONAL\").\n",
    "- For the missing entries, I assigned the value **\"UNKNOWN\"** to maintain uniformity and avoid introducing assumptions.\n",
    "\n",
    "This ensures cleaner grouping during analysis and avoids confusion caused by inconsistent casing or missing values.\n"
   ]
  },
  {
   "cell_type": "code",
   "execution_count": 68,
   "id": "810814e1",
   "metadata": {},
   "outputs": [
    {
     "data": {
      "text/plain": [
       "array(['Personal', nan, 'Business', 'Instructional', 'Unknown', 'Ferry',\n",
       "       'Executive/corporate', 'Aerial Observation', 'Aerial Application',\n",
       "       'Public Aircraft', 'Skydiving', 'Other Work Use', 'Positioning',\n",
       "       'Flight Test', 'Air Race/show', 'Air Drop', 'Glider Tow',\n",
       "       'Public Aircraft - Federal', 'Public Aircraft - Local',\n",
       "       'External Load', 'Public Aircraft - State', 'Banner Tow',\n",
       "       'Firefighting', 'Air Race show', 'PUBS', 'ASHO', 'PUBL'],\n",
       "      dtype=object)"
      ]
     },
     "execution_count": 68,
     "metadata": {},
     "output_type": "execute_result"
    }
   ],
   "source": [
    "us_data['purpose_of_flight'].unique()"
   ]
  },
  {
   "cell_type": "code",
   "execution_count": 69,
   "id": "6a621e55",
   "metadata": {},
   "outputs": [],
   "source": [
    "us_data['purpose_of_flight'] = (\n",
    "    us_data['purpose_of_flight']\n",
    "    .fillna('UNKNOWN')\n",
    "    .astype(str)\n",
    "    .str.strip()\n",
    "    .str.replace(r'[-\\s]+', '-', regex=True)\n",
    "    .str.upper()\n",
    ")\n",
    "\n"
   ]
  },
  {
   "cell_type": "markdown",
   "id": "b7e5de9d",
   "metadata": {},
   "source": [
    "## AIR CARRIER \n",
    "In aviation datasets, the air_carrier field (when present) typically refers to the name of the airline or operating company\n",
    "the column has nearly 60% + missing values and it little analytical value to my analysis\n",
    "(i actually did not research much LOL!)\n",
    "otherwise i will just drop it and move\n"
   ]
  },
  {
   "cell_type": "code",
   "execution_count": 70,
   "id": "46a77e77",
   "metadata": {},
   "outputs": [],
   "source": [
    "us_data.drop(columns='air_carrier', inplace=True)\n"
   ]
  },
  {
   "cell_type": "markdown",
   "id": "194702fa",
   "metadata": {},
   "source": [
    "### Injury Data Analysis and Ethical Considerations\n",
    "\n",
    "In handling the columns `total_fatal_injuries`, `total_serious_injuries`, `total_minor_injuries`, and `total_uninjured`, I exercised caution due to the sensitive nature of the data. These fields represent human outcomes from aviation accidents and align with NTSB and ICAO injury classification standards:\n",
    "\n",
    "- **Fatal**: Death within 30 days of the accident  \n",
    "- **Serious**: Hospitalization >48 hours, internal injuries, fractures, etc.  \n",
    "- **Minor**: Injuries requiring treatment but not classified as serious  \n",
    "- **Uninjured**: On board but unharmed\n",
    "\n",
    "Given that many entries are missing or incomplete, I deliberately chose **not to impute or aggregate** values in these columns. Missing injury data is retained as `NaN`, preserving the original form of the dataset and avoiding any assumptions about real-world events.\n",
    "\n",
    "This approach maintains analytical integrity, avoids introducing bias, and aligns with ethical best practices when working with data related to human lives.\n",
    "\n",
    "Where needed, I created an auxiliary column to calculate the total number of people affected per incident, which will be useful for broader safety trend evaluations. I also included an optional flag column that indicates whether any injury data is available for each record, without modifying the original fields.\n"
   ]
  },
  {
   "cell_type": "code",
   "execution_count": 71,
   "id": "c747574d",
   "metadata": {},
   "outputs": [],
   "source": [
    "us_data['total_individuals_affected'] = us_data[\n",
    "    ['fatal_injuries', 'serious_injuries', 'minor_injuries', 'uninjured']\n",
    "].sum(axis=1, skipna=True)\n",
    "\n",
    "us_data['injury_data_reported'] = us_data[\n",
    "    ['fatal_injuries', 'serious_injuries', 'minor_injuries', 'uninjured']\n",
    "].notna().any(axis=1)\n"
   ]
  },
  {
   "cell_type": "markdown",
   "id": "15770bfc",
   "metadata": {},
   "source": [
    "## Phase of Flight\n",
    "\n",
    "The `phase_of_flight` column indicates the stage of the flight during which the accident occurred—such as takeoff, en route, landing, etc. While this data could offer valuable insights, I chose to exclude it from my analysis for several reasons:\n",
    "\n",
    "- Over **25% of the values are missing** (~21,000 records), making it difficult to rely on this field without introducing bias or assumptions.\n",
    "- I do **not have supporting data** such as mechanical logs, black box transcripts, or incident timelines that would allow for safe and meaningful inference of missing values.\n",
    "- From an analytical standpoint, the **`aircraft_damage`** column already provides a clearer, more objective measure of the accident's severity, regardless of when it happened during the flight.\n",
    "- Finally, drawing conclusions like \"this model has frequent landing issues\" would require a **much richer dataset** that includes flight hours, routes, maintenance reports, and contextual incident logs, none of which are present in this dataset.\n",
    "\n",
    "Given these limitations, I dropped the column to keep the dataset clean and focused\n",
    "\n"
   ]
  },
  {
   "cell_type": "code",
   "execution_count": 72,
   "id": "81238289",
   "metadata": {},
   "outputs": [],
   "source": [
    "us_data.drop(columns=['phase_of_flight'], inplace=True)"
   ]
  },
  {
   "cell_type": "markdown",
   "id": "27fa9c14",
   "metadata": {},
   "source": [
    "## WEATHER CONDITIONS\n",
    "\n",
    "The `weather_condition` column contains categorical values that describe the flight’s meteorological environment at the time of the accident. It uses the standard aviation terms:\n",
    "\n",
    "- **VMC (Visual Meteorological Conditions)** – clear enough for visual navigation.\n",
    "- **IMC (Instrument Meteorological Conditions)** – poor visibility, requiring instrument-based flight.\n",
    "- **UNK (Unknown)** – weather conditions were not determined or recorded.\n",
    "\n",
    "There were only a small number of missing values (645), and a few inconsistencies like `'Unk'` instead of `'UNK'`.\n",
    "\n",
    "To prepare this column for analysis:\n",
    "- I standardized all values to uppercase.\n",
    "- I replaced inconsistent labels (like `'Unk'`) with `'UNK'`.\n",
    "- I filled missing values with `'UNK'` to ensure consistency.\n",
    "\n"
   ]
  },
  {
   "cell_type": "code",
   "execution_count": 73,
   "id": "13826cc0",
   "metadata": {},
   "outputs": [
    {
     "data": {
      "text/plain": [
       "array(['UNK', 'IMC', 'VMC', nan, 'Unk'], dtype=object)"
      ]
     },
     "execution_count": 73,
     "metadata": {},
     "output_type": "execute_result"
    }
   ],
   "source": [
    "us_data['weather_condition'].unique()"
   ]
  },
  {
   "cell_type": "code",
   "execution_count": 74,
   "id": "064a8e9c",
   "metadata": {},
   "outputs": [],
   "source": [
    "us_data['weather_condition'] = us_data['weather_condition'].str.upper().replace({'UNK': 'UNK', 'UNKN': 'UNK'})\n",
    "us_data['weather_condition'] = us_data['weather_condition'].fillna('UNK')"
   ]
  },
  {
   "cell_type": "markdown",
   "id": "8a4da6a2",
   "metadata": {},
   "source": [
    "## REPORT STATUS\n",
    "\n",
    "The `report_status` column indicates the investigative stage or status of the NTSB accident report. Upon review, I discovered that while many values were valid (`\"Probable Cause\"`, `\"Factual\"`, `\"Preliminary\"`), others were improperly stored narrative summaries.\n",
    "\n",
    "To clean this column:\n",
    "\n",
    "- I retained only the known valid report stages, each with its respective meaning:\n",
    "\n",
    "  - **Preliminary**: An early-stage summary issued shortly after the incident, based on initial findings.\n",
    "  - **Factual**: A more detailed report outlining all the objective evidence without concluding on the cause.\n",
    "  - **Probable Cause**: The final report identifying the likely cause(s) of the accident, issued after full investigation.\n",
    "  - **Foreign**: Indicates that the investigation was conducted by a foreign authority, often for incidents outside U.S. jurisdiction.\n",
    "  - **Pending**: A placeholder indicating that the investigation is ongoing and no preliminary or final report has yet been issued.\n",
    "\n",
    "- Any entry not matching these values (including full accident narratives accidentally placed in this column) was classified as `Unknown`.\n",
    "\n",
    "This cleaning step ensures consistency in the `report_status` classification and preserves the integrity of the analysis by eliminating misaligned or non-standard entries.\n"
   ]
  },
  {
   "cell_type": "code",
   "execution_count": 75,
   "id": "75b49566",
   "metadata": {},
   "outputs": [
    {
     "data": {
      "text/plain": [
       "array(['Probable Cause', 'Factual', 'Preliminary', ...,\n",
       "       'The pilot did not ensure adequate clearance from construction vehicles during taxi.',\n",
       "       'The pilot\\x92s failure to secure the magneto switch before attempting to hand rotate the engine which resulted in an inadvertent engine start, a runaway airplane, and subsequent impact with parked airplanes. Contributing to the accident was the failure to properly secure the airplane with chocks.',\n",
       "       'The pilot\\x92s loss of control due to a wind gust during landing.'],\n",
       "      dtype=object)"
      ]
     },
     "execution_count": 75,
     "metadata": {},
     "output_type": "execute_result"
    }
   ],
   "source": [
    "us_data['report_status'].unique()"
   ]
  },
  {
   "cell_type": "code",
   "execution_count": 76,
   "id": "d051393f",
   "metadata": {},
   "outputs": [],
   "source": [
    "valid_statuses = ['Probable Cause', 'Factual', 'Preliminary', 'Foreign', 'Pending']\n",
    "\n",
    "us_data['report_status'] = us_data['report_status'].where(\n",
    "    us_data['report_status'].isin(valid_statuses),\n",
    "    'Unknown'\n",
    ")"
   ]
  },
  {
   "cell_type": "markdown",
   "id": "63e0579a",
   "metadata": {},
   "source": [
    "## PUBLICATION DATE\n",
    "\n",
    "did not research and i just dropped it"
   ]
  },
  {
   "cell_type": "code",
   "execution_count": 77,
   "id": "aed5abb2",
   "metadata": {},
   "outputs": [],
   "source": [
    "us_data.drop(columns=['publication_date'], inplace=True)"
   ]
  },
  {
   "cell_type": "markdown",
   "id": "4e21c57d",
   "metadata": {},
   "source": [
    "## CLEANING THE DATE\n"
   ]
  },
  {
   "cell_type": "code",
   "execution_count": 78,
   "id": "5f61ae15",
   "metadata": {},
   "outputs": [],
   "source": [
    "us_data['event_date'] = pd.to_datetime(us_data['event_date'], errors='coerce')"
   ]
  },
  {
   "cell_type": "markdown",
   "id": "5f184877",
   "metadata": {},
   "source": [
    "## CLEANING AND STANDARDIZING THE INVESTIGATION TYPE"
   ]
  },
  {
   "cell_type": "code",
   "execution_count": 79,
   "id": "a0415da5",
   "metadata": {},
   "outputs": [],
   "source": [
    "us_data['investigation_type'] = us_data['investigation_type'].str.strip().str.upper()"
   ]
  },
  {
   "cell_type": "markdown",
   "id": "4876a0c3",
   "metadata": {},
   "source": [
    "## CLEANING AND STANDARDIZING THE INVESTIGATION TYPE"
   ]
  },
  {
   "cell_type": "code",
   "execution_count": 80,
   "id": "b646ca94",
   "metadata": {},
   "outputs": [],
   "source": [
    "us_data['country'] = us_data['country'].str.strip().str.upper()"
   ]
  },
  {
   "cell_type": "markdown",
   "id": "2bde2801",
   "metadata": {},
   "source": [
    "## Removing Duplicates\n",
    "\n",
    "To ensure data quality and avoid skewing the analysis with redundant entries, I removed all exact duplicate rows from the dataset. This step guarantees that each incident is represented only once.\n",
    "\n",
    "I used `drop_duplicates()` to identify and eliminate duplicate entries. A count of removed rows was displayed to track the cleanup process.\n"
   ]
  },
  {
   "cell_type": "code",
   "execution_count": 81,
   "id": "45f41a1b",
   "metadata": {},
   "outputs": [
    {
     "name": "stdout",
     "output_type": "stream",
     "text": [
      "Dropped 0 duplicate rows.\n"
     ]
    }
   ],
   "source": [
    "before = us_data.shape[0]\n",
    "us_data.drop_duplicates(inplace=True)\n",
    "after = us_data.shape[0]\n",
    "print(f\"Dropped {before - after} duplicate rows.\")\n"
   ]
  },
  {
   "cell_type": "code",
   "execution_count": 82,
   "id": "2ed8335f",
   "metadata": {},
   "outputs": [
    {
     "data": {
      "text/plain": [
       "Index(['event_id', 'investigation_type', 'accident_number', 'event_date',\n",
       "       'location', 'country', 'injury_severity', 'aircraft_damage',\n",
       "       'aircraft_category', 'registration_number', 'aircraft_make',\n",
       "       'aircraft_model', 'amateur_built', 'number_of_engines', 'engine_type',\n",
       "       'far_description', 'schedule_type', 'purpose_of_flight',\n",
       "       'fatal_injuries', 'serious_injuries', 'minor_injuries', 'uninjured',\n",
       "       'weather_condition', 'report_status', 'city', 'state', 'state_full',\n",
       "       'injury_severity_clean', 'far_description_explained',\n",
       "       'total_individuals_affected', 'injury_data_reported'],\n",
       "      dtype='object')"
      ]
     },
     "execution_count": 82,
     "metadata": {},
     "output_type": "execute_result"
    }
   ],
   "source": [
    "us_data.columns"
   ]
  },
  {
   "cell_type": "code",
   "execution_count": 83,
   "id": "070bfb5a",
   "metadata": {},
   "outputs": [
    {
     "data": {
      "text/html": [
       "<div>\n",
       "<style scoped>\n",
       "    .dataframe tbody tr th:only-of-type {\n",
       "        vertical-align: middle;\n",
       "    }\n",
       "\n",
       "    .dataframe tbody tr th {\n",
       "        vertical-align: top;\n",
       "    }\n",
       "\n",
       "    .dataframe thead th {\n",
       "        text-align: right;\n",
       "    }\n",
       "</style>\n",
       "<table border=\"1\" class=\"dataframe\">\n",
       "  <thead>\n",
       "    <tr style=\"text-align: right;\">\n",
       "      <th></th>\n",
       "      <th>event_id</th>\n",
       "      <th>investigation_type</th>\n",
       "      <th>accident_number</th>\n",
       "      <th>event_date</th>\n",
       "      <th>location</th>\n",
       "      <th>country</th>\n",
       "      <th>injury_severity</th>\n",
       "      <th>aircraft_damage</th>\n",
       "      <th>aircraft_category</th>\n",
       "      <th>registration_number</th>\n",
       "      <th>...</th>\n",
       "      <th>uninjured</th>\n",
       "      <th>weather_condition</th>\n",
       "      <th>report_status</th>\n",
       "      <th>city</th>\n",
       "      <th>state</th>\n",
       "      <th>state_full</th>\n",
       "      <th>injury_severity_clean</th>\n",
       "      <th>far_description_explained</th>\n",
       "      <th>total_individuals_affected</th>\n",
       "      <th>injury_data_reported</th>\n",
       "    </tr>\n",
       "  </thead>\n",
       "  <tbody>\n",
       "    <tr>\n",
       "      <th>0</th>\n",
       "      <td>20001218X45444</td>\n",
       "      <td>ACCIDENT</td>\n",
       "      <td>SEA87LA080</td>\n",
       "      <td>1948-10-24</td>\n",
       "      <td>MOOSE CREEK, ID</td>\n",
       "      <td>UNITED STATES</td>\n",
       "      <td>Fatal(2)</td>\n",
       "      <td>DESTROYED</td>\n",
       "      <td>Airplane</td>\n",
       "      <td>NC6404</td>\n",
       "      <td>...</td>\n",
       "      <td>0.0</td>\n",
       "      <td>UNK</td>\n",
       "      <td>Probable Cause</td>\n",
       "      <td>MOOSE CREEK</td>\n",
       "      <td>ID</td>\n",
       "      <td>IDAHO</td>\n",
       "      <td>FATAL</td>\n",
       "      <td>General Operating and Flight Rules – covers no...</td>\n",
       "      <td>2.0</td>\n",
       "      <td>True</td>\n",
       "    </tr>\n",
       "    <tr>\n",
       "      <th>1</th>\n",
       "      <td>20001218X45447</td>\n",
       "      <td>ACCIDENT</td>\n",
       "      <td>LAX94LA336</td>\n",
       "      <td>1962-07-19</td>\n",
       "      <td>BRIDGEPORT, CA</td>\n",
       "      <td>UNITED STATES</td>\n",
       "      <td>Fatal(4)</td>\n",
       "      <td>DESTROYED</td>\n",
       "      <td>Airplane</td>\n",
       "      <td>N5069P</td>\n",
       "      <td>...</td>\n",
       "      <td>0.0</td>\n",
       "      <td>UNK</td>\n",
       "      <td>Probable Cause</td>\n",
       "      <td>BRIDGEPORT</td>\n",
       "      <td>CA</td>\n",
       "      <td>CALIFORNIA</td>\n",
       "      <td>FATAL</td>\n",
       "      <td>General Operating and Flight Rules – covers no...</td>\n",
       "      <td>4.0</td>\n",
       "      <td>True</td>\n",
       "    </tr>\n",
       "    <tr>\n",
       "      <th>2</th>\n",
       "      <td>20061025X01555</td>\n",
       "      <td>ACCIDENT</td>\n",
       "      <td>NYC07LA005</td>\n",
       "      <td>1974-08-30</td>\n",
       "      <td>Saltville, VA</td>\n",
       "      <td>UNITED STATES</td>\n",
       "      <td>Fatal(3)</td>\n",
       "      <td>DESTROYED</td>\n",
       "      <td>Airplane</td>\n",
       "      <td>N5142R</td>\n",
       "      <td>...</td>\n",
       "      <td>NaN</td>\n",
       "      <td>IMC</td>\n",
       "      <td>Probable Cause</td>\n",
       "      <td>SALTVILLE</td>\n",
       "      <td>VA</td>\n",
       "      <td>VIRGINIA</td>\n",
       "      <td>FATAL</td>\n",
       "      <td>General Operating and Flight Rules – covers no...</td>\n",
       "      <td>3.0</td>\n",
       "      <td>True</td>\n",
       "    </tr>\n",
       "    <tr>\n",
       "      <th>3</th>\n",
       "      <td>20001218X45448</td>\n",
       "      <td>ACCIDENT</td>\n",
       "      <td>LAX96LA321</td>\n",
       "      <td>1977-06-19</td>\n",
       "      <td>EUREKA, CA</td>\n",
       "      <td>UNITED STATES</td>\n",
       "      <td>Fatal(2)</td>\n",
       "      <td>DESTROYED</td>\n",
       "      <td>Airplane</td>\n",
       "      <td>N1168J</td>\n",
       "      <td>...</td>\n",
       "      <td>0.0</td>\n",
       "      <td>IMC</td>\n",
       "      <td>Probable Cause</td>\n",
       "      <td>EUREKA</td>\n",
       "      <td>CA</td>\n",
       "      <td>CALIFORNIA</td>\n",
       "      <td>FATAL</td>\n",
       "      <td>No applicable FAR identified or insufficient d...</td>\n",
       "      <td>2.0</td>\n",
       "      <td>True</td>\n",
       "    </tr>\n",
       "    <tr>\n",
       "      <th>4</th>\n",
       "      <td>20041105X01764</td>\n",
       "      <td>ACCIDENT</td>\n",
       "      <td>CHI79FA064</td>\n",
       "      <td>1979-08-02</td>\n",
       "      <td>Canton, OH</td>\n",
       "      <td>UNITED STATES</td>\n",
       "      <td>Fatal(1)</td>\n",
       "      <td>DESTROYED</td>\n",
       "      <td>Airplane</td>\n",
       "      <td>N15NY</td>\n",
       "      <td>...</td>\n",
       "      <td>0.0</td>\n",
       "      <td>VMC</td>\n",
       "      <td>Probable Cause</td>\n",
       "      <td>CANTON</td>\n",
       "      <td>OH</td>\n",
       "      <td>OHIO</td>\n",
       "      <td>FATAL</td>\n",
       "      <td>General Operating and Flight Rules – covers no...</td>\n",
       "      <td>3.0</td>\n",
       "      <td>True</td>\n",
       "    </tr>\n",
       "  </tbody>\n",
       "</table>\n",
       "<p>5 rows × 31 columns</p>\n",
       "</div>"
      ],
      "text/plain": [
       "         event_id investigation_type accident_number event_date  \\\n",
       "0  20001218X45444           ACCIDENT      SEA87LA080 1948-10-24   \n",
       "1  20001218X45447           ACCIDENT      LAX94LA336 1962-07-19   \n",
       "2  20061025X01555           ACCIDENT      NYC07LA005 1974-08-30   \n",
       "3  20001218X45448           ACCIDENT      LAX96LA321 1977-06-19   \n",
       "4  20041105X01764           ACCIDENT      CHI79FA064 1979-08-02   \n",
       "\n",
       "          location        country injury_severity aircraft_damage  \\\n",
       "0  MOOSE CREEK, ID  UNITED STATES        Fatal(2)       DESTROYED   \n",
       "1   BRIDGEPORT, CA  UNITED STATES        Fatal(4)       DESTROYED   \n",
       "2    Saltville, VA  UNITED STATES        Fatal(3)       DESTROYED   \n",
       "3       EUREKA, CA  UNITED STATES        Fatal(2)       DESTROYED   \n",
       "4       Canton, OH  UNITED STATES        Fatal(1)       DESTROYED   \n",
       "\n",
       "  aircraft_category registration_number  ... uninjured weather_condition  \\\n",
       "0          Airplane              NC6404  ...       0.0               UNK   \n",
       "1          Airplane              N5069P  ...       0.0               UNK   \n",
       "2          Airplane              N5142R  ...       NaN               IMC   \n",
       "3          Airplane              N1168J  ...       0.0               IMC   \n",
       "4          Airplane               N15NY  ...       0.0               VMC   \n",
       "\n",
       "    report_status         city state  state_full injury_severity_clean  \\\n",
       "0  Probable Cause  MOOSE CREEK    ID       IDAHO                 FATAL   \n",
       "1  Probable Cause   BRIDGEPORT    CA  CALIFORNIA                 FATAL   \n",
       "2  Probable Cause    SALTVILLE    VA    VIRGINIA                 FATAL   \n",
       "3  Probable Cause       EUREKA    CA  CALIFORNIA                 FATAL   \n",
       "4  Probable Cause       CANTON    OH        OHIO                 FATAL   \n",
       "\n",
       "                           far_description_explained  \\\n",
       "0  General Operating and Flight Rules – covers no...   \n",
       "1  General Operating and Flight Rules – covers no...   \n",
       "2  General Operating and Flight Rules – covers no...   \n",
       "3  No applicable FAR identified or insufficient d...   \n",
       "4  General Operating and Flight Rules – covers no...   \n",
       "\n",
       "   total_individuals_affected  injury_data_reported  \n",
       "0                         2.0                  True  \n",
       "1                         4.0                  True  \n",
       "2                         3.0                  True  \n",
       "3                         2.0                  True  \n",
       "4                         3.0                  True  \n",
       "\n",
       "[5 rows x 31 columns]"
      ]
     },
     "execution_count": 83,
     "metadata": {},
     "output_type": "execute_result"
    }
   ],
   "source": [
    "us_data.head()"
   ]
  },
  {
   "cell_type": "markdown",
   "id": "2e757f3a",
   "metadata": {},
   "source": [
    "## PHASE THREE: EXPLANATORY DATA ANALYSIS\n",
    "The key objectives her is to identify patterns, trends, and risk indicators within aviation accident data to support data-driven decisions for safe and strategic aircraft investments."
   ]
  },
  {
   "cell_type": "code",
   "execution_count": 84,
   "id": "bb923c45",
   "metadata": {},
   "outputs": [
    {
     "data": {
      "text/plain": [
       "Index(['event_id', 'investigation_type', 'accident_number', 'event_date',\n",
       "       'location', 'country', 'injury_severity', 'aircraft_damage',\n",
       "       'aircraft_category', 'registration_number', 'aircraft_make',\n",
       "       'aircraft_model', 'amateur_built', 'number_of_engines', 'engine_type',\n",
       "       'far_description', 'schedule_type', 'purpose_of_flight',\n",
       "       'fatal_injuries', 'serious_injuries', 'minor_injuries', 'uninjured',\n",
       "       'weather_condition', 'report_status', 'city', 'state', 'state_full',\n",
       "       'injury_severity_clean', 'far_description_explained',\n",
       "       'total_individuals_affected', 'injury_data_reported'],\n",
       "      dtype='object')"
      ]
     },
     "execution_count": 84,
     "metadata": {},
     "output_type": "execute_result"
    }
   ],
   "source": [
    "us_data.columns"
   ]
  },
  {
   "cell_type": "markdown",
   "id": "0e61a892",
   "metadata": {},
   "source": [
    "## Univariate Analysis\n",
    "**Goal**: Understand the distribution and composition of key individual features to establish baselines and detect anomalies.\n",
    "\n",
    "**Numerical Columns**:\n",
    "- `event_date`: When the accident occured\n",
    "- `total_individuals_affected`: Assess severity of impact per incident.\n",
    "- `number_of_engines`: Common engine configurations.\n",
    "\n",
    "**Categorical Columns**:\n",
    "\n",
    "- `aircraft_category`: Types of aircraft most frequently involved in incidents.\n",
    "- `engine_type`: Dominant engine technologies and their prevalence.\n",
    "- `schedule_type` & `purpose_of_flight`: Breakdown of usage contexts.\n",
    "- `weather_condition`: Frequency of incidents under VMC vs IMC.\n",
    "- `report_status`: Incident resolution trends.\n",
    "- `amateur_built`: Proportion of non-commercial builds.\n",
    "- `investigation_type`: nature of the accident\n",
    "- `aircraft_damage`: extent of damage on the given craft\n",
    "- `make & Model`: this is self explanatory basically description of the flight\n",
    "- `engine_type`: basically the type of engine\n",
    "\n",
    "\n",
    "----"
   ]
  },
  {
   "cell_type": "markdown",
   "id": "5b9a70e0",
   "metadata": {},
   "source": [
    "1. `event_date`: *what are the trends over time?*"
   ]
  },
  {
   "cell_type": "code",
   "execution_count": 85,
   "id": "264b3d11",
   "metadata": {},
   "outputs": [
    {
     "data": {
      "application/vnd.plotly.v1+json": {
       "config": {
        "plotlyServerURL": "https://plot.ly"
       },
       "data": [
        {
         "hovertemplate": "Year=%{x}<br>Number of Accidents=%{y}<extra></extra>",
         "legendgroup": "",
         "line": {
          "color": "#636efa",
          "dash": "solid"
         },
         "marker": {
          "symbol": "circle"
         },
         "mode": "lines",
         "name": "",
         "orientation": "v",
         "showlegend": false,
         "type": "scatter",
         "x": {
          "bdata": "nAcAAKoHAAC2BwAAuQcAALsHAAC9BwAAvgcAAL8HAADABwAAwQcAAMIHAADDBwAAxAcAAMUHAADGBwAAxwcAAMgHAADJBwAAygcAAMsHAADMBwAAzQcAAM4HAADPBwAA0AcAANEHAADSBwAA0wcAANQHAADVBwAA1gcAANcHAADYBwAA2QcAANoHAADbBwAA3AcAAN0HAADeBwAA3wcAAOAHAADhBwAA4gcAAOMHAADkBwAA5QcAAOYHAAA=",
          "dtype": "i4"
         },
         "xaxis": "x",
         "y": {
          "bdata": "AQABAAEAAQACAAEA7A3EDVoN+gsdC9IKZAq/CaAJZAn1CMoIigimCDoI8AcUCBkI+wdtB1gHmgcABzwHgQYtB60GRAYXBkwGJwYhBSMFIQU+BTMFRQUXBXEEnQTiBA==",
          "dtype": "i2"
         },
         "yaxis": "y"
        }
       ],
       "layout": {
        "font": {
         "size": 14
        },
        "legend": {
         "tracegroupgap": 0
        },
        "margin": {
         "b": 40,
         "l": 50,
         "r": 40,
         "t": 60
        },
        "template": {
         "data": {
          "bar": [
           {
            "error_x": {
             "color": "#2a3f5f"
            },
            "error_y": {
             "color": "#2a3f5f"
            },
            "marker": {
             "line": {
              "color": "white",
              "width": 0.5
             },
             "pattern": {
              "fillmode": "overlay",
              "size": 10,
              "solidity": 0.2
             }
            },
            "type": "bar"
           }
          ],
          "barpolar": [
           {
            "marker": {
             "line": {
              "color": "white",
              "width": 0.5
             },
             "pattern": {
              "fillmode": "overlay",
              "size": 10,
              "solidity": 0.2
             }
            },
            "type": "barpolar"
           }
          ],
          "carpet": [
           {
            "aaxis": {
             "endlinecolor": "#2a3f5f",
             "gridcolor": "#C8D4E3",
             "linecolor": "#C8D4E3",
             "minorgridcolor": "#C8D4E3",
             "startlinecolor": "#2a3f5f"
            },
            "baxis": {
             "endlinecolor": "#2a3f5f",
             "gridcolor": "#C8D4E3",
             "linecolor": "#C8D4E3",
             "minorgridcolor": "#C8D4E3",
             "startlinecolor": "#2a3f5f"
            },
            "type": "carpet"
           }
          ],
          "choropleth": [
           {
            "colorbar": {
             "outlinewidth": 0,
             "ticks": ""
            },
            "type": "choropleth"
           }
          ],
          "contour": [
           {
            "colorbar": {
             "outlinewidth": 0,
             "ticks": ""
            },
            "colorscale": [
             [
              0,
              "#0d0887"
             ],
             [
              0.1111111111111111,
              "#46039f"
             ],
             [
              0.2222222222222222,
              "#7201a8"
             ],
             [
              0.3333333333333333,
              "#9c179e"
             ],
             [
              0.4444444444444444,
              "#bd3786"
             ],
             [
              0.5555555555555556,
              "#d8576b"
             ],
             [
              0.6666666666666666,
              "#ed7953"
             ],
             [
              0.7777777777777778,
              "#fb9f3a"
             ],
             [
              0.8888888888888888,
              "#fdca26"
             ],
             [
              1,
              "#f0f921"
             ]
            ],
            "type": "contour"
           }
          ],
          "contourcarpet": [
           {
            "colorbar": {
             "outlinewidth": 0,
             "ticks": ""
            },
            "type": "contourcarpet"
           }
          ],
          "heatmap": [
           {
            "colorbar": {
             "outlinewidth": 0,
             "ticks": ""
            },
            "colorscale": [
             [
              0,
              "#0d0887"
             ],
             [
              0.1111111111111111,
              "#46039f"
             ],
             [
              0.2222222222222222,
              "#7201a8"
             ],
             [
              0.3333333333333333,
              "#9c179e"
             ],
             [
              0.4444444444444444,
              "#bd3786"
             ],
             [
              0.5555555555555556,
              "#d8576b"
             ],
             [
              0.6666666666666666,
              "#ed7953"
             ],
             [
              0.7777777777777778,
              "#fb9f3a"
             ],
             [
              0.8888888888888888,
              "#fdca26"
             ],
             [
              1,
              "#f0f921"
             ]
            ],
            "type": "heatmap"
           }
          ],
          "histogram": [
           {
            "marker": {
             "pattern": {
              "fillmode": "overlay",
              "size": 10,
              "solidity": 0.2
             }
            },
            "type": "histogram"
           }
          ],
          "histogram2d": [
           {
            "colorbar": {
             "outlinewidth": 0,
             "ticks": ""
            },
            "colorscale": [
             [
              0,
              "#0d0887"
             ],
             [
              0.1111111111111111,
              "#46039f"
             ],
             [
              0.2222222222222222,
              "#7201a8"
             ],
             [
              0.3333333333333333,
              "#9c179e"
             ],
             [
              0.4444444444444444,
              "#bd3786"
             ],
             [
              0.5555555555555556,
              "#d8576b"
             ],
             [
              0.6666666666666666,
              "#ed7953"
             ],
             [
              0.7777777777777778,
              "#fb9f3a"
             ],
             [
              0.8888888888888888,
              "#fdca26"
             ],
             [
              1,
              "#f0f921"
             ]
            ],
            "type": "histogram2d"
           }
          ],
          "histogram2dcontour": [
           {
            "colorbar": {
             "outlinewidth": 0,
             "ticks": ""
            },
            "colorscale": [
             [
              0,
              "#0d0887"
             ],
             [
              0.1111111111111111,
              "#46039f"
             ],
             [
              0.2222222222222222,
              "#7201a8"
             ],
             [
              0.3333333333333333,
              "#9c179e"
             ],
             [
              0.4444444444444444,
              "#bd3786"
             ],
             [
              0.5555555555555556,
              "#d8576b"
             ],
             [
              0.6666666666666666,
              "#ed7953"
             ],
             [
              0.7777777777777778,
              "#fb9f3a"
             ],
             [
              0.8888888888888888,
              "#fdca26"
             ],
             [
              1,
              "#f0f921"
             ]
            ],
            "type": "histogram2dcontour"
           }
          ],
          "mesh3d": [
           {
            "colorbar": {
             "outlinewidth": 0,
             "ticks": ""
            },
            "type": "mesh3d"
           }
          ],
          "parcoords": [
           {
            "line": {
             "colorbar": {
              "outlinewidth": 0,
              "ticks": ""
             }
            },
            "type": "parcoords"
           }
          ],
          "pie": [
           {
            "automargin": true,
            "type": "pie"
           }
          ],
          "scatter": [
           {
            "fillpattern": {
             "fillmode": "overlay",
             "size": 10,
             "solidity": 0.2
            },
            "type": "scatter"
           }
          ],
          "scatter3d": [
           {
            "line": {
             "colorbar": {
              "outlinewidth": 0,
              "ticks": ""
             }
            },
            "marker": {
             "colorbar": {
              "outlinewidth": 0,
              "ticks": ""
             }
            },
            "type": "scatter3d"
           }
          ],
          "scattercarpet": [
           {
            "marker": {
             "colorbar": {
              "outlinewidth": 0,
              "ticks": ""
             }
            },
            "type": "scattercarpet"
           }
          ],
          "scattergeo": [
           {
            "marker": {
             "colorbar": {
              "outlinewidth": 0,
              "ticks": ""
             }
            },
            "type": "scattergeo"
           }
          ],
          "scattergl": [
           {
            "marker": {
             "colorbar": {
              "outlinewidth": 0,
              "ticks": ""
             }
            },
            "type": "scattergl"
           }
          ],
          "scattermap": [
           {
            "marker": {
             "colorbar": {
              "outlinewidth": 0,
              "ticks": ""
             }
            },
            "type": "scattermap"
           }
          ],
          "scattermapbox": [
           {
            "marker": {
             "colorbar": {
              "outlinewidth": 0,
              "ticks": ""
             }
            },
            "type": "scattermapbox"
           }
          ],
          "scatterpolar": [
           {
            "marker": {
             "colorbar": {
              "outlinewidth": 0,
              "ticks": ""
             }
            },
            "type": "scatterpolar"
           }
          ],
          "scatterpolargl": [
           {
            "marker": {
             "colorbar": {
              "outlinewidth": 0,
              "ticks": ""
             }
            },
            "type": "scatterpolargl"
           }
          ],
          "scatterternary": [
           {
            "marker": {
             "colorbar": {
              "outlinewidth": 0,
              "ticks": ""
             }
            },
            "type": "scatterternary"
           }
          ],
          "surface": [
           {
            "colorbar": {
             "outlinewidth": 0,
             "ticks": ""
            },
            "colorscale": [
             [
              0,
              "#0d0887"
             ],
             [
              0.1111111111111111,
              "#46039f"
             ],
             [
              0.2222222222222222,
              "#7201a8"
             ],
             [
              0.3333333333333333,
              "#9c179e"
             ],
             [
              0.4444444444444444,
              "#bd3786"
             ],
             [
              0.5555555555555556,
              "#d8576b"
             ],
             [
              0.6666666666666666,
              "#ed7953"
             ],
             [
              0.7777777777777778,
              "#fb9f3a"
             ],
             [
              0.8888888888888888,
              "#fdca26"
             ],
             [
              1,
              "#f0f921"
             ]
            ],
            "type": "surface"
           }
          ],
          "table": [
           {
            "cells": {
             "fill": {
              "color": "#EBF0F8"
             },
             "line": {
              "color": "white"
             }
            },
            "header": {
             "fill": {
              "color": "#C8D4E3"
             },
             "line": {
              "color": "white"
             }
            },
            "type": "table"
           }
          ]
         },
         "layout": {
          "annotationdefaults": {
           "arrowcolor": "#2a3f5f",
           "arrowhead": 0,
           "arrowwidth": 1
          },
          "autotypenumbers": "strict",
          "coloraxis": {
           "colorbar": {
            "outlinewidth": 0,
            "ticks": ""
           }
          },
          "colorscale": {
           "diverging": [
            [
             0,
             "#8e0152"
            ],
            [
             0.1,
             "#c51b7d"
            ],
            [
             0.2,
             "#de77ae"
            ],
            [
             0.3,
             "#f1b6da"
            ],
            [
             0.4,
             "#fde0ef"
            ],
            [
             0.5,
             "#f7f7f7"
            ],
            [
             0.6,
             "#e6f5d0"
            ],
            [
             0.7,
             "#b8e186"
            ],
            [
             0.8,
             "#7fbc41"
            ],
            [
             0.9,
             "#4d9221"
            ],
            [
             1,
             "#276419"
            ]
           ],
           "sequential": [
            [
             0,
             "#0d0887"
            ],
            [
             0.1111111111111111,
             "#46039f"
            ],
            [
             0.2222222222222222,
             "#7201a8"
            ],
            [
             0.3333333333333333,
             "#9c179e"
            ],
            [
             0.4444444444444444,
             "#bd3786"
            ],
            [
             0.5555555555555556,
             "#d8576b"
            ],
            [
             0.6666666666666666,
             "#ed7953"
            ],
            [
             0.7777777777777778,
             "#fb9f3a"
            ],
            [
             0.8888888888888888,
             "#fdca26"
            ],
            [
             1,
             "#f0f921"
            ]
           ],
           "sequentialminus": [
            [
             0,
             "#0d0887"
            ],
            [
             0.1111111111111111,
             "#46039f"
            ],
            [
             0.2222222222222222,
             "#7201a8"
            ],
            [
             0.3333333333333333,
             "#9c179e"
            ],
            [
             0.4444444444444444,
             "#bd3786"
            ],
            [
             0.5555555555555556,
             "#d8576b"
            ],
            [
             0.6666666666666666,
             "#ed7953"
            ],
            [
             0.7777777777777778,
             "#fb9f3a"
            ],
            [
             0.8888888888888888,
             "#fdca26"
            ],
            [
             1,
             "#f0f921"
            ]
           ]
          },
          "colorway": [
           "#636efa",
           "#EF553B",
           "#00cc96",
           "#ab63fa",
           "#FFA15A",
           "#19d3f3",
           "#FF6692",
           "#B6E880",
           "#FF97FF",
           "#FECB52"
          ],
          "font": {
           "color": "#2a3f5f"
          },
          "geo": {
           "bgcolor": "white",
           "lakecolor": "white",
           "landcolor": "white",
           "showlakes": true,
           "showland": true,
           "subunitcolor": "#C8D4E3"
          },
          "hoverlabel": {
           "align": "left"
          },
          "hovermode": "closest",
          "mapbox": {
           "style": "light"
          },
          "paper_bgcolor": "white",
          "plot_bgcolor": "white",
          "polar": {
           "angularaxis": {
            "gridcolor": "#EBF0F8",
            "linecolor": "#EBF0F8",
            "ticks": ""
           },
           "bgcolor": "white",
           "radialaxis": {
            "gridcolor": "#EBF0F8",
            "linecolor": "#EBF0F8",
            "ticks": ""
           }
          },
          "scene": {
           "xaxis": {
            "backgroundcolor": "white",
            "gridcolor": "#DFE8F3",
            "gridwidth": 2,
            "linecolor": "#EBF0F8",
            "showbackground": true,
            "ticks": "",
            "zerolinecolor": "#EBF0F8"
           },
           "yaxis": {
            "backgroundcolor": "white",
            "gridcolor": "#DFE8F3",
            "gridwidth": 2,
            "linecolor": "#EBF0F8",
            "showbackground": true,
            "ticks": "",
            "zerolinecolor": "#EBF0F8"
           },
           "zaxis": {
            "backgroundcolor": "white",
            "gridcolor": "#DFE8F3",
            "gridwidth": 2,
            "linecolor": "#EBF0F8",
            "showbackground": true,
            "ticks": "",
            "zerolinecolor": "#EBF0F8"
           }
          },
          "shapedefaults": {
           "line": {
            "color": "#2a3f5f"
           }
          },
          "ternary": {
           "aaxis": {
            "gridcolor": "#DFE8F3",
            "linecolor": "#A2B1C6",
            "ticks": ""
           },
           "baxis": {
            "gridcolor": "#DFE8F3",
            "linecolor": "#A2B1C6",
            "ticks": ""
           },
           "bgcolor": "white",
           "caxis": {
            "gridcolor": "#DFE8F3",
            "linecolor": "#A2B1C6",
            "ticks": ""
           }
          },
          "title": {
           "x": 0.05
          },
          "xaxis": {
           "automargin": true,
           "gridcolor": "#EBF0F8",
           "linecolor": "#EBF0F8",
           "ticks": "",
           "title": {
            "standoff": 15
           },
           "zerolinecolor": "#EBF0F8",
           "zerolinewidth": 2
          },
          "yaxis": {
           "automargin": true,
           "gridcolor": "#EBF0F8",
           "linecolor": "#EBF0F8",
           "ticks": "",
           "title": {
            "standoff": 15
           },
           "zerolinecolor": "#EBF0F8",
           "zerolinewidth": 2
          }
         }
        },
        "title": {
         "font": {
          "size": 20
         },
         "text": "Aviation Accidents per Year (All Years)"
        },
        "xaxis": {
         "anchor": "y",
         "domain": [
          0,
          1
         ],
         "tickangle": -45,
         "title": {
          "text": "Year"
         }
        },
        "yaxis": {
         "anchor": "x",
         "domain": [
          0,
          1
         ],
         "gridcolor": "lightgrey",
         "title": {
          "text": "Number of Accidents"
         }
        }
       }
      }
     },
     "metadata": {},
     "output_type": "display_data"
    }
   ],
   "source": [
    "us_data['event_year'] = pd.to_datetime(us_data['event_date']).dt.year\n",
    "yearly_counts = us_data['event_year'].value_counts().sort_index()\n",
    "fig = px.line(x=yearly_counts.index, y=yearly_counts.values,\n",
    "              labels={'x': 'Year', 'y': 'Number of Accidents'},\n",
    "              title='Aviation Accidents per Year (All Years)')\n",
    "fig.update_layout(\n",
    "    template='plotly_white',\n",
    "    title_font_size=20,\n",
    "    font=dict(size=14),\n",
    "    yaxis_gridcolor='lightgrey',\n",
    "    xaxis_tickangle=-45,\n",
    "    margin=dict(t=60, b=40, l=50, r=40)\n",
    ")\n",
    "fig.show()\n",
    "\n"
   ]
  },
  {
   "cell_type": "code",
   "execution_count": 86,
   "id": "e860072d",
   "metadata": {},
   "outputs": [
    {
     "data": {
      "application/vnd.plotly.v1+json": {
       "config": {
        "plotlyServerURL": "https://plot.ly"
       },
       "data": [
        {
         "hovertemplate": "Decade=%{x}<br>Number of Accidents=%{text}<extra></extra>",
         "legendgroup": "",
         "marker": {
          "color": "#636efa",
          "pattern": {
           "shape": ""
          }
         },
         "name": "",
         "orientation": "v",
         "showlegend": false,
         "text": {
          "bdata": "AAAAAAAA8D8AAAAAAADwPwAAAAAAABBAAAAAAMDF10AAAAAAgJLVQAAAAABAzdFAAAAAAABey0AAAAAAAOCrQA==",
          "dtype": "f8"
         },
         "textposition": "auto",
         "type": "bar",
         "x": {
          "bdata": "lAcAAKgHAACyBwAAvAcAAMYHAADQBwAA2gcAAOQHAAA=",
          "dtype": "i4"
         },
         "xaxis": "x",
         "y": {
          "bdata": "AQABAAQAF19KVjVHvDbwDQ==",
          "dtype": "i2"
         },
         "yaxis": "y"
        }
       ],
       "layout": {
        "barmode": "relative",
        "legend": {
         "tracegroupgap": 0
        },
        "template": {
         "data": {
          "bar": [
           {
            "error_x": {
             "color": "#2a3f5f"
            },
            "error_y": {
             "color": "#2a3f5f"
            },
            "marker": {
             "line": {
              "color": "white",
              "width": 0.5
             },
             "pattern": {
              "fillmode": "overlay",
              "size": 10,
              "solidity": 0.2
             }
            },
            "type": "bar"
           }
          ],
          "barpolar": [
           {
            "marker": {
             "line": {
              "color": "white",
              "width": 0.5
             },
             "pattern": {
              "fillmode": "overlay",
              "size": 10,
              "solidity": 0.2
             }
            },
            "type": "barpolar"
           }
          ],
          "carpet": [
           {
            "aaxis": {
             "endlinecolor": "#2a3f5f",
             "gridcolor": "#C8D4E3",
             "linecolor": "#C8D4E3",
             "minorgridcolor": "#C8D4E3",
             "startlinecolor": "#2a3f5f"
            },
            "baxis": {
             "endlinecolor": "#2a3f5f",
             "gridcolor": "#C8D4E3",
             "linecolor": "#C8D4E3",
             "minorgridcolor": "#C8D4E3",
             "startlinecolor": "#2a3f5f"
            },
            "type": "carpet"
           }
          ],
          "choropleth": [
           {
            "colorbar": {
             "outlinewidth": 0,
             "ticks": ""
            },
            "type": "choropleth"
           }
          ],
          "contour": [
           {
            "colorbar": {
             "outlinewidth": 0,
             "ticks": ""
            },
            "colorscale": [
             [
              0,
              "#0d0887"
             ],
             [
              0.1111111111111111,
              "#46039f"
             ],
             [
              0.2222222222222222,
              "#7201a8"
             ],
             [
              0.3333333333333333,
              "#9c179e"
             ],
             [
              0.4444444444444444,
              "#bd3786"
             ],
             [
              0.5555555555555556,
              "#d8576b"
             ],
             [
              0.6666666666666666,
              "#ed7953"
             ],
             [
              0.7777777777777778,
              "#fb9f3a"
             ],
             [
              0.8888888888888888,
              "#fdca26"
             ],
             [
              1,
              "#f0f921"
             ]
            ],
            "type": "contour"
           }
          ],
          "contourcarpet": [
           {
            "colorbar": {
             "outlinewidth": 0,
             "ticks": ""
            },
            "type": "contourcarpet"
           }
          ],
          "heatmap": [
           {
            "colorbar": {
             "outlinewidth": 0,
             "ticks": ""
            },
            "colorscale": [
             [
              0,
              "#0d0887"
             ],
             [
              0.1111111111111111,
              "#46039f"
             ],
             [
              0.2222222222222222,
              "#7201a8"
             ],
             [
              0.3333333333333333,
              "#9c179e"
             ],
             [
              0.4444444444444444,
              "#bd3786"
             ],
             [
              0.5555555555555556,
              "#d8576b"
             ],
             [
              0.6666666666666666,
              "#ed7953"
             ],
             [
              0.7777777777777778,
              "#fb9f3a"
             ],
             [
              0.8888888888888888,
              "#fdca26"
             ],
             [
              1,
              "#f0f921"
             ]
            ],
            "type": "heatmap"
           }
          ],
          "histogram": [
           {
            "marker": {
             "pattern": {
              "fillmode": "overlay",
              "size": 10,
              "solidity": 0.2
             }
            },
            "type": "histogram"
           }
          ],
          "histogram2d": [
           {
            "colorbar": {
             "outlinewidth": 0,
             "ticks": ""
            },
            "colorscale": [
             [
              0,
              "#0d0887"
             ],
             [
              0.1111111111111111,
              "#46039f"
             ],
             [
              0.2222222222222222,
              "#7201a8"
             ],
             [
              0.3333333333333333,
              "#9c179e"
             ],
             [
              0.4444444444444444,
              "#bd3786"
             ],
             [
              0.5555555555555556,
              "#d8576b"
             ],
             [
              0.6666666666666666,
              "#ed7953"
             ],
             [
              0.7777777777777778,
              "#fb9f3a"
             ],
             [
              0.8888888888888888,
              "#fdca26"
             ],
             [
              1,
              "#f0f921"
             ]
            ],
            "type": "histogram2d"
           }
          ],
          "histogram2dcontour": [
           {
            "colorbar": {
             "outlinewidth": 0,
             "ticks": ""
            },
            "colorscale": [
             [
              0,
              "#0d0887"
             ],
             [
              0.1111111111111111,
              "#46039f"
             ],
             [
              0.2222222222222222,
              "#7201a8"
             ],
             [
              0.3333333333333333,
              "#9c179e"
             ],
             [
              0.4444444444444444,
              "#bd3786"
             ],
             [
              0.5555555555555556,
              "#d8576b"
             ],
             [
              0.6666666666666666,
              "#ed7953"
             ],
             [
              0.7777777777777778,
              "#fb9f3a"
             ],
             [
              0.8888888888888888,
              "#fdca26"
             ],
             [
              1,
              "#f0f921"
             ]
            ],
            "type": "histogram2dcontour"
           }
          ],
          "mesh3d": [
           {
            "colorbar": {
             "outlinewidth": 0,
             "ticks": ""
            },
            "type": "mesh3d"
           }
          ],
          "parcoords": [
           {
            "line": {
             "colorbar": {
              "outlinewidth": 0,
              "ticks": ""
             }
            },
            "type": "parcoords"
           }
          ],
          "pie": [
           {
            "automargin": true,
            "type": "pie"
           }
          ],
          "scatter": [
           {
            "fillpattern": {
             "fillmode": "overlay",
             "size": 10,
             "solidity": 0.2
            },
            "type": "scatter"
           }
          ],
          "scatter3d": [
           {
            "line": {
             "colorbar": {
              "outlinewidth": 0,
              "ticks": ""
             }
            },
            "marker": {
             "colorbar": {
              "outlinewidth": 0,
              "ticks": ""
             }
            },
            "type": "scatter3d"
           }
          ],
          "scattercarpet": [
           {
            "marker": {
             "colorbar": {
              "outlinewidth": 0,
              "ticks": ""
             }
            },
            "type": "scattercarpet"
           }
          ],
          "scattergeo": [
           {
            "marker": {
             "colorbar": {
              "outlinewidth": 0,
              "ticks": ""
             }
            },
            "type": "scattergeo"
           }
          ],
          "scattergl": [
           {
            "marker": {
             "colorbar": {
              "outlinewidth": 0,
              "ticks": ""
             }
            },
            "type": "scattergl"
           }
          ],
          "scattermap": [
           {
            "marker": {
             "colorbar": {
              "outlinewidth": 0,
              "ticks": ""
             }
            },
            "type": "scattermap"
           }
          ],
          "scattermapbox": [
           {
            "marker": {
             "colorbar": {
              "outlinewidth": 0,
              "ticks": ""
             }
            },
            "type": "scattermapbox"
           }
          ],
          "scatterpolar": [
           {
            "marker": {
             "colorbar": {
              "outlinewidth": 0,
              "ticks": ""
             }
            },
            "type": "scatterpolar"
           }
          ],
          "scatterpolargl": [
           {
            "marker": {
             "colorbar": {
              "outlinewidth": 0,
              "ticks": ""
             }
            },
            "type": "scatterpolargl"
           }
          ],
          "scatterternary": [
           {
            "marker": {
             "colorbar": {
              "outlinewidth": 0,
              "ticks": ""
             }
            },
            "type": "scatterternary"
           }
          ],
          "surface": [
           {
            "colorbar": {
             "outlinewidth": 0,
             "ticks": ""
            },
            "colorscale": [
             [
              0,
              "#0d0887"
             ],
             [
              0.1111111111111111,
              "#46039f"
             ],
             [
              0.2222222222222222,
              "#7201a8"
             ],
             [
              0.3333333333333333,
              "#9c179e"
             ],
             [
              0.4444444444444444,
              "#bd3786"
             ],
             [
              0.5555555555555556,
              "#d8576b"
             ],
             [
              0.6666666666666666,
              "#ed7953"
             ],
             [
              0.7777777777777778,
              "#fb9f3a"
             ],
             [
              0.8888888888888888,
              "#fdca26"
             ],
             [
              1,
              "#f0f921"
             ]
            ],
            "type": "surface"
           }
          ],
          "table": [
           {
            "cells": {
             "fill": {
              "color": "#EBF0F8"
             },
             "line": {
              "color": "white"
             }
            },
            "header": {
             "fill": {
              "color": "#C8D4E3"
             },
             "line": {
              "color": "white"
             }
            },
            "type": "table"
           }
          ]
         },
         "layout": {
          "annotationdefaults": {
           "arrowcolor": "#2a3f5f",
           "arrowhead": 0,
           "arrowwidth": 1
          },
          "autotypenumbers": "strict",
          "coloraxis": {
           "colorbar": {
            "outlinewidth": 0,
            "ticks": ""
           }
          },
          "colorscale": {
           "diverging": [
            [
             0,
             "#8e0152"
            ],
            [
             0.1,
             "#c51b7d"
            ],
            [
             0.2,
             "#de77ae"
            ],
            [
             0.3,
             "#f1b6da"
            ],
            [
             0.4,
             "#fde0ef"
            ],
            [
             0.5,
             "#f7f7f7"
            ],
            [
             0.6,
             "#e6f5d0"
            ],
            [
             0.7,
             "#b8e186"
            ],
            [
             0.8,
             "#7fbc41"
            ],
            [
             0.9,
             "#4d9221"
            ],
            [
             1,
             "#276419"
            ]
           ],
           "sequential": [
            [
             0,
             "#0d0887"
            ],
            [
             0.1111111111111111,
             "#46039f"
            ],
            [
             0.2222222222222222,
             "#7201a8"
            ],
            [
             0.3333333333333333,
             "#9c179e"
            ],
            [
             0.4444444444444444,
             "#bd3786"
            ],
            [
             0.5555555555555556,
             "#d8576b"
            ],
            [
             0.6666666666666666,
             "#ed7953"
            ],
            [
             0.7777777777777778,
             "#fb9f3a"
            ],
            [
             0.8888888888888888,
             "#fdca26"
            ],
            [
             1,
             "#f0f921"
            ]
           ],
           "sequentialminus": [
            [
             0,
             "#0d0887"
            ],
            [
             0.1111111111111111,
             "#46039f"
            ],
            [
             0.2222222222222222,
             "#7201a8"
            ],
            [
             0.3333333333333333,
             "#9c179e"
            ],
            [
             0.4444444444444444,
             "#bd3786"
            ],
            [
             0.5555555555555556,
             "#d8576b"
            ],
            [
             0.6666666666666666,
             "#ed7953"
            ],
            [
             0.7777777777777778,
             "#fb9f3a"
            ],
            [
             0.8888888888888888,
             "#fdca26"
            ],
            [
             1,
             "#f0f921"
            ]
           ]
          },
          "colorway": [
           "#636efa",
           "#EF553B",
           "#00cc96",
           "#ab63fa",
           "#FFA15A",
           "#19d3f3",
           "#FF6692",
           "#B6E880",
           "#FF97FF",
           "#FECB52"
          ],
          "font": {
           "color": "#2a3f5f"
          },
          "geo": {
           "bgcolor": "white",
           "lakecolor": "white",
           "landcolor": "white",
           "showlakes": true,
           "showland": true,
           "subunitcolor": "#C8D4E3"
          },
          "hoverlabel": {
           "align": "left"
          },
          "hovermode": "closest",
          "mapbox": {
           "style": "light"
          },
          "paper_bgcolor": "white",
          "plot_bgcolor": "white",
          "polar": {
           "angularaxis": {
            "gridcolor": "#EBF0F8",
            "linecolor": "#EBF0F8",
            "ticks": ""
           },
           "bgcolor": "white",
           "radialaxis": {
            "gridcolor": "#EBF0F8",
            "linecolor": "#EBF0F8",
            "ticks": ""
           }
          },
          "scene": {
           "xaxis": {
            "backgroundcolor": "white",
            "gridcolor": "#DFE8F3",
            "gridwidth": 2,
            "linecolor": "#EBF0F8",
            "showbackground": true,
            "ticks": "",
            "zerolinecolor": "#EBF0F8"
           },
           "yaxis": {
            "backgroundcolor": "white",
            "gridcolor": "#DFE8F3",
            "gridwidth": 2,
            "linecolor": "#EBF0F8",
            "showbackground": true,
            "ticks": "",
            "zerolinecolor": "#EBF0F8"
           },
           "zaxis": {
            "backgroundcolor": "white",
            "gridcolor": "#DFE8F3",
            "gridwidth": 2,
            "linecolor": "#EBF0F8",
            "showbackground": true,
            "ticks": "",
            "zerolinecolor": "#EBF0F8"
           }
          },
          "shapedefaults": {
           "line": {
            "color": "#2a3f5f"
           }
          },
          "ternary": {
           "aaxis": {
            "gridcolor": "#DFE8F3",
            "linecolor": "#A2B1C6",
            "ticks": ""
           },
           "baxis": {
            "gridcolor": "#DFE8F3",
            "linecolor": "#A2B1C6",
            "ticks": ""
           },
           "bgcolor": "white",
           "caxis": {
            "gridcolor": "#DFE8F3",
            "linecolor": "#A2B1C6",
            "ticks": ""
           }
          },
          "title": {
           "x": 0.05
          },
          "xaxis": {
           "automargin": true,
           "gridcolor": "#EBF0F8",
           "linecolor": "#EBF0F8",
           "ticks": "",
           "title": {
            "standoff": 15
           },
           "zerolinecolor": "#EBF0F8",
           "zerolinewidth": 2
          },
          "yaxis": {
           "automargin": true,
           "gridcolor": "#EBF0F8",
           "linecolor": "#EBF0F8",
           "ticks": "",
           "title": {
            "standoff": 15
           },
           "zerolinecolor": "#EBF0F8",
           "zerolinewidth": 2
          }
         }
        },
        "title": {
         "text": "Total Accidents by Decade"
        },
        "xaxis": {
         "anchor": "y",
         "domain": [
          0,
          1
         ],
         "title": {
          "text": "Decade"
         }
        },
        "yaxis": {
         "anchor": "x",
         "domain": [
          0,
          1
         ],
         "title": {
          "text": "Number of Accidents"
         }
        }
       }
      }
     },
     "metadata": {},
     "output_type": "display_data"
    }
   ],
   "source": [
    "us_data['event_decade'] = (us_data['event_year'] // 10) * 10\n",
    "decade_counts = us_data.groupby('event_decade')['event_year'].count().reset_index()\n",
    "decade_counts.columns = ['Decade', 'Total Accidents']\n",
    "\n",
    "fig = px.bar(decade_counts, x='Decade', y='Total Accidents',\n",
    "             title='Total Accidents by Decade',\n",
    "             labels={'Decade': 'Decade', 'Total Accidents': 'Number of Accidents'},\n",
    "             text='Total Accidents')\n",
    "fig.update_layout(template='plotly_white')\n",
    "fig.show()\n"
   ]
  },
  {
   "cell_type": "code",
   "execution_count": 87,
   "id": "f5bf00b3",
   "metadata": {},
   "outputs": [
    {
     "data": {
      "application/vnd.plotly.v1+json": {
       "config": {
        "plotlyServerURL": "https://plot.ly"
       },
       "data": [
        {
         "hovertemplate": "Year=%{x}<br>Number of Accidents=%{y}<extra></extra>",
         "legendgroup": "",
         "line": {
          "color": "#636efa",
          "dash": "solid"
         },
         "marker": {
          "symbol": "circle"
         },
         "mode": "lines",
         "name": "",
         "orientation": "v",
         "showlegend": false,
         "type": "scatter",
         "x": {
          "bdata": "2gcAANsHAADcBwAA3QcAAN4HAADfBwAA4AcAAOEHAADiBwAA4wcAAOQHAADlBwAA5gcAAA==",
          "dtype": "i4"
         },
         "xaxis": "x",
         "y": {
          "bdata": "FwZMBicGIQUjBSEFPgUzBUUFFwVxBJ0E4gQ=",
          "dtype": "i2"
         },
         "yaxis": "y"
        }
       ],
       "layout": {
        "font": {
         "size": 14
        },
        "legend": {
         "tracegroupgap": 0
        },
        "margin": {
         "b": 40,
         "l": 50,
         "r": 40,
         "t": 60
        },
        "template": {
         "data": {
          "bar": [
           {
            "error_x": {
             "color": "#2a3f5f"
            },
            "error_y": {
             "color": "#2a3f5f"
            },
            "marker": {
             "line": {
              "color": "white",
              "width": 0.5
             },
             "pattern": {
              "fillmode": "overlay",
              "size": 10,
              "solidity": 0.2
             }
            },
            "type": "bar"
           }
          ],
          "barpolar": [
           {
            "marker": {
             "line": {
              "color": "white",
              "width": 0.5
             },
             "pattern": {
              "fillmode": "overlay",
              "size": 10,
              "solidity": 0.2
             }
            },
            "type": "barpolar"
           }
          ],
          "carpet": [
           {
            "aaxis": {
             "endlinecolor": "#2a3f5f",
             "gridcolor": "#C8D4E3",
             "linecolor": "#C8D4E3",
             "minorgridcolor": "#C8D4E3",
             "startlinecolor": "#2a3f5f"
            },
            "baxis": {
             "endlinecolor": "#2a3f5f",
             "gridcolor": "#C8D4E3",
             "linecolor": "#C8D4E3",
             "minorgridcolor": "#C8D4E3",
             "startlinecolor": "#2a3f5f"
            },
            "type": "carpet"
           }
          ],
          "choropleth": [
           {
            "colorbar": {
             "outlinewidth": 0,
             "ticks": ""
            },
            "type": "choropleth"
           }
          ],
          "contour": [
           {
            "colorbar": {
             "outlinewidth": 0,
             "ticks": ""
            },
            "colorscale": [
             [
              0,
              "#0d0887"
             ],
             [
              0.1111111111111111,
              "#46039f"
             ],
             [
              0.2222222222222222,
              "#7201a8"
             ],
             [
              0.3333333333333333,
              "#9c179e"
             ],
             [
              0.4444444444444444,
              "#bd3786"
             ],
             [
              0.5555555555555556,
              "#d8576b"
             ],
             [
              0.6666666666666666,
              "#ed7953"
             ],
             [
              0.7777777777777778,
              "#fb9f3a"
             ],
             [
              0.8888888888888888,
              "#fdca26"
             ],
             [
              1,
              "#f0f921"
             ]
            ],
            "type": "contour"
           }
          ],
          "contourcarpet": [
           {
            "colorbar": {
             "outlinewidth": 0,
             "ticks": ""
            },
            "type": "contourcarpet"
           }
          ],
          "heatmap": [
           {
            "colorbar": {
             "outlinewidth": 0,
             "ticks": ""
            },
            "colorscale": [
             [
              0,
              "#0d0887"
             ],
             [
              0.1111111111111111,
              "#46039f"
             ],
             [
              0.2222222222222222,
              "#7201a8"
             ],
             [
              0.3333333333333333,
              "#9c179e"
             ],
             [
              0.4444444444444444,
              "#bd3786"
             ],
             [
              0.5555555555555556,
              "#d8576b"
             ],
             [
              0.6666666666666666,
              "#ed7953"
             ],
             [
              0.7777777777777778,
              "#fb9f3a"
             ],
             [
              0.8888888888888888,
              "#fdca26"
             ],
             [
              1,
              "#f0f921"
             ]
            ],
            "type": "heatmap"
           }
          ],
          "histogram": [
           {
            "marker": {
             "pattern": {
              "fillmode": "overlay",
              "size": 10,
              "solidity": 0.2
             }
            },
            "type": "histogram"
           }
          ],
          "histogram2d": [
           {
            "colorbar": {
             "outlinewidth": 0,
             "ticks": ""
            },
            "colorscale": [
             [
              0,
              "#0d0887"
             ],
             [
              0.1111111111111111,
              "#46039f"
             ],
             [
              0.2222222222222222,
              "#7201a8"
             ],
             [
              0.3333333333333333,
              "#9c179e"
             ],
             [
              0.4444444444444444,
              "#bd3786"
             ],
             [
              0.5555555555555556,
              "#d8576b"
             ],
             [
              0.6666666666666666,
              "#ed7953"
             ],
             [
              0.7777777777777778,
              "#fb9f3a"
             ],
             [
              0.8888888888888888,
              "#fdca26"
             ],
             [
              1,
              "#f0f921"
             ]
            ],
            "type": "histogram2d"
           }
          ],
          "histogram2dcontour": [
           {
            "colorbar": {
             "outlinewidth": 0,
             "ticks": ""
            },
            "colorscale": [
             [
              0,
              "#0d0887"
             ],
             [
              0.1111111111111111,
              "#46039f"
             ],
             [
              0.2222222222222222,
              "#7201a8"
             ],
             [
              0.3333333333333333,
              "#9c179e"
             ],
             [
              0.4444444444444444,
              "#bd3786"
             ],
             [
              0.5555555555555556,
              "#d8576b"
             ],
             [
              0.6666666666666666,
              "#ed7953"
             ],
             [
              0.7777777777777778,
              "#fb9f3a"
             ],
             [
              0.8888888888888888,
              "#fdca26"
             ],
             [
              1,
              "#f0f921"
             ]
            ],
            "type": "histogram2dcontour"
           }
          ],
          "mesh3d": [
           {
            "colorbar": {
             "outlinewidth": 0,
             "ticks": ""
            },
            "type": "mesh3d"
           }
          ],
          "parcoords": [
           {
            "line": {
             "colorbar": {
              "outlinewidth": 0,
              "ticks": ""
             }
            },
            "type": "parcoords"
           }
          ],
          "pie": [
           {
            "automargin": true,
            "type": "pie"
           }
          ],
          "scatter": [
           {
            "fillpattern": {
             "fillmode": "overlay",
             "size": 10,
             "solidity": 0.2
            },
            "type": "scatter"
           }
          ],
          "scatter3d": [
           {
            "line": {
             "colorbar": {
              "outlinewidth": 0,
              "ticks": ""
             }
            },
            "marker": {
             "colorbar": {
              "outlinewidth": 0,
              "ticks": ""
             }
            },
            "type": "scatter3d"
           }
          ],
          "scattercarpet": [
           {
            "marker": {
             "colorbar": {
              "outlinewidth": 0,
              "ticks": ""
             }
            },
            "type": "scattercarpet"
           }
          ],
          "scattergeo": [
           {
            "marker": {
             "colorbar": {
              "outlinewidth": 0,
              "ticks": ""
             }
            },
            "type": "scattergeo"
           }
          ],
          "scattergl": [
           {
            "marker": {
             "colorbar": {
              "outlinewidth": 0,
              "ticks": ""
             }
            },
            "type": "scattergl"
           }
          ],
          "scattermap": [
           {
            "marker": {
             "colorbar": {
              "outlinewidth": 0,
              "ticks": ""
             }
            },
            "type": "scattermap"
           }
          ],
          "scattermapbox": [
           {
            "marker": {
             "colorbar": {
              "outlinewidth": 0,
              "ticks": ""
             }
            },
            "type": "scattermapbox"
           }
          ],
          "scatterpolar": [
           {
            "marker": {
             "colorbar": {
              "outlinewidth": 0,
              "ticks": ""
             }
            },
            "type": "scatterpolar"
           }
          ],
          "scatterpolargl": [
           {
            "marker": {
             "colorbar": {
              "outlinewidth": 0,
              "ticks": ""
             }
            },
            "type": "scatterpolargl"
           }
          ],
          "scatterternary": [
           {
            "marker": {
             "colorbar": {
              "outlinewidth": 0,
              "ticks": ""
             }
            },
            "type": "scatterternary"
           }
          ],
          "surface": [
           {
            "colorbar": {
             "outlinewidth": 0,
             "ticks": ""
            },
            "colorscale": [
             [
              0,
              "#0d0887"
             ],
             [
              0.1111111111111111,
              "#46039f"
             ],
             [
              0.2222222222222222,
              "#7201a8"
             ],
             [
              0.3333333333333333,
              "#9c179e"
             ],
             [
              0.4444444444444444,
              "#bd3786"
             ],
             [
              0.5555555555555556,
              "#d8576b"
             ],
             [
              0.6666666666666666,
              "#ed7953"
             ],
             [
              0.7777777777777778,
              "#fb9f3a"
             ],
             [
              0.8888888888888888,
              "#fdca26"
             ],
             [
              1,
              "#f0f921"
             ]
            ],
            "type": "surface"
           }
          ],
          "table": [
           {
            "cells": {
             "fill": {
              "color": "#EBF0F8"
             },
             "line": {
              "color": "white"
             }
            },
            "header": {
             "fill": {
              "color": "#C8D4E3"
             },
             "line": {
              "color": "white"
             }
            },
            "type": "table"
           }
          ]
         },
         "layout": {
          "annotationdefaults": {
           "arrowcolor": "#2a3f5f",
           "arrowhead": 0,
           "arrowwidth": 1
          },
          "autotypenumbers": "strict",
          "coloraxis": {
           "colorbar": {
            "outlinewidth": 0,
            "ticks": ""
           }
          },
          "colorscale": {
           "diverging": [
            [
             0,
             "#8e0152"
            ],
            [
             0.1,
             "#c51b7d"
            ],
            [
             0.2,
             "#de77ae"
            ],
            [
             0.3,
             "#f1b6da"
            ],
            [
             0.4,
             "#fde0ef"
            ],
            [
             0.5,
             "#f7f7f7"
            ],
            [
             0.6,
             "#e6f5d0"
            ],
            [
             0.7,
             "#b8e186"
            ],
            [
             0.8,
             "#7fbc41"
            ],
            [
             0.9,
             "#4d9221"
            ],
            [
             1,
             "#276419"
            ]
           ],
           "sequential": [
            [
             0,
             "#0d0887"
            ],
            [
             0.1111111111111111,
             "#46039f"
            ],
            [
             0.2222222222222222,
             "#7201a8"
            ],
            [
             0.3333333333333333,
             "#9c179e"
            ],
            [
             0.4444444444444444,
             "#bd3786"
            ],
            [
             0.5555555555555556,
             "#d8576b"
            ],
            [
             0.6666666666666666,
             "#ed7953"
            ],
            [
             0.7777777777777778,
             "#fb9f3a"
            ],
            [
             0.8888888888888888,
             "#fdca26"
            ],
            [
             1,
             "#f0f921"
            ]
           ],
           "sequentialminus": [
            [
             0,
             "#0d0887"
            ],
            [
             0.1111111111111111,
             "#46039f"
            ],
            [
             0.2222222222222222,
             "#7201a8"
            ],
            [
             0.3333333333333333,
             "#9c179e"
            ],
            [
             0.4444444444444444,
             "#bd3786"
            ],
            [
             0.5555555555555556,
             "#d8576b"
            ],
            [
             0.6666666666666666,
             "#ed7953"
            ],
            [
             0.7777777777777778,
             "#fb9f3a"
            ],
            [
             0.8888888888888888,
             "#fdca26"
            ],
            [
             1,
             "#f0f921"
            ]
           ]
          },
          "colorway": [
           "#636efa",
           "#EF553B",
           "#00cc96",
           "#ab63fa",
           "#FFA15A",
           "#19d3f3",
           "#FF6692",
           "#B6E880",
           "#FF97FF",
           "#FECB52"
          ],
          "font": {
           "color": "#2a3f5f"
          },
          "geo": {
           "bgcolor": "white",
           "lakecolor": "white",
           "landcolor": "white",
           "showlakes": true,
           "showland": true,
           "subunitcolor": "#C8D4E3"
          },
          "hoverlabel": {
           "align": "left"
          },
          "hovermode": "closest",
          "mapbox": {
           "style": "light"
          },
          "paper_bgcolor": "white",
          "plot_bgcolor": "white",
          "polar": {
           "angularaxis": {
            "gridcolor": "#EBF0F8",
            "linecolor": "#EBF0F8",
            "ticks": ""
           },
           "bgcolor": "white",
           "radialaxis": {
            "gridcolor": "#EBF0F8",
            "linecolor": "#EBF0F8",
            "ticks": ""
           }
          },
          "scene": {
           "xaxis": {
            "backgroundcolor": "white",
            "gridcolor": "#DFE8F3",
            "gridwidth": 2,
            "linecolor": "#EBF0F8",
            "showbackground": true,
            "ticks": "",
            "zerolinecolor": "#EBF0F8"
           },
           "yaxis": {
            "backgroundcolor": "white",
            "gridcolor": "#DFE8F3",
            "gridwidth": 2,
            "linecolor": "#EBF0F8",
            "showbackground": true,
            "ticks": "",
            "zerolinecolor": "#EBF0F8"
           },
           "zaxis": {
            "backgroundcolor": "white",
            "gridcolor": "#DFE8F3",
            "gridwidth": 2,
            "linecolor": "#EBF0F8",
            "showbackground": true,
            "ticks": "",
            "zerolinecolor": "#EBF0F8"
           }
          },
          "shapedefaults": {
           "line": {
            "color": "#2a3f5f"
           }
          },
          "ternary": {
           "aaxis": {
            "gridcolor": "#DFE8F3",
            "linecolor": "#A2B1C6",
            "ticks": ""
           },
           "baxis": {
            "gridcolor": "#DFE8F3",
            "linecolor": "#A2B1C6",
            "ticks": ""
           },
           "bgcolor": "white",
           "caxis": {
            "gridcolor": "#DFE8F3",
            "linecolor": "#A2B1C6",
            "ticks": ""
           }
          },
          "title": {
           "x": 0.05
          },
          "xaxis": {
           "automargin": true,
           "gridcolor": "#EBF0F8",
           "linecolor": "#EBF0F8",
           "ticks": "",
           "title": {
            "standoff": 15
           },
           "zerolinecolor": "#EBF0F8",
           "zerolinewidth": 2
          },
          "yaxis": {
           "automargin": true,
           "gridcolor": "#EBF0F8",
           "linecolor": "#EBF0F8",
           "ticks": "",
           "title": {
            "standoff": 15
           },
           "zerolinecolor": "#EBF0F8",
           "zerolinewidth": 2
          }
         }
        },
        "title": {
         "font": {
          "size": 20
         },
         "text": "Aviation Accidents (2010–2022)"
        },
        "xaxis": {
         "anchor": "y",
         "domain": [
          0,
          1
         ],
         "title": {
          "text": "Year"
         }
        },
        "yaxis": {
         "anchor": "x",
         "domain": [
          0,
          1
         ],
         "gridcolor": "lightgrey",
         "title": {
          "text": "Number of Accidents"
         }
        }
       }
      }
     },
     "metadata": {},
     "output_type": "display_data"
    }
   ],
   "source": [
    "\n",
    "recent_years = us_data[(us_data['event_year'] >= 2010) & (us_data['event_year'] <= 2022)]\n",
    "\n",
    "recent_counts = recent_years['event_year'].value_counts().sort_index()\n",
    "fig = px.line(x=recent_counts.index, y=recent_counts.values,\n",
    "              labels={'x': 'Year', 'y': 'Number of Accidents'},\n",
    "              title='Aviation Accidents (2010–2022)')\n",
    "fig.update_layout(\n",
    "    template='plotly_white',\n",
    "    title_font_size=20,\n",
    "    font=dict(size=14),\n",
    "    yaxis_gridcolor='lightgrey',\n",
    "    margin=dict(t=60, b=40, l=50, r=40)\n",
    ")\n",
    "fig.show()\n"
   ]
  },
  {
   "cell_type": "markdown",
   "id": "e428e55e",
   "metadata": {},
   "source": [
    "##  Key Observations\n",
    "\n",
    "###  Overall Downward Trend\n",
    "There's a clear decline in the number of accidents over time, particularly from the 1980s onward.\n",
    "\n",
    "### Possible Drivers\n",
    "Several factors may have contributed to this positive trend:\n",
    "\n",
    "- Advancements in aviation technology  \n",
    "- Stricter safety regulations and enforcement  \n",
    "- Improved pilot training and maintenance protocols  \n",
    "\n",
    "### Decade-Level Subsets\n",
    "When I analyzed the data by decade, the trend remained consistent—fewer accidents as time progressed. This supports the idea that safety standards have steadily improved over the years.\n",
    "\n",
    "###  Recent Insights (2010–2022)\n",
    "\n",
    "- A sharp decline is visible leading up to 2020, likely influenced by **COVID-19 restrictions** that significantly reduced flight volumes worldwide.\n",
    "- There's a **slight uptick post-2020**, possibly due to the rebound in air travel. However, I would need more recent data to confirm if this is a sustained trend or just a temporary spike.\n",
    "\n",
    "---\n",
    "\n",
    "##  Interpretation\n",
    "\n",
    "Although historical data provides important context, I find that **recent trends (2010–2022)** are more relevant for driving actionable business decisions today. By focusing on recent accident behavior, I can help the company align its strategies with **current risk levels**, rather than outdated patterns.\n",
    "\n",
    "##  Business Recommendation 1: Prioritize Modern Aircraft (2015 and Newer)\n",
    "\n",
    "My analysis of accident trends over time reveals a notable decline in aviation incidents starting from 2015, with 2020 marking the lowest point in the dataset. While there is a minor rise in incidents post-2020, this is likely tied to the resurgence in air traffic following pandemic-induced slowdowns.\n",
    "\n",
    "### Recommendation\n",
    "\n",
    "I recommend that the company **prioritize purchasing aircraft manufactured in 2010 or later**. These newer aircraft:\n",
    "\n",
    "- Operate with **modern safety features** and **advanced avionics**\n",
    "- Are governed by **stricter post-2000 FAA and international safety regulations**\n",
    "- Show **lower historical accident rates**, indicating **reduced operational risk**\n",
    "- Also enough data on performance of each aircraft and me\n",
    "\n",
    "###  Strategic Value\n",
    "\n",
    "Investing in newer aircraft not only reduces exposure to safety and maintenance issues, but also aligns the company with broader industry shifts toward:\n",
    "\n",
    "- **Sustainability**\n",
    "- **Automation**\n",
    "- **Compliance with updated airworthiness standards**\n",
    "------\n"
   ]
  },
  {
   "cell_type": "markdown",
   "id": "1b30fdbf",
   "metadata": {},
   "source": [
    "2. `number_of_engines` *\"What is the most common engine configuration among aircraft involved in accidents, and what might that imply for operational risk and strategic investment?\"*"
   ]
  },
  {
   "cell_type": "code",
   "execution_count": 88,
   "id": "11df2863",
   "metadata": {},
   "outputs": [
    {
     "data": {
      "application/vnd.plotly.v1+json": {
       "config": {
        "plotlyServerURL": "https://plot.ly"
       },
       "data": [
        {
         "hovertemplate": "Number of Engines=%{x}<br>Number of Aircraft=%{y}<extra></extra>",
         "legendgroup": "",
         "marker": {
          "color": "skyblue",
          "pattern": {
           "shape": ""
          }
         },
         "name": "",
         "orientation": "v",
         "showlegend": false,
         "textposition": "auto",
         "type": "bar",
         "x": {
          "bdata": "AAAAAAAAAAAAAAAAAADwPwAAAAAAAABAAAAAAAAACEAAAAAAAAAQQAAAAAAAABhAAAAAAAAAIEA=",
          "dtype": "f8"
         },
         "xaxis": "x",
         "y": {
          "bdata": "IgYAAEoQAQDOJwAAsQEAAFkBAAABAAAAAwAAAA==",
          "dtype": "i4"
         },
         "yaxis": "y"
        }
       ],
       "layout": {
        "barmode": "relative",
        "font": {
         "size": 14
        },
        "legend": {
         "tracegroupgap": 0
        },
        "margin": {
         "b": 40,
         "l": 50,
         "r": 40,
         "t": 60
        },
        "template": {
         "data": {
          "bar": [
           {
            "error_x": {
             "color": "#2a3f5f"
            },
            "error_y": {
             "color": "#2a3f5f"
            },
            "marker": {
             "line": {
              "color": "white",
              "width": 0.5
             },
             "pattern": {
              "fillmode": "overlay",
              "size": 10,
              "solidity": 0.2
             }
            },
            "type": "bar"
           }
          ],
          "barpolar": [
           {
            "marker": {
             "line": {
              "color": "white",
              "width": 0.5
             },
             "pattern": {
              "fillmode": "overlay",
              "size": 10,
              "solidity": 0.2
             }
            },
            "type": "barpolar"
           }
          ],
          "carpet": [
           {
            "aaxis": {
             "endlinecolor": "#2a3f5f",
             "gridcolor": "#C8D4E3",
             "linecolor": "#C8D4E3",
             "minorgridcolor": "#C8D4E3",
             "startlinecolor": "#2a3f5f"
            },
            "baxis": {
             "endlinecolor": "#2a3f5f",
             "gridcolor": "#C8D4E3",
             "linecolor": "#C8D4E3",
             "minorgridcolor": "#C8D4E3",
             "startlinecolor": "#2a3f5f"
            },
            "type": "carpet"
           }
          ],
          "choropleth": [
           {
            "colorbar": {
             "outlinewidth": 0,
             "ticks": ""
            },
            "type": "choropleth"
           }
          ],
          "contour": [
           {
            "colorbar": {
             "outlinewidth": 0,
             "ticks": ""
            },
            "colorscale": [
             [
              0,
              "#0d0887"
             ],
             [
              0.1111111111111111,
              "#46039f"
             ],
             [
              0.2222222222222222,
              "#7201a8"
             ],
             [
              0.3333333333333333,
              "#9c179e"
             ],
             [
              0.4444444444444444,
              "#bd3786"
             ],
             [
              0.5555555555555556,
              "#d8576b"
             ],
             [
              0.6666666666666666,
              "#ed7953"
             ],
             [
              0.7777777777777778,
              "#fb9f3a"
             ],
             [
              0.8888888888888888,
              "#fdca26"
             ],
             [
              1,
              "#f0f921"
             ]
            ],
            "type": "contour"
           }
          ],
          "contourcarpet": [
           {
            "colorbar": {
             "outlinewidth": 0,
             "ticks": ""
            },
            "type": "contourcarpet"
           }
          ],
          "heatmap": [
           {
            "colorbar": {
             "outlinewidth": 0,
             "ticks": ""
            },
            "colorscale": [
             [
              0,
              "#0d0887"
             ],
             [
              0.1111111111111111,
              "#46039f"
             ],
             [
              0.2222222222222222,
              "#7201a8"
             ],
             [
              0.3333333333333333,
              "#9c179e"
             ],
             [
              0.4444444444444444,
              "#bd3786"
             ],
             [
              0.5555555555555556,
              "#d8576b"
             ],
             [
              0.6666666666666666,
              "#ed7953"
             ],
             [
              0.7777777777777778,
              "#fb9f3a"
             ],
             [
              0.8888888888888888,
              "#fdca26"
             ],
             [
              1,
              "#f0f921"
             ]
            ],
            "type": "heatmap"
           }
          ],
          "histogram": [
           {
            "marker": {
             "pattern": {
              "fillmode": "overlay",
              "size": 10,
              "solidity": 0.2
             }
            },
            "type": "histogram"
           }
          ],
          "histogram2d": [
           {
            "colorbar": {
             "outlinewidth": 0,
             "ticks": ""
            },
            "colorscale": [
             [
              0,
              "#0d0887"
             ],
             [
              0.1111111111111111,
              "#46039f"
             ],
             [
              0.2222222222222222,
              "#7201a8"
             ],
             [
              0.3333333333333333,
              "#9c179e"
             ],
             [
              0.4444444444444444,
              "#bd3786"
             ],
             [
              0.5555555555555556,
              "#d8576b"
             ],
             [
              0.6666666666666666,
              "#ed7953"
             ],
             [
              0.7777777777777778,
              "#fb9f3a"
             ],
             [
              0.8888888888888888,
              "#fdca26"
             ],
             [
              1,
              "#f0f921"
             ]
            ],
            "type": "histogram2d"
           }
          ],
          "histogram2dcontour": [
           {
            "colorbar": {
             "outlinewidth": 0,
             "ticks": ""
            },
            "colorscale": [
             [
              0,
              "#0d0887"
             ],
             [
              0.1111111111111111,
              "#46039f"
             ],
             [
              0.2222222222222222,
              "#7201a8"
             ],
             [
              0.3333333333333333,
              "#9c179e"
             ],
             [
              0.4444444444444444,
              "#bd3786"
             ],
             [
              0.5555555555555556,
              "#d8576b"
             ],
             [
              0.6666666666666666,
              "#ed7953"
             ],
             [
              0.7777777777777778,
              "#fb9f3a"
             ],
             [
              0.8888888888888888,
              "#fdca26"
             ],
             [
              1,
              "#f0f921"
             ]
            ],
            "type": "histogram2dcontour"
           }
          ],
          "mesh3d": [
           {
            "colorbar": {
             "outlinewidth": 0,
             "ticks": ""
            },
            "type": "mesh3d"
           }
          ],
          "parcoords": [
           {
            "line": {
             "colorbar": {
              "outlinewidth": 0,
              "ticks": ""
             }
            },
            "type": "parcoords"
           }
          ],
          "pie": [
           {
            "automargin": true,
            "type": "pie"
           }
          ],
          "scatter": [
           {
            "fillpattern": {
             "fillmode": "overlay",
             "size": 10,
             "solidity": 0.2
            },
            "type": "scatter"
           }
          ],
          "scatter3d": [
           {
            "line": {
             "colorbar": {
              "outlinewidth": 0,
              "ticks": ""
             }
            },
            "marker": {
             "colorbar": {
              "outlinewidth": 0,
              "ticks": ""
             }
            },
            "type": "scatter3d"
           }
          ],
          "scattercarpet": [
           {
            "marker": {
             "colorbar": {
              "outlinewidth": 0,
              "ticks": ""
             }
            },
            "type": "scattercarpet"
           }
          ],
          "scattergeo": [
           {
            "marker": {
             "colorbar": {
              "outlinewidth": 0,
              "ticks": ""
             }
            },
            "type": "scattergeo"
           }
          ],
          "scattergl": [
           {
            "marker": {
             "colorbar": {
              "outlinewidth": 0,
              "ticks": ""
             }
            },
            "type": "scattergl"
           }
          ],
          "scattermap": [
           {
            "marker": {
             "colorbar": {
              "outlinewidth": 0,
              "ticks": ""
             }
            },
            "type": "scattermap"
           }
          ],
          "scattermapbox": [
           {
            "marker": {
             "colorbar": {
              "outlinewidth": 0,
              "ticks": ""
             }
            },
            "type": "scattermapbox"
           }
          ],
          "scatterpolar": [
           {
            "marker": {
             "colorbar": {
              "outlinewidth": 0,
              "ticks": ""
             }
            },
            "type": "scatterpolar"
           }
          ],
          "scatterpolargl": [
           {
            "marker": {
             "colorbar": {
              "outlinewidth": 0,
              "ticks": ""
             }
            },
            "type": "scatterpolargl"
           }
          ],
          "scatterternary": [
           {
            "marker": {
             "colorbar": {
              "outlinewidth": 0,
              "ticks": ""
             }
            },
            "type": "scatterternary"
           }
          ],
          "surface": [
           {
            "colorbar": {
             "outlinewidth": 0,
             "ticks": ""
            },
            "colorscale": [
             [
              0,
              "#0d0887"
             ],
             [
              0.1111111111111111,
              "#46039f"
             ],
             [
              0.2222222222222222,
              "#7201a8"
             ],
             [
              0.3333333333333333,
              "#9c179e"
             ],
             [
              0.4444444444444444,
              "#bd3786"
             ],
             [
              0.5555555555555556,
              "#d8576b"
             ],
             [
              0.6666666666666666,
              "#ed7953"
             ],
             [
              0.7777777777777778,
              "#fb9f3a"
             ],
             [
              0.8888888888888888,
              "#fdca26"
             ],
             [
              1,
              "#f0f921"
             ]
            ],
            "type": "surface"
           }
          ],
          "table": [
           {
            "cells": {
             "fill": {
              "color": "#EBF0F8"
             },
             "line": {
              "color": "white"
             }
            },
            "header": {
             "fill": {
              "color": "#C8D4E3"
             },
             "line": {
              "color": "white"
             }
            },
            "type": "table"
           }
          ]
         },
         "layout": {
          "annotationdefaults": {
           "arrowcolor": "#2a3f5f",
           "arrowhead": 0,
           "arrowwidth": 1
          },
          "autotypenumbers": "strict",
          "coloraxis": {
           "colorbar": {
            "outlinewidth": 0,
            "ticks": ""
           }
          },
          "colorscale": {
           "diverging": [
            [
             0,
             "#8e0152"
            ],
            [
             0.1,
             "#c51b7d"
            ],
            [
             0.2,
             "#de77ae"
            ],
            [
             0.3,
             "#f1b6da"
            ],
            [
             0.4,
             "#fde0ef"
            ],
            [
             0.5,
             "#f7f7f7"
            ],
            [
             0.6,
             "#e6f5d0"
            ],
            [
             0.7,
             "#b8e186"
            ],
            [
             0.8,
             "#7fbc41"
            ],
            [
             0.9,
             "#4d9221"
            ],
            [
             1,
             "#276419"
            ]
           ],
           "sequential": [
            [
             0,
             "#0d0887"
            ],
            [
             0.1111111111111111,
             "#46039f"
            ],
            [
             0.2222222222222222,
             "#7201a8"
            ],
            [
             0.3333333333333333,
             "#9c179e"
            ],
            [
             0.4444444444444444,
             "#bd3786"
            ],
            [
             0.5555555555555556,
             "#d8576b"
            ],
            [
             0.6666666666666666,
             "#ed7953"
            ],
            [
             0.7777777777777778,
             "#fb9f3a"
            ],
            [
             0.8888888888888888,
             "#fdca26"
            ],
            [
             1,
             "#f0f921"
            ]
           ],
           "sequentialminus": [
            [
             0,
             "#0d0887"
            ],
            [
             0.1111111111111111,
             "#46039f"
            ],
            [
             0.2222222222222222,
             "#7201a8"
            ],
            [
             0.3333333333333333,
             "#9c179e"
            ],
            [
             0.4444444444444444,
             "#bd3786"
            ],
            [
             0.5555555555555556,
             "#d8576b"
            ],
            [
             0.6666666666666666,
             "#ed7953"
            ],
            [
             0.7777777777777778,
             "#fb9f3a"
            ],
            [
             0.8888888888888888,
             "#fdca26"
            ],
            [
             1,
             "#f0f921"
            ]
           ]
          },
          "colorway": [
           "#636efa",
           "#EF553B",
           "#00cc96",
           "#ab63fa",
           "#FFA15A",
           "#19d3f3",
           "#FF6692",
           "#B6E880",
           "#FF97FF",
           "#FECB52"
          ],
          "font": {
           "color": "#2a3f5f"
          },
          "geo": {
           "bgcolor": "white",
           "lakecolor": "white",
           "landcolor": "white",
           "showlakes": true,
           "showland": true,
           "subunitcolor": "#C8D4E3"
          },
          "hoverlabel": {
           "align": "left"
          },
          "hovermode": "closest",
          "mapbox": {
           "style": "light"
          },
          "paper_bgcolor": "white",
          "plot_bgcolor": "white",
          "polar": {
           "angularaxis": {
            "gridcolor": "#EBF0F8",
            "linecolor": "#EBF0F8",
            "ticks": ""
           },
           "bgcolor": "white",
           "radialaxis": {
            "gridcolor": "#EBF0F8",
            "linecolor": "#EBF0F8",
            "ticks": ""
           }
          },
          "scene": {
           "xaxis": {
            "backgroundcolor": "white",
            "gridcolor": "#DFE8F3",
            "gridwidth": 2,
            "linecolor": "#EBF0F8",
            "showbackground": true,
            "ticks": "",
            "zerolinecolor": "#EBF0F8"
           },
           "yaxis": {
            "backgroundcolor": "white",
            "gridcolor": "#DFE8F3",
            "gridwidth": 2,
            "linecolor": "#EBF0F8",
            "showbackground": true,
            "ticks": "",
            "zerolinecolor": "#EBF0F8"
           },
           "zaxis": {
            "backgroundcolor": "white",
            "gridcolor": "#DFE8F3",
            "gridwidth": 2,
            "linecolor": "#EBF0F8",
            "showbackground": true,
            "ticks": "",
            "zerolinecolor": "#EBF0F8"
           }
          },
          "shapedefaults": {
           "line": {
            "color": "#2a3f5f"
           }
          },
          "ternary": {
           "aaxis": {
            "gridcolor": "#DFE8F3",
            "linecolor": "#A2B1C6",
            "ticks": ""
           },
           "baxis": {
            "gridcolor": "#DFE8F3",
            "linecolor": "#A2B1C6",
            "ticks": ""
           },
           "bgcolor": "white",
           "caxis": {
            "gridcolor": "#DFE8F3",
            "linecolor": "#A2B1C6",
            "ticks": ""
           }
          },
          "title": {
           "x": 0.05
          },
          "xaxis": {
           "automargin": true,
           "gridcolor": "#EBF0F8",
           "linecolor": "#EBF0F8",
           "ticks": "",
           "title": {
            "standoff": 15
           },
           "zerolinecolor": "#EBF0F8",
           "zerolinewidth": 2
          },
          "yaxis": {
           "automargin": true,
           "gridcolor": "#EBF0F8",
           "linecolor": "#EBF0F8",
           "ticks": "",
           "title": {
            "standoff": 15
           },
           "zerolinecolor": "#EBF0F8",
           "zerolinewidth": 2
          }
         }
        },
        "title": {
         "font": {
          "size": 20
         },
         "text": "Distribution of Number of Engines in Aircrafts"
        },
        "xaxis": {
         "anchor": "y",
         "domain": [
          0,
          1
         ],
         "dtick": 1,
         "tickangle": 0,
         "title": {
          "text": "Number of Engines"
         }
        },
        "yaxis": {
         "anchor": "x",
         "domain": [
          0,
          1
         ],
         "gridcolor": "lightgrey",
         "title": {
          "text": "Number of Aircraft"
         }
        }
       }
      }
     },
     "metadata": {},
     "output_type": "display_data"
    }
   ],
   "source": [
    "engine_counts = us_data['number_of_engines'].value_counts().sort_index().reset_index()\n",
    "engine_counts.columns = ['number_of_engines', 'count']\n",
    "fig = px.bar(\n",
    "    engine_counts,\n",
    "    x='number_of_engines',\n",
    "    y='count',\n",
    "    title='Distribution of Number of Engines in Aircrafts',\n",
    "    labels={'number_of_engines': 'Number of Engines', 'count': 'Number of Aircraft'},\n",
    "    color_discrete_sequence=['skyblue']\n",
    ")\n",
    "\n",
    "\n",
    "fig.update_layout(\n",
    "    template='plotly_white',\n",
    "    title_font_size=20,\n",
    "    font=dict(size=14),\n",
    "    yaxis_gridcolor='lightgrey',\n",
    "    xaxis_tickangle=0,\n",
    "    xaxis=dict(dtick=1),\n",
    "    margin=dict(t=60, b=40, l=50, r=40)\n",
    ")\n",
    "\n",
    "fig.show()\n",
    "\n"
   ]
  },
  {
   "cell_type": "markdown",
   "id": "d893c01a",
   "metadata": {},
   "source": [
    "### Observation & Interpretation\n",
    "\n",
    "When I analyzed the distribution of aircraft accidents by the number of engines, a clear pattern emerged:\n",
    "\n",
    "- **Single-engine aircraft** dominate the dataset, followed by **twin-engine aircraft**\n",
    "- Aircraft with **three or more engines** are exceedingly rare\n",
    "- Entries with **zero engines** likely represent anomalies such as gliders, balloons, or experimental aircraft used in extreme sports or scientific missions\n",
    "\n",
    "This pattern makes practical sense—single- and twin-engine aircraft are widely favored due to:\n",
    "\n",
    "- Lower acquisition and maintenance costs  \n",
    "- Simplified operations and pilot training  \n",
    "- Suitability for general aviation and small-scale commercial missions  \n",
    "\n",
    "Additionally, as aviation technology advances, engine efficiency and power have improved significantly. Modern single turboprop or jet engines often deliver performance that previously required dual-engine setups. The industry is prioritizing **engine quality, design, and system redundancy** over sheer engine count.\n",
    "\n",
    "---\n",
    "\n",
    "### Recommendation\n",
    "\n",
    "Unless the company plans to expand into **niche aviation segments** like extreme sports, research missions, or high-capacity commercial transport, I recommend focusing investment on **modern single- or twin-engine aircraft**.\n",
    "\n",
    "These aircraft offer:\n",
    "\n",
    "- A favorable balance of **performance and cost**\n",
    "- Easier **regulatory compliance**\n",
    "- Broad **availability of maintenance infrastructure** and parts\n",
    "\n",
    "**Multi-engine aircraft (3+)** should be considered only if the business model includes high-capacity or international long-haul operations, which bring significant **financial, regulatory, and operational overhead**.\n",
    "\n",
    "While this insight is valuable, I plan to validate it further through bivariate and multivariate analyses—particularly by cross-referencing engine count with **injury severity**, **purpose of flight**, and **aircraft make** for deeper operational risk insights.\n"
   ]
  },
  {
   "cell_type": "markdown",
   "id": "14027547",
   "metadata": {},
   "source": [
    "3. `total_individuals_affected`: *How many individuals are typically affected in aircraft accidents?\n",
    "This variable captures the total number of people involved per incident, aggregating fatalities, serious injuries, minor injuries, and uninjured individuals making it a critical measure of impact severity.*"
   ]
  },
  {
   "cell_type": "code",
   "execution_count": 89,
   "id": "8883d1e5",
   "metadata": {},
   "outputs": [
    {
     "data": {
      "application/vnd.plotly.v1+json": {
       "config": {
        "plotlyServerURL": "https://plot.ly"
       },
       "data": [
        {
         "hovertemplate": "Individuals Affected=%{x}<br>Number of Accidents=%{text}<extra></extra>",
         "legendgroup": "",
         "marker": {
          "color": "indianred",
          "pattern": {
           "shape": ""
          }
         },
         "name": "",
         "orientation": "v",
         "showlegend": false,
         "text": {
          "bdata": "AAAAAACAZEAAAAAAQEjiQAAAAAAAY9pAAAAAAABTvEAAAAAAAPSyQAAAAAAAzJZAAAAAAABwiEAAAAAAACB5QAAAAAAAIGpAAAAAAADAYkAAAAAAAABeQAAAAAAAAFVAAAAAAAAAUEAAAAAAAIBFQAAAAAAAgERAAAAAAAAAPkAAAAAAAIBGQAAAAAAAADpAAAAAAACAQUAAAAAAAAAzQAAAAAAAAD9AAAAAAAAAOUAAAAAAAAAzQAAAAAAAAChAAAAAAAAALEAAAAAAAAAsQAAAAAAAACpAAAAAAAAAMEAAAAAAAAAiQAAAAAAAAC5AAAAAAAAALEA=",
          "dtype": "f8"
         },
         "textposition": "auto",
         "type": "bar",
         "x": {
          "bdata": "AAAAAAAAAAAAAAAAAADwPwAAAAAAAABAAAAAAAAACEAAAAAAAAAQQAAAAAAAABRAAAAAAAAAGEAAAAAAAAAcQAAAAAAAACBAAAAAAAAAIkAAAAAAAAAkQAAAAAAAACZAAAAAAAAAKEAAAAAAAAAqQAAAAAAAACxAAAAAAAAALkAAAAAAAAAwQAAAAAAAADFAAAAAAAAAMkAAAAAAAAAzQAAAAAAAADRAAAAAAAAANUAAAAAAAAA2QAAAAAAAADdAAAAAAAAAOEAAAAAAAAA5QAAAAAAAADpAAAAAAAAAO0AAAAAAAAA8QAAAAAAAAD1AAAAAAAAAPkA=",
          "dtype": "f8"
         },
         "xaxis": "x",
         "y": {
          "bdata": "pAAAAEKSAACMaQAAUxwAAPQSAACzBQAADgMAAJIBAADRAAAAlgAAAHgAAABUAAAAQAAAACsAAAApAAAAHgAAAC0AAAAaAAAAIwAAABMAAAAfAAAAGQAAABMAAAAMAAAADgAAAA4AAAANAAAAEAAAAAkAAAAPAAAADgAAAA==",
          "dtype": "i4"
         },
         "yaxis": "y"
        }
       ],
       "layout": {
        "barmode": "relative",
        "font": {
         "size": 14
        },
        "legend": {
         "tracegroupgap": 0
        },
        "template": {
         "data": {
          "bar": [
           {
            "error_x": {
             "color": "#2a3f5f"
            },
            "error_y": {
             "color": "#2a3f5f"
            },
            "marker": {
             "line": {
              "color": "white",
              "width": 0.5
             },
             "pattern": {
              "fillmode": "overlay",
              "size": 10,
              "solidity": 0.2
             }
            },
            "type": "bar"
           }
          ],
          "barpolar": [
           {
            "marker": {
             "line": {
              "color": "white",
              "width": 0.5
             },
             "pattern": {
              "fillmode": "overlay",
              "size": 10,
              "solidity": 0.2
             }
            },
            "type": "barpolar"
           }
          ],
          "carpet": [
           {
            "aaxis": {
             "endlinecolor": "#2a3f5f",
             "gridcolor": "#C8D4E3",
             "linecolor": "#C8D4E3",
             "minorgridcolor": "#C8D4E3",
             "startlinecolor": "#2a3f5f"
            },
            "baxis": {
             "endlinecolor": "#2a3f5f",
             "gridcolor": "#C8D4E3",
             "linecolor": "#C8D4E3",
             "minorgridcolor": "#C8D4E3",
             "startlinecolor": "#2a3f5f"
            },
            "type": "carpet"
           }
          ],
          "choropleth": [
           {
            "colorbar": {
             "outlinewidth": 0,
             "ticks": ""
            },
            "type": "choropleth"
           }
          ],
          "contour": [
           {
            "colorbar": {
             "outlinewidth": 0,
             "ticks": ""
            },
            "colorscale": [
             [
              0,
              "#0d0887"
             ],
             [
              0.1111111111111111,
              "#46039f"
             ],
             [
              0.2222222222222222,
              "#7201a8"
             ],
             [
              0.3333333333333333,
              "#9c179e"
             ],
             [
              0.4444444444444444,
              "#bd3786"
             ],
             [
              0.5555555555555556,
              "#d8576b"
             ],
             [
              0.6666666666666666,
              "#ed7953"
             ],
             [
              0.7777777777777778,
              "#fb9f3a"
             ],
             [
              0.8888888888888888,
              "#fdca26"
             ],
             [
              1,
              "#f0f921"
             ]
            ],
            "type": "contour"
           }
          ],
          "contourcarpet": [
           {
            "colorbar": {
             "outlinewidth": 0,
             "ticks": ""
            },
            "type": "contourcarpet"
           }
          ],
          "heatmap": [
           {
            "colorbar": {
             "outlinewidth": 0,
             "ticks": ""
            },
            "colorscale": [
             [
              0,
              "#0d0887"
             ],
             [
              0.1111111111111111,
              "#46039f"
             ],
             [
              0.2222222222222222,
              "#7201a8"
             ],
             [
              0.3333333333333333,
              "#9c179e"
             ],
             [
              0.4444444444444444,
              "#bd3786"
             ],
             [
              0.5555555555555556,
              "#d8576b"
             ],
             [
              0.6666666666666666,
              "#ed7953"
             ],
             [
              0.7777777777777778,
              "#fb9f3a"
             ],
             [
              0.8888888888888888,
              "#fdca26"
             ],
             [
              1,
              "#f0f921"
             ]
            ],
            "type": "heatmap"
           }
          ],
          "histogram": [
           {
            "marker": {
             "pattern": {
              "fillmode": "overlay",
              "size": 10,
              "solidity": 0.2
             }
            },
            "type": "histogram"
           }
          ],
          "histogram2d": [
           {
            "colorbar": {
             "outlinewidth": 0,
             "ticks": ""
            },
            "colorscale": [
             [
              0,
              "#0d0887"
             ],
             [
              0.1111111111111111,
              "#46039f"
             ],
             [
              0.2222222222222222,
              "#7201a8"
             ],
             [
              0.3333333333333333,
              "#9c179e"
             ],
             [
              0.4444444444444444,
              "#bd3786"
             ],
             [
              0.5555555555555556,
              "#d8576b"
             ],
             [
              0.6666666666666666,
              "#ed7953"
             ],
             [
              0.7777777777777778,
              "#fb9f3a"
             ],
             [
              0.8888888888888888,
              "#fdca26"
             ],
             [
              1,
              "#f0f921"
             ]
            ],
            "type": "histogram2d"
           }
          ],
          "histogram2dcontour": [
           {
            "colorbar": {
             "outlinewidth": 0,
             "ticks": ""
            },
            "colorscale": [
             [
              0,
              "#0d0887"
             ],
             [
              0.1111111111111111,
              "#46039f"
             ],
             [
              0.2222222222222222,
              "#7201a8"
             ],
             [
              0.3333333333333333,
              "#9c179e"
             ],
             [
              0.4444444444444444,
              "#bd3786"
             ],
             [
              0.5555555555555556,
              "#d8576b"
             ],
             [
              0.6666666666666666,
              "#ed7953"
             ],
             [
              0.7777777777777778,
              "#fb9f3a"
             ],
             [
              0.8888888888888888,
              "#fdca26"
             ],
             [
              1,
              "#f0f921"
             ]
            ],
            "type": "histogram2dcontour"
           }
          ],
          "mesh3d": [
           {
            "colorbar": {
             "outlinewidth": 0,
             "ticks": ""
            },
            "type": "mesh3d"
           }
          ],
          "parcoords": [
           {
            "line": {
             "colorbar": {
              "outlinewidth": 0,
              "ticks": ""
             }
            },
            "type": "parcoords"
           }
          ],
          "pie": [
           {
            "automargin": true,
            "type": "pie"
           }
          ],
          "scatter": [
           {
            "fillpattern": {
             "fillmode": "overlay",
             "size": 10,
             "solidity": 0.2
            },
            "type": "scatter"
           }
          ],
          "scatter3d": [
           {
            "line": {
             "colorbar": {
              "outlinewidth": 0,
              "ticks": ""
             }
            },
            "marker": {
             "colorbar": {
              "outlinewidth": 0,
              "ticks": ""
             }
            },
            "type": "scatter3d"
           }
          ],
          "scattercarpet": [
           {
            "marker": {
             "colorbar": {
              "outlinewidth": 0,
              "ticks": ""
             }
            },
            "type": "scattercarpet"
           }
          ],
          "scattergeo": [
           {
            "marker": {
             "colorbar": {
              "outlinewidth": 0,
              "ticks": ""
             }
            },
            "type": "scattergeo"
           }
          ],
          "scattergl": [
           {
            "marker": {
             "colorbar": {
              "outlinewidth": 0,
              "ticks": ""
             }
            },
            "type": "scattergl"
           }
          ],
          "scattermap": [
           {
            "marker": {
             "colorbar": {
              "outlinewidth": 0,
              "ticks": ""
             }
            },
            "type": "scattermap"
           }
          ],
          "scattermapbox": [
           {
            "marker": {
             "colorbar": {
              "outlinewidth": 0,
              "ticks": ""
             }
            },
            "type": "scattermapbox"
           }
          ],
          "scatterpolar": [
           {
            "marker": {
             "colorbar": {
              "outlinewidth": 0,
              "ticks": ""
             }
            },
            "type": "scatterpolar"
           }
          ],
          "scatterpolargl": [
           {
            "marker": {
             "colorbar": {
              "outlinewidth": 0,
              "ticks": ""
             }
            },
            "type": "scatterpolargl"
           }
          ],
          "scatterternary": [
           {
            "marker": {
             "colorbar": {
              "outlinewidth": 0,
              "ticks": ""
             }
            },
            "type": "scatterternary"
           }
          ],
          "surface": [
           {
            "colorbar": {
             "outlinewidth": 0,
             "ticks": ""
            },
            "colorscale": [
             [
              0,
              "#0d0887"
             ],
             [
              0.1111111111111111,
              "#46039f"
             ],
             [
              0.2222222222222222,
              "#7201a8"
             ],
             [
              0.3333333333333333,
              "#9c179e"
             ],
             [
              0.4444444444444444,
              "#bd3786"
             ],
             [
              0.5555555555555556,
              "#d8576b"
             ],
             [
              0.6666666666666666,
              "#ed7953"
             ],
             [
              0.7777777777777778,
              "#fb9f3a"
             ],
             [
              0.8888888888888888,
              "#fdca26"
             ],
             [
              1,
              "#f0f921"
             ]
            ],
            "type": "surface"
           }
          ],
          "table": [
           {
            "cells": {
             "fill": {
              "color": "#EBF0F8"
             },
             "line": {
              "color": "white"
             }
            },
            "header": {
             "fill": {
              "color": "#C8D4E3"
             },
             "line": {
              "color": "white"
             }
            },
            "type": "table"
           }
          ]
         },
         "layout": {
          "annotationdefaults": {
           "arrowcolor": "#2a3f5f",
           "arrowhead": 0,
           "arrowwidth": 1
          },
          "autotypenumbers": "strict",
          "coloraxis": {
           "colorbar": {
            "outlinewidth": 0,
            "ticks": ""
           }
          },
          "colorscale": {
           "diverging": [
            [
             0,
             "#8e0152"
            ],
            [
             0.1,
             "#c51b7d"
            ],
            [
             0.2,
             "#de77ae"
            ],
            [
             0.3,
             "#f1b6da"
            ],
            [
             0.4,
             "#fde0ef"
            ],
            [
             0.5,
             "#f7f7f7"
            ],
            [
             0.6,
             "#e6f5d0"
            ],
            [
             0.7,
             "#b8e186"
            ],
            [
             0.8,
             "#7fbc41"
            ],
            [
             0.9,
             "#4d9221"
            ],
            [
             1,
             "#276419"
            ]
           ],
           "sequential": [
            [
             0,
             "#0d0887"
            ],
            [
             0.1111111111111111,
             "#46039f"
            ],
            [
             0.2222222222222222,
             "#7201a8"
            ],
            [
             0.3333333333333333,
             "#9c179e"
            ],
            [
             0.4444444444444444,
             "#bd3786"
            ],
            [
             0.5555555555555556,
             "#d8576b"
            ],
            [
             0.6666666666666666,
             "#ed7953"
            ],
            [
             0.7777777777777778,
             "#fb9f3a"
            ],
            [
             0.8888888888888888,
             "#fdca26"
            ],
            [
             1,
             "#f0f921"
            ]
           ],
           "sequentialminus": [
            [
             0,
             "#0d0887"
            ],
            [
             0.1111111111111111,
             "#46039f"
            ],
            [
             0.2222222222222222,
             "#7201a8"
            ],
            [
             0.3333333333333333,
             "#9c179e"
            ],
            [
             0.4444444444444444,
             "#bd3786"
            ],
            [
             0.5555555555555556,
             "#d8576b"
            ],
            [
             0.6666666666666666,
             "#ed7953"
            ],
            [
             0.7777777777777778,
             "#fb9f3a"
            ],
            [
             0.8888888888888888,
             "#fdca26"
            ],
            [
             1,
             "#f0f921"
            ]
           ]
          },
          "colorway": [
           "#636efa",
           "#EF553B",
           "#00cc96",
           "#ab63fa",
           "#FFA15A",
           "#19d3f3",
           "#FF6692",
           "#B6E880",
           "#FF97FF",
           "#FECB52"
          ],
          "font": {
           "color": "#2a3f5f"
          },
          "geo": {
           "bgcolor": "white",
           "lakecolor": "white",
           "landcolor": "white",
           "showlakes": true,
           "showland": true,
           "subunitcolor": "#C8D4E3"
          },
          "hoverlabel": {
           "align": "left"
          },
          "hovermode": "closest",
          "mapbox": {
           "style": "light"
          },
          "paper_bgcolor": "white",
          "plot_bgcolor": "white",
          "polar": {
           "angularaxis": {
            "gridcolor": "#EBF0F8",
            "linecolor": "#EBF0F8",
            "ticks": ""
           },
           "bgcolor": "white",
           "radialaxis": {
            "gridcolor": "#EBF0F8",
            "linecolor": "#EBF0F8",
            "ticks": ""
           }
          },
          "scene": {
           "xaxis": {
            "backgroundcolor": "white",
            "gridcolor": "#DFE8F3",
            "gridwidth": 2,
            "linecolor": "#EBF0F8",
            "showbackground": true,
            "ticks": "",
            "zerolinecolor": "#EBF0F8"
           },
           "yaxis": {
            "backgroundcolor": "white",
            "gridcolor": "#DFE8F3",
            "gridwidth": 2,
            "linecolor": "#EBF0F8",
            "showbackground": true,
            "ticks": "",
            "zerolinecolor": "#EBF0F8"
           },
           "zaxis": {
            "backgroundcolor": "white",
            "gridcolor": "#DFE8F3",
            "gridwidth": 2,
            "linecolor": "#EBF0F8",
            "showbackground": true,
            "ticks": "",
            "zerolinecolor": "#EBF0F8"
           }
          },
          "shapedefaults": {
           "line": {
            "color": "#2a3f5f"
           }
          },
          "ternary": {
           "aaxis": {
            "gridcolor": "#DFE8F3",
            "linecolor": "#A2B1C6",
            "ticks": ""
           },
           "baxis": {
            "gridcolor": "#DFE8F3",
            "linecolor": "#A2B1C6",
            "ticks": ""
           },
           "bgcolor": "white",
           "caxis": {
            "gridcolor": "#DFE8F3",
            "linecolor": "#A2B1C6",
            "ticks": ""
           }
          },
          "title": {
           "x": 0.05
          },
          "xaxis": {
           "automargin": true,
           "gridcolor": "#EBF0F8",
           "linecolor": "#EBF0F8",
           "ticks": "",
           "title": {
            "standoff": 15
           },
           "zerolinecolor": "#EBF0F8",
           "zerolinewidth": 2
          },
          "yaxis": {
           "automargin": true,
           "gridcolor": "#EBF0F8",
           "linecolor": "#EBF0F8",
           "ticks": "",
           "title": {
            "standoff": 15
           },
           "zerolinecolor": "#EBF0F8",
           "zerolinewidth": 2
          }
         }
        },
        "title": {
         "text": "Distribution of Total Individuals Affected (0–20)"
        },
        "xaxis": {
         "anchor": "y",
         "domain": [
          0,
          1
         ],
         "dtick": 1,
         "title": {
          "text": "Individuals Affected"
         }
        },
        "yaxis": {
         "anchor": "x",
         "domain": [
          0,
          1
         ],
         "gridcolor": "lightgrey",
         "title": {
          "text": "Number of Accidents"
         }
        }
       }
      }
     },
     "metadata": {},
     "output_type": "display_data"
    }
   ],
   "source": [
    "top_counts = (\n",
    "    us_data['total_individuals_affected']\n",
    "    .value_counts()\n",
    "    .sort_index()\n",
    "    .reset_index()\n",
    ")\n",
    "top_counts.columns = ['total_individuals_affected', 'count']\n",
    "top_counts = top_counts[top_counts['total_individuals_affected'] <= 30]\n",
    "\n",
    "fig = px.bar(\n",
    "    top_counts,\n",
    "    x='total_individuals_affected',\n",
    "    y='count',\n",
    "    title='Distribution of Total Individuals Affected (0–20)',\n",
    "    labels={\n",
    "        'total_individuals_affected': 'Individuals Affected',\n",
    "        'count': 'Number of Accidents'\n",
    "    },\n",
    "    color_discrete_sequence=['indianred'],\n",
    "    text='count'\n",
    ")\n",
    "\n",
    "fig.update_layout(\n",
    "    template='plotly_white',\n",
    "    font=dict(size=14),\n",
    "    xaxis=dict(dtick=1),\n",
    "    yaxis_gridcolor='lightgrey'\n",
    ")\n",
    "fig.show()"
   ]
  },
  {
   "cell_type": "code",
   "execution_count": 90,
   "id": "ef18ad9c",
   "metadata": {},
   "outputs": [
    {
     "data": {
      "image/png": "[encoded data removed]",
      "text/plain": [
       "<Figure size 1000x500 with 1 Axes>"
      ]
     },
     "metadata": {},
     "output_type": "display_data"
    }
   ],
   "source": [
    "plt.figure(figsize=(10, 5))\n",
    "sns.boxplot(\n",
    "    data=us_data,\n",
    "    x='total_individuals_affected',\n",
    "    color='skyblue'\n",
    ")\n",
    "\n",
    "plt.title('Distribution of Total Individuals Affected per Accident', fontsize=14)\n",
    "plt.xlabel('Individuals Affected', fontsize=12)\n",
    "plt.xticks(rotation=0)\n",
    "plt.grid(axis='y', linestyle='--', alpha=0.6)\n",
    "plt.tight_layout()\n",
    "plt.show()\n"
   ]
  },
  {
   "cell_type": "markdown",
   "id": "61d2cbc7",
   "metadata": {},
   "source": [
    "\n",
    "\n",
    "###  Observation\n",
    "\n",
    "The distribution of individuals affected per accident is **heavily right-skewed**. Most incidents involve **only one or two individuals**, which is expected, given that small general aviation aircraft typically carry minimal passengers or crew.\n",
    "\n",
    "There is a **steep drop-off after two individuals**, suggesting:\n",
    "\n",
    "- A predominance of smaller aircraft in the dataset  \n",
    "- Potential **underreporting** or **data aggregation limitations**\n",
    "- Differences in **operational patterns** between general and commercial aviation  \n",
    "\n",
    "Notably, there are a few **significant outliers**, with some incidents affecting **over 700 people** — almost certainly commercial airline accidents. While rare, these events have high impact and signal a stark contrast in scale between aviation types.\n",
    "\n",
    "---\n",
    "\n",
    "###  Interpretation\n",
    "\n",
    "This column was derived by aggregating the individual injury fields (fatal, serious, minor, and uninjured). Because imputation would compromise data integrity, the values reflect **only reported data**, which leans toward smaller counts due to:\n",
    "\n",
    "- The nature of general aviation aircraft  \n",
    "- Possible incomplete records in older or less formal incident reports  \n",
    "\n",
    "Overall, this reinforces that **aircraft size correlates strongly with the number of individuals affected**. It's uncommon for large, commercial aircraft to have incidents involving only one or two people unless the event occurred **off-duty**, **on the ground**, or **outside of regular passenger operations**.\n",
    "\n",
    "---\n",
    "\n",
    "###  Recommendation – Strategic Insight\n",
    "\n",
    "#### For Risk-Aware Investment\n",
    "\n",
    "While **smaller aircraft dominate accident counts**, this does **not necessarily equate to higher operational risk**. Their prevalence may stem from:\n",
    "\n",
    "- **Wider use in general aviation**\n",
    "- **Lighter regulatory oversight**\n",
    "- Higher probability of **pilot deviations** or **non-commercial use cases**\n",
    "\n",
    "#### For Operational Safety\n",
    "\n",
    "Despite frequent incidents, the **human impact per accident is low** in general aviation. Still, it’s vital to:\n",
    "\n",
    "- Ensure **strict enforcement** of **airworthiness**, **pilot licensing**, and **routine inspections**\n",
    "- Focus safety protocols on **preventing small-scale but frequent incidents**\n",
    "\n",
    "#### For Commercial Fleet Planning\n",
    "\n",
    "The **rarity of high-casualty events** involving large aircraft supports the idea that **modern commercial aviation is extremely safe**, driven by:\n",
    "\n",
    "- **Rigorous safety regulations**\n",
    "- **Advanced technology**\n",
    "- **Conservative and standardized operations**\n",
    "\n",
    "---\n",
    "\n",
    "###  Strategic Sweet Spot\n",
    "\n",
    "I recommend investing in **well-maintained, modern small aircraft** built for **limited passenger loads**, while still acknowledging the **exceptional safety** of large commercial aircraft. Both categories offer viable opportunities — with the key being **strict adherence to safety standards and operational transparency**.\n"
   ]
  },
  {
   "cell_type": "code",
   "execution_count": 91,
   "id": "f4fa7a0d",
   "metadata": {},
   "outputs": [
    {
     "data": {
      "text/html": [
       "<div>\n",
       "<style scoped>\n",
       "    .dataframe tbody tr th:only-of-type {\n",
       "        vertical-align: middle;\n",
       "    }\n",
       "\n",
       "    .dataframe tbody tr th {\n",
       "        vertical-align: top;\n",
       "    }\n",
       "\n",
       "    .dataframe thead th {\n",
       "        text-align: right;\n",
       "    }\n",
       "</style>\n",
       "<table border=\"1\" class=\"dataframe\">\n",
       "  <thead>\n",
       "    <tr style=\"text-align: right;\">\n",
       "      <th></th>\n",
       "      <th>event_id</th>\n",
       "      <th>investigation_type</th>\n",
       "      <th>accident_number</th>\n",
       "      <th>event_date</th>\n",
       "      <th>location</th>\n",
       "      <th>country</th>\n",
       "      <th>injury_severity</th>\n",
       "      <th>aircraft_damage</th>\n",
       "      <th>aircraft_category</th>\n",
       "      <th>registration_number</th>\n",
       "      <th>...</th>\n",
       "      <th>report_status</th>\n",
       "      <th>city</th>\n",
       "      <th>state</th>\n",
       "      <th>state_full</th>\n",
       "      <th>injury_severity_clean</th>\n",
       "      <th>far_description_explained</th>\n",
       "      <th>total_individuals_affected</th>\n",
       "      <th>injury_data_reported</th>\n",
       "      <th>event_year</th>\n",
       "      <th>event_decade</th>\n",
       "    </tr>\n",
       "  </thead>\n",
       "  <tbody>\n",
       "    <tr>\n",
       "      <th>0</th>\n",
       "      <td>20001218X45444</td>\n",
       "      <td>ACCIDENT</td>\n",
       "      <td>SEA87LA080</td>\n",
       "      <td>1948-10-24</td>\n",
       "      <td>MOOSE CREEK, ID</td>\n",
       "      <td>UNITED STATES</td>\n",
       "      <td>Fatal(2)</td>\n",
       "      <td>DESTROYED</td>\n",
       "      <td>Airplane</td>\n",
       "      <td>NC6404</td>\n",
       "      <td>...</td>\n",
       "      <td>Probable Cause</td>\n",
       "      <td>MOOSE CREEK</td>\n",
       "      <td>ID</td>\n",
       "      <td>IDAHO</td>\n",
       "      <td>FATAL</td>\n",
       "      <td>General Operating and Flight Rules – covers no...</td>\n",
       "      <td>2.0</td>\n",
       "      <td>True</td>\n",
       "      <td>1948</td>\n",
       "      <td>1940</td>\n",
       "    </tr>\n",
       "    <tr>\n",
       "      <th>1</th>\n",
       "      <td>20001218X45447</td>\n",
       "      <td>ACCIDENT</td>\n",
       "      <td>LAX94LA336</td>\n",
       "      <td>1962-07-19</td>\n",
       "      <td>BRIDGEPORT, CA</td>\n",
       "      <td>UNITED STATES</td>\n",
       "      <td>Fatal(4)</td>\n",
       "      <td>DESTROYED</td>\n",
       "      <td>Airplane</td>\n",
       "      <td>N5069P</td>\n",
       "      <td>...</td>\n",
       "      <td>Probable Cause</td>\n",
       "      <td>BRIDGEPORT</td>\n",
       "      <td>CA</td>\n",
       "      <td>CALIFORNIA</td>\n",
       "      <td>FATAL</td>\n",
       "      <td>General Operating and Flight Rules – covers no...</td>\n",
       "      <td>4.0</td>\n",
       "      <td>True</td>\n",
       "      <td>1962</td>\n",
       "      <td>1960</td>\n",
       "    </tr>\n",
       "    <tr>\n",
       "      <th>2</th>\n",
       "      <td>20061025X01555</td>\n",
       "      <td>ACCIDENT</td>\n",
       "      <td>NYC07LA005</td>\n",
       "      <td>1974-08-30</td>\n",
       "      <td>Saltville, VA</td>\n",
       "      <td>UNITED STATES</td>\n",
       "      <td>Fatal(3)</td>\n",
       "      <td>DESTROYED</td>\n",
       "      <td>Airplane</td>\n",
       "      <td>N5142R</td>\n",
       "      <td>...</td>\n",
       "      <td>Probable Cause</td>\n",
       "      <td>SALTVILLE</td>\n",
       "      <td>VA</td>\n",
       "      <td>VIRGINIA</td>\n",
       "      <td>FATAL</td>\n",
       "      <td>General Operating and Flight Rules – covers no...</td>\n",
       "      <td>3.0</td>\n",
       "      <td>True</td>\n",
       "      <td>1974</td>\n",
       "      <td>1970</td>\n",
       "    </tr>\n",
       "    <tr>\n",
       "      <th>3</th>\n",
       "      <td>20001218X45448</td>\n",
       "      <td>ACCIDENT</td>\n",
       "      <td>LAX96LA321</td>\n",
       "      <td>1977-06-19</td>\n",
       "      <td>EUREKA, CA</td>\n",
       "      <td>UNITED STATES</td>\n",
       "      <td>Fatal(2)</td>\n",
       "      <td>DESTROYED</td>\n",
       "      <td>Airplane</td>\n",
       "      <td>N1168J</td>\n",
       "      <td>...</td>\n",
       "      <td>Probable Cause</td>\n",
       "      <td>EUREKA</td>\n",
       "      <td>CA</td>\n",
       "      <td>CALIFORNIA</td>\n",
       "      <td>FATAL</td>\n",
       "      <td>No applicable FAR identified or insufficient d...</td>\n",
       "      <td>2.0</td>\n",
       "      <td>True</td>\n",
       "      <td>1977</td>\n",
       "      <td>1970</td>\n",
       "    </tr>\n",
       "    <tr>\n",
       "      <th>4</th>\n",
       "      <td>20041105X01764</td>\n",
       "      <td>ACCIDENT</td>\n",
       "      <td>CHI79FA064</td>\n",
       "      <td>1979-08-02</td>\n",
       "      <td>Canton, OH</td>\n",
       "      <td>UNITED STATES</td>\n",
       "      <td>Fatal(1)</td>\n",
       "      <td>DESTROYED</td>\n",
       "      <td>Airplane</td>\n",
       "      <td>N15NY</td>\n",
       "      <td>...</td>\n",
       "      <td>Probable Cause</td>\n",
       "      <td>CANTON</td>\n",
       "      <td>OH</td>\n",
       "      <td>OHIO</td>\n",
       "      <td>FATAL</td>\n",
       "      <td>General Operating and Flight Rules – covers no...</td>\n",
       "      <td>3.0</td>\n",
       "      <td>True</td>\n",
       "      <td>1979</td>\n",
       "      <td>1970</td>\n",
       "    </tr>\n",
       "    <tr>\n",
       "      <th>5</th>\n",
       "      <td>20170710X52551</td>\n",
       "      <td>ACCIDENT</td>\n",
       "      <td>NYC79AA106</td>\n",
       "      <td>1979-09-17</td>\n",
       "      <td>BOSTON, MA</td>\n",
       "      <td>UNITED STATES</td>\n",
       "      <td>Non-Fatal</td>\n",
       "      <td>SUBSTANTIAL</td>\n",
       "      <td>Airplane</td>\n",
       "      <td>CF-TLU</td>\n",
       "      <td>...</td>\n",
       "      <td>Probable Cause</td>\n",
       "      <td>BOSTON</td>\n",
       "      <td>MA</td>\n",
       "      <td>MASSACHUSETTS</td>\n",
       "      <td>FATAL</td>\n",
       "      <td>Foreign Air Carriers – operations of foreign a...</td>\n",
       "      <td>45.0</td>\n",
       "      <td>True</td>\n",
       "      <td>1979</td>\n",
       "      <td>1970</td>\n",
       "    </tr>\n",
       "    <tr>\n",
       "      <th>6</th>\n",
       "      <td>20001218X45446</td>\n",
       "      <td>ACCIDENT</td>\n",
       "      <td>CHI81LA106</td>\n",
       "      <td>1981-08-01</td>\n",
       "      <td>COTTON, MN</td>\n",
       "      <td>UNITED STATES</td>\n",
       "      <td>Fatal(4)</td>\n",
       "      <td>DESTROYED</td>\n",
       "      <td>Airplane</td>\n",
       "      <td>N4988E</td>\n",
       "      <td>...</td>\n",
       "      <td>Probable Cause</td>\n",
       "      <td>COTTON</td>\n",
       "      <td>MN</td>\n",
       "      <td>MINNESOTA</td>\n",
       "      <td>FATAL</td>\n",
       "      <td>General Operating and Flight Rules – covers no...</td>\n",
       "      <td>4.0</td>\n",
       "      <td>True</td>\n",
       "      <td>1981</td>\n",
       "      <td>1980</td>\n",
       "    </tr>\n",
       "    <tr>\n",
       "      <th>7</th>\n",
       "      <td>20020909X01562</td>\n",
       "      <td>ACCIDENT</td>\n",
       "      <td>SEA82DA022</td>\n",
       "      <td>1982-01-01</td>\n",
       "      <td>PULLMAN, WA</td>\n",
       "      <td>UNITED STATES</td>\n",
       "      <td>Non-Fatal</td>\n",
       "      <td>SUBSTANTIAL</td>\n",
       "      <td>Airplane</td>\n",
       "      <td>N2482N</td>\n",
       "      <td>...</td>\n",
       "      <td>Probable Cause</td>\n",
       "      <td>PULLMAN</td>\n",
       "      <td>WA</td>\n",
       "      <td>WASHINGTON</td>\n",
       "      <td>FATAL</td>\n",
       "      <td>General Operating and Flight Rules – covers no...</td>\n",
       "      <td>2.0</td>\n",
       "      <td>True</td>\n",
       "      <td>1982</td>\n",
       "      <td>1980</td>\n",
       "    </tr>\n",
       "    <tr>\n",
       "      <th>8</th>\n",
       "      <td>20020909X01561</td>\n",
       "      <td>ACCIDENT</td>\n",
       "      <td>NYC82DA015</td>\n",
       "      <td>1982-01-01</td>\n",
       "      <td>EAST HANOVER, NJ</td>\n",
       "      <td>UNITED STATES</td>\n",
       "      <td>Non-Fatal</td>\n",
       "      <td>SUBSTANTIAL</td>\n",
       "      <td>Airplane</td>\n",
       "      <td>N7967Q</td>\n",
       "      <td>...</td>\n",
       "      <td>Probable Cause</td>\n",
       "      <td>EAST HANOVER</td>\n",
       "      <td>NJ</td>\n",
       "      <td>NEW JERSEY</td>\n",
       "      <td>FATAL</td>\n",
       "      <td>General Operating and Flight Rules – covers no...</td>\n",
       "      <td>2.0</td>\n",
       "      <td>True</td>\n",
       "      <td>1982</td>\n",
       "      <td>1980</td>\n",
       "    </tr>\n",
       "    <tr>\n",
       "      <th>9</th>\n",
       "      <td>20020909X01560</td>\n",
       "      <td>ACCIDENT</td>\n",
       "      <td>MIA82DA029</td>\n",
       "      <td>1982-01-01</td>\n",
       "      <td>JACKSONVILLE, FL</td>\n",
       "      <td>UNITED STATES</td>\n",
       "      <td>Non-Fatal</td>\n",
       "      <td>SUBSTANTIAL</td>\n",
       "      <td>Airplane</td>\n",
       "      <td>N3906K</td>\n",
       "      <td>...</td>\n",
       "      <td>Probable Cause</td>\n",
       "      <td>JACKSONVILLE</td>\n",
       "      <td>FL</td>\n",
       "      <td>FLORIDA</td>\n",
       "      <td>FATAL</td>\n",
       "      <td>No applicable FAR identified or insufficient d...</td>\n",
       "      <td>3.0</td>\n",
       "      <td>True</td>\n",
       "      <td>1982</td>\n",
       "      <td>1980</td>\n",
       "    </tr>\n",
       "  </tbody>\n",
       "</table>\n",
       "<p>10 rows × 33 columns</p>\n",
       "</div>"
      ],
      "text/plain": [
       "         event_id investigation_type accident_number event_date  \\\n",
       "0  20001218X45444           ACCIDENT      SEA87LA080 1948-10-24   \n",
       "1  20001218X45447           ACCIDENT      LAX94LA336 1962-07-19   \n",
       "2  20061025X01555           ACCIDENT      NYC07LA005 1974-08-30   \n",
       "3  20001218X45448           ACCIDENT      LAX96LA321 1977-06-19   \n",
       "4  20041105X01764           ACCIDENT      CHI79FA064 1979-08-02   \n",
       "5  20170710X52551           ACCIDENT      NYC79AA106 1979-09-17   \n",
       "6  20001218X45446           ACCIDENT      CHI81LA106 1981-08-01   \n",
       "7  20020909X01562           ACCIDENT      SEA82DA022 1982-01-01   \n",
       "8  20020909X01561           ACCIDENT      NYC82DA015 1982-01-01   \n",
       "9  20020909X01560           ACCIDENT      MIA82DA029 1982-01-01   \n",
       "\n",
       "           location        country injury_severity aircraft_damage  \\\n",
       "0   MOOSE CREEK, ID  UNITED STATES        Fatal(2)       DESTROYED   \n",
       "1    BRIDGEPORT, CA  UNITED STATES        Fatal(4)       DESTROYED   \n",
       "2     Saltville, VA  UNITED STATES        Fatal(3)       DESTROYED   \n",
       "3        EUREKA, CA  UNITED STATES        Fatal(2)       DESTROYED   \n",
       "4        Canton, OH  UNITED STATES        Fatal(1)       DESTROYED   \n",
       "5        BOSTON, MA  UNITED STATES       Non-Fatal     SUBSTANTIAL   \n",
       "6        COTTON, MN  UNITED STATES        Fatal(4)       DESTROYED   \n",
       "7       PULLMAN, WA  UNITED STATES       Non-Fatal     SUBSTANTIAL   \n",
       "8  EAST HANOVER, NJ  UNITED STATES       Non-Fatal     SUBSTANTIAL   \n",
       "9  JACKSONVILLE, FL  UNITED STATES       Non-Fatal     SUBSTANTIAL   \n",
       "\n",
       "  aircraft_category registration_number  ...   report_status          city  \\\n",
       "0          Airplane              NC6404  ...  Probable Cause   MOOSE CREEK   \n",
       "1          Airplane              N5069P  ...  Probable Cause    BRIDGEPORT   \n",
       "2          Airplane              N5142R  ...  Probable Cause     SALTVILLE   \n",
       "3          Airplane              N1168J  ...  Probable Cause        EUREKA   \n",
       "4          Airplane               N15NY  ...  Probable Cause        CANTON   \n",
       "5          Airplane              CF-TLU  ...  Probable Cause        BOSTON   \n",
       "6          Airplane              N4988E  ...  Probable Cause        COTTON   \n",
       "7          Airplane              N2482N  ...  Probable Cause       PULLMAN   \n",
       "8          Airplane              N7967Q  ...  Probable Cause  EAST HANOVER   \n",
       "9          Airplane              N3906K  ...  Probable Cause  JACKSONVILLE   \n",
       "\n",
       "  state     state_full injury_severity_clean  \\\n",
       "0    ID          IDAHO                 FATAL   \n",
       "1    CA     CALIFORNIA                 FATAL   \n",
       "2    VA       VIRGINIA                 FATAL   \n",
       "3    CA     CALIFORNIA                 FATAL   \n",
       "4    OH           OHIO                 FATAL   \n",
       "5    MA  MASSACHUSETTS                 FATAL   \n",
       "6    MN      MINNESOTA                 FATAL   \n",
       "7    WA     WASHINGTON                 FATAL   \n",
       "8    NJ     NEW JERSEY                 FATAL   \n",
       "9    FL        FLORIDA                 FATAL   \n",
       "\n",
       "                           far_description_explained  \\\n",
       "0  General Operating and Flight Rules – covers no...   \n",
       "1  General Operating and Flight Rules – covers no...   \n",
       "2  General Operating and Flight Rules – covers no...   \n",
       "3  No applicable FAR identified or insufficient d...   \n",
       "4  General Operating and Flight Rules – covers no...   \n",
       "5  Foreign Air Carriers – operations of foreign a...   \n",
       "6  General Operating and Flight Rules – covers no...   \n",
       "7  General Operating and Flight Rules – covers no...   \n",
       "8  General Operating and Flight Rules – covers no...   \n",
       "9  No applicable FAR identified or insufficient d...   \n",
       "\n",
       "  total_individuals_affected injury_data_reported  event_year  event_decade  \n",
       "0                        2.0                 True        1948          1940  \n",
       "1                        4.0                 True        1962          1960  \n",
       "2                        3.0                 True        1974          1970  \n",
       "3                        2.0                 True        1977          1970  \n",
       "4                        3.0                 True        1979          1970  \n",
       "5                       45.0                 True        1979          1970  \n",
       "6                        4.0                 True        1981          1980  \n",
       "7                        2.0                 True        1982          1980  \n",
       "8                        2.0                 True        1982          1980  \n",
       "9                        3.0                 True        1982          1980  \n",
       "\n",
       "[10 rows x 33 columns]"
      ]
     },
     "execution_count": 91,
     "metadata": {},
     "output_type": "execute_result"
    }
   ],
   "source": [
    "us_data.head(10)"
   ]
  },
  {
   "cell_type": "markdown",
   "id": "078bd550",
   "metadata": {},
   "source": [
    "4. `injury_severity`: *In any accident whats the most common injury severity?*"
   ]
  },
  {
   "cell_type": "code",
   "execution_count": 92,
   "id": "2f91c847",
   "metadata": {},
   "outputs": [
    {
     "data": {
      "text/plain": [
       "array(['FATAL', 'INCIDENT', 'UNAVAILABLE', 'UNKNOWN', 'MINOR', 'SERIOUS'],\n",
       "      dtype=object)"
      ]
     },
     "execution_count": 92,
     "metadata": {},
     "output_type": "execute_result"
    }
   ],
   "source": [
    "us_data['injury_severity_clean'].unique()"
   ]
  },
  {
   "cell_type": "code",
   "execution_count": 93,
   "id": "62c81649",
   "metadata": {},
   "outputs": [
    {
     "data": {
      "application/vnd.plotly.v1+json": {
       "config": {
        "plotlyServerURL": "https://plot.ly"
       },
       "data": [
        {
         "hovertemplate": "Injury Severity=%{x}<br>Number of Accidents=%{y}<extra></extra>",
         "legendgroup": "",
         "marker": {
          "color": "#636EFA",
          "pattern": {
           "shape": ""
          }
         },
         "name": "",
         "orientation": "v",
         "showlegend": false,
         "textposition": "auto",
         "type": "bar",
         "x": [
          "FATAL",
          "INCIDENT",
          "MINOR",
          "SERIOUS",
          "UNKNOWN",
          "UNAVAILABLE"
         ],
         "xaxis": "x",
         "y": {
          "bdata": "GDgBAFEHAADLAAAAmQAAAGwAAAAPAAAA",
          "dtype": "i4"
         },
         "yaxis": "y"
        }
       ],
       "layout": {
        "barmode": "relative",
        "font": {
         "size": 14
        },
        "legend": {
         "tracegroupgap": 0
        },
        "margin": {
         "b": 40,
         "l": 50,
         "r": 40,
         "t": 60
        },
        "template": {
         "data": {
          "bar": [
           {
            "error_x": {
             "color": "#2a3f5f"
            },
            "error_y": {
             "color": "#2a3f5f"
            },
            "marker": {
             "line": {
              "color": "white",
              "width": 0.5
             },
             "pattern": {
              "fillmode": "overlay",
              "size": 10,
              "solidity": 0.2
             }
            },
            "type": "bar"
           }
          ],
          "barpolar": [
           {
            "marker": {
             "line": {
              "color": "white",
              "width": 0.5
             },
             "pattern": {
              "fillmode": "overlay",
              "size": 10,
              "solidity": 0.2
             }
            },
            "type": "barpolar"
           }
          ],
          "carpet": [
           {
            "aaxis": {
             "endlinecolor": "#2a3f5f",
             "gridcolor": "#C8D4E3",
             "linecolor": "#C8D4E3",
             "minorgridcolor": "#C8D4E3",
             "startlinecolor": "#2a3f5f"
            },
            "baxis": {
             "endlinecolor": "#2a3f5f",
             "gridcolor": "#C8D4E3",
             "linecolor": "#C8D4E3",
             "minorgridcolor": "#C8D4E3",
             "startlinecolor": "#2a3f5f"
            },
            "type": "carpet"
           }
          ],
          "choropleth": [
           {
            "colorbar": {
             "outlinewidth": 0,
             "ticks": ""
            },
            "type": "choropleth"
           }
          ],
          "contour": [
           {
            "colorbar": {
             "outlinewidth": 0,
             "ticks": ""
            },
            "colorscale": [
             [
              0,
              "#0d0887"
             ],
             [
              0.1111111111111111,
              "#46039f"
             ],
             [
              0.2222222222222222,
              "#7201a8"
             ],
             [
              0.3333333333333333,
              "#9c179e"
             ],
             [
              0.4444444444444444,
              "#bd3786"
             ],
             [
              0.5555555555555556,
              "#d8576b"
             ],
             [
              0.6666666666666666,
              "#ed7953"
             ],
             [
              0.7777777777777778,
              "#fb9f3a"
             ],
             [
              0.8888888888888888,
              "#fdca26"
             ],
             [
              1,
              "#f0f921"
             ]
            ],
            "type": "contour"
           }
          ],
          "contourcarpet": [
           {
            "colorbar": {
             "outlinewidth": 0,
             "ticks": ""
            },
            "type": "contourcarpet"
           }
          ],
          "heatmap": [
           {
            "colorbar": {
             "outlinewidth": 0,
             "ticks": ""
            },
            "colorscale": [
             [
              0,
              "#0d0887"
             ],
             [
              0.1111111111111111,
              "#46039f"
             ],
             [
              0.2222222222222222,
              "#7201a8"
             ],
             [
              0.3333333333333333,
              "#9c179e"
             ],
             [
              0.4444444444444444,
              "#bd3786"
             ],
             [
              0.5555555555555556,
              "#d8576b"
             ],
             [
              0.6666666666666666,
              "#ed7953"
             ],
             [
              0.7777777777777778,
              "#fb9f3a"
             ],
             [
              0.8888888888888888,
              "#fdca26"
             ],
             [
              1,
              "#f0f921"
             ]
            ],
            "type": "heatmap"
           }
          ],
          "histogram": [
           {
            "marker": {
             "pattern": {
              "fillmode": "overlay",
              "size": 10,
              "solidity": 0.2
             }
            },
            "type": "histogram"
           }
          ],
          "histogram2d": [
           {
            "colorbar": {
             "outlinewidth": 0,
             "ticks": ""
            },
            "colorscale": [
             [
              0,
              "#0d0887"
             ],
             [
              0.1111111111111111,
              "#46039f"
             ],
             [
              0.2222222222222222,
              "#7201a8"
             ],
             [
              0.3333333333333333,
              "#9c179e"
             ],
             [
              0.4444444444444444,
              "#bd3786"
             ],
             [
              0.5555555555555556,
              "#d8576b"
             ],
             [
              0.6666666666666666,
              "#ed7953"
             ],
             [
              0.7777777777777778,
              "#fb9f3a"
             ],
             [
              0.8888888888888888,
              "#fdca26"
             ],
             [
              1,
              "#f0f921"
             ]
            ],
            "type": "histogram2d"
           }
          ],
          "histogram2dcontour": [
           {
            "colorbar": {
             "outlinewidth": 0,
             "ticks": ""
            },
            "colorscale": [
             [
              0,
              "#0d0887"
             ],
             [
              0.1111111111111111,
              "#46039f"
             ],
             [
              0.2222222222222222,
              "#7201a8"
             ],
             [
              0.3333333333333333,
              "#9c179e"
             ],
             [
              0.4444444444444444,
              "#bd3786"
             ],
             [
              0.5555555555555556,
              "#d8576b"
             ],
             [
              0.6666666666666666,
              "#ed7953"
             ],
             [
              0.7777777777777778,
              "#fb9f3a"
             ],
             [
              0.8888888888888888,
              "#fdca26"
             ],
             [
              1,
              "#f0f921"
             ]
            ],
            "type": "histogram2dcontour"
           }
          ],
          "mesh3d": [
           {
            "colorbar": {
             "outlinewidth": 0,
             "ticks": ""
            },
            "type": "mesh3d"
           }
          ],
          "parcoords": [
           {
            "line": {
             "colorbar": {
              "outlinewidth": 0,
              "ticks": ""
             }
            },
            "type": "parcoords"
           }
          ],
          "pie": [
           {
            "automargin": true,
            "type": "pie"
           }
          ],
          "scatter": [
           {
            "fillpattern": {
             "fillmode": "overlay",
             "size": 10,
             "solidity": 0.2
            },
            "type": "scatter"
           }
          ],
          "scatter3d": [
           {
            "line": {
             "colorbar": {
              "outlinewidth": 0,
              "ticks": ""
             }
            },
            "marker": {
             "colorbar": {
              "outlinewidth": 0,
              "ticks": ""
             }
            },
            "type": "scatter3d"
           }
          ],
          "scattercarpet": [
           {
            "marker": {
             "colorbar": {
              "outlinewidth": 0,
              "ticks": ""
             }
            },
            "type": "scattercarpet"
           }
          ],
          "scattergeo": [
           {
            "marker": {
             "colorbar": {
              "outlinewidth": 0,
              "ticks": ""
             }
            },
            "type": "scattergeo"
           }
          ],
          "scattergl": [
           {
            "marker": {
             "colorbar": {
              "outlinewidth": 0,
              "ticks": ""
             }
            },
            "type": "scattergl"
           }
          ],
          "scattermap": [
           {
            "marker": {
             "colorbar": {
              "outlinewidth": 0,
              "ticks": ""
             }
            },
            "type": "scattermap"
           }
          ],
          "scattermapbox": [
           {
            "marker": {
             "colorbar": {
              "outlinewidth": 0,
              "ticks": ""
             }
            },
            "type": "scattermapbox"
           }
          ],
          "scatterpolar": [
           {
            "marker": {
             "colorbar": {
              "outlinewidth": 0,
              "ticks": ""
             }
            },
            "type": "scatterpolar"
           }
          ],
          "scatterpolargl": [
           {
            "marker": {
             "colorbar": {
              "outlinewidth": 0,
              "ticks": ""
             }
            },
            "type": "scatterpolargl"
           }
          ],
          "scatterternary": [
           {
            "marker": {
             "colorbar": {
              "outlinewidth": 0,
              "ticks": ""
             }
            },
            "type": "scatterternary"
           }
          ],
          "surface": [
           {
            "colorbar": {
             "outlinewidth": 0,
             "ticks": ""
            },
            "colorscale": [
             [
              0,
              "#0d0887"
             ],
             [
              0.1111111111111111,
              "#46039f"
             ],
             [
              0.2222222222222222,
              "#7201a8"
             ],
             [
              0.3333333333333333,
              "#9c179e"
             ],
             [
              0.4444444444444444,
              "#bd3786"
             ],
             [
              0.5555555555555556,
              "#d8576b"
             ],
             [
              0.6666666666666666,
              "#ed7953"
             ],
             [
              0.7777777777777778,
              "#fb9f3a"
             ],
             [
              0.8888888888888888,
              "#fdca26"
             ],
             [
              1,
              "#f0f921"
             ]
            ],
            "type": "surface"
           }
          ],
          "table": [
           {
            "cells": {
             "fill": {
              "color": "#EBF0F8"
             },
             "line": {
              "color": "white"
             }
            },
            "header": {
             "fill": {
              "color": "#C8D4E3"
             },
             "line": {
              "color": "white"
             }
            },
            "type": "table"
           }
          ]
         },
         "layout": {
          "annotationdefaults": {
           "arrowcolor": "#2a3f5f",
           "arrowhead": 0,
           "arrowwidth": 1
          },
          "autotypenumbers": "strict",
          "coloraxis": {
           "colorbar": {
            "outlinewidth": 0,
            "ticks": ""
           }
          },
          "colorscale": {
           "diverging": [
            [
             0,
             "#8e0152"
            ],
            [
             0.1,
             "#c51b7d"
            ],
            [
             0.2,
             "#de77ae"
            ],
            [
             0.3,
             "#f1b6da"
            ],
            [
             0.4,
             "#fde0ef"
            ],
            [
             0.5,
             "#f7f7f7"
            ],
            [
             0.6,
             "#e6f5d0"
            ],
            [
             0.7,
             "#b8e186"
            ],
            [
             0.8,
             "#7fbc41"
            ],
            [
             0.9,
             "#4d9221"
            ],
            [
             1,
             "#276419"
            ]
           ],
           "sequential": [
            [
             0,
             "#0d0887"
            ],
            [
             0.1111111111111111,
             "#46039f"
            ],
            [
             0.2222222222222222,
             "#7201a8"
            ],
            [
             0.3333333333333333,
             "#9c179e"
            ],
            [
             0.4444444444444444,
             "#bd3786"
            ],
            [
             0.5555555555555556,
             "#d8576b"
            ],
            [
             0.6666666666666666,
             "#ed7953"
            ],
            [
             0.7777777777777778,
             "#fb9f3a"
            ],
            [
             0.8888888888888888,
             "#fdca26"
            ],
            [
             1,
             "#f0f921"
            ]
           ],
           "sequentialminus": [
            [
             0,
             "#0d0887"
            ],
            [
             0.1111111111111111,
             "#46039f"
            ],
            [
             0.2222222222222222,
             "#7201a8"
            ],
            [
             0.3333333333333333,
             "#9c179e"
            ],
            [
             0.4444444444444444,
             "#bd3786"
            ],
            [
             0.5555555555555556,
             "#d8576b"
            ],
            [
             0.6666666666666666,
             "#ed7953"
            ],
            [
             0.7777777777777778,
             "#fb9f3a"
            ],
            [
             0.8888888888888888,
             "#fdca26"
            ],
            [
             1,
             "#f0f921"
            ]
           ]
          },
          "colorway": [
           "#636efa",
           "#EF553B",
           "#00cc96",
           "#ab63fa",
           "#FFA15A",
           "#19d3f3",
           "#FF6692",
           "#B6E880",
           "#FF97FF",
           "#FECB52"
          ],
          "font": {
           "color": "#2a3f5f"
          },
          "geo": {
           "bgcolor": "white",
           "lakecolor": "white",
           "landcolor": "white",
           "showlakes": true,
           "showland": true,
           "subunitcolor": "#C8D4E3"
          },
          "hoverlabel": {
           "align": "left"
          },
          "hovermode": "closest",
          "mapbox": {
           "style": "light"
          },
          "paper_bgcolor": "white",
          "plot_bgcolor": "white",
          "polar": {
           "angularaxis": {
            "gridcolor": "#EBF0F8",
            "linecolor": "#EBF0F8",
            "ticks": ""
           },
           "bgcolor": "white",
           "radialaxis": {
            "gridcolor": "#EBF0F8",
            "linecolor": "#EBF0F8",
            "ticks": ""
           }
          },
          "scene": {
           "xaxis": {
            "backgroundcolor": "white",
            "gridcolor": "#DFE8F3",
            "gridwidth": 2,
            "linecolor": "#EBF0F8",
            "showbackground": true,
            "ticks": "",
            "zerolinecolor": "#EBF0F8"
           },
           "yaxis": {
            "backgroundcolor": "white",
            "gridcolor": "#DFE8F3",
            "gridwidth": 2,
            "linecolor": "#EBF0F8",
            "showbackground": true,
            "ticks": "",
            "zerolinecolor": "#EBF0F8"
           },
           "zaxis": {
            "backgroundcolor": "white",
            "gridcolor": "#DFE8F3",
            "gridwidth": 2,
            "linecolor": "#EBF0F8",
            "showbackground": true,
            "ticks": "",
            "zerolinecolor": "#EBF0F8"
           }
          },
          "shapedefaults": {
           "line": {
            "color": "#2a3f5f"
           }
          },
          "ternary": {
           "aaxis": {
            "gridcolor": "#DFE8F3",
            "linecolor": "#A2B1C6",
            "ticks": ""
           },
           "baxis": {
            "gridcolor": "#DFE8F3",
            "linecolor": "#A2B1C6",
            "ticks": ""
           },
           "bgcolor": "white",
           "caxis": {
            "gridcolor": "#DFE8F3",
            "linecolor": "#A2B1C6",
            "ticks": ""
           }
          },
          "title": {
           "x": 0.05
          },
          "xaxis": {
           "automargin": true,
           "gridcolor": "#EBF0F8",
           "linecolor": "#EBF0F8",
           "ticks": "",
           "title": {
            "standoff": 15
           },
           "zerolinecolor": "#EBF0F8",
           "zerolinewidth": 2
          },
          "yaxis": {
           "automargin": true,
           "gridcolor": "#EBF0F8",
           "linecolor": "#EBF0F8",
           "ticks": "",
           "title": {
            "standoff": 15
           },
           "zerolinecolor": "#EBF0F8",
           "zerolinewidth": 2
          }
         }
        },
        "title": {
         "font": {
          "size": 20
         },
         "text": "Distribution of Injury Severity in Aviation Accidents"
        },
        "xaxis": {
         "anchor": "y",
         "domain": [
          0,
          1
         ],
         "tickangle": -45,
         "title": {
          "text": "Injury Severity"
         }
        },
        "yaxis": {
         "anchor": "x",
         "domain": [
          0,
          1
         ],
         "gridcolor": "lightgrey",
         "title": {
          "text": "Number of Accidents"
         }
        }
       }
      }
     },
     "metadata": {},
     "output_type": "display_data"
    }
   ],
   "source": [
    "injury_counts = us_data['injury_severity_clean'].value_counts().reset_index()\n",
    "injury_counts.columns = ['Injury Severity', 'Count']\n",
    "\n",
    "fig = px.bar(\n",
    "    injury_counts,\n",
    "    x='Injury Severity',\n",
    "    y='Count',\n",
    "    title='Distribution of Injury Severity in Aviation Accidents',\n",
    "    labels={'Count': 'Number of Accidents'},\n",
    "    color_discrete_sequence=['#636EFA']\n",
    ")\n",
    "\n",
    "fig.update_layout(\n",
    "    template='plotly_white',\n",
    "    title_font_size=20,\n",
    "    font=dict(size=14),\n",
    "    yaxis_gridcolor='lightgrey',\n",
    "    xaxis_tickangle=-45,\n",
    "    margin=dict(t=60, b=40, l=50, r=40)\n",
    ")\n",
    "\n",
    "fig.show()\n"
   ]
  },
  {
   "cell_type": "markdown",
   "id": "a0d7d579",
   "metadata": {},
   "source": [
    "## OBSERVATION \n",
    "\n",
    "The data classifies injury severity into six categories:\n",
    "\n",
    "- **FATAL**\n",
    "- **INCIDENT**\n",
    "- **UNAVAILABLE**\n",
    "- **UNKNOWN**\n",
    "- **MINOR**\n",
    "- **SERIOUS**\n",
    "\n",
    "These are fairly self-explanatory, but one insight immediately stands out: **FATAL incidents are the most reported**.\n",
    "\n",
    "This doesn’t imply that aviation accidents are frequent—rather, it reinforces the idea that **when they do occur, they can be catastrophically severe**.\n",
    "\n",
    "---\n",
    "\n",
    "### Interpretation\n",
    "\n",
    "- The high number of **FATAL** labels suggests that aviation accidents are **low in frequency** but **high in severity**.\n",
    "- The **UNAVAILABLE** and **UNKNOWN** categories likely represent **incomplete or poorly reported cases**, pointing to a need for better data management in aviation reporting systems.\n",
    "- The relatively **low counts of MINOR and SERIOUS** may indicate **underreporting of non-fatal events**, or it might reflect a reality that **when aircraft fail, they tend to fail hard**.\n",
    "\n",
    "---\n",
    "\n",
    "###  Recommendation\n",
    "\n",
    "While this insight may seem obvious, it carries serious operational implications. Based on these findings, I strongly recommend the following:\n",
    "\n",
    "- **Invest in modern, well-maintained aircraft**\n",
    "- **Ensure strict compliance** with all aviation safety protocols\n",
    "- **Support continuous pilot training**, including **real-world emergency simulations**\n",
    "- **Leverage predictive maintenance** and monitoring tools powered by **data science and machine learning**\n",
    "\n",
    "...And yeah, maybe **cross your fingers**, too. 😅\n",
    "\n",
    "But jokes aside, aviation is statistically **very safe**. The fact that the most reported category is “FATAL” says **more about the severity when incidents happen** than about any suggestion of frequent danger.\n",
    "\n",
    "**Focus on prevention, preparation, and precision**—that’s the real takeaway.\n"
   ]
  },
  {
   "cell_type": "markdown",
   "id": "75a19257",
   "metadata": {},
   "source": [
    "5. `aircraft_category`: *What kind of aircrafts dominate the skies?*"
   ]
  },
  {
   "cell_type": "code",
   "execution_count": 94,
   "id": "f82975c5",
   "metadata": {},
   "outputs": [
    {
     "data": {
      "application/vnd.plotly.v1+json": {
       "config": {
        "plotlyServerURL": "https://plot.ly"
       },
       "data": [
        {
         "hovertemplate": "Number of Aircraft=%{x}<br>Aircraft Category=%{y}<extra></extra>",
         "legendgroup": "",
         "marker": {
          "color": "skyblue",
          "pattern": {
           "shape": ""
          }
         },
         "name": "",
         "orientation": "h",
         "showlegend": false,
         "textposition": "auto",
         "type": "bar",
         "x": {
          "bdata": "9zEBAKMKAAD3AQAA5QAAAKwAAAChAAAAWgAAABkAAAAJAAAABAAAAAMAAAABAAAAAQAAAA==",
          "dtype": "i4"
         },
         "xaxis": "x",
         "y": [
          "Airplane",
          "Helicopter",
          "Glider",
          "Balloon",
          "Gyrocraft",
          "Weight-Shift",
          "Powered Parachute",
          "Ultralight",
          "WSFT",
          "Blimp",
          "Powered-Lift",
          "Rocket",
          "ULTR"
         ],
         "yaxis": "y"
        }
       ],
       "layout": {
        "barmode": "relative",
        "font": {
         "size": 14
        },
        "legend": {
         "tracegroupgap": 0
        },
        "margin": {
         "b": 40,
         "l": 100,
         "r": 40,
         "t": 60
        },
        "template": {
         "data": {
          "bar": [
           {
            "error_x": {
             "color": "#2a3f5f"
            },
            "error_y": {
             "color": "#2a3f5f"
            },
            "marker": {
             "line": {
              "color": "white",
              "width": 0.5
             },
             "pattern": {
              "fillmode": "overlay",
              "size": 10,
              "solidity": 0.2
             }
            },
            "type": "bar"
           }
          ],
          "barpolar": [
           {
            "marker": {
             "line": {
              "color": "white",
              "width": 0.5
             },
             "pattern": {
              "fillmode": "overlay",
              "size": 10,
              "solidity": 0.2
             }
            },
            "type": "barpolar"
           }
          ],
          "carpet": [
           {
            "aaxis": {
             "endlinecolor": "#2a3f5f",
             "gridcolor": "#C8D4E3",
             "linecolor": "#C8D4E3",
             "minorgridcolor": "#C8D4E3",
             "startlinecolor": "#2a3f5f"
            },
            "baxis": {
             "endlinecolor": "#2a3f5f",
             "gridcolor": "#C8D4E3",
             "linecolor": "#C8D4E3",
             "minorgridcolor": "#C8D4E3",
             "startlinecolor": "#2a3f5f"
            },
            "type": "carpet"
           }
          ],
          "choropleth": [
           {
            "colorbar": {
             "outlinewidth": 0,
             "ticks": ""
            },
            "type": "choropleth"
           }
          ],
          "contour": [
           {
            "colorbar": {
             "outlinewidth": 0,
             "ticks": ""
            },
            "colorscale": [
             [
              0,
              "#0d0887"
             ],
             [
              0.1111111111111111,
              "#46039f"
             ],
             [
              0.2222222222222222,
              "#7201a8"
             ],
             [
              0.3333333333333333,
              "#9c179e"
             ],
             [
              0.4444444444444444,
              "#bd3786"
             ],
             [
              0.5555555555555556,
              "#d8576b"
             ],
             [
              0.6666666666666666,
              "#ed7953"
             ],
             [
              0.7777777777777778,
              "#fb9f3a"
             ],
             [
              0.8888888888888888,
              "#fdca26"
             ],
             [
              1,
              "#f0f921"
             ]
            ],
            "type": "contour"
           }
          ],
          "contourcarpet": [
           {
            "colorbar": {
             "outlinewidth": 0,
             "ticks": ""
            },
            "type": "contourcarpet"
           }
          ],
          "heatmap": [
           {
            "colorbar": {
             "outlinewidth": 0,
             "ticks": ""
            },
            "colorscale": [
             [
              0,
              "#0d0887"
             ],
             [
              0.1111111111111111,
              "#46039f"
             ],
             [
              0.2222222222222222,
              "#7201a8"
             ],
             [
              0.3333333333333333,
              "#9c179e"
             ],
             [
              0.4444444444444444,
              "#bd3786"
             ],
             [
              0.5555555555555556,
              "#d8576b"
             ],
             [
              0.6666666666666666,
              "#ed7953"
             ],
             [
              0.7777777777777778,
              "#fb9f3a"
             ],
             [
              0.8888888888888888,
              "#fdca26"
             ],
             [
              1,
              "#f0f921"
             ]
            ],
            "type": "heatmap"
           }
          ],
          "histogram": [
           {
            "marker": {
             "pattern": {
              "fillmode": "overlay",
              "size": 10,
              "solidity": 0.2
             }
            },
            "type": "histogram"
           }
          ],
          "histogram2d": [
           {
            "colorbar": {
             "outlinewidth": 0,
             "ticks": ""
            },
            "colorscale": [
             [
              0,
              "#0d0887"
             ],
             [
              0.1111111111111111,
              "#46039f"
             ],
             [
              0.2222222222222222,
              "#7201a8"
             ],
             [
              0.3333333333333333,
              "#9c179e"
             ],
             [
              0.4444444444444444,
              "#bd3786"
             ],
             [
              0.5555555555555556,
              "#d8576b"
             ],
             [
              0.6666666666666666,
              "#ed7953"
             ],
             [
              0.7777777777777778,
              "#fb9f3a"
             ],
             [
              0.8888888888888888,
              "#fdca26"
             ],
             [
              1,
              "#f0f921"
             ]
            ],
            "type": "histogram2d"
           }
          ],
          "histogram2dcontour": [
           {
            "colorbar": {
             "outlinewidth": 0,
             "ticks": ""
            },
            "colorscale": [
             [
              0,
              "#0d0887"
             ],
             [
              0.1111111111111111,
              "#46039f"
             ],
             [
              0.2222222222222222,
              "#7201a8"
             ],
             [
              0.3333333333333333,
              "#9c179e"
             ],
             [
              0.4444444444444444,
              "#bd3786"
             ],
             [
              0.5555555555555556,
              "#d8576b"
             ],
             [
              0.6666666666666666,
              "#ed7953"
             ],
             [
              0.7777777777777778,
              "#fb9f3a"
             ],
             [
              0.8888888888888888,
              "#fdca26"
             ],
             [
              1,
              "#f0f921"
             ]
            ],
            "type": "histogram2dcontour"
           }
          ],
          "mesh3d": [
           {
            "colorbar": {
             "outlinewidth": 0,
             "ticks": ""
            },
            "type": "mesh3d"
           }
          ],
          "parcoords": [
           {
            "line": {
             "colorbar": {
              "outlinewidth": 0,
              "ticks": ""
             }
            },
            "type": "parcoords"
           }
          ],
          "pie": [
           {
            "automargin": true,
            "type": "pie"
           }
          ],
          "scatter": [
           {
            "fillpattern": {
             "fillmode": "overlay",
             "size": 10,
             "solidity": 0.2
            },
            "type": "scatter"
           }
          ],
          "scatter3d": [
           {
            "line": {
             "colorbar": {
              "outlinewidth": 0,
              "ticks": ""
             }
            },
            "marker": {
             "colorbar": {
              "outlinewidth": 0,
              "ticks": ""
             }
            },
            "type": "scatter3d"
           }
          ],
          "scattercarpet": [
           {
            "marker": {
             "colorbar": {
              "outlinewidth": 0,
              "ticks": ""
             }
            },
            "type": "scattercarpet"
           }
          ],
          "scattergeo": [
           {
            "marker": {
             "colorbar": {
              "outlinewidth": 0,
              "ticks": ""
             }
            },
            "type": "scattergeo"
           }
          ],
          "scattergl": [
           {
            "marker": {
             "colorbar": {
              "outlinewidth": 0,
              "ticks": ""
             }
            },
            "type": "scattergl"
           }
          ],
          "scattermap": [
           {
            "marker": {
             "colorbar": {
              "outlinewidth": 0,
              "ticks": ""
             }
            },
            "type": "scattermap"
           }
          ],
          "scattermapbox": [
           {
            "marker": {
             "colorbar": {
              "outlinewidth": 0,
              "ticks": ""
             }
            },
            "type": "scattermapbox"
           }
          ],
          "scatterpolar": [
           {
            "marker": {
             "colorbar": {
              "outlinewidth": 0,
              "ticks": ""
             }
            },
            "type": "scatterpolar"
           }
          ],
          "scatterpolargl": [
           {
            "marker": {
             "colorbar": {
              "outlinewidth": 0,
              "ticks": ""
             }
            },
            "type": "scatterpolargl"
           }
          ],
          "scatterternary": [
           {
            "marker": {
             "colorbar": {
              "outlinewidth": 0,
              "ticks": ""
             }
            },
            "type": "scatterternary"
           }
          ],
          "surface": [
           {
            "colorbar": {
             "outlinewidth": 0,
             "ticks": ""
            },
            "colorscale": [
             [
              0,
              "#0d0887"
             ],
             [
              0.1111111111111111,
              "#46039f"
             ],
             [
              0.2222222222222222,
              "#7201a8"
             ],
             [
              0.3333333333333333,
              "#9c179e"
             ],
             [
              0.4444444444444444,
              "#bd3786"
             ],
             [
              0.5555555555555556,
              "#d8576b"
             ],
             [
              0.6666666666666666,
              "#ed7953"
             ],
             [
              0.7777777777777778,
              "#fb9f3a"
             ],
             [
              0.8888888888888888,
              "#fdca26"
             ],
             [
              1,
              "#f0f921"
             ]
            ],
            "type": "surface"
           }
          ],
          "table": [
           {
            "cells": {
             "fill": {
              "color": "#EBF0F8"
             },
             "line": {
              "color": "white"
             }
            },
            "header": {
             "fill": {
              "color": "#C8D4E3"
             },
             "line": {
              "color": "white"
             }
            },
            "type": "table"
           }
          ]
         },
         "layout": {
          "annotationdefaults": {
           "arrowcolor": "#2a3f5f",
           "arrowhead": 0,
           "arrowwidth": 1
          },
          "autotypenumbers": "strict",
          "coloraxis": {
           "colorbar": {
            "outlinewidth": 0,
            "ticks": ""
           }
          },
          "colorscale": {
           "diverging": [
            [
             0,
             "#8e0152"
            ],
            [
             0.1,
             "#c51b7d"
            ],
            [
             0.2,
             "#de77ae"
            ],
            [
             0.3,
             "#f1b6da"
            ],
            [
             0.4,
             "#fde0ef"
            ],
            [
             0.5,
             "#f7f7f7"
            ],
            [
             0.6,
             "#e6f5d0"
            ],
            [
             0.7,
             "#b8e186"
            ],
            [
             0.8,
             "#7fbc41"
            ],
            [
             0.9,
             "#4d9221"
            ],
            [
             1,
             "#276419"
            ]
           ],
           "sequential": [
            [
             0,
             "#0d0887"
            ],
            [
             0.1111111111111111,
             "#46039f"
            ],
            [
             0.2222222222222222,
             "#7201a8"
            ],
            [
             0.3333333333333333,
             "#9c179e"
            ],
            [
             0.4444444444444444,
             "#bd3786"
            ],
            [
             0.5555555555555556,
             "#d8576b"
            ],
            [
             0.6666666666666666,
             "#ed7953"
            ],
            [
             0.7777777777777778,
             "#fb9f3a"
            ],
            [
             0.8888888888888888,
             "#fdca26"
            ],
            [
             1,
             "#f0f921"
            ]
           ],
           "sequentialminus": [
            [
             0,
             "#0d0887"
            ],
            [
             0.1111111111111111,
             "#46039f"
            ],
            [
             0.2222222222222222,
             "#7201a8"
            ],
            [
             0.3333333333333333,
             "#9c179e"
            ],
            [
             0.4444444444444444,
             "#bd3786"
            ],
            [
             0.5555555555555556,
             "#d8576b"
            ],
            [
             0.6666666666666666,
             "#ed7953"
            ],
            [
             0.7777777777777778,
             "#fb9f3a"
            ],
            [
             0.8888888888888888,
             "#fdca26"
            ],
            [
             1,
             "#f0f921"
            ]
           ]
          },
          "colorway": [
           "#636efa",
           "#EF553B",
           "#00cc96",
           "#ab63fa",
           "#FFA15A",
           "#19d3f3",
           "#FF6692",
           "#B6E880",
           "#FF97FF",
           "#FECB52"
          ],
          "font": {
           "color": "#2a3f5f"
          },
          "geo": {
           "bgcolor": "white",
           "lakecolor": "white",
           "landcolor": "white",
           "showlakes": true,
           "showland": true,
           "subunitcolor": "#C8D4E3"
          },
          "hoverlabel": {
           "align": "left"
          },
          "hovermode": "closest",
          "mapbox": {
           "style": "light"
          },
          "paper_bgcolor": "white",
          "plot_bgcolor": "white",
          "polar": {
           "angularaxis": {
            "gridcolor": "#EBF0F8",
            "linecolor": "#EBF0F8",
            "ticks": ""
           },
           "bgcolor": "white",
           "radialaxis": {
            "gridcolor": "#EBF0F8",
            "linecolor": "#EBF0F8",
            "ticks": ""
           }
          },
          "scene": {
           "xaxis": {
            "backgroundcolor": "white",
            "gridcolor": "#DFE8F3",
            "gridwidth": 2,
            "linecolor": "#EBF0F8",
            "showbackground": true,
            "ticks": "",
            "zerolinecolor": "#EBF0F8"
           },
           "yaxis": {
            "backgroundcolor": "white",
            "gridcolor": "#DFE8F3",
            "gridwidth": 2,
            "linecolor": "#EBF0F8",
            "showbackground": true,
            "ticks": "",
            "zerolinecolor": "#EBF0F8"
           },
           "zaxis": {
            "backgroundcolor": "white",
            "gridcolor": "#DFE8F3",
            "gridwidth": 2,
            "linecolor": "#EBF0F8",
            "showbackground": true,
            "ticks": "",
            "zerolinecolor": "#EBF0F8"
           }
          },
          "shapedefaults": {
           "line": {
            "color": "#2a3f5f"
           }
          },
          "ternary": {
           "aaxis": {
            "gridcolor": "#DFE8F3",
            "linecolor": "#A2B1C6",
            "ticks": ""
           },
           "baxis": {
            "gridcolor": "#DFE8F3",
            "linecolor": "#A2B1C6",
            "ticks": ""
           },
           "bgcolor": "white",
           "caxis": {
            "gridcolor": "#DFE8F3",
            "linecolor": "#A2B1C6",
            "ticks": ""
           }
          },
          "title": {
           "x": 0.05
          },
          "xaxis": {
           "automargin": true,
           "gridcolor": "#EBF0F8",
           "linecolor": "#EBF0F8",
           "ticks": "",
           "title": {
            "standoff": 15
           },
           "zerolinecolor": "#EBF0F8",
           "zerolinewidth": 2
          },
          "yaxis": {
           "automargin": true,
           "gridcolor": "#EBF0F8",
           "linecolor": "#EBF0F8",
           "ticks": "",
           "title": {
            "standoff": 15
           },
           "zerolinecolor": "#EBF0F8",
           "zerolinewidth": 2
          }
         }
        },
        "title": {
         "font": {
          "size": 20
         },
         "text": "Distribution of Aircraft Categories"
        },
        "xaxis": {
         "anchor": "y",
         "domain": [
          0,
          1
         ],
         "title": {
          "text": "Number of Aircraft"
         }
        },
        "yaxis": {
         "anchor": "x",
         "categoryorder": "total ascending",
         "domain": [
          0,
          1
         ],
         "title": {
          "text": "Aircraft Category"
         }
        }
       }
      }
     },
     "metadata": {},
     "output_type": "display_data"
    }
   ],
   "source": [
    "\n",
    "category_counts = us_data['aircraft_category'].value_counts().reset_index()\n",
    "category_counts.columns = ['aircraft_category', 'count']\n",
    "\n",
    "fig = px.bar(\n",
    "    category_counts,\n",
    "    x='count',\n",
    "    y='aircraft_category',\n",
    "    orientation='h',\n",
    "    title='Distribution of Aircraft Categories',\n",
    "    labels={'count': 'Number of Aircraft', 'aircraft_category': 'Aircraft Category'},\n",
    "    color_discrete_sequence=['skyblue']\n",
    ")\n",
    "\n",
    "fig.update_layout(\n",
    "    template='plotly_white',\n",
    "    title_font_size=20,\n",
    "    font=dict(size=14),\n",
    "    yaxis=dict(categoryorder='total ascending'),\n",
    "    margin=dict(t=60, b=40, l=100, r=40)\n",
    ")\n",
    "\n",
    "fig.show()\n",
    "\n"
   ]
  },
  {
   "cell_type": "markdown",
   "id": "d4762fd6",
   "metadata": {},
   "source": [
    "\n",
    "\n",
    "### Observation\n",
    "\n",
    "The most common aircraft types involved in accidents are:\n",
    "\n",
    "- **Airplanes** (by a large margin)\n",
    "- **Helicopters**\n",
    "- Less frequent types like **gliders**, **balloons**, and **gyroplanes**\n",
    "\n",
    "This distribution isn’t surprising—**airplanes dominate aviation operations globally**, from commercial flights to general aviation. Helicopters are often used in **specialized roles** such as emergency response, military, or executive transport. The rarer categories are typically associated with **tourism, recreation, or niche operations**.\n",
    "\n",
    "It's important to note that while this column was **imputed using the mode**, which introduces **potential bias**, the overall trend aligns with **real-world aviation dynamics**.\n",
    "\n",
    "---\n",
    "\n",
    "### Interpretation\n",
    "\n",
    "- The dominance of airplanes and helicopters in the dataset **does not imply they're inherently more dangerous**—it simply reflects **how frequently they’re used**.\n",
    "- **Higher operational exposure** naturally leads to **more recorded incidents**, even if the relative risk per flight hour is low.\n",
    "- Less common categories (e.g., balloons, gliders) appear infrequently, likely due to their **limited usage scope**, **fewer flight hours**, or **underreporting** in official databases.\n",
    "\n",
    "---\n",
    "\n",
    "### Business Recommendation (Preliminary)\n",
    "\n",
    "At this **univariate stage**, I will suggest:\n",
    "\n",
    "- Focusing safety and operational investment **primarily on airplanes**, since they represent the **bulk of exposure and recorded incidents**.\n",
    "- Maintaining awareness around helicopters, particularly due to their involvement in **high-risk or specialized missions**.\n",
    "\n",
    "That said, more **actionable insights** will come during **bivariate and multivariate analysis**—especially when `aircraft_category` is examined alongside factors like:\n",
    "\n",
    "- **Injury severity**\n",
    "- **Engine count**\n",
    "- **Purpose of flight**\n",
    "- **Weather conditions**\n",
    "\n",
    "This preliminary insight gives me a solid foundation, but there’s more nuance to uncover when I dig deeper into those relationships.\n"
   ]
  },
  {
   "cell_type": "markdown",
   "id": "35bf0b19",
   "metadata": {},
   "source": [
    "6. `Make And Model`: *Treating this as a couple, lets find out what makes and models are dominant*"
   ]
  },
  {
   "cell_type": "code",
   "execution_count": 95,
   "id": "f37aa159",
   "metadata": {},
   "outputs": [
    {
     "data": {
      "text/plain": [
       "<StringArray>\n",
       "[               'STINSON',                  'PIPER',                 'CESSNA',\n",
       "               'ROCKWELL',      'MCDONNELL-DOUGLAS',         'NORTH-AMERICAN',\n",
       "                  'BEECH',               'BELLANCA',                 'NAVION',\n",
       "                'ENSTROM',\n",
       " ...\n",
       "    'MULHOLLAND-ROBERT-A',       'DETRICK-DONALD-G',          'SEACE-DAVID-A',\n",
       " 'DANIEL-ANTHONY-PROCTOR',       'CHILDS-MICHAEL-A',                'PHANTOM',\n",
       "             'GREG-HOBBS',      'JAMES-R-DERNOVSEK',          'ORLICAN-S-R-O',\n",
       "          'ROYSE-RALPH-L']\n",
       "Length: 7363, dtype: string"
      ]
     },
     "execution_count": 95,
     "metadata": {},
     "output_type": "execute_result"
    }
   ],
   "source": [
    "us_data['aircraft_make'].unique()"
   ]
  },
  {
   "cell_type": "code",
   "execution_count": 96,
   "id": "ab096bce",
   "metadata": {},
   "outputs": [
    {
     "data": {
      "application/vnd.plotly.v1+json": {
       "config": {
        "plotlyServerURL": "https://plot.ly"
       },
       "data": [
        {
         "hovertemplate": "Number of Aircraft=%{text}<br>Aircraft Make & Model=%{y}<extra></extra>",
         "legendgroup": "",
         "marker": {
          "color": "skyblue",
          "pattern": {
           "shape": ""
          }
         },
         "name": "",
         "orientation": "h",
         "showlegend": false,
         "text": {
          "bdata": "AAAAAAAmokAAAAAAAIyZQAAAAAAAwJFAAAAAAABwjEAAAAAAALCIQAAAAAAAKIhAAAAAAABAhUAAAAAAAECDQAAAAAAAaIJAAAAAAAAQgkAAAAAAAPiBQAAAAAAA2IFAAAAAAAC4gUAAAAAAAFCBQAAAAAAAEIBAAAAAAACwfEAAAAAAAKB8QAAAAAAAMHxAAAAAAAAweUAAAAAAAPB4QA==",
          "dtype": "f8"
         },
         "textposition": "outside",
         "type": "bar",
         "x": {
          "bdata": "EwljBnAEjgMWAwUDqAJoAk0CQgI/AjsCNwIqAgICywHKAcMBkwGPAQ==",
          "dtype": "i2"
         },
         "xaxis": "x",
         "y": [
          "CESSNA 152",
          "CESSNA 172",
          "CESSNA 172N",
          "PIPER PA-28-140",
          "CESSNA 150",
          "CESSNA 172M",
          "CESSNA 172P",
          "CESSNA 180",
          "CESSNA 182",
          "CESSNA 150M",
          "PIPER PA-18",
          "PIPER PA-18-150",
          "PIPER PA-28-180",
          "PIPER PA-28-161",
          "PIPER PA-28-181",
          "PIPER PA-38-112",
          "BELL 206B",
          "CESSNA 150L",
          "BEECH A36",
          "CESSNA 140"
         ],
         "yaxis": "y"
        }
       ],
       "layout": {
        "barmode": "relative",
        "font": {
         "size": 14
        },
        "height": 1000,
        "legend": {
         "tracegroupgap": 0
        },
        "margin": {
         "b": 40,
         "l": 280,
         "r": 40,
         "t": 60
        },
        "template": {
         "data": {
          "bar": [
           {
            "error_x": {
             "color": "#2a3f5f"
            },
            "error_y": {
             "color": "#2a3f5f"
            },
            "marker": {
             "line": {
              "color": "white",
              "width": 0.5
             },
             "pattern": {
              "fillmode": "overlay",
              "size": 10,
              "solidity": 0.2
             }
            },
            "type": "bar"
           }
          ],
          "barpolar": [
           {
            "marker": {
             "line": {
              "color": "white",
              "width": 0.5
             },
             "pattern": {
              "fillmode": "overlay",
              "size": 10,
              "solidity": 0.2
             }
            },
            "type": "barpolar"
           }
          ],
          "carpet": [
           {
            "aaxis": {
             "endlinecolor": "#2a3f5f",
             "gridcolor": "#C8D4E3",
             "linecolor": "#C8D4E3",
             "minorgridcolor": "#C8D4E3",
             "startlinecolor": "#2a3f5f"
            },
            "baxis": {
             "endlinecolor": "#2a3f5f",
             "gridcolor": "#C8D4E3",
             "linecolor": "#C8D4E3",
             "minorgridcolor": "#C8D4E3",
             "startlinecolor": "#2a3f5f"
            },
            "type": "carpet"
           }
          ],
          "choropleth": [
           {
            "colorbar": {
             "outlinewidth": 0,
             "ticks": ""
            },
            "type": "choropleth"
           }
          ],
          "contour": [
           {
            "colorbar": {
             "outlinewidth": 0,
             "ticks": ""
            },
            "colorscale": [
             [
              0,
              "#0d0887"
             ],
             [
              0.1111111111111111,
              "#46039f"
             ],
             [
              0.2222222222222222,
              "#7201a8"
             ],
             [
              0.3333333333333333,
              "#9c179e"
             ],
             [
              0.4444444444444444,
              "#bd3786"
             ],
             [
              0.5555555555555556,
              "#d8576b"
             ],
             [
              0.6666666666666666,
              "#ed7953"
             ],
             [
              0.7777777777777778,
              "#fb9f3a"
             ],
             [
              0.8888888888888888,
              "#fdca26"
             ],
             [
              1,
              "#f0f921"
             ]
            ],
            "type": "contour"
           }
          ],
          "contourcarpet": [
           {
            "colorbar": {
             "outlinewidth": 0,
             "ticks": ""
            },
            "type": "contourcarpet"
           }
          ],
          "heatmap": [
           {
            "colorbar": {
             "outlinewidth": 0,
             "ticks": ""
            },
            "colorscale": [
             [
              0,
              "#0d0887"
             ],
             [
              0.1111111111111111,
              "#46039f"
             ],
             [
              0.2222222222222222,
              "#7201a8"
             ],
             [
              0.3333333333333333,
              "#9c179e"
             ],
             [
              0.4444444444444444,
              "#bd3786"
             ],
             [
              0.5555555555555556,
              "#d8576b"
             ],
             [
              0.6666666666666666,
              "#ed7953"
             ],
             [
              0.7777777777777778,
              "#fb9f3a"
             ],
             [
              0.8888888888888888,
              "#fdca26"
             ],
             [
              1,
              "#f0f921"
             ]
            ],
            "type": "heatmap"
           }
          ],
          "histogram": [
           {
            "marker": {
             "pattern": {
              "fillmode": "overlay",
              "size": 10,
              "solidity": 0.2
             }
            },
            "type": "histogram"
           }
          ],
          "histogram2d": [
           {
            "colorbar": {
             "outlinewidth": 0,
             "ticks": ""
            },
            "colorscale": [
             [
              0,
              "#0d0887"
             ],
             [
              0.1111111111111111,
              "#46039f"
             ],
             [
              0.2222222222222222,
              "#7201a8"
             ],
             [
              0.3333333333333333,
              "#9c179e"
             ],
             [
              0.4444444444444444,
              "#bd3786"
             ],
             [
              0.5555555555555556,
              "#d8576b"
             ],
             [
              0.6666666666666666,
              "#ed7953"
             ],
             [
              0.7777777777777778,
              "#fb9f3a"
             ],
             [
              0.8888888888888888,
              "#fdca26"
             ],
             [
              1,
              "#f0f921"
             ]
            ],
            "type": "histogram2d"
           }
          ],
          "histogram2dcontour": [
           {
            "colorbar": {
             "outlinewidth": 0,
             "ticks": ""
            },
            "colorscale": [
             [
              0,
              "#0d0887"
             ],
             [
              0.1111111111111111,
              "#46039f"
             ],
             [
              0.2222222222222222,
              "#7201a8"
             ],
             [
              0.3333333333333333,
              "#9c179e"
             ],
             [
              0.4444444444444444,
              "#bd3786"
             ],
             [
              0.5555555555555556,
              "#d8576b"
             ],
             [
              0.6666666666666666,
              "#ed7953"
             ],
             [
              0.7777777777777778,
              "#fb9f3a"
             ],
             [
              0.8888888888888888,
              "#fdca26"
             ],
             [
              1,
              "#f0f921"
             ]
            ],
            "type": "histogram2dcontour"
           }
          ],
          "mesh3d": [
           {
            "colorbar": {
             "outlinewidth": 0,
             "ticks": ""
            },
            "type": "mesh3d"
           }
          ],
          "parcoords": [
           {
            "line": {
             "colorbar": {
              "outlinewidth": 0,
              "ticks": ""
             }
            },
            "type": "parcoords"
           }
          ],
          "pie": [
           {
            "automargin": true,
            "type": "pie"
           }
          ],
          "scatter": [
           {
            "fillpattern": {
             "fillmode": "overlay",
             "size": 10,
             "solidity": 0.2
            },
            "type": "scatter"
           }
          ],
          "scatter3d": [
           {
            "line": {
             "colorbar": {
              "outlinewidth": 0,
              "ticks": ""
             }
            },
            "marker": {
             "colorbar": {
              "outlinewidth": 0,
              "ticks": ""
             }
            },
            "type": "scatter3d"
           }
          ],
          "scattercarpet": [
           {
            "marker": {
             "colorbar": {
              "outlinewidth": 0,
              "ticks": ""
             }
            },
            "type": "scattercarpet"
           }
          ],
          "scattergeo": [
           {
            "marker": {
             "colorbar": {
              "outlinewidth": 0,
              "ticks": ""
             }
            },
            "type": "scattergeo"
           }
          ],
          "scattergl": [
           {
            "marker": {
             "colorbar": {
              "outlinewidth": 0,
              "ticks": ""
             }
            },
            "type": "scattergl"
           }
          ],
          "scattermap": [
           {
            "marker": {
             "colorbar": {
              "outlinewidth": 0,
              "ticks": ""
             }
            },
            "type": "scattermap"
           }
          ],
          "scattermapbox": [
           {
            "marker": {
             "colorbar": {
              "outlinewidth": 0,
              "ticks": ""
             }
            },
            "type": "scattermapbox"
           }
          ],
          "scatterpolar": [
           {
            "marker": {
             "colorbar": {
              "outlinewidth": 0,
              "ticks": ""
             }
            },
            "type": "scatterpolar"
           }
          ],
          "scatterpolargl": [
           {
            "marker": {
             "colorbar": {
              "outlinewidth": 0,
              "ticks": ""
             }
            },
            "type": "scatterpolargl"
           }
          ],
          "scatterternary": [
           {
            "marker": {
             "colorbar": {
              "outlinewidth": 0,
              "ticks": ""
             }
            },
            "type": "scatterternary"
           }
          ],
          "surface": [
           {
            "colorbar": {
             "outlinewidth": 0,
             "ticks": ""
            },
            "colorscale": [
             [
              0,
              "#0d0887"
             ],
             [
              0.1111111111111111,
              "#46039f"
             ],
             [
              0.2222222222222222,
              "#7201a8"
             ],
             [
              0.3333333333333333,
              "#9c179e"
             ],
             [
              0.4444444444444444,
              "#bd3786"
             ],
             [
              0.5555555555555556,
              "#d8576b"
             ],
             [
              0.6666666666666666,
              "#ed7953"
             ],
             [
              0.7777777777777778,
              "#fb9f3a"
             ],
             [
              0.8888888888888888,
              "#fdca26"
             ],
             [
              1,
              "#f0f921"
             ]
            ],
            "type": "surface"
           }
          ],
          "table": [
           {
            "cells": {
             "fill": {
              "color": "#EBF0F8"
             },
             "line": {
              "color": "white"
             }
            },
            "header": {
             "fill": {
              "color": "#C8D4E3"
             },
             "line": {
              "color": "white"
             }
            },
            "type": "table"
           }
          ]
         },
         "layout": {
          "annotationdefaults": {
           "arrowcolor": "#2a3f5f",
           "arrowhead": 0,
           "arrowwidth": 1
          },
          "autotypenumbers": "strict",
          "coloraxis": {
           "colorbar": {
            "outlinewidth": 0,
            "ticks": ""
           }
          },
          "colorscale": {
           "diverging": [
            [
             0,
             "#8e0152"
            ],
            [
             0.1,
             "#c51b7d"
            ],
            [
             0.2,
             "#de77ae"
            ],
            [
             0.3,
             "#f1b6da"
            ],
            [
             0.4,
             "#fde0ef"
            ],
            [
             0.5,
             "#f7f7f7"
            ],
            [
             0.6,
             "#e6f5d0"
            ],
            [
             0.7,
             "#b8e186"
            ],
            [
             0.8,
             "#7fbc41"
            ],
            [
             0.9,
             "#4d9221"
            ],
            [
             1,
             "#276419"
            ]
           ],
           "sequential": [
            [
             0,
             "#0d0887"
            ],
            [
             0.1111111111111111,
             "#46039f"
            ],
            [
             0.2222222222222222,
             "#7201a8"
            ],
            [
             0.3333333333333333,
             "#9c179e"
            ],
            [
             0.4444444444444444,
             "#bd3786"
            ],
            [
             0.5555555555555556,
             "#d8576b"
            ],
            [
             0.6666666666666666,
             "#ed7953"
            ],
            [
             0.7777777777777778,
             "#fb9f3a"
            ],
            [
             0.8888888888888888,
             "#fdca26"
            ],
            [
             1,
             "#f0f921"
            ]
           ],
           "sequentialminus": [
            [
             0,
             "#0d0887"
            ],
            [
             0.1111111111111111,
             "#46039f"
            ],
            [
             0.2222222222222222,
             "#7201a8"
            ],
            [
             0.3333333333333333,
             "#9c179e"
            ],
            [
             0.4444444444444444,
             "#bd3786"
            ],
            [
             0.5555555555555556,
             "#d8576b"
            ],
            [
             0.6666666666666666,
             "#ed7953"
            ],
            [
             0.7777777777777778,
             "#fb9f3a"
            ],
            [
             0.8888888888888888,
             "#fdca26"
            ],
            [
             1,
             "#f0f921"
            ]
           ]
          },
          "colorway": [
           "#636efa",
           "#EF553B",
           "#00cc96",
           "#ab63fa",
           "#FFA15A",
           "#19d3f3",
           "#FF6692",
           "#B6E880",
           "#FF97FF",
           "#FECB52"
          ],
          "font": {
           "color": "#2a3f5f"
          },
          "geo": {
           "bgcolor": "white",
           "lakecolor": "white",
           "landcolor": "white",
           "showlakes": true,
           "showland": true,
           "subunitcolor": "#C8D4E3"
          },
          "hoverlabel": {
           "align": "left"
          },
          "hovermode": "closest",
          "mapbox": {
           "style": "light"
          },
          "paper_bgcolor": "white",
          "plot_bgcolor": "white",
          "polar": {
           "angularaxis": {
            "gridcolor": "#EBF0F8",
            "linecolor": "#EBF0F8",
            "ticks": ""
           },
           "bgcolor": "white",
           "radialaxis": {
            "gridcolor": "#EBF0F8",
            "linecolor": "#EBF0F8",
            "ticks": ""
           }
          },
          "scene": {
           "xaxis": {
            "backgroundcolor": "white",
            "gridcolor": "#DFE8F3",
            "gridwidth": 2,
            "linecolor": "#EBF0F8",
            "showbackground": true,
            "ticks": "",
            "zerolinecolor": "#EBF0F8"
           },
           "yaxis": {
            "backgroundcolor": "white",
            "gridcolor": "#DFE8F3",
            "gridwidth": 2,
            "linecolor": "#EBF0F8",
            "showbackground": true,
            "ticks": "",
            "zerolinecolor": "#EBF0F8"
           },
           "zaxis": {
            "backgroundcolor": "white",
            "gridcolor": "#DFE8F3",
            "gridwidth": 2,
            "linecolor": "#EBF0F8",
            "showbackground": true,
            "ticks": "",
            "zerolinecolor": "#EBF0F8"
           }
          },
          "shapedefaults": {
           "line": {
            "color": "#2a3f5f"
           }
          },
          "ternary": {
           "aaxis": {
            "gridcolor": "#DFE8F3",
            "linecolor": "#A2B1C6",
            "ticks": ""
           },
           "baxis": {
            "gridcolor": "#DFE8F3",
            "linecolor": "#A2B1C6",
            "ticks": ""
           },
           "bgcolor": "white",
           "caxis": {
            "gridcolor": "#DFE8F3",
            "linecolor": "#A2B1C6",
            "ticks": ""
           }
          },
          "title": {
           "x": 0.05
          },
          "xaxis": {
           "automargin": true,
           "gridcolor": "#EBF0F8",
           "linecolor": "#EBF0F8",
           "ticks": "",
           "title": {
            "standoff": 15
           },
           "zerolinecolor": "#EBF0F8",
           "zerolinewidth": 2
          },
          "yaxis": {
           "automargin": true,
           "gridcolor": "#EBF0F8",
           "linecolor": "#EBF0F8",
           "ticks": "",
           "title": {
            "standoff": 15
           },
           "zerolinecolor": "#EBF0F8",
           "zerolinewidth": 2
          }
         }
        },
        "title": {
         "font": {
          "size": 20
         },
         "text": "Top 30 Most Common Aircraft Make & Model Combinations"
        },
        "xaxis": {
         "anchor": "y",
         "domain": [
          0,
          1
         ],
         "title": {
          "text": "Number of Aircraft"
         }
        },
        "yaxis": {
         "anchor": "x",
         "domain": [
          0,
          1
         ],
         "tickfont": {
          "size": 11
         },
         "title": {
          "text": "Aircraft Make & Model"
         }
        }
       }
      }
     },
     "metadata": {},
     "output_type": "display_data"
    }
   ],
   "source": [
    "us_data['make_model'] = us_data['aircraft_make'].str.strip() + \" \" + us_data['aircraft_model'].str.strip()\n",
    "top_make_models = (\n",
    "    us_data['make_model']\n",
    "    .value_counts()[:20]\n",
    "    .reset_index()\n",
    ")\n",
    "top_make_models.columns = ['Make & Model', 'Count']\n",
    "\n",
    "\n",
    "fig = px.bar(\n",
    "    top_make_models,\n",
    "    x='Count',\n",
    "    y='Make & Model',\n",
    "    orientation='h',\n",
    "    title='Top 30 Most Common Aircraft Make & Model Combinations',\n",
    "    labels={'Count': 'Number of Aircraft', 'Make & Model': 'Aircraft Make & Model'},\n",
    "    color_discrete_sequence=['skyblue'],\n",
    "    text='Count'\n",
    ")\n",
    "\n",
    "fig.update_layout(\n",
    "    template='plotly_white',\n",
    "    title_font_size=20,\n",
    "    font=dict(size=14),\n",
    "    yaxis=dict(tickfont=dict(size=11)),\n",
    "    margin=dict(t=60, b=40, l=280, r=40), \n",
    "    height=1000  \n",
    ")\n",
    "\n",
    "fig.update_traces(textposition='outside')\n",
    "\n",
    "fig.show()\n",
    "\n"
   ]
  },
  {
   "cell_type": "markdown",
   "id": "7485d15b",
   "metadata": {},
   "source": [
    "\n",
    "### Observation\n",
    "\n",
    "The distribution of aircraft involved in aviation accidents is **overwhelmingly dominated by small aircraft**. When I examined the top 30 and top 50 most frequent make and model combinations, **general aviation manufacturers like Cessna, Piper, and Beech** were consistently at the top. These models are typically **light, single- or twin-engine aircraft** used for:\n",
    "\n",
    "- Flight training\n",
    "- Personal aviation\n",
    "- Small business transport\n",
    "\n",
    "This isn’t just a statistical blip—**small aircraft clearly form the core** of the general aviation landscape represented in this dataset.\n",
    "\n",
    "---\n",
    "\n",
    "###  Interpretation\n",
    "\n",
    "This pattern strongly suggests that **small aircraft are more frequently involved in accidents**—not necessarily because they’re unsafe, but due to several key factors:\n",
    "\n",
    "- **General aviation** has **less stringent oversight** compared to commercial aviation.\n",
    "- These aircraft are often flown by **student pilots or hobbyists** with **fewer total flight hours**.\n",
    "- **Maintenance quality varies** significantly across flight schools and private owners.\n",
    "- Small aircraft make up the **majority of the active fleet**, so higher accident counts are statistically expected.\n",
    "\n",
    "Even though the number of accidents is high, the **severity of these incidents is often lower** than in commercial aviation. That said, the presence of fatal outcomes reminds me that risk still needs to be taken seriously.\n",
    "\n",
    "---\n",
    "\n",
    "###  Business Recommendation\n",
    "\n",
    "While this finding may not be flashy, it’s critically important for aviation strategy and risk management. Based on this insight, I recommend:\n",
    "\n",
    "- **For aviation businesses:** Avoid **older or overused small aircraft models** with historically high accident counts—**unless** they come with **comprehensive maintenance records** and **well-documented pilot training protocols**.\n",
    "- **For training institutions:** Invest in **modern versions** of high-usage models (especially **post-2015 builds**) and back them with **rigorous safety programs**.\n",
    "- **For regulators and policymakers:** Strengthen **oversight in general aviation**, especially for **training flights** and **owner-operated aircraft**, where variability is highest.\n",
    "- **For investors:** Consider diversifying into:\n",
    "  - **Tech-enhanced small aircraft** with automation and advanced safety features\n",
    "  - **Aviation technology firms**\n",
    "  - **Maintenance-as-a-service models**\n",
    "  - **Specialized insurance** products for high-risk general aviation segments\n",
    "\n",
    "This segment might not grab headlines, but it offers **clear areas for safety improvement, innovation, and targeted investment**.\n"
   ]
  },
  {
   "cell_type": "markdown",
   "id": "ff709d78",
   "metadata": {},
   "source": [
    "7. `amature_make`: *Are the aircrafts professionaly or 'Amature' built?*"
   ]
  },
  {
   "cell_type": "code",
   "execution_count": 97,
   "id": "5026e3fd",
   "metadata": {},
   "outputs": [
    {
     "data": {
      "text/plain": [
       "amateur_built\n",
       "NO         73906\n",
       "YES         8321\n",
       "UNKNOWN       21\n",
       "Name: count, dtype: int64"
      ]
     },
     "execution_count": 97,
     "metadata": {},
     "output_type": "execute_result"
    }
   ],
   "source": [
    "us_data['amateur_built'].value_counts()"
   ]
  },
  {
   "cell_type": "code",
   "execution_count": 98,
   "id": "7d7a5d97",
   "metadata": {},
   "outputs": [
    {
     "data": {
      "application/vnd.plotly.v1+json": {
       "config": {
        "plotlyServerURL": "https://plot.ly"
       },
       "data": [
        {
         "domain": {
          "x": [
           0,
           1
          ],
          "y": [
           0,
           1
          ]
         },
         "hovertemplate": "Amateur Built=%{label}<br>Count=%{value}<extra></extra>",
         "labels": [
          "NO",
          "YES",
          "UNKNOWN"
         ],
         "legendgroup": "",
         "name": "",
         "pull": [
          0.1,
          0,
          0
         ],
         "showlegend": true,
         "textinfo": "percent+label",
         "type": "pie",
         "values": {
          "bdata": "siABAIEgAAAVAAAA",
          "dtype": "i4"
         }
        }
       ],
       "layout": {
        "legend": {
         "tracegroupgap": 0
        },
        "piecolorway": [
         "rgb(141,211,199)",
         "rgb(255,255,179)",
         "rgb(190,186,218)",
         "rgb(251,128,114)",
         "rgb(128,177,211)",
         "rgb(253,180,98)",
         "rgb(179,222,105)",
         "rgb(252,205,229)",
         "rgb(217,217,217)",
         "rgb(188,128,189)",
         "rgb(204,235,197)",
         "rgb(255,237,111)"
        ],
        "template": {
         "data": {
          "bar": [
           {
            "error_x": {
             "color": "#2a3f5f"
            },
            "error_y": {
             "color": "#2a3f5f"
            },
            "marker": {
             "line": {
              "color": "white",
              "width": 0.5
             },
             "pattern": {
              "fillmode": "overlay",
              "size": 10,
              "solidity": 0.2
             }
            },
            "type": "bar"
           }
          ],
          "barpolar": [
           {
            "marker": {
             "line": {
              "color": "white",
              "width": 0.5
             },
             "pattern": {
              "fillmode": "overlay",
              "size": 10,
              "solidity": 0.2
             }
            },
            "type": "barpolar"
           }
          ],
          "carpet": [
           {
            "aaxis": {
             "endlinecolor": "#2a3f5f",
             "gridcolor": "#C8D4E3",
             "linecolor": "#C8D4E3",
             "minorgridcolor": "#C8D4E3",
             "startlinecolor": "#2a3f5f"
            },
            "baxis": {
             "endlinecolor": "#2a3f5f",
             "gridcolor": "#C8D4E3",
             "linecolor": "#C8D4E3",
             "minorgridcolor": "#C8D4E3",
             "startlinecolor": "#2a3f5f"
            },
            "type": "carpet"
           }
          ],
          "choropleth": [
           {
            "colorbar": {
             "outlinewidth": 0,
             "ticks": ""
            },
            "type": "choropleth"
           }
          ],
          "contour": [
           {
            "colorbar": {
             "outlinewidth": 0,
             "ticks": ""
            },
            "colorscale": [
             [
              0,
              "#0d0887"
             ],
             [
              0.1111111111111111,
              "#46039f"
             ],
             [
              0.2222222222222222,
              "#7201a8"
             ],
             [
              0.3333333333333333,
              "#9c179e"
             ],
             [
              0.4444444444444444,
              "#bd3786"
             ],
             [
              0.5555555555555556,
              "#d8576b"
             ],
             [
              0.6666666666666666,
              "#ed7953"
             ],
             [
              0.7777777777777778,
              "#fb9f3a"
             ],
             [
              0.8888888888888888,
              "#fdca26"
             ],
             [
              1,
              "#f0f921"
             ]
            ],
            "type": "contour"
           }
          ],
          "contourcarpet": [
           {
            "colorbar": {
             "outlinewidth": 0,
             "ticks": ""
            },
            "type": "contourcarpet"
           }
          ],
          "heatmap": [
           {
            "colorbar": {
             "outlinewidth": 0,
             "ticks": ""
            },
            "colorscale": [
             [
              0,
              "#0d0887"
             ],
             [
              0.1111111111111111,
              "#46039f"
             ],
             [
              0.2222222222222222,
              "#7201a8"
             ],
             [
              0.3333333333333333,
              "#9c179e"
             ],
             [
              0.4444444444444444,
              "#bd3786"
             ],
             [
              0.5555555555555556,
              "#d8576b"
             ],
             [
              0.6666666666666666,
              "#ed7953"
             ],
             [
              0.7777777777777778,
              "#fb9f3a"
             ],
             [
              0.8888888888888888,
              "#fdca26"
             ],
             [
              1,
              "#f0f921"
             ]
            ],
            "type": "heatmap"
           }
          ],
          "histogram": [
           {
            "marker": {
             "pattern": {
              "fillmode": "overlay",
              "size": 10,
              "solidity": 0.2
             }
            },
            "type": "histogram"
           }
          ],
          "histogram2d": [
           {
            "colorbar": {
             "outlinewidth": 0,
             "ticks": ""
            },
            "colorscale": [
             [
              0,
              "#0d0887"
             ],
             [
              0.1111111111111111,
              "#46039f"
             ],
             [
              0.2222222222222222,
              "#7201a8"
             ],
             [
              0.3333333333333333,
              "#9c179e"
             ],
             [
              0.4444444444444444,
              "#bd3786"
             ],
             [
              0.5555555555555556,
              "#d8576b"
             ],
             [
              0.6666666666666666,
              "#ed7953"
             ],
             [
              0.7777777777777778,
              "#fb9f3a"
             ],
             [
              0.8888888888888888,
              "#fdca26"
             ],
             [
              1,
              "#f0f921"
             ]
            ],
            "type": "histogram2d"
           }
          ],
          "histogram2dcontour": [
           {
            "colorbar": {
             "outlinewidth": 0,
             "ticks": ""
            },
            "colorscale": [
             [
              0,
              "#0d0887"
             ],
             [
              0.1111111111111111,
              "#46039f"
             ],
             [
              0.2222222222222222,
              "#7201a8"
             ],
             [
              0.3333333333333333,
              "#9c179e"
             ],
             [
              0.4444444444444444,
              "#bd3786"
             ],
             [
              0.5555555555555556,
              "#d8576b"
             ],
             [
              0.6666666666666666,
              "#ed7953"
             ],
             [
              0.7777777777777778,
              "#fb9f3a"
             ],
             [
              0.8888888888888888,
              "#fdca26"
             ],
             [
              1,
              "#f0f921"
             ]
            ],
            "type": "histogram2dcontour"
           }
          ],
          "mesh3d": [
           {
            "colorbar": {
             "outlinewidth": 0,
             "ticks": ""
            },
            "type": "mesh3d"
           }
          ],
          "parcoords": [
           {
            "line": {
             "colorbar": {
              "outlinewidth": 0,
              "ticks": ""
             }
            },
            "type": "parcoords"
           }
          ],
          "pie": [
           {
            "automargin": true,
            "type": "pie"
           }
          ],
          "scatter": [
           {
            "fillpattern": {
             "fillmode": "overlay",
             "size": 10,
             "solidity": 0.2
            },
            "type": "scatter"
           }
          ],
          "scatter3d": [
           {
            "line": {
             "colorbar": {
              "outlinewidth": 0,
              "ticks": ""
             }
            },
            "marker": {
             "colorbar": {
              "outlinewidth": 0,
              "ticks": ""
             }
            },
            "type": "scatter3d"
           }
          ],
          "scattercarpet": [
           {
            "marker": {
             "colorbar": {
              "outlinewidth": 0,
              "ticks": ""
             }
            },
            "type": "scattercarpet"
           }
          ],
          "scattergeo": [
           {
            "marker": {
             "colorbar": {
              "outlinewidth": 0,
              "ticks": ""
             }
            },
            "type": "scattergeo"
           }
          ],
          "scattergl": [
           {
            "marker": {
             "colorbar": {
              "outlinewidth": 0,
              "ticks": ""
             }
            },
            "type": "scattergl"
           }
          ],
          "scattermap": [
           {
            "marker": {
             "colorbar": {
              "outlinewidth": 0,
              "ticks": ""
             }
            },
            "type": "scattermap"
           }
          ],
          "scattermapbox": [
           {
            "marker": {
             "colorbar": {
              "outlinewidth": 0,
              "ticks": ""
             }
            },
            "type": "scattermapbox"
           }
          ],
          "scatterpolar": [
           {
            "marker": {
             "colorbar": {
              "outlinewidth": 0,
              "ticks": ""
             }
            },
            "type": "scatterpolar"
           }
          ],
          "scatterpolargl": [
           {
            "marker": {
             "colorbar": {
              "outlinewidth": 0,
              "ticks": ""
             }
            },
            "type": "scatterpolargl"
           }
          ],
          "scatterternary": [
           {
            "marker": {
             "colorbar": {
              "outlinewidth": 0,
              "ticks": ""
             }
            },
            "type": "scatterternary"
           }
          ],
          "surface": [
           {
            "colorbar": {
             "outlinewidth": 0,
             "ticks": ""
            },
            "colorscale": [
             [
              0,
              "#0d0887"
             ],
             [
              0.1111111111111111,
              "#46039f"
             ],
             [
              0.2222222222222222,
              "#7201a8"
             ],
             [
              0.3333333333333333,
              "#9c179e"
             ],
             [
              0.4444444444444444,
              "#bd3786"
             ],
             [
              0.5555555555555556,
              "#d8576b"
             ],
             [
              0.6666666666666666,
              "#ed7953"
             ],
             [
              0.7777777777777778,
              "#fb9f3a"
             ],
             [
              0.8888888888888888,
              "#fdca26"
             ],
             [
              1,
              "#f0f921"
             ]
            ],
            "type": "surface"
           }
          ],
          "table": [
           {
            "cells": {
             "fill": {
              "color": "#EBF0F8"
             },
             "line": {
              "color": "white"
             }
            },
            "header": {
             "fill": {
              "color": "#C8D4E3"
             },
             "line": {
              "color": "white"
             }
            },
            "type": "table"
           }
          ]
         },
         "layout": {
          "annotationdefaults": {
           "arrowcolor": "#2a3f5f",
           "arrowhead": 0,
           "arrowwidth": 1
          },
          "autotypenumbers": "strict",
          "coloraxis": {
           "colorbar": {
            "outlinewidth": 0,
            "ticks": ""
           }
          },
          "colorscale": {
           "diverging": [
            [
             0,
             "#8e0152"
            ],
            [
             0.1,
             "#c51b7d"
            ],
            [
             0.2,
             "#de77ae"
            ],
            [
             0.3,
             "#f1b6da"
            ],
            [
             0.4,
             "#fde0ef"
            ],
            [
             0.5,
             "#f7f7f7"
            ],
            [
             0.6,
             "#e6f5d0"
            ],
            [
             0.7,
             "#b8e186"
            ],
            [
             0.8,
             "#7fbc41"
            ],
            [
             0.9,
             "#4d9221"
            ],
            [
             1,
             "#276419"
            ]
           ],
           "sequential": [
            [
             0,
             "#0d0887"
            ],
            [
             0.1111111111111111,
             "#46039f"
            ],
            [
             0.2222222222222222,
             "#7201a8"
            ],
            [
             0.3333333333333333,
             "#9c179e"
            ],
            [
             0.4444444444444444,
             "#bd3786"
            ],
            [
             0.5555555555555556,
             "#d8576b"
            ],
            [
             0.6666666666666666,
             "#ed7953"
            ],
            [
             0.7777777777777778,
             "#fb9f3a"
            ],
            [
             0.8888888888888888,
             "#fdca26"
            ],
            [
             1,
             "#f0f921"
            ]
           ],
           "sequentialminus": [
            [
             0,
             "#0d0887"
            ],
            [
             0.1111111111111111,
             "#46039f"
            ],
            [
             0.2222222222222222,
             "#7201a8"
            ],
            [
             0.3333333333333333,
             "#9c179e"
            ],
            [
             0.4444444444444444,
             "#bd3786"
            ],
            [
             0.5555555555555556,
             "#d8576b"
            ],
            [
             0.6666666666666666,
             "#ed7953"
            ],
            [
             0.7777777777777778,
             "#fb9f3a"
            ],
            [
             0.8888888888888888,
             "#fdca26"
            ],
            [
             1,
             "#f0f921"
            ]
           ]
          },
          "colorway": [
           "#636efa",
           "#EF553B",
           "#00cc96",
           "#ab63fa",
           "#FFA15A",
           "#19d3f3",
           "#FF6692",
           "#B6E880",
           "#FF97FF",
           "#FECB52"
          ],
          "font": {
           "color": "#2a3f5f"
          },
          "geo": {
           "bgcolor": "white",
           "lakecolor": "white",
           "landcolor": "white",
           "showlakes": true,
           "showland": true,
           "subunitcolor": "#C8D4E3"
          },
          "hoverlabel": {
           "align": "left"
          },
          "hovermode": "closest",
          "mapbox": {
           "style": "light"
          },
          "paper_bgcolor": "white",
          "plot_bgcolor": "white",
          "polar": {
           "angularaxis": {
            "gridcolor": "#EBF0F8",
            "linecolor": "#EBF0F8",
            "ticks": ""
           },
           "bgcolor": "white",
           "radialaxis": {
            "gridcolor": "#EBF0F8",
            "linecolor": "#EBF0F8",
            "ticks": ""
           }
          },
          "scene": {
           "xaxis": {
            "backgroundcolor": "white",
            "gridcolor": "#DFE8F3",
            "gridwidth": 2,
            "linecolor": "#EBF0F8",
            "showbackground": true,
            "ticks": "",
            "zerolinecolor": "#EBF0F8"
           },
           "yaxis": {
            "backgroundcolor": "white",
            "gridcolor": "#DFE8F3",
            "gridwidth": 2,
            "linecolor": "#EBF0F8",
            "showbackground": true,
            "ticks": "",
            "zerolinecolor": "#EBF0F8"
           },
           "zaxis": {
            "backgroundcolor": "white",
            "gridcolor": "#DFE8F3",
            "gridwidth": 2,
            "linecolor": "#EBF0F8",
            "showbackground": true,
            "ticks": "",
            "zerolinecolor": "#EBF0F8"
           }
          },
          "shapedefaults": {
           "line": {
            "color": "#2a3f5f"
           }
          },
          "ternary": {
           "aaxis": {
            "gridcolor": "#DFE8F3",
            "linecolor": "#A2B1C6",
            "ticks": ""
           },
           "baxis": {
            "gridcolor": "#DFE8F3",
            "linecolor": "#A2B1C6",
            "ticks": ""
           },
           "bgcolor": "white",
           "caxis": {
            "gridcolor": "#DFE8F3",
            "linecolor": "#A2B1C6",
            "ticks": ""
           }
          },
          "title": {
           "x": 0.05
          },
          "xaxis": {
           "automargin": true,
           "gridcolor": "#EBF0F8",
           "linecolor": "#EBF0F8",
           "ticks": "",
           "title": {
            "standoff": 15
           },
           "zerolinecolor": "#EBF0F8",
           "zerolinewidth": 2
          },
          "yaxis": {
           "automargin": true,
           "gridcolor": "#EBF0F8",
           "linecolor": "#EBF0F8",
           "ticks": "",
           "title": {
            "standoff": 15
           },
           "zerolinecolor": "#EBF0F8",
           "zerolinewidth": 2
          }
         }
        },
        "title": {
         "font": {
          "size": 20
         },
         "text": "Proportion of Amateur-Built Aircraft Involved in Accidents"
        }
       }
      }
     },
     "metadata": {},
     "output_type": "display_data"
    }
   ],
   "source": [
    "\n",
    "amateur_counts = us_data['amateur_built'].value_counts().reset_index()\n",
    "amateur_counts.columns = ['Amateur Built', 'Count']\n",
    "\n",
    "fig = px.pie(amateur_counts, \n",
    "             names='Amateur Built', \n",
    "             values='Count', \n",
    "             title='Proportion of Amateur-Built Aircraft Involved in Accidents',\n",
    "             color_discrete_sequence=px.colors.qualitative.Set3)\n",
    "\n",
    "fig.update_traces(textinfo='percent+label', pull=[0.1, 0, 0]) \n",
    "fig.update_layout(template='plotly_white', title_font_size=20)\n",
    "fig.show()\n"
   ]
  },
  {
   "cell_type": "markdown",
   "id": "685971b2",
   "metadata": {},
   "source": [
    "\n",
    "\n",
    "### Observation and Interpretation\n",
    "\n",
    "The **vast majority of aircraft involved in accidents are not amateur-built**, indicating that they are manufactured by **certified aviation companies** under established regulatory standards. That said, the **small slice of amateur-built aircraft** involved in incidents is worth highlighting.\n",
    "\n",
    "These **homebuilt planes**, while a minority, come with **inherent risk factors**:\n",
    "\n",
    "- Use of **non-standard parts** or **DIY assembly methods**.\n",
    "- **Minimal oversight**, especially when compared to FAA-certified manufacturers.\n",
    "- In many cases, the **builder is also the pilot**, which introduces **bias, overconfidence**, or insufficient testing.\n",
    "\n",
    "Although the **\"UNKNOWN\"** values are negligible, I still note them as a reminder of the **importance of clean and complete reporting**.\n",
    "\n",
    "---\n",
    "\n",
    "### Business Recommendation\n",
    "\n",
    "Based on this distribution, my recommendations are:\n",
    "\n",
    "- **Avoid heavy investment** in amateur-built aircraft unless the aircraft and its builder have **clear, verifiable safety records** and **airworthiness documentation**.\n",
    "- If amateur-built aircraft are part of the company’s portfolio or operations ( supporting sport aviation or hobbyist communities), then:\n",
    "  - Enforce **stricter safety checks and inspection cycles**.\n",
    "  - Require **pilot training and certification** tailored to amateur-built operation.\n",
    "  - Consider **insuring these aircraft at higher risk premiums**, or **limiting their use** in high-stakes environments.\n",
    "\n",
    "While amateur-built aviation can be innovative and community-driven, it needs **specialized handling** to ensure safety and operational integrity.\n"
   ]
  },
  {
   "cell_type": "markdown",
   "id": "7f95bbe9",
   "metadata": {},
   "source": [
    "8. `engine_type` : *Whats the common engine type? what are the risks? are they safe? lets investigate!*"
   ]
  },
  {
   "cell_type": "code",
   "execution_count": 99,
   "id": "49b3a564",
   "metadata": {},
   "outputs": [
    {
     "data": {
      "application/vnd.plotly.v1+json": {
       "config": {
        "plotlyServerURL": "https://plot.ly"
       },
       "data": [
        {
         "hovertemplate": "Number of Aircraft=%{x}<br>Engine Type=%{y}<extra></extra>",
         "legendgroup": "",
         "marker": {
          "color": "lightskyblue",
          "pattern": {
           "shape": ""
          }
         },
         "name": "",
         "orientation": "h",
         "showlegend": false,
         "textposition": "auto",
         "type": "bar",
         "x": {
          "bdata": "AQAAAAEAAAACAAAAAgAAAAoAAACbAgAAaQUAAC4IAACGDAAAAw0AAH0XAQA=",
          "dtype": "i4"
         },
         "xaxis": "x",
         "y": [
          "HYBRID-ROCKET",
          "UNK",
          "LR",
          "NONE",
          "ELECTRIC",
          "TURBO-JET",
          "UNKNOWN",
          "TURBO-FAN",
          "TURBO-PROP",
          "TURBO-SHAFT",
          "RECIPROCATING"
         ],
         "yaxis": "y"
        }
       ],
       "layout": {
        "barmode": "relative",
        "font": {
         "size": 14
        },
        "legend": {
         "tracegroupgap": 0
        },
        "margin": {
         "b": 40,
         "l": 70,
         "r": 30,
         "t": 60
        },
        "template": {
         "data": {
          "bar": [
           {
            "error_x": {
             "color": "#2a3f5f"
            },
            "error_y": {
             "color": "#2a3f5f"
            },
            "marker": {
             "line": {
              "color": "white",
              "width": 0.5
             },
             "pattern": {
              "fillmode": "overlay",
              "size": 10,
              "solidity": 0.2
             }
            },
            "type": "bar"
           }
          ],
          "barpolar": [
           {
            "marker": {
             "line": {
              "color": "white",
              "width": 0.5
             },
             "pattern": {
              "fillmode": "overlay",
              "size": 10,
              "solidity": 0.2
             }
            },
            "type": "barpolar"
           }
          ],
          "carpet": [
           {
            "aaxis": {
             "endlinecolor": "#2a3f5f",
             "gridcolor": "#C8D4E3",
             "linecolor": "#C8D4E3",
             "minorgridcolor": "#C8D4E3",
             "startlinecolor": "#2a3f5f"
            },
            "baxis": {
             "endlinecolor": "#2a3f5f",
             "gridcolor": "#C8D4E3",
             "linecolor": "#C8D4E3",
             "minorgridcolor": "#C8D4E3",
             "startlinecolor": "#2a3f5f"
            },
            "type": "carpet"
           }
          ],
          "choropleth": [
           {
            "colorbar": {
             "outlinewidth": 0,
             "ticks": ""
            },
            "type": "choropleth"
           }
          ],
          "contour": [
           {
            "colorbar": {
             "outlinewidth": 0,
             "ticks": ""
            },
            "colorscale": [
             [
              0,
              "#0d0887"
             ],
             [
              0.1111111111111111,
              "#46039f"
             ],
             [
              0.2222222222222222,
              "#7201a8"
             ],
             [
              0.3333333333333333,
              "#9c179e"
             ],
             [
              0.4444444444444444,
              "#bd3786"
             ],
             [
              0.5555555555555556,
              "#d8576b"
             ],
             [
              0.6666666666666666,
              "#ed7953"
             ],
             [
              0.7777777777777778,
              "#fb9f3a"
             ],
             [
              0.8888888888888888,
              "#fdca26"
             ],
             [
              1,
              "#f0f921"
             ]
            ],
            "type": "contour"
           }
          ],
          "contourcarpet": [
           {
            "colorbar": {
             "outlinewidth": 0,
             "ticks": ""
            },
            "type": "contourcarpet"
           }
          ],
          "heatmap": [
           {
            "colorbar": {
             "outlinewidth": 0,
             "ticks": ""
            },
            "colorscale": [
             [
              0,
              "#0d0887"
             ],
             [
              0.1111111111111111,
              "#46039f"
             ],
             [
              0.2222222222222222,
              "#7201a8"
             ],
             [
              0.3333333333333333,
              "#9c179e"
             ],
             [
              0.4444444444444444,
              "#bd3786"
             ],
             [
              0.5555555555555556,
              "#d8576b"
             ],
             [
              0.6666666666666666,
              "#ed7953"
             ],
             [
              0.7777777777777778,
              "#fb9f3a"
             ],
             [
              0.8888888888888888,
              "#fdca26"
             ],
             [
              1,
              "#f0f921"
             ]
            ],
            "type": "heatmap"
           }
          ],
          "histogram": [
           {
            "marker": {
             "pattern": {
              "fillmode": "overlay",
              "size": 10,
              "solidity": 0.2
             }
            },
            "type": "histogram"
           }
          ],
          "histogram2d": [
           {
            "colorbar": {
             "outlinewidth": 0,
             "ticks": ""
            },
            "colorscale": [
             [
              0,
              "#0d0887"
             ],
             [
              0.1111111111111111,
              "#46039f"
             ],
             [
              0.2222222222222222,
              "#7201a8"
             ],
             [
              0.3333333333333333,
              "#9c179e"
             ],
             [
              0.4444444444444444,
              "#bd3786"
             ],
             [
              0.5555555555555556,
              "#d8576b"
             ],
             [
              0.6666666666666666,
              "#ed7953"
             ],
             [
              0.7777777777777778,
              "#fb9f3a"
             ],
             [
              0.8888888888888888,
              "#fdca26"
             ],
             [
              1,
              "#f0f921"
             ]
            ],
            "type": "histogram2d"
           }
          ],
          "histogram2dcontour": [
           {
            "colorbar": {
             "outlinewidth": 0,
             "ticks": ""
            },
            "colorscale": [
             [
              0,
              "#0d0887"
             ],
             [
              0.1111111111111111,
              "#46039f"
             ],
             [
              0.2222222222222222,
              "#7201a8"
             ],
             [
              0.3333333333333333,
              "#9c179e"
             ],
             [
              0.4444444444444444,
              "#bd3786"
             ],
             [
              0.5555555555555556,
              "#d8576b"
             ],
             [
              0.6666666666666666,
              "#ed7953"
             ],
             [
              0.7777777777777778,
              "#fb9f3a"
             ],
             [
              0.8888888888888888,
              "#fdca26"
             ],
             [
              1,
              "#f0f921"
             ]
            ],
            "type": "histogram2dcontour"
           }
          ],
          "mesh3d": [
           {
            "colorbar": {
             "outlinewidth": 0,
             "ticks": ""
            },
            "type": "mesh3d"
           }
          ],
          "parcoords": [
           {
            "line": {
             "colorbar": {
              "outlinewidth": 0,
              "ticks": ""
             }
            },
            "type": "parcoords"
           }
          ],
          "pie": [
           {
            "automargin": true,
            "type": "pie"
           }
          ],
          "scatter": [
           {
            "fillpattern": {
             "fillmode": "overlay",
             "size": 10,
             "solidity": 0.2
            },
            "type": "scatter"
           }
          ],
          "scatter3d": [
           {
            "line": {
             "colorbar": {
              "outlinewidth": 0,
              "ticks": ""
             }
            },
            "marker": {
             "colorbar": {
              "outlinewidth": 0,
              "ticks": ""
             }
            },
            "type": "scatter3d"
           }
          ],
          "scattercarpet": [
           {
            "marker": {
             "colorbar": {
              "outlinewidth": 0,
              "ticks": ""
             }
            },
            "type": "scattercarpet"
           }
          ],
          "scattergeo": [
           {
            "marker": {
             "colorbar": {
              "outlinewidth": 0,
              "ticks": ""
             }
            },
            "type": "scattergeo"
           }
          ],
          "scattergl": [
           {
            "marker": {
             "colorbar": {
              "outlinewidth": 0,
              "ticks": ""
             }
            },
            "type": "scattergl"
           }
          ],
          "scattermap": [
           {
            "marker": {
             "colorbar": {
              "outlinewidth": 0,
              "ticks": ""
             }
            },
            "type": "scattermap"
           }
          ],
          "scattermapbox": [
           {
            "marker": {
             "colorbar": {
              "outlinewidth": 0,
              "ticks": ""
             }
            },
            "type": "scattermapbox"
           }
          ],
          "scatterpolar": [
           {
            "marker": {
             "colorbar": {
              "outlinewidth": 0,
              "ticks": ""
             }
            },
            "type": "scatterpolar"
           }
          ],
          "scatterpolargl": [
           {
            "marker": {
             "colorbar": {
              "outlinewidth": 0,
              "ticks": ""
             }
            },
            "type": "scatterpolargl"
           }
          ],
          "scatterternary": [
           {
            "marker": {
             "colorbar": {
              "outlinewidth": 0,
              "ticks": ""
             }
            },
            "type": "scatterternary"
           }
          ],
          "surface": [
           {
            "colorbar": {
             "outlinewidth": 0,
             "ticks": ""
            },
            "colorscale": [
             [
              0,
              "#0d0887"
             ],
             [
              0.1111111111111111,
              "#46039f"
             ],
             [
              0.2222222222222222,
              "#7201a8"
             ],
             [
              0.3333333333333333,
              "#9c179e"
             ],
             [
              0.4444444444444444,
              "#bd3786"
             ],
             [
              0.5555555555555556,
              "#d8576b"
             ],
             [
              0.6666666666666666,
              "#ed7953"
             ],
             [
              0.7777777777777778,
              "#fb9f3a"
             ],
             [
              0.8888888888888888,
              "#fdca26"
             ],
             [
              1,
              "#f0f921"
             ]
            ],
            "type": "surface"
           }
          ],
          "table": [
           {
            "cells": {
             "fill": {
              "color": "#EBF0F8"
             },
             "line": {
              "color": "white"
             }
            },
            "header": {
             "fill": {
              "color": "#C8D4E3"
             },
             "line": {
              "color": "white"
             }
            },
            "type": "table"
           }
          ]
         },
         "layout": {
          "annotationdefaults": {
           "arrowcolor": "#2a3f5f",
           "arrowhead": 0,
           "arrowwidth": 1
          },
          "autotypenumbers": "strict",
          "coloraxis": {
           "colorbar": {
            "outlinewidth": 0,
            "ticks": ""
           }
          },
          "colorscale": {
           "diverging": [
            [
             0,
             "#8e0152"
            ],
            [
             0.1,
             "#c51b7d"
            ],
            [
             0.2,
             "#de77ae"
            ],
            [
             0.3,
             "#f1b6da"
            ],
            [
             0.4,
             "#fde0ef"
            ],
            [
             0.5,
             "#f7f7f7"
            ],
            [
             0.6,
             "#e6f5d0"
            ],
            [
             0.7,
             "#b8e186"
            ],
            [
             0.8,
             "#7fbc41"
            ],
            [
             0.9,
             "#4d9221"
            ],
            [
             1,
             "#276419"
            ]
           ],
           "sequential": [
            [
             0,
             "#0d0887"
            ],
            [
             0.1111111111111111,
             "#46039f"
            ],
            [
             0.2222222222222222,
             "#7201a8"
            ],
            [
             0.3333333333333333,
             "#9c179e"
            ],
            [
             0.4444444444444444,
             "#bd3786"
            ],
            [
             0.5555555555555556,
             "#d8576b"
            ],
            [
             0.6666666666666666,
             "#ed7953"
            ],
            [
             0.7777777777777778,
             "#fb9f3a"
            ],
            [
             0.8888888888888888,
             "#fdca26"
            ],
            [
             1,
             "#f0f921"
            ]
           ],
           "sequentialminus": [
            [
             0,
             "#0d0887"
            ],
            [
             0.1111111111111111,
             "#46039f"
            ],
            [
             0.2222222222222222,
             "#7201a8"
            ],
            [
             0.3333333333333333,
             "#9c179e"
            ],
            [
             0.4444444444444444,
             "#bd3786"
            ],
            [
             0.5555555555555556,
             "#d8576b"
            ],
            [
             0.6666666666666666,
             "#ed7953"
            ],
            [
             0.7777777777777778,
             "#fb9f3a"
            ],
            [
             0.8888888888888888,
             "#fdca26"
            ],
            [
             1,
             "#f0f921"
            ]
           ]
          },
          "colorway": [
           "#636efa",
           "#EF553B",
           "#00cc96",
           "#ab63fa",
           "#FFA15A",
           "#19d3f3",
           "#FF6692",
           "#B6E880",
           "#FF97FF",
           "#FECB52"
          ],
          "font": {
           "color": "#2a3f5f"
          },
          "geo": {
           "bgcolor": "white",
           "lakecolor": "white",
           "landcolor": "white",
           "showlakes": true,
           "showland": true,
           "subunitcolor": "#C8D4E3"
          },
          "hoverlabel": {
           "align": "left"
          },
          "hovermode": "closest",
          "mapbox": {
           "style": "light"
          },
          "paper_bgcolor": "white",
          "plot_bgcolor": "white",
          "polar": {
           "angularaxis": {
            "gridcolor": "#EBF0F8",
            "linecolor": "#EBF0F8",
            "ticks": ""
           },
           "bgcolor": "white",
           "radialaxis": {
            "gridcolor": "#EBF0F8",
            "linecolor": "#EBF0F8",
            "ticks": ""
           }
          },
          "scene": {
           "xaxis": {
            "backgroundcolor": "white",
            "gridcolor": "#DFE8F3",
            "gridwidth": 2,
            "linecolor": "#EBF0F8",
            "showbackground": true,
            "ticks": "",
            "zerolinecolor": "#EBF0F8"
           },
           "yaxis": {
            "backgroundcolor": "white",
            "gridcolor": "#DFE8F3",
            "gridwidth": 2,
            "linecolor": "#EBF0F8",
            "showbackground": true,
            "ticks": "",
            "zerolinecolor": "#EBF0F8"
           },
           "zaxis": {
            "backgroundcolor": "white",
            "gridcolor": "#DFE8F3",
            "gridwidth": 2,
            "linecolor": "#EBF0F8",
            "showbackground": true,
            "ticks": "",
            "zerolinecolor": "#EBF0F8"
           }
          },
          "shapedefaults": {
           "line": {
            "color": "#2a3f5f"
           }
          },
          "ternary": {
           "aaxis": {
            "gridcolor": "#DFE8F3",
            "linecolor": "#A2B1C6",
            "ticks": ""
           },
           "baxis": {
            "gridcolor": "#DFE8F3",
            "linecolor": "#A2B1C6",
            "ticks": ""
           },
           "bgcolor": "white",
           "caxis": {
            "gridcolor": "#DFE8F3",
            "linecolor": "#A2B1C6",
            "ticks": ""
           }
          },
          "title": {
           "x": 0.05
          },
          "xaxis": {
           "automargin": true,
           "gridcolor": "#EBF0F8",
           "linecolor": "#EBF0F8",
           "ticks": "",
           "title": {
            "standoff": 15
           },
           "zerolinecolor": "#EBF0F8",
           "zerolinewidth": 2
          },
          "yaxis": {
           "automargin": true,
           "gridcolor": "#EBF0F8",
           "linecolor": "#EBF0F8",
           "ticks": "",
           "title": {
            "standoff": 15
           },
           "zerolinecolor": "#EBF0F8",
           "zerolinewidth": 2
          }
         }
        },
        "title": {
         "font": {
          "size": 20
         },
         "text": "Distribution of Engine Types"
        },
        "xaxis": {
         "anchor": "y",
         "domain": [
          0,
          1
         ],
         "title": {
          "text": "Number of Aircraft"
         }
        },
        "yaxis": {
         "anchor": "x",
         "domain": [
          0,
          1
         ],
         "tickmode": "linear",
         "title": {
          "text": "Engine Type"
         }
        }
       }
      }
     },
     "metadata": {},
     "output_type": "display_data"
    }
   ],
   "source": [
    "\n",
    "engine_type_counts = us_data['engine_type'].value_counts().reset_index()\n",
    "engine_type_counts.columns = ['Engine Type', 'Count']\n",
    "\n",
    "engine_type_counts = engine_type_counts.sort_values('Count', ascending=True)\n",
    "\n",
    "fig = px.bar(\n",
    "    engine_type_counts,\n",
    "    x='Count',\n",
    "    y='Engine Type',\n",
    "    orientation='h',\n",
    "    title='Distribution of Engine Types',\n",
    "    labels={'Count': 'Number of Aircraft', 'Engine Type': 'Engine Type'},\n",
    "    color_discrete_sequence=['lightskyblue']\n",
    ")\n",
    "fig.update_layout(\n",
    "    template='plotly_white',\n",
    "    title_font_size=20,\n",
    "    font=dict(size=14),\n",
    "    margin=dict(t=60, b=40, l=70, r=30),\n",
    "    yaxis=dict(tickmode='linear'),\n",
    ")\n",
    "fig.show()\n"
   ]
  },
  {
   "cell_type": "markdown",
   "id": "8ebe45d4",
   "metadata": {},
   "source": [
    "\n",
    "\n",
    "### Observation,Interpretation & Insights\n",
    "\n",
    "The **reciprocating engine** clearly dominates the distribution, and that’s no surprise. It reflects the overwhelming presence of **small, general aviation aircraft** in the dataset. This **doesn’t mean reciprocating engines are inherently unsafe**—rather, it highlights how frequently they’re used in **private, instructional, or low-capacity flights**, which are more susceptible to accident reporting due to volume, looser oversight, and more varied maintenance practices.\n",
    "\n",
    "Other engine types—**turboprop, turbo-shaft, turbo-fan, and turbo-jet**—typically power **larger or commercial aircraft**. These aircraft **adhere to stricter regulatory standards**, tend to be **maintained more rigorously**, and **operate in more structured environments**, which may explain their lower representation in the data.\n",
    "\n",
    "Meanwhile, **niche engine categories** like *electric*, *hybrid-rocket*, or entries marked as **\"LR\" or \"UNK\"** are statistical outliers. These likely represent **experimental aircraft, prototype flights, or edge-case data entries**.\n",
    "\n",
    ">  **Important Caveat**: This dataset captures **accidents**, not fleet inventory. That means the data is **biased toward smaller aircraft**, which have higher exposure and often face different operational conditions than their commercial counterparts.\n",
    "\n",
    "---\n",
    "\n",
    "### Business Recommendation\n",
    "\n",
    "While this data doesn’t directly compare **engine safety or efficiency**, several useful takeaways emerge:\n",
    "\n",
    "- **All certified engine types are designed for safety**; accident occurrences are far more influenced by **human error, poor maintenance**, or **procedural failures** than by engine type alone.\n",
    "- **Reciprocating engines**, while accessible and common, come with higher operational variability. If cost-effective, consider upgrading to **turboprop or turbofan engines**, which are more **efficient**, **modern**, and **reliable**—especially in commercial or semi-commercial operations.\n",
    "- When exploring **investments, partnerships, or procurement strategies**, prioritize metrics like:\n",
    "  - **Fuel efficiency**\n",
    "  - **Maintenance support infrastructure**\n",
    "  - **Lifecycle costs**\n",
    "  - **Operational reliability**\n",
    "\n",
    "These insights will become even more powerful when I analyze `engine_type` in conjunction with **injury severity**, **aircraft make**, and **purpose of flight** during bivariate and multivariate phases.\n"
   ]
  },
  {
   "cell_type": "markdown",
   "id": "f28fa4f3",
   "metadata": {},
   "source": [
    "9. `purpose_of_flight`: *under what purpose did the accident occur? and what inside can i get?*"
   ]
  },
  {
   "cell_type": "code",
   "execution_count": 100,
   "id": "25680721",
   "metadata": {},
   "outputs": [
    {
     "data": {
      "application/vnd.plotly.v1+json": {
       "config": {
        "plotlyServerURL": "https://plot.ly"
       },
       "data": [
        {
         "hovertemplate": "Number of Accidents=%{x}<br>Purpose=%{y}<extra></extra>",
         "legendgroup": "",
         "marker": {
          "color": "#1f77b4",
          "pattern": {
           "shape": ""
          }
         },
         "name": "",
         "orientation": "h",
         "showlegend": false,
         "textposition": "auto",
         "type": "bar",
         "x": {
          "bdata": "AQAAAAQAAAAGAAAACAAAAB0AAAA0AAAAOQAAAD8AAABKAAAAUgAAAGIAAABlAAAAcAAAAKsAAACHAQAA/QEAAK0CAADDAgAA2QIAAKgEAAAeBgAAAw8AABMSAADoHwAAvSgAAKC9AAA=",
          "dtype": "i4"
         },
         "xaxis": "x",
         "y": [
          "PUBL",
          "PUBS",
          "ASHO",
          "AIR-DROP",
          "FIREFIGHTING",
          "GLIDER-TOW",
          "AIR-RACE/SHOW",
          "PUBLIC-AIRCRAFT-STATE",
          "PUBLIC-AIRCRAFT-LOCAL",
          "AIR-RACE-SHOW",
          "PUBLIC-AIRCRAFT-FEDERAL",
          "BANNER-TOW",
          "EXTERNAL-LOAD",
          "SKYDIVING",
          "FLIGHT-TEST",
          "EXECUTIVE/CORPORATE",
          "PUBLIC-AIRCRAFT",
          "AERIAL-OBSERVATION",
          "FERRY",
          "OTHER-WORK-USE",
          "POSITIONING",
          "BUSINESS",
          "AERIAL-APPLICATION",
          "UNKNOWN",
          "INSTRUCTIONAL",
          "PERSONAL"
         ],
         "yaxis": "y"
        }
       ],
       "layout": {
        "barmode": "relative",
        "font": {
         "size": 14
        },
        "legend": {
         "tracegroupgap": 0
        },
        "margin": {
         "b": 40,
         "l": 180,
         "r": 40,
         "t": 60
        },
        "template": {
         "data": {
          "bar": [
           {
            "error_x": {
             "color": "#2a3f5f"
            },
            "error_y": {
             "color": "#2a3f5f"
            },
            "marker": {
             "line": {
              "color": "white",
              "width": 0.5
             },
             "pattern": {
              "fillmode": "overlay",
              "size": 10,
              "solidity": 0.2
             }
            },
            "type": "bar"
           }
          ],
          "barpolar": [
           {
            "marker": {
             "line": {
              "color": "white",
              "width": 0.5
             },
             "pattern": {
              "fillmode": "overlay",
              "size": 10,
              "solidity": 0.2
             }
            },
            "type": "barpolar"
           }
          ],
          "carpet": [
           {
            "aaxis": {
             "endlinecolor": "#2a3f5f",
             "gridcolor": "#C8D4E3",
             "linecolor": "#C8D4E3",
             "minorgridcolor": "#C8D4E3",
             "startlinecolor": "#2a3f5f"
            },
            "baxis": {
             "endlinecolor": "#2a3f5f",
             "gridcolor": "#C8D4E3",
             "linecolor": "#C8D4E3",
             "minorgridcolor": "#C8D4E3",
             "startlinecolor": "#2a3f5f"
            },
            "type": "carpet"
           }
          ],
          "choropleth": [
           {
            "colorbar": {
             "outlinewidth": 0,
             "ticks": ""
            },
            "type": "choropleth"
           }
          ],
          "contour": [
           {
            "colorbar": {
             "outlinewidth": 0,
             "ticks": ""
            },
            "colorscale": [
             [
              0,
              "#0d0887"
             ],
             [
              0.1111111111111111,
              "#46039f"
             ],
             [
              0.2222222222222222,
              "#7201a8"
             ],
             [
              0.3333333333333333,
              "#9c179e"
             ],
             [
              0.4444444444444444,
              "#bd3786"
             ],
             [
              0.5555555555555556,
              "#d8576b"
             ],
             [
              0.6666666666666666,
              "#ed7953"
             ],
             [
              0.7777777777777778,
              "#fb9f3a"
             ],
             [
              0.8888888888888888,
              "#fdca26"
             ],
             [
              1,
              "#f0f921"
             ]
            ],
            "type": "contour"
           }
          ],
          "contourcarpet": [
           {
            "colorbar": {
             "outlinewidth": 0,
             "ticks": ""
            },
            "type": "contourcarpet"
           }
          ],
          "heatmap": [
           {
            "colorbar": {
             "outlinewidth": 0,
             "ticks": ""
            },
            "colorscale": [
             [
              0,
              "#0d0887"
             ],
             [
              0.1111111111111111,
              "#46039f"
             ],
             [
              0.2222222222222222,
              "#7201a8"
             ],
             [
              0.3333333333333333,
              "#9c179e"
             ],
             [
              0.4444444444444444,
              "#bd3786"
             ],
             [
              0.5555555555555556,
              "#d8576b"
             ],
             [
              0.6666666666666666,
              "#ed7953"
             ],
             [
              0.7777777777777778,
              "#fb9f3a"
             ],
             [
              0.8888888888888888,
              "#fdca26"
             ],
             [
              1,
              "#f0f921"
             ]
            ],
            "type": "heatmap"
           }
          ],
          "histogram": [
           {
            "marker": {
             "pattern": {
              "fillmode": "overlay",
              "size": 10,
              "solidity": 0.2
             }
            },
            "type": "histogram"
           }
          ],
          "histogram2d": [
           {
            "colorbar": {
             "outlinewidth": 0,
             "ticks": ""
            },
            "colorscale": [
             [
              0,
              "#0d0887"
             ],
             [
              0.1111111111111111,
              "#46039f"
             ],
             [
              0.2222222222222222,
              "#7201a8"
             ],
             [
              0.3333333333333333,
              "#9c179e"
             ],
             [
              0.4444444444444444,
              "#bd3786"
             ],
             [
              0.5555555555555556,
              "#d8576b"
             ],
             [
              0.6666666666666666,
              "#ed7953"
             ],
             [
              0.7777777777777778,
              "#fb9f3a"
             ],
             [
              0.8888888888888888,
              "#fdca26"
             ],
             [
              1,
              "#f0f921"
             ]
            ],
            "type": "histogram2d"
           }
          ],
          "histogram2dcontour": [
           {
            "colorbar": {
             "outlinewidth": 0,
             "ticks": ""
            },
            "colorscale": [
             [
              0,
              "#0d0887"
             ],
             [
              0.1111111111111111,
              "#46039f"
             ],
             [
              0.2222222222222222,
              "#7201a8"
             ],
             [
              0.3333333333333333,
              "#9c179e"
             ],
             [
              0.4444444444444444,
              "#bd3786"
             ],
             [
              0.5555555555555556,
              "#d8576b"
             ],
             [
              0.6666666666666666,
              "#ed7953"
             ],
             [
              0.7777777777777778,
              "#fb9f3a"
             ],
             [
              0.8888888888888888,
              "#fdca26"
             ],
             [
              1,
              "#f0f921"
             ]
            ],
            "type": "histogram2dcontour"
           }
          ],
          "mesh3d": [
           {
            "colorbar": {
             "outlinewidth": 0,
             "ticks": ""
            },
            "type": "mesh3d"
           }
          ],
          "parcoords": [
           {
            "line": {
             "colorbar": {
              "outlinewidth": 0,
              "ticks": ""
             }
            },
            "type": "parcoords"
           }
          ],
          "pie": [
           {
            "automargin": true,
            "type": "pie"
           }
          ],
          "scatter": [
           {
            "fillpattern": {
             "fillmode": "overlay",
             "size": 10,
             "solidity": 0.2
            },
            "type": "scatter"
           }
          ],
          "scatter3d": [
           {
            "line": {
             "colorbar": {
              "outlinewidth": 0,
              "ticks": ""
             }
            },
            "marker": {
             "colorbar": {
              "outlinewidth": 0,
              "ticks": ""
             }
            },
            "type": "scatter3d"
           }
          ],
          "scattercarpet": [
           {
            "marker": {
             "colorbar": {
              "outlinewidth": 0,
              "ticks": ""
             }
            },
            "type": "scattercarpet"
           }
          ],
          "scattergeo": [
           {
            "marker": {
             "colorbar": {
              "outlinewidth": 0,
              "ticks": ""
             }
            },
            "type": "scattergeo"
           }
          ],
          "scattergl": [
           {
            "marker": {
             "colorbar": {
              "outlinewidth": 0,
              "ticks": ""
             }
            },
            "type": "scattergl"
           }
          ],
          "scattermap": [
           {
            "marker": {
             "colorbar": {
              "outlinewidth": 0,
              "ticks": ""
             }
            },
            "type": "scattermap"
           }
          ],
          "scattermapbox": [
           {
            "marker": {
             "colorbar": {
              "outlinewidth": 0,
              "ticks": ""
             }
            },
            "type": "scattermapbox"
           }
          ],
          "scatterpolar": [
           {
            "marker": {
             "colorbar": {
              "outlinewidth": 0,
              "ticks": ""
             }
            },
            "type": "scatterpolar"
           }
          ],
          "scatterpolargl": [
           {
            "marker": {
             "colorbar": {
              "outlinewidth": 0,
              "ticks": ""
             }
            },
            "type": "scatterpolargl"
           }
          ],
          "scatterternary": [
           {
            "marker": {
             "colorbar": {
              "outlinewidth": 0,
              "ticks": ""
             }
            },
            "type": "scatterternary"
           }
          ],
          "surface": [
           {
            "colorbar": {
             "outlinewidth": 0,
             "ticks": ""
            },
            "colorscale": [
             [
              0,
              "#0d0887"
             ],
             [
              0.1111111111111111,
              "#46039f"
             ],
             [
              0.2222222222222222,
              "#7201a8"
             ],
             [
              0.3333333333333333,
              "#9c179e"
             ],
             [
              0.4444444444444444,
              "#bd3786"
             ],
             [
              0.5555555555555556,
              "#d8576b"
             ],
             [
              0.6666666666666666,
              "#ed7953"
             ],
             [
              0.7777777777777778,
              "#fb9f3a"
             ],
             [
              0.8888888888888888,
              "#fdca26"
             ],
             [
              1,
              "#f0f921"
             ]
            ],
            "type": "surface"
           }
          ],
          "table": [
           {
            "cells": {
             "fill": {
              "color": "#EBF0F8"
             },
             "line": {
              "color": "white"
             }
            },
            "header": {
             "fill": {
              "color": "#C8D4E3"
             },
             "line": {
              "color": "white"
             }
            },
            "type": "table"
           }
          ]
         },
         "layout": {
          "annotationdefaults": {
           "arrowcolor": "#2a3f5f",
           "arrowhead": 0,
           "arrowwidth": 1
          },
          "autotypenumbers": "strict",
          "coloraxis": {
           "colorbar": {
            "outlinewidth": 0,
            "ticks": ""
           }
          },
          "colorscale": {
           "diverging": [
            [
             0,
             "#8e0152"
            ],
            [
             0.1,
             "#c51b7d"
            ],
            [
             0.2,
             "#de77ae"
            ],
            [
             0.3,
             "#f1b6da"
            ],
            [
             0.4,
             "#fde0ef"
            ],
            [
             0.5,
             "#f7f7f7"
            ],
            [
             0.6,
             "#e6f5d0"
            ],
            [
             0.7,
             "#b8e186"
            ],
            [
             0.8,
             "#7fbc41"
            ],
            [
             0.9,
             "#4d9221"
            ],
            [
             1,
             "#276419"
            ]
           ],
           "sequential": [
            [
             0,
             "#0d0887"
            ],
            [
             0.1111111111111111,
             "#46039f"
            ],
            [
             0.2222222222222222,
             "#7201a8"
            ],
            [
             0.3333333333333333,
             "#9c179e"
            ],
            [
             0.4444444444444444,
             "#bd3786"
            ],
            [
             0.5555555555555556,
             "#d8576b"
            ],
            [
             0.6666666666666666,
             "#ed7953"
            ],
            [
             0.7777777777777778,
             "#fb9f3a"
            ],
            [
             0.8888888888888888,
             "#fdca26"
            ],
            [
             1,
             "#f0f921"
            ]
           ],
           "sequentialminus": [
            [
             0,
             "#0d0887"
            ],
            [
             0.1111111111111111,
             "#46039f"
            ],
            [
             0.2222222222222222,
             "#7201a8"
            ],
            [
             0.3333333333333333,
             "#9c179e"
            ],
            [
             0.4444444444444444,
             "#bd3786"
            ],
            [
             0.5555555555555556,
             "#d8576b"
            ],
            [
             0.6666666666666666,
             "#ed7953"
            ],
            [
             0.7777777777777778,
             "#fb9f3a"
            ],
            [
             0.8888888888888888,
             "#fdca26"
            ],
            [
             1,
             "#f0f921"
            ]
           ]
          },
          "colorway": [
           "#636efa",
           "#EF553B",
           "#00cc96",
           "#ab63fa",
           "#FFA15A",
           "#19d3f3",
           "#FF6692",
           "#B6E880",
           "#FF97FF",
           "#FECB52"
          ],
          "font": {
           "color": "#2a3f5f"
          },
          "geo": {
           "bgcolor": "white",
           "lakecolor": "white",
           "landcolor": "white",
           "showlakes": true,
           "showland": true,
           "subunitcolor": "#C8D4E3"
          },
          "hoverlabel": {
           "align": "left"
          },
          "hovermode": "closest",
          "mapbox": {
           "style": "light"
          },
          "paper_bgcolor": "white",
          "plot_bgcolor": "white",
          "polar": {
           "angularaxis": {
            "gridcolor": "#EBF0F8",
            "linecolor": "#EBF0F8",
            "ticks": ""
           },
           "bgcolor": "white",
           "radialaxis": {
            "gridcolor": "#EBF0F8",
            "linecolor": "#EBF0F8",
            "ticks": ""
           }
          },
          "scene": {
           "xaxis": {
            "backgroundcolor": "white",
            "gridcolor": "#DFE8F3",
            "gridwidth": 2,
            "linecolor": "#EBF0F8",
            "showbackground": true,
            "ticks": "",
            "zerolinecolor": "#EBF0F8"
           },
           "yaxis": {
            "backgroundcolor": "white",
            "gridcolor": "#DFE8F3",
            "gridwidth": 2,
            "linecolor": "#EBF0F8",
            "showbackground": true,
            "ticks": "",
            "zerolinecolor": "#EBF0F8"
           },
           "zaxis": {
            "backgroundcolor": "white",
            "gridcolor": "#DFE8F3",
            "gridwidth": 2,
            "linecolor": "#EBF0F8",
            "showbackground": true,
            "ticks": "",
            "zerolinecolor": "#EBF0F8"
           }
          },
          "shapedefaults": {
           "line": {
            "color": "#2a3f5f"
           }
          },
          "ternary": {
           "aaxis": {
            "gridcolor": "#DFE8F3",
            "linecolor": "#A2B1C6",
            "ticks": ""
           },
           "baxis": {
            "gridcolor": "#DFE8F3",
            "linecolor": "#A2B1C6",
            "ticks": ""
           },
           "bgcolor": "white",
           "caxis": {
            "gridcolor": "#DFE8F3",
            "linecolor": "#A2B1C6",
            "ticks": ""
           }
          },
          "title": {
           "x": 0.05
          },
          "xaxis": {
           "automargin": true,
           "gridcolor": "#EBF0F8",
           "linecolor": "#EBF0F8",
           "ticks": "",
           "title": {
            "standoff": 15
           },
           "zerolinecolor": "#EBF0F8",
           "zerolinewidth": 2
          },
          "yaxis": {
           "automargin": true,
           "gridcolor": "#EBF0F8",
           "linecolor": "#EBF0F8",
           "ticks": "",
           "title": {
            "standoff": 15
           },
           "zerolinecolor": "#EBF0F8",
           "zerolinewidth": 2
          }
         }
        },
        "title": {
         "font": {
          "size": 20
         },
         "text": "Distribution of Purpose of Flight in Aviation Accidents"
        },
        "xaxis": {
         "anchor": "y",
         "domain": [
          0,
          1
         ],
         "gridcolor": "lightgrey",
         "title": {
          "text": "Number of Accidents"
         }
        },
        "yaxis": {
         "anchor": "x",
         "domain": [
          0,
          1
         ],
         "dtick": 1,
         "title": {
          "text": "Purpose"
         }
        }
       }
      }
     },
     "metadata": {},
     "output_type": "display_data"
    }
   ],
   "source": [
    "\n",
    "purpose_counts = (\n",
    "    us_data['purpose_of_flight']\n",
    "    .value_counts()\n",
    "    .sort_values(ascending=True)  \n",
    "    .reset_index()\n",
    ")\n",
    "purpose_counts.columns = ['Purpose of Flight', 'Count']\n",
    "\n",
    "fig = px.bar(\n",
    "    purpose_counts,\n",
    "    x='Count',\n",
    "    y='Purpose of Flight',\n",
    "    orientation='h',\n",
    "    title='Distribution of Purpose of Flight in Aviation Accidents',\n",
    "    labels={'Count': 'Number of Accidents', 'Purpose of Flight': 'Purpose'},\n",
    "    color_discrete_sequence=['#1f77b4']\n",
    ")\n",
    "\n",
    "fig.update_layout(\n",
    "    template='plotly_white',\n",
    "    title_font_size=20,\n",
    "    font=dict(size=14),\n",
    "    xaxis_gridcolor='lightgrey',\n",
    "    yaxis=dict(dtick=1), \n",
    "    margin=dict(t=60, b=40, l=180, r=40)  \n",
    ")\n",
    "\n",
    "fig.show()\n",
    "\n"
   ]
  },
  {
   "cell_type": "markdown",
   "id": "128c380d",
   "metadata": {},
   "source": [
    "\n",
    "Interpretation & Insights\n",
    "\n",
    "The **dominance of \"PERSONAL\" flights** in accident data is unsurprising given the dataset’s skew toward **small, privately operated aircraft**. These aircraft are typically flown by individuals or hobbyists and may not be subject to the same rigorous **maintenance**, **pilot certification**, or **operational oversight** as commercial aircraft.\n",
    "\n",
    "The second most frequent category, **\"INSTRUCTIONAL\"**, is similarly intuitive. Flight training involves **novice pilots**, inherently increasing the chance of **operational mistakes**, **mishandled procedures**, or **decision-making delays**. \n",
    "\n",
    "As we move into more specialized categories—like **\"BUSINESS\"**, **\"EXECUTIVE/CORPORATE\"**, or **\"PUBLIC-AIRCRAFT\"**—we observe **notably lower accident counts**. These flights are typically operated by **experienced pilots** under **stricter safety protocols**, using **well-maintained aircraft** with **robust standard operating procedures**.\n",
    "\n",
    "> 🔍 **Data Note**: Inconsistencies such as `\"PUBS\"` and `\"PUBL\"` likely reflect minor classification or entry errors. They are presumed to stand for variations of **public aircraft** categories (e.g., *state* vs. *local* government usage), but appear infrequently enough to have minimal statistical impact.\n",
    "\n",
    "---\n",
    "\n",
    "### Business Recommendation\n",
    "\n",
    "- **Invest in executive, business, and corporate aviation segments**: These operations have **lower accident rates**, suggesting **better regulatory compliance**, **professional maintenance standards**, and **higher pilot proficiency**.\n",
    "  \n",
    "- **Use caution with personal and instructional aviation**: These segments dominate accident counts not necessarily due to higher inherent danger, but due to **sheer volume and lower oversight**. If engaging in this space:\n",
    "  - Ensure strict **training**, **maintenance**, and **compliance protocols**.\n",
    "  - Consider **modernizing fleets** with automation-assisted or safety-enhanced aircraft.\n",
    "  \n",
    "- **Policy Implication**: Encourage better **reporting standardization** across public-use categories to improve data clarity (e.g., consolidate \"PUBS\" and \"PUBL\" entries).\n",
    "\n",
    "This variable will offer even more powerful insights when analyzed alongside **injury severity**, **engine type**, and **aircraft category** in later phases of the analysis.\n"
   ]
  },
  {
   "cell_type": "markdown",
   "id": "42141bff",
   "metadata": {},
   "source": [
    "10. `weather_conditions`: *How does weather relate to aviation acidents?*"
   ]
  },
  {
   "cell_type": "code",
   "execution_count": 101,
   "id": "f0657a64",
   "metadata": {},
   "outputs": [
    {
     "data": {
      "application/vnd.plotly.v1+json": {
       "config": {
        "plotlyServerURL": "https://plot.ly"
       },
       "data": [
        {
         "domain": {
          "x": [
           0,
           1
          ],
          "y": [
           0,
           1
          ]
         },
         "hovertemplate": "Weather Condition=%{label}<br>Count=%{value}<extra></extra>",
         "labels": [
          "VMC",
          "IMC",
          "UNK"
         ],
         "legendgroup": "",
         "name": "",
         "showlegend": true,
         "textinfo": "percent+label",
         "textposition": "inside",
         "type": "pie",
         "values": {
          "bdata": "NSYBAPIVAAAhBQAA",
          "dtype": "i4"
         }
        }
       ],
       "layout": {
        "font": {
         "size": 14
        },
        "legend": {
         "tracegroupgap": 0
        },
        "piecolorway": [
         "rgb(0,0,255)",
         "rgb(255,0,0)"
        ],
        "template": {
         "data": {
          "bar": [
           {
            "error_x": {
             "color": "#2a3f5f"
            },
            "error_y": {
             "color": "#2a3f5f"
            },
            "marker": {
             "line": {
              "color": "white",
              "width": 0.5
             },
             "pattern": {
              "fillmode": "overlay",
              "size": 10,
              "solidity": 0.2
             }
            },
            "type": "bar"
           }
          ],
          "barpolar": [
           {
            "marker": {
             "line": {
              "color": "white",
              "width": 0.5
             },
             "pattern": {
              "fillmode": "overlay",
              "size": 10,
              "solidity": 0.2
             }
            },
            "type": "barpolar"
           }
          ],
          "carpet": [
           {
            "aaxis": {
             "endlinecolor": "#2a3f5f",
             "gridcolor": "#C8D4E3",
             "linecolor": "#C8D4E3",
             "minorgridcolor": "#C8D4E3",
             "startlinecolor": "#2a3f5f"
            },
            "baxis": {
             "endlinecolor": "#2a3f5f",
             "gridcolor": "#C8D4E3",
             "linecolor": "#C8D4E3",
             "minorgridcolor": "#C8D4E3",
             "startlinecolor": "#2a3f5f"
            },
            "type": "carpet"
           }
          ],
          "choropleth": [
           {
            "colorbar": {
             "outlinewidth": 0,
             "ticks": ""
            },
            "type": "choropleth"
           }
          ],
          "contour": [
           {
            "colorbar": {
             "outlinewidth": 0,
             "ticks": ""
            },
            "colorscale": [
             [
              0,
              "#0d0887"
             ],
             [
              0.1111111111111111,
              "#46039f"
             ],
             [
              0.2222222222222222,
              "#7201a8"
             ],
             [
              0.3333333333333333,
              "#9c179e"
             ],
             [
              0.4444444444444444,
              "#bd3786"
             ],
             [
              0.5555555555555556,
              "#d8576b"
             ],
             [
              0.6666666666666666,
              "#ed7953"
             ],
             [
              0.7777777777777778,
              "#fb9f3a"
             ],
             [
              0.8888888888888888,
              "#fdca26"
             ],
             [
              1,
              "#f0f921"
             ]
            ],
            "type": "contour"
           }
          ],
          "contourcarpet": [
           {
            "colorbar": {
             "outlinewidth": 0,
             "ticks": ""
            },
            "type": "contourcarpet"
           }
          ],
          "heatmap": [
           {
            "colorbar": {
             "outlinewidth": 0,
             "ticks": ""
            },
            "colorscale": [
             [
              0,
              "#0d0887"
             ],
             [
              0.1111111111111111,
              "#46039f"
             ],
             [
              0.2222222222222222,
              "#7201a8"
             ],
             [
              0.3333333333333333,
              "#9c179e"
             ],
             [
              0.4444444444444444,
              "#bd3786"
             ],
             [
              0.5555555555555556,
              "#d8576b"
             ],
             [
              0.6666666666666666,
              "#ed7953"
             ],
             [
              0.7777777777777778,
              "#fb9f3a"
             ],
             [
              0.8888888888888888,
              "#fdca26"
             ],
             [
              1,
              "#f0f921"
             ]
            ],
            "type": "heatmap"
           }
          ],
          "histogram": [
           {
            "marker": {
             "pattern": {
              "fillmode": "overlay",
              "size": 10,
              "solidity": 0.2
             }
            },
            "type": "histogram"
           }
          ],
          "histogram2d": [
           {
            "colorbar": {
             "outlinewidth": 0,
             "ticks": ""
            },
            "colorscale": [
             [
              0,
              "#0d0887"
             ],
             [
              0.1111111111111111,
              "#46039f"
             ],
             [
              0.2222222222222222,
              "#7201a8"
             ],
             [
              0.3333333333333333,
              "#9c179e"
             ],
             [
              0.4444444444444444,
              "#bd3786"
             ],
             [
              0.5555555555555556,
              "#d8576b"
             ],
             [
              0.6666666666666666,
              "#ed7953"
             ],
             [
              0.7777777777777778,
              "#fb9f3a"
             ],
             [
              0.8888888888888888,
              "#fdca26"
             ],
             [
              1,
              "#f0f921"
             ]
            ],
            "type": "histogram2d"
           }
          ],
          "histogram2dcontour": [
           {
            "colorbar": {
             "outlinewidth": 0,
             "ticks": ""
            },
            "colorscale": [
             [
              0,
              "#0d0887"
             ],
             [
              0.1111111111111111,
              "#46039f"
             ],
             [
              0.2222222222222222,
              "#7201a8"
             ],
             [
              0.3333333333333333,
              "#9c179e"
             ],
             [
              0.4444444444444444,
              "#bd3786"
             ],
             [
              0.5555555555555556,
              "#d8576b"
             ],
             [
              0.6666666666666666,
              "#ed7953"
             ],
             [
              0.7777777777777778,
              "#fb9f3a"
             ],
             [
              0.8888888888888888,
              "#fdca26"
             ],
             [
              1,
              "#f0f921"
             ]
            ],
            "type": "histogram2dcontour"
           }
          ],
          "mesh3d": [
           {
            "colorbar": {
             "outlinewidth": 0,
             "ticks": ""
            },
            "type": "mesh3d"
           }
          ],
          "parcoords": [
           {
            "line": {
             "colorbar": {
              "outlinewidth": 0,
              "ticks": ""
             }
            },
            "type": "parcoords"
           }
          ],
          "pie": [
           {
            "automargin": true,
            "type": "pie"
           }
          ],
          "scatter": [
           {
            "fillpattern": {
             "fillmode": "overlay",
             "size": 10,
             "solidity": 0.2
            },
            "type": "scatter"
           }
          ],
          "scatter3d": [
           {
            "line": {
             "colorbar": {
              "outlinewidth": 0,
              "ticks": ""
             }
            },
            "marker": {
             "colorbar": {
              "outlinewidth": 0,
              "ticks": ""
             }
            },
            "type": "scatter3d"
           }
          ],
          "scattercarpet": [
           {
            "marker": {
             "colorbar": {
              "outlinewidth": 0,
              "ticks": ""
             }
            },
            "type": "scattercarpet"
           }
          ],
          "scattergeo": [
           {
            "marker": {
             "colorbar": {
              "outlinewidth": 0,
              "ticks": ""
             }
            },
            "type": "scattergeo"
           }
          ],
          "scattergl": [
           {
            "marker": {
             "colorbar": {
              "outlinewidth": 0,
              "ticks": ""
             }
            },
            "type": "scattergl"
           }
          ],
          "scattermap": [
           {
            "marker": {
             "colorbar": {
              "outlinewidth": 0,
              "ticks": ""
             }
            },
            "type": "scattermap"
           }
          ],
          "scattermapbox": [
           {
            "marker": {
             "colorbar": {
              "outlinewidth": 0,
              "ticks": ""
             }
            },
            "type": "scattermapbox"
           }
          ],
          "scatterpolar": [
           {
            "marker": {
             "colorbar": {
              "outlinewidth": 0,
              "ticks": ""
             }
            },
            "type": "scatterpolar"
           }
          ],
          "scatterpolargl": [
           {
            "marker": {
             "colorbar": {
              "outlinewidth": 0,
              "ticks": ""
             }
            },
            "type": "scatterpolargl"
           }
          ],
          "scatterternary": [
           {
            "marker": {
             "colorbar": {
              "outlinewidth": 0,
              "ticks": ""
             }
            },
            "type": "scatterternary"
           }
          ],
          "surface": [
           {
            "colorbar": {
             "outlinewidth": 0,
             "ticks": ""
            },
            "colorscale": [
             [
              0,
              "#0d0887"
             ],
             [
              0.1111111111111111,
              "#46039f"
             ],
             [
              0.2222222222222222,
              "#7201a8"
             ],
             [
              0.3333333333333333,
              "#9c179e"
             ],
             [
              0.4444444444444444,
              "#bd3786"
             ],
             [
              0.5555555555555556,
              "#d8576b"
             ],
             [
              0.6666666666666666,
              "#ed7953"
             ],
             [
              0.7777777777777778,
              "#fb9f3a"
             ],
             [
              0.8888888888888888,
              "#fdca26"
             ],
             [
              1,
              "#f0f921"
             ]
            ],
            "type": "surface"
           }
          ],
          "table": [
           {
            "cells": {
             "fill": {
              "color": "#EBF0F8"
             },
             "line": {
              "color": "white"
             }
            },
            "header": {
             "fill": {
              "color": "#C8D4E3"
             },
             "line": {
              "color": "white"
             }
            },
            "type": "table"
           }
          ]
         },
         "layout": {
          "annotationdefaults": {
           "arrowcolor": "#2a3f5f",
           "arrowhead": 0,
           "arrowwidth": 1
          },
          "autotypenumbers": "strict",
          "coloraxis": {
           "colorbar": {
            "outlinewidth": 0,
            "ticks": ""
           }
          },
          "colorscale": {
           "diverging": [
            [
             0,
             "#8e0152"
            ],
            [
             0.1,
             "#c51b7d"
            ],
            [
             0.2,
             "#de77ae"
            ],
            [
             0.3,
             "#f1b6da"
            ],
            [
             0.4,
             "#fde0ef"
            ],
            [
             0.5,
             "#f7f7f7"
            ],
            [
             0.6,
             "#e6f5d0"
            ],
            [
             0.7,
             "#b8e186"
            ],
            [
             0.8,
             "#7fbc41"
            ],
            [
             0.9,
             "#4d9221"
            ],
            [
             1,
             "#276419"
            ]
           ],
           "sequential": [
            [
             0,
             "#0d0887"
            ],
            [
             0.1111111111111111,
             "#46039f"
            ],
            [
             0.2222222222222222,
             "#7201a8"
            ],
            [
             0.3333333333333333,
             "#9c179e"
            ],
            [
             0.4444444444444444,
             "#bd3786"
            ],
            [
             0.5555555555555556,
             "#d8576b"
            ],
            [
             0.6666666666666666,
             "#ed7953"
            ],
            [
             0.7777777777777778,
             "#fb9f3a"
            ],
            [
             0.8888888888888888,
             "#fdca26"
            ],
            [
             1,
             "#f0f921"
            ]
           ],
           "sequentialminus": [
            [
             0,
             "#0d0887"
            ],
            [
             0.1111111111111111,
             "#46039f"
            ],
            [
             0.2222222222222222,
             "#7201a8"
            ],
            [
             0.3333333333333333,
             "#9c179e"
            ],
            [
             0.4444444444444444,
             "#bd3786"
            ],
            [
             0.5555555555555556,
             "#d8576b"
            ],
            [
             0.6666666666666666,
             "#ed7953"
            ],
            [
             0.7777777777777778,
             "#fb9f3a"
            ],
            [
             0.8888888888888888,
             "#fdca26"
            ],
            [
             1,
             "#f0f921"
            ]
           ]
          },
          "colorway": [
           "#636efa",
           "#EF553B",
           "#00cc96",
           "#ab63fa",
           "#FFA15A",
           "#19d3f3",
           "#FF6692",
           "#B6E880",
           "#FF97FF",
           "#FECB52"
          ],
          "font": {
           "color": "#2a3f5f"
          },
          "geo": {
           "bgcolor": "white",
           "lakecolor": "white",
           "landcolor": "white",
           "showlakes": true,
           "showland": true,
           "subunitcolor": "#C8D4E3"
          },
          "hoverlabel": {
           "align": "left"
          },
          "hovermode": "closest",
          "mapbox": {
           "style": "light"
          },
          "paper_bgcolor": "white",
          "plot_bgcolor": "white",
          "polar": {
           "angularaxis": {
            "gridcolor": "#EBF0F8",
            "linecolor": "#EBF0F8",
            "ticks": ""
           },
           "bgcolor": "white",
           "radialaxis": {
            "gridcolor": "#EBF0F8",
            "linecolor": "#EBF0F8",
            "ticks": ""
           }
          },
          "scene": {
           "xaxis": {
            "backgroundcolor": "white",
            "gridcolor": "#DFE8F3",
            "gridwidth": 2,
            "linecolor": "#EBF0F8",
            "showbackground": true,
            "ticks": "",
            "zerolinecolor": "#EBF0F8"
           },
           "yaxis": {
            "backgroundcolor": "white",
            "gridcolor": "#DFE8F3",
            "gridwidth": 2,
            "linecolor": "#EBF0F8",
            "showbackground": true,
            "ticks": "",
            "zerolinecolor": "#EBF0F8"
           },
           "zaxis": {
            "backgroundcolor": "white",
            "gridcolor": "#DFE8F3",
            "gridwidth": 2,
            "linecolor": "#EBF0F8",
            "showbackground": true,
            "ticks": "",
            "zerolinecolor": "#EBF0F8"
           }
          },
          "shapedefaults": {
           "line": {
            "color": "#2a3f5f"
           }
          },
          "ternary": {
           "aaxis": {
            "gridcolor": "#DFE8F3",
            "linecolor": "#A2B1C6",
            "ticks": ""
           },
           "baxis": {
            "gridcolor": "#DFE8F3",
            "linecolor": "#A2B1C6",
            "ticks": ""
           },
           "bgcolor": "white",
           "caxis": {
            "gridcolor": "#DFE8F3",
            "linecolor": "#A2B1C6",
            "ticks": ""
           }
          },
          "title": {
           "x": 0.05
          },
          "xaxis": {
           "automargin": true,
           "gridcolor": "#EBF0F8",
           "linecolor": "#EBF0F8",
           "ticks": "",
           "title": {
            "standoff": 15
           },
           "zerolinecolor": "#EBF0F8",
           "zerolinewidth": 2
          },
          "yaxis": {
           "automargin": true,
           "gridcolor": "#EBF0F8",
           "linecolor": "#EBF0F8",
           "ticks": "",
           "title": {
            "standoff": 15
           },
           "zerolinecolor": "#EBF0F8",
           "zerolinewidth": 2
          }
         }
        },
        "title": {
         "font": {
          "size": 20
         },
         "text": "Distribution of Weather Conditions During Accidents"
        }
       }
      }
     },
     "metadata": {},
     "output_type": "display_data"
    }
   ],
   "source": [
    "\n",
    "weather_counts = us_data['weather_condition'].value_counts().reset_index()\n",
    "weather_counts.columns = ['Weather Condition', 'Count']\n",
    "\n",
    "fig = px.pie(\n",
    "    weather_counts,\n",
    "    names='Weather Condition',\n",
    "    values='Count',\n",
    "    title='Distribution of Weather Conditions During Accidents',\n",
    "    color_discrete_sequence=px.colors.sequential.Bluered\n",
    ")\n",
    "\n",
    "fig.update_traces(\n",
    "    textposition='inside',\n",
    "    textinfo='percent+label'\n",
    ")\n",
    "\n",
    "fig.update_layout(\n",
    "    template='plotly_white',\n",
    "    title_font_size=20,\n",
    "    font=dict(size=14)\n",
    ")\n",
    "\n",
    "fig.show()\n"
   ]
  },
  {
   "cell_type": "markdown",
   "id": "43ee0666",
   "metadata": {},
   "source": [
    "\n",
    "\n",
    "### Observation\n",
    "\n",
    "The distribution of weather conditions during aviation accidents is heavily dominated by **Visual Meteorological Conditions (VMC)**, followed by a much smaller proportion of **Instrument Meteorological Conditions (IMC)**, with a negligible portion labeled as **UNK (Unknown)**.\n",
    "\n",
    "### Interpretation\n",
    "\n",
    "At first glance, it's surprising that most accidents occur in \"good weather\" (VMC). However, this trend aligns with how aviation, especially general and instructional aviation, operates:\n",
    "\n",
    "- **VMC** conditions are when the **vast majority of small, personal, and instructional flights occur**. More exposure = more incidents.\n",
    "- **IMC** accidents are rarer, likely because:\n",
    "  - Fewer flights occur in IMC, typically restricted to **certified pilots and aircraft**.\n",
    "  - **Stricter dispatch protocols** reduce IMC risk.\n",
    "  - **Modern avionics** (GPS, terrain awareness, autopilot) mitigate weather-related hazards.\n",
    "- Many VMC accidents could reflect **deteriorating weather conditions mid-flight**, especially dangerous for **visually-reliant aircraft**.\n",
    "\n",
    "The **UNK** label, while minor, points to **reporting gaps** and potential system-level improvements.\n",
    "\n",
    "### Business Recommendation\n",
    "\n",
    "To mitigate weather-related risk—particularly in small aircraft operations—stakeholders should:\n",
    "\n",
    "- **Invest in real-time, low-cost weather monitoring systems** suitable for personal and instructional aircraft.\n",
    "-  **Reinforce go/no-go decision-making protocols**, even in VMC, to avoid complacency.\n",
    "-  **Enhance pilot training with simulations** of sudden weather transitions (VMC ➝ IMC).\n",
    "-  **Promote post-flight reporting and debrief culture** to reduce \"UNK\" entries and improve future data quality.\n",
    "\n",
    "> ✈️ While weather isn't the leading cause of aviation accidents, it's a **silent multiplier of risk**, especially for under-equipped or under-trained pilots.\n"
   ]
  },
  {
   "cell_type": "code",
   "execution_count": 103,
   "id": "3a1f3c58",
   "metadata": {},
   "outputs": [
    {
     "name": "stderr",
     "output_type": "stream",
     "text": [
      "/var/folders/0v/036y_w3j0cj0nq2z_v6pl7tw0000gn/T/ipykernel_3005/3056452765.py:4: FutureWarning:\n",
      "\n",
      "\n",
      "\n",
      "Passing `palette` without assigning `hue` is deprecated and will be removed in v0.14.0. Assign the `y` variable to `hue` and set `legend=False` for the same effect.\n",
      "\n",
      "\n"
     ]
    },
    {
     "data": {
      "image/png": "[encoded data removed]",
      "text/plain": [
       "<Figure size 1200x800 with 1 Axes>"
      ]
     },
     "metadata": {},
     "output_type": "display_data"
    }
   ],
   "source": [
    "top_states = us_data['state_full'].value_counts().head(25)\n",
    "\n",
    "plt.figure(figsize=(12, 8))\n",
    "sns.barplot(\n",
    "    x=top_states.values,\n",
    "    y=top_states.index,\n",
    "    palette='coolwarm'\n",
    ")\n",
    "plt.title('Top 20 U.S. States by Number of Aviation Accidents', fontsize=16)\n",
    "plt.xlabel('Number of Accidents')\n",
    "plt.ylabel('State')\n",
    "plt.tight_layout()\n",
    "plt.show()\n"
   ]
  },
  {
   "cell_type": "markdown",
   "id": "2b1abea5",
   "metadata": {},
   "source": [
    "\n",
    "\n",
    "###  Observation\n",
    "\n",
    "Certain U.S. states stand out with significantly higher counts of aviation accidents.\n",
    "\n",
    "###  Interpretation\n",
    "\n",
    "States like **California, Texas, Florida, and Alaska** frequently top the accident count rankings — not due to inherent danger, but because of:\n",
    "\n",
    "- **Higher air traffic volumes**.\n",
    "- A **greater concentration of general aviation and private aircraft**, particularly in remote or scenic regions (Alaska).\n",
    "- **Favorable weather**, making year-round flying more common.\n",
    "- Numerous **flight schools and tourism-related aviation** activity.\n",
    "\n",
    "In short, **more flights = more reported incidents**, not necessarily more risk per flight.\n",
    "\n",
    "### Business Recommendation\n",
    "\n",
    "To improve aviation safety and manage exposure:\n",
    "\n",
    "- **Prioritize safety programs and proactive inspections** in high-traffic states.\n",
    "- Recognize that **incident volume often reflects activity volume**, not unsafe conditions.\n",
    "- **Collaborate with local aviation bodies, schools, and businesses** in these states to:\n",
    "  - Promote **routine maintenance**.\n",
    "  - Deliver **targeted safety training**.\n",
    "  - Improve **data collection and reporting standards**.\n",
    "\n",
    "> Treat these states as **high-exposure zones**, ideal for piloting innovative safety technologies, maintenance tracking tools, and community outreach programs.\n"
   ]
  },
  {
   "cell_type": "markdown",
   "id": "b534f859",
   "metadata": {},
   "source": [
    "11. `far_description`: *What is far description? why do they matter?*"
   ]
  },
  {
   "cell_type": "code",
   "execution_count": 109,
   "id": "48fade7d",
   "metadata": {},
   "outputs": [
    {
     "data": {
      "application/vnd.plotly.v1+json": {
       "config": {
        "plotlyServerURL": "https://plot.ly"
       },
       "data": [
        {
         "hovertemplate": "FAR Description=%{x}<br>Number of Records=%{text}<extra></extra>",
         "legendgroup": "Part 91",
         "marker": {
          "color": "rgb(141,211,199)",
          "pattern": {
           "shape": ""
          }
         },
         "name": "Part 91",
         "orientation": "v",
         "showlegend": true,
         "text": {
          "bdata": "AAAAAOBh7UA=",
          "dtype": "f8"
         },
         "textposition": "outside",
         "type": "bar",
         "x": [
          "Part 91"
         ],
         "xaxis": "x",
         "y": {
          "bdata": "D+sAAA==",
          "dtype": "i4"
         },
         "yaxis": "y"
        },
        {
         "hovertemplate": "FAR Description=%{x}<br>Number of Records=%{text}<extra></extra>",
         "legendgroup": "Unknown",
         "marker": {
          "color": "rgb(255,255,179)",
          "pattern": {
           "shape": ""
          }
         },
         "name": "Unknown",
         "orientation": "v",
         "showlegend": true,
         "text": {
          "bdata": "AAAAAIC2y0A=",
          "dtype": "f8"
         },
         "textposition": "outside",
         "type": "bar",
         "x": [
          "Unknown"
         ],
         "xaxis": "x",
         "y": {
          "bdata": "bTc=",
          "dtype": "i2"
         },
         "yaxis": "y"
        },
        {
         "hovertemplate": "FAR Description=%{x}<br>Number of Records=%{text}<extra></extra>",
         "legendgroup": "Part 137",
         "marker": {
          "color": "rgb(190,186,218)",
          "pattern": {
           "shape": ""
          }
         },
         "name": "Part 137",
         "orientation": "v",
         "showlegend": true,
         "text": {
          "bdata": "AAAAAADcpEA=",
          "dtype": "f8"
         },
         "textposition": "outside",
         "type": "bar",
         "x": [
          "Part 137"
         ],
         "xaxis": "x",
         "y": {
          "bdata": "bgo=",
          "dtype": "i2"
         },
         "yaxis": "y"
        },
        {
         "hovertemplate": "FAR Description=%{x}<br>Number of Records=%{text}<extra></extra>",
         "legendgroup": "Part 135",
         "marker": {
          "color": "rgb(251,128,114)",
          "pattern": {
           "shape": ""
          }
         },
         "name": "Part 135",
         "orientation": "v",
         "showlegend": true,
         "text": {
          "bdata": "AAAAAACEpEA=",
          "dtype": "f8"
         },
         "textposition": "outside",
         "type": "bar",
         "x": [
          "Part 135"
         ],
         "xaxis": "x",
         "y": {
          "bdata": "Qgo=",
          "dtype": "i2"
         },
         "yaxis": "y"
        },
        {
         "hovertemplate": "FAR Description=%{x}<br>Number of Records=%{text}<extra></extra>",
         "legendgroup": "Part 121",
         "marker": {
          "color": "rgb(128,177,211)",
          "pattern": {
           "shape": ""
          }
         },
         "name": "Part 121",
         "orientation": "v",
         "showlegend": true,
         "text": {
          "bdata": "AAAAAAA6oEA=",
          "dtype": "f8"
         },
         "textposition": "outside",
         "type": "bar",
         "x": [
          "Part 121"
         ],
         "xaxis": "x",
         "y": {
          "bdata": "HQg=",
          "dtype": "i2"
         },
         "yaxis": "y"
        },
        {
         "hovertemplate": "FAR Description=%{x}<br>Number of Records=%{text}<extra></extra>",
         "legendgroup": "Public Use",
         "marker": {
          "color": "rgb(253,180,98)",
          "pattern": {
           "shape": ""
          }
         },
         "name": "Public Use",
         "orientation": "v",
         "showlegend": true,
         "text": {
          "bdata": "AAAAAADQcEA=",
          "dtype": "f8"
         },
         "textposition": "outside",
         "type": "bar",
         "x": [
          "Public Use"
         ],
         "xaxis": "x",
         "y": {
          "bdata": "DQE=",
          "dtype": "i2"
         },
         "yaxis": "y"
        },
        {
         "hovertemplate": "FAR Description=%{x}<br>Number of Records=%{text}<extra></extra>",
         "legendgroup": "Part 133",
         "marker": {
          "color": "rgb(179,222,105)",
          "pattern": {
           "shape": ""
          }
         },
         "name": "Part 133",
         "orientation": "v",
         "showlegend": true,
         "text": {
          "bdata": "AAAAAABAYUA=",
          "dtype": "f8"
         },
         "textposition": "outside",
         "type": "bar",
         "x": [
          "Part 133"
         ],
         "xaxis": "x",
         "y": {
          "bdata": "igA=",
          "dtype": "i2"
         },
         "yaxis": "y"
        },
        {
         "hovertemplate": "FAR Description=%{x}<br>Number of Records=%{text}<extra></extra>",
         "legendgroup": "Part 129",
         "marker": {
          "color": "rgb(252,205,229)",
          "pattern": {
           "shape": ""
          }
         },
         "name": "Part 129",
         "orientation": "v",
         "showlegend": true,
         "text": {
          "bdata": "AAAAAAAATkA=",
          "dtype": "f8"
         },
         "textposition": "outside",
         "type": "bar",
         "x": [
          "Part 129"
         ],
         "xaxis": "x",
         "y": {
          "bdata": "PA==",
          "dtype": "i1"
         },
         "yaxis": "y"
        },
        {
         "hovertemplate": "FAR Description=%{x}<br>Number of Records=%{text}<extra></extra>",
         "legendgroup": "Military",
         "marker": {
          "color": "rgb(217,217,217)",
          "pattern": {
           "shape": ""
          }
         },
         "name": "Military",
         "orientation": "v",
         "showlegend": true,
         "text": {
          "bdata": "AAAAAAAAPkA=",
          "dtype": "f8"
         },
         "textposition": "outside",
         "type": "bar",
         "x": [
          "Military"
         ],
         "xaxis": "x",
         "y": {
          "bdata": "Hg==",
          "dtype": "i1"
         },
         "yaxis": "y"
        },
        {
         "hovertemplate": "FAR Description=%{x}<br>Number of Records=%{text}<extra></extra>",
         "legendgroup": "Part 125",
         "marker": {
          "color": "rgb(188,128,189)",
          "pattern": {
           "shape": ""
          }
         },
         "name": "Part 125",
         "orientation": "v",
         "showlegend": true,
         "text": {
          "bdata": "AAAAAAAAIEA=",
          "dtype": "f8"
         },
         "textposition": "outside",
         "type": "bar",
         "x": [
          "Part 125"
         ],
         "xaxis": "x",
         "y": {
          "bdata": "CA==",
          "dtype": "i1"
         },
         "yaxis": "y"
        },
        {
         "hovertemplate": "FAR Description=%{x}<br>Number of Records=%{text}<extra></extra>",
         "legendgroup": "Part 107",
         "marker": {
          "color": "rgb(204,235,197)",
          "pattern": {
           "shape": ""
          }
         },
         "name": "Part 107",
         "orientation": "v",
         "showlegend": true,
         "text": {
          "bdata": "AAAAAAAACEA=",
          "dtype": "f8"
         },
         "textposition": "outside",
         "type": "bar",
         "x": [
          "Part 107"
         ],
         "xaxis": "x",
         "y": {
          "bdata": "Aw==",
          "dtype": "i1"
         },
         "yaxis": "y"
        },
        {
         "hovertemplate": "FAR Description=%{x}<br>Number of Records=%{text}<extra></extra>",
         "legendgroup": "Part 103",
         "marker": {
          "color": "rgb(255,237,111)",
          "pattern": {
           "shape": ""
          }
         },
         "name": "Part 103",
         "orientation": "v",
         "showlegend": true,
         "text": {
          "bdata": "AAAAAAAAAEA=",
          "dtype": "f8"
         },
         "textposition": "outside",
         "type": "bar",
         "x": [
          "Part 103"
         ],
         "xaxis": "x",
         "y": {
          "bdata": "Ag==",
          "dtype": "i1"
         },
         "yaxis": "y"
        },
        {
         "hovertemplate": "FAR Description=%{x}<br>Number of Records=%{text}<extra></extra>",
         "legendgroup": "Other",
         "marker": {
          "color": "rgb(141,211,199)",
          "pattern": {
           "shape": ""
          }
         },
         "name": "Other",
         "orientation": "v",
         "showlegend": true,
         "text": {
          "bdata": "AAAAAAAA8D8=",
          "dtype": "f8"
         },
         "textposition": "outside",
         "type": "bar",
         "x": [
          "Other"
         ],
         "xaxis": "x",
         "y": {
          "bdata": "AQ==",
          "dtype": "i1"
         },
         "yaxis": "y"
        }
       ],
       "layout": {
        "barmode": "relative",
        "legend": {
         "title": {
          "text": "FAR Description"
         },
         "tracegroupgap": 0
        },
        "showlegend": true,
        "template": {
         "data": {
          "bar": [
           {
            "error_x": {
             "color": "#2a3f5f"
            },
            "error_y": {
             "color": "#2a3f5f"
            },
            "marker": {
             "line": {
              "color": "#E5ECF6",
              "width": 0.5
             },
             "pattern": {
              "fillmode": "overlay",
              "size": 10,
              "solidity": 0.2
             }
            },
            "type": "bar"
           }
          ],
          "barpolar": [
           {
            "marker": {
             "line": {
              "color": "#E5ECF6",
              "width": 0.5
             },
             "pattern": {
              "fillmode": "overlay",
              "size": 10,
              "solidity": 0.2
             }
            },
            "type": "barpolar"
           }
          ],
          "carpet": [
           {
            "aaxis": {
             "endlinecolor": "#2a3f5f",
             "gridcolor": "white",
             "linecolor": "white",
             "minorgridcolor": "white",
             "startlinecolor": "#2a3f5f"
            },
            "baxis": {
             "endlinecolor": "#2a3f5f",
             "gridcolor": "white",
             "linecolor": "white",
             "minorgridcolor": "white",
             "startlinecolor": "#2a3f5f"
            },
            "type": "carpet"
           }
          ],
          "choropleth": [
           {
            "colorbar": {
             "outlinewidth": 0,
             "ticks": ""
            },
            "type": "choropleth"
           }
          ],
          "contour": [
           {
            "colorbar": {
             "outlinewidth": 0,
             "ticks": ""
            },
            "colorscale": [
             [
              0,
              "#0d0887"
             ],
             [
              0.1111111111111111,
              "#46039f"
             ],
             [
              0.2222222222222222,
              "#7201a8"
             ],
             [
              0.3333333333333333,
              "#9c179e"
             ],
             [
              0.4444444444444444,
              "#bd3786"
             ],
             [
              0.5555555555555556,
              "#d8576b"
             ],
             [
              0.6666666666666666,
              "#ed7953"
             ],
             [
              0.7777777777777778,
              "#fb9f3a"
             ],
             [
              0.8888888888888888,
              "#fdca26"
             ],
             [
              1,
              "#f0f921"
             ]
            ],
            "type": "contour"
           }
          ],
          "contourcarpet": [
           {
            "colorbar": {
             "outlinewidth": 0,
             "ticks": ""
            },
            "type": "contourcarpet"
           }
          ],
          "heatmap": [
           {
            "colorbar": {
             "outlinewidth": 0,
             "ticks": ""
            },
            "colorscale": [
             [
              0,
              "#0d0887"
             ],
             [
              0.1111111111111111,
              "#46039f"
             ],
             [
              0.2222222222222222,
              "#7201a8"
             ],
             [
              0.3333333333333333,
              "#9c179e"
             ],
             [
              0.4444444444444444,
              "#bd3786"
             ],
             [
              0.5555555555555556,
              "#d8576b"
             ],
             [
              0.6666666666666666,
              "#ed7953"
             ],
             [
              0.7777777777777778,
              "#fb9f3a"
             ],
             [
              0.8888888888888888,
              "#fdca26"
             ],
             [
              1,
              "#f0f921"
             ]
            ],
            "type": "heatmap"
           }
          ],
          "histogram": [
           {
            "marker": {
             "pattern": {
              "fillmode": "overlay",
              "size": 10,
              "solidity": 0.2
             }
            },
            "type": "histogram"
           }
          ],
          "histogram2d": [
           {
            "colorbar": {
             "outlinewidth": 0,
             "ticks": ""
            },
            "colorscale": [
             [
              0,
              "#0d0887"
             ],
             [
              0.1111111111111111,
              "#46039f"
             ],
             [
              0.2222222222222222,
              "#7201a8"
             ],
             [
              0.3333333333333333,
              "#9c179e"
             ],
             [
              0.4444444444444444,
              "#bd3786"
             ],
             [
              0.5555555555555556,
              "#d8576b"
             ],
             [
              0.6666666666666666,
              "#ed7953"
             ],
             [
              0.7777777777777778,
              "#fb9f3a"
             ],
             [
              0.8888888888888888,
              "#fdca26"
             ],
             [
              1,
              "#f0f921"
             ]
            ],
            "type": "histogram2d"
           }
          ],
          "histogram2dcontour": [
           {
            "colorbar": {
             "outlinewidth": 0,
             "ticks": ""
            },
            "colorscale": [
             [
              0,
              "#0d0887"
             ],
             [
              0.1111111111111111,
              "#46039f"
             ],
             [
              0.2222222222222222,
              "#7201a8"
             ],
             [
              0.3333333333333333,
              "#9c179e"
             ],
             [
              0.4444444444444444,
              "#bd3786"
             ],
             [
              0.5555555555555556,
              "#d8576b"
             ],
             [
              0.6666666666666666,
              "#ed7953"
             ],
             [
              0.7777777777777778,
              "#fb9f3a"
             ],
             [
              0.8888888888888888,
              "#fdca26"
             ],
             [
              1,
              "#f0f921"
             ]
            ],
            "type": "histogram2dcontour"
           }
          ],
          "mesh3d": [
           {
            "colorbar": {
             "outlinewidth": 0,
             "ticks": ""
            },
            "type": "mesh3d"
           }
          ],
          "parcoords": [
           {
            "line": {
             "colorbar": {
              "outlinewidth": 0,
              "ticks": ""
             }
            },
            "type": "parcoords"
           }
          ],
          "pie": [
           {
            "automargin": true,
            "type": "pie"
           }
          ],
          "scatter": [
           {
            "fillpattern": {
             "fillmode": "overlay",
             "size": 10,
             "solidity": 0.2
            },
            "type": "scatter"
           }
          ],
          "scatter3d": [
           {
            "line": {
             "colorbar": {
              "outlinewidth": 0,
              "ticks": ""
             }
            },
            "marker": {
             "colorbar": {
              "outlinewidth": 0,
              "ticks": ""
             }
            },
            "type": "scatter3d"
           }
          ],
          "scattercarpet": [
           {
            "marker": {
             "colorbar": {
              "outlinewidth": 0,
              "ticks": ""
             }
            },
            "type": "scattercarpet"
           }
          ],
          "scattergeo": [
           {
            "marker": {
             "colorbar": {
              "outlinewidth": 0,
              "ticks": ""
             }
            },
            "type": "scattergeo"
           }
          ],
          "scattergl": [
           {
            "marker": {
             "colorbar": {
              "outlinewidth": 0,
              "ticks": ""
             }
            },
            "type": "scattergl"
           }
          ],
          "scattermap": [
           {
            "marker": {
             "colorbar": {
              "outlinewidth": 0,
              "ticks": ""
             }
            },
            "type": "scattermap"
           }
          ],
          "scattermapbox": [
           {
            "marker": {
             "colorbar": {
              "outlinewidth": 0,
              "ticks": ""
             }
            },
            "type": "scattermapbox"
           }
          ],
          "scatterpolar": [
           {
            "marker": {
             "colorbar": {
              "outlinewidth": 0,
              "ticks": ""
             }
            },
            "type": "scatterpolar"
           }
          ],
          "scatterpolargl": [
           {
            "marker": {
             "colorbar": {
              "outlinewidth": 0,
              "ticks": ""
             }
            },
            "type": "scatterpolargl"
           }
          ],
          "scatterternary": [
           {
            "marker": {
             "colorbar": {
              "outlinewidth": 0,
              "ticks": ""
             }
            },
            "type": "scatterternary"
           }
          ],
          "surface": [
           {
            "colorbar": {
             "outlinewidth": 0,
             "ticks": ""
            },
            "colorscale": [
             [
              0,
              "#0d0887"
             ],
             [
              0.1111111111111111,
              "#46039f"
             ],
             [
              0.2222222222222222,
              "#7201a8"
             ],
             [
              0.3333333333333333,
              "#9c179e"
             ],
             [
              0.4444444444444444,
              "#bd3786"
             ],
             [
              0.5555555555555556,
              "#d8576b"
             ],
             [
              0.6666666666666666,
              "#ed7953"
             ],
             [
              0.7777777777777778,
              "#fb9f3a"
             ],
             [
              0.8888888888888888,
              "#fdca26"
             ],
             [
              1,
              "#f0f921"
             ]
            ],
            "type": "surface"
           }
          ],
          "table": [
           {
            "cells": {
             "fill": {
              "color": "#EBF0F8"
             },
             "line": {
              "color": "white"
             }
            },
            "header": {
             "fill": {
              "color": "#C8D4E3"
             },
             "line": {
              "color": "white"
             }
            },
            "type": "table"
           }
          ]
         },
         "layout": {
          "annotationdefaults": {
           "arrowcolor": "#2a3f5f",
           "arrowhead": 0,
           "arrowwidth": 1
          },
          "autotypenumbers": "strict",
          "coloraxis": {
           "colorbar": {
            "outlinewidth": 0,
            "ticks": ""
           }
          },
          "colorscale": {
           "diverging": [
            [
             0,
             "#8e0152"
            ],
            [
             0.1,
             "#c51b7d"
            ],
            [
             0.2,
             "#de77ae"
            ],
            [
             0.3,
             "#f1b6da"
            ],
            [
             0.4,
             "#fde0ef"
            ],
            [
             0.5,
             "#f7f7f7"
            ],
            [
             0.6,
             "#e6f5d0"
            ],
            [
             0.7,
             "#b8e186"
            ],
            [
             0.8,
             "#7fbc41"
            ],
            [
             0.9,
             "#4d9221"
            ],
            [
             1,
             "#276419"
            ]
           ],
           "sequential": [
            [
             0,
             "#0d0887"
            ],
            [
             0.1111111111111111,
             "#46039f"
            ],
            [
             0.2222222222222222,
             "#7201a8"
            ],
            [
             0.3333333333333333,
             "#9c179e"
            ],
            [
             0.4444444444444444,
             "#bd3786"
            ],
            [
             0.5555555555555556,
             "#d8576b"
            ],
            [
             0.6666666666666666,
             "#ed7953"
            ],
            [
             0.7777777777777778,
             "#fb9f3a"
            ],
            [
             0.8888888888888888,
             "#fdca26"
            ],
            [
             1,
             "#f0f921"
            ]
           ],
           "sequentialminus": [
            [
             0,
             "#0d0887"
            ],
            [
             0.1111111111111111,
             "#46039f"
            ],
            [
             0.2222222222222222,
             "#7201a8"
            ],
            [
             0.3333333333333333,
             "#9c179e"
            ],
            [
             0.4444444444444444,
             "#bd3786"
            ],
            [
             0.5555555555555556,
             "#d8576b"
            ],
            [
             0.6666666666666666,
             "#ed7953"
            ],
            [
             0.7777777777777778,
             "#fb9f3a"
            ],
            [
             0.8888888888888888,
             "#fdca26"
            ],
            [
             1,
             "#f0f921"
            ]
           ]
          },
          "colorway": [
           "#636efa",
           "#EF553B",
           "#00cc96",
           "#ab63fa",
           "#FFA15A",
           "#19d3f3",
           "#FF6692",
           "#B6E880",
           "#FF97FF",
           "#FECB52"
          ],
          "font": {
           "color": "#2a3f5f"
          },
          "geo": {
           "bgcolor": "white",
           "lakecolor": "white",
           "landcolor": "#E5ECF6",
           "showlakes": true,
           "showland": true,
           "subunitcolor": "white"
          },
          "hoverlabel": {
           "align": "left"
          },
          "hovermode": "closest",
          "mapbox": {
           "style": "light"
          },
          "paper_bgcolor": "white",
          "plot_bgcolor": "#E5ECF6",
          "polar": {
           "angularaxis": {
            "gridcolor": "white",
            "linecolor": "white",
            "ticks": ""
           },
           "bgcolor": "#E5ECF6",
           "radialaxis": {
            "gridcolor": "white",
            "linecolor": "white",
            "ticks": ""
           }
          },
          "scene": {
           "xaxis": {
            "backgroundcolor": "#E5ECF6",
            "gridcolor": "white",
            "gridwidth": 2,
            "linecolor": "white",
            "showbackground": true,
            "ticks": "",
            "zerolinecolor": "white"
           },
           "yaxis": {
            "backgroundcolor": "#E5ECF6",
            "gridcolor": "white",
            "gridwidth": 2,
            "linecolor": "white",
            "showbackground": true,
            "ticks": "",
            "zerolinecolor": "white"
           },
           "zaxis": {
            "backgroundcolor": "#E5ECF6",
            "gridcolor": "white",
            "gridwidth": 2,
            "linecolor": "white",
            "showbackground": true,
            "ticks": "",
            "zerolinecolor": "white"
           }
          },
          "shapedefaults": {
           "line": {
            "color": "#2a3f5f"
           }
          },
          "ternary": {
           "aaxis": {
            "gridcolor": "white",
            "linecolor": "white",
            "ticks": ""
           },
           "baxis": {
            "gridcolor": "white",
            "linecolor": "white",
            "ticks": ""
           },
           "bgcolor": "#E5ECF6",
           "caxis": {
            "gridcolor": "white",
            "linecolor": "white",
            "ticks": ""
           }
          },
          "title": {
           "x": 0.05
          },
          "xaxis": {
           "automargin": true,
           "gridcolor": "white",
           "linecolor": "white",
           "ticks": "",
           "title": {
            "standoff": 15
           },
           "zerolinecolor": "white",
           "zerolinewidth": 2
          },
          "yaxis": {
           "automargin": true,
           "gridcolor": "white",
           "linecolor": "white",
           "ticks": "",
           "title": {
            "standoff": 15
           },
           "zerolinecolor": "white",
           "zerolinewidth": 2
          }
         }
        },
        "title": {
         "text": "Distribution of FAR Descriptions in Aviation Accidents"
        },
        "uniformtext": {
         "minsize": 8,
         "mode": "hide"
        },
        "xaxis": {
         "anchor": "y",
         "categoryarray": [
          "Part 91",
          "Unknown",
          "Part 137",
          "Part 135",
          "Part 121",
          "Public Use",
          "Part 133",
          "Part 129",
          "Military",
          "Part 125",
          "Part 107",
          "Part 103",
          "Other"
         ],
         "categoryorder": "array",
         "domain": [
          0,
          1
         ],
         "tickangle": -45,
         "title": {
          "text": "FAR Description"
         }
        },
        "yaxis": {
         "anchor": "x",
         "domain": [
          0,
          1
         ],
         "title": {
          "text": "Accident Count"
         }
        }
       }
      }
     },
     "metadata": {},
     "output_type": "display_data"
    }
   ],
   "source": [
    "far_description_counts = us_data['far_description'].value_counts().reset_index()\n",
    "far_description_counts.columns = ['far_description', 'count']\n",
    "\n",
    "fig = px.bar(\n",
    "    far_description_counts,\n",
    "    x='far_description',\n",
    "    y='count',\n",
    "    text='count',\n",
    "    title='Distribution of FAR Descriptions in Aviation Accidents',\n",
    "    labels={'far_description': 'FAR Description', 'count': 'Number of Records'},\n",
    "    color='far_description',\n",
    "    color_discrete_sequence=px.colors.qualitative.Set3\n",
    ")\n",
    "\n",
    "fig.update_traces(textposition='outside')\n",
    "fig.update_layout(\n",
    "    uniformtext_minsize=8,\n",
    "    uniformtext_mode='hide',\n",
    "    xaxis_tickangle=-45,\n",
    "    yaxis_title='Accident Count',\n",
    "    xaxis_title='FAR Description',\n",
    "    showlegend=True\n",
    ")"
   ]
  },
  {
   "cell_type": "markdown",
   "id": "5deeacf8",
   "metadata": {},
   "source": [
    "The `far_description` field doesn't just categorize accident types — it reflects the **regulatory ecosystem** in which flights are conducted. Understanding it helps decode where **regulatory strength meets operational exposure**.\n",
    "\n",
    "### Interpretation\n",
    "\n",
    "#### **Part 91 – General Aviation (likely dominant)**\n",
    "- Covers non-commercial operations: private flights, training, personal/recreational use.  \n",
    "- Lower entry barriers, **minimal FAA oversight**, and widely varied pilot skill levels.  \n",
    "- Many accidents are logged here not because it’s inherently unsafe, but because this is where **the most flying happens with the least systemic safety net**.  \n",
    "- Also includes experimental/amateur-built aircraft and non-revenue ops — **known risk factors**.\n",
    "\n",
    "#### **Part 135 – Commuter & On-Demand (Charter)**\n",
    "- Sweet spot for **commercial viability and manageable risk**.  \n",
    "- Includes air taxis, medical flights, and small regional carriers.  \n",
    "- Requires stricter maintenance, crew training, and operational rules, but not as resource-intensive as Part 121.  \n",
    "- **Lower incident rates (adjusted for volume)** suggest a more dependable segment for initial investment.\n",
    "\n",
    "#### **Part 121 – Scheduled Commercial Carriers**\n",
    "- Think major airlines.  \n",
    "- Highly regulated, with the **best safety records in the industry**.  \n",
    "- Very few accidents due to mature processes, professional crews, and real-time safety monitoring.  \n",
    "- Entering this space is **capital-heavy**, requiring substantial compliance infrastructure.\n",
    "\n",
    "#### **Other Descriptions (Public Use, Military, Foreign, Unknown)**\n",
    "- Minimal in count.  \n",
    "- Often fall outside FAA oversight or lack traceable FAR classification.  \n",
    "- **Exclude from decision-critical dashboards**, but note in footnotes or filters for completeness.\n",
    "\n",
    "---\n",
    "\n",
    "### Business Recommendations\n",
    "\n",
    "####  **Short-Term Strategy – Enter under Part 135**\n",
    "- **Why**: Balanced operational freedom and safety oversight.  \n",
    "- **Use Cases**: Charter flights, regional tourism, air ambulance, corporate shuttle.  \n",
    "- **Action**: Build compliance capacity specific to 135 (training, aircraft logs, maintenance audits).\n",
    "\n",
    "#### **Caution with Part 91**\n",
    "Only pursue if:\n",
    "- You control the training pipeline (e.g., flight school or personal aircraft program).  \n",
    "- Aircraft are thoroughly vetted (no experimental or poorly documented builds).  \n",
    "- You implement **voluntary safety programs**, like Safety Management Systems (SMS).\n",
    "\n",
    "#### **Long-Term Vision – Grow into Part 121**\n",
    "- **Why**: Safest and most respected segment, but expensive to enter.  \n",
    "- **Action**: Use early experience to build safety credibility, then transition into regional commercial air services.\n",
    "\n",
    "#### **Compliance First!**\n",
    "- Set up an **in-house compliance team** before you even buy the first plane.  \n",
    "- Adopt **electronic maintenance records**, **recurrent pilot training**, and **data reporting pipelines** from day one.  \n",
    "- Leverage **FAA audits** and **voluntary disclosure programs** to future-proof operations.\n"
   ]
  },
  {
   "cell_type": "markdown",
   "id": "a433b3ce",
   "metadata": {},
   "source": [
    "12. `schedule type`: *Scheduled? unscheduled? or unknown what operating conditions are the best?*"
   ]
  },
  {
   "cell_type": "code",
   "execution_count": 111,
   "id": "4f19c76c",
   "metadata": {},
   "outputs": [
    {
     "data": {
      "application/vnd.plotly.v1+json": {
       "config": {
        "plotlyServerURL": "https://plot.ly"
       },
       "data": [
        {
         "domain": {
          "x": [
           0,
           1
          ],
          "y": [
           0,
           1
          ]
         },
         "hovertemplate": "schedule_type=%{label}<br>count=%{value}<extra></extra>",
         "labels": [
          "NSCH",
          "UNK",
          "SCHD"
         ],
         "legendgroup": "",
         "name": "",
         "showlegend": true,
         "textinfo": "percent+label",
         "type": "pie",
         "values": {
          "bdata": "kvkAAJ07AAAZDAAA",
          "dtype": "i4"
         }
        }
       ],
       "layout": {
        "legend": {
         "tracegroupgap": 0
        },
        "piecolorway": [
         "rgb(103,0,31)",
         "rgb(178,24,43)",
         "rgb(214,96,77)",
         "rgb(244,165,130)",
         "rgb(253,219,199)",
         "rgb(247,247,247)",
         "rgb(209,229,240)",
         "rgb(146,197,222)",
         "rgb(67,147,195)",
         "rgb(33,102,172)",
         "rgb(5,48,97)"
        ],
        "template": {
         "data": {
          "bar": [
           {
            "error_x": {
             "color": "#2a3f5f"
            },
            "error_y": {
             "color": "#2a3f5f"
            },
            "marker": {
             "line": {
              "color": "#E5ECF6",
              "width": 0.5
             },
             "pattern": {
              "fillmode": "overlay",
              "size": 10,
              "solidity": 0.2
             }
            },
            "type": "bar"
           }
          ],
          "barpolar": [
           {
            "marker": {
             "line": {
              "color": "#E5ECF6",
              "width": 0.5
             },
             "pattern": {
              "fillmode": "overlay",
              "size": 10,
              "solidity": 0.2
             }
            },
            "type": "barpolar"
           }
          ],
          "carpet": [
           {
            "aaxis": {
             "endlinecolor": "#2a3f5f",
             "gridcolor": "white",
             "linecolor": "white",
             "minorgridcolor": "white",
             "startlinecolor": "#2a3f5f"
            },
            "baxis": {
             "endlinecolor": "#2a3f5f",
             "gridcolor": "white",
             "linecolor": "white",
             "minorgridcolor": "white",
             "startlinecolor": "#2a3f5f"
            },
            "type": "carpet"
           }
          ],
          "choropleth": [
           {
            "colorbar": {
             "outlinewidth": 0,
             "ticks": ""
            },
            "type": "choropleth"
           }
          ],
          "contour": [
           {
            "colorbar": {
             "outlinewidth": 0,
             "ticks": ""
            },
            "colorscale": [
             [
              0,
              "#0d0887"
             ],
             [
              0.1111111111111111,
              "#46039f"
             ],
             [
              0.2222222222222222,
              "#7201a8"
             ],
             [
              0.3333333333333333,
              "#9c179e"
             ],
             [
              0.4444444444444444,
              "#bd3786"
             ],
             [
              0.5555555555555556,
              "#d8576b"
             ],
             [
              0.6666666666666666,
              "#ed7953"
             ],
             [
              0.7777777777777778,
              "#fb9f3a"
             ],
             [
              0.8888888888888888,
              "#fdca26"
             ],
             [
              1,
              "#f0f921"
             ]
            ],
            "type": "contour"
           }
          ],
          "contourcarpet": [
           {
            "colorbar": {
             "outlinewidth": 0,
             "ticks": ""
            },
            "type": "contourcarpet"
           }
          ],
          "heatmap": [
           {
            "colorbar": {
             "outlinewidth": 0,
             "ticks": ""
            },
            "colorscale": [
             [
              0,
              "#0d0887"
             ],
             [
              0.1111111111111111,
              "#46039f"
             ],
             [
              0.2222222222222222,
              "#7201a8"
             ],
             [
              0.3333333333333333,
              "#9c179e"
             ],
             [
              0.4444444444444444,
              "#bd3786"
             ],
             [
              0.5555555555555556,
              "#d8576b"
             ],
             [
              0.6666666666666666,
              "#ed7953"
             ],
             [
              0.7777777777777778,
              "#fb9f3a"
             ],
             [
              0.8888888888888888,
              "#fdca26"
             ],
             [
              1,
              "#f0f921"
             ]
            ],
            "type": "heatmap"
           }
          ],
          "histogram": [
           {
            "marker": {
             "pattern": {
              "fillmode": "overlay",
              "size": 10,
              "solidity": 0.2
             }
            },
            "type": "histogram"
           }
          ],
          "histogram2d": [
           {
            "colorbar": {
             "outlinewidth": 0,
             "ticks": ""
            },
            "colorscale": [
             [
              0,
              "#0d0887"
             ],
             [
              0.1111111111111111,
              "#46039f"
             ],
             [
              0.2222222222222222,
              "#7201a8"
             ],
             [
              0.3333333333333333,
              "#9c179e"
             ],
             [
              0.4444444444444444,
              "#bd3786"
             ],
             [
              0.5555555555555556,
              "#d8576b"
             ],
             [
              0.6666666666666666,
              "#ed7953"
             ],
             [
              0.7777777777777778,
              "#fb9f3a"
             ],
             [
              0.8888888888888888,
              "#fdca26"
             ],
             [
              1,
              "#f0f921"
             ]
            ],
            "type": "histogram2d"
           }
          ],
          "histogram2dcontour": [
           {
            "colorbar": {
             "outlinewidth": 0,
             "ticks": ""
            },
            "colorscale": [
             [
              0,
              "#0d0887"
             ],
             [
              0.1111111111111111,
              "#46039f"
             ],
             [
              0.2222222222222222,
              "#7201a8"
             ],
             [
              0.3333333333333333,
              "#9c179e"
             ],
             [
              0.4444444444444444,
              "#bd3786"
             ],
             [
              0.5555555555555556,
              "#d8576b"
             ],
             [
              0.6666666666666666,
              "#ed7953"
             ],
             [
              0.7777777777777778,
              "#fb9f3a"
             ],
             [
              0.8888888888888888,
              "#fdca26"
             ],
             [
              1,
              "#f0f921"
             ]
            ],
            "type": "histogram2dcontour"
           }
          ],
          "mesh3d": [
           {
            "colorbar": {
             "outlinewidth": 0,
             "ticks": ""
            },
            "type": "mesh3d"
           }
          ],
          "parcoords": [
           {
            "line": {
             "colorbar": {
              "outlinewidth": 0,
              "ticks": ""
             }
            },
            "type": "parcoords"
           }
          ],
          "pie": [
           {
            "automargin": true,
            "type": "pie"
           }
          ],
          "scatter": [
           {
            "fillpattern": {
             "fillmode": "overlay",
             "size": 10,
             "solidity": 0.2
            },
            "type": "scatter"
           }
          ],
          "scatter3d": [
           {
            "line": {
             "colorbar": {
              "outlinewidth": 0,
              "ticks": ""
             }
            },
            "marker": {
             "colorbar": {
              "outlinewidth": 0,
              "ticks": ""
             }
            },
            "type": "scatter3d"
           }
          ],
          "scattercarpet": [
           {
            "marker": {
             "colorbar": {
              "outlinewidth": 0,
              "ticks": ""
             }
            },
            "type": "scattercarpet"
           }
          ],
          "scattergeo": [
           {
            "marker": {
             "colorbar": {
              "outlinewidth": 0,
              "ticks": ""
             }
            },
            "type": "scattergeo"
           }
          ],
          "scattergl": [
           {
            "marker": {
             "colorbar": {
              "outlinewidth": 0,
              "ticks": ""
             }
            },
            "type": "scattergl"
           }
          ],
          "scattermap": [
           {
            "marker": {
             "colorbar": {
              "outlinewidth": 0,
              "ticks": ""
             }
            },
            "type": "scattermap"
           }
          ],
          "scattermapbox": [
           {
            "marker": {
             "colorbar": {
              "outlinewidth": 0,
              "ticks": ""
             }
            },
            "type": "scattermapbox"
           }
          ],
          "scatterpolar": [
           {
            "marker": {
             "colorbar": {
              "outlinewidth": 0,
              "ticks": ""
             }
            },
            "type": "scatterpolar"
           }
          ],
          "scatterpolargl": [
           {
            "marker": {
             "colorbar": {
              "outlinewidth": 0,
              "ticks": ""
             }
            },
            "type": "scatterpolargl"
           }
          ],
          "scatterternary": [
           {
            "marker": {
             "colorbar": {
              "outlinewidth": 0,
              "ticks": ""
             }
            },
            "type": "scatterternary"
           }
          ],
          "surface": [
           {
            "colorbar": {
             "outlinewidth": 0,
             "ticks": ""
            },
            "colorscale": [
             [
              0,
              "#0d0887"
             ],
             [
              0.1111111111111111,
              "#46039f"
             ],
             [
              0.2222222222222222,
              "#7201a8"
             ],
             [
              0.3333333333333333,
              "#9c179e"
             ],
             [
              0.4444444444444444,
              "#bd3786"
             ],
             [
              0.5555555555555556,
              "#d8576b"
             ],
             [
              0.6666666666666666,
              "#ed7953"
             ],
             [
              0.7777777777777778,
              "#fb9f3a"
             ],
             [
              0.8888888888888888,
              "#fdca26"
             ],
             [
              1,
              "#f0f921"
             ]
            ],
            "type": "surface"
           }
          ],
          "table": [
           {
            "cells": {
             "fill": {
              "color": "#EBF0F8"
             },
             "line": {
              "color": "white"
             }
            },
            "header": {
             "fill": {
              "color": "#C8D4E3"
             },
             "line": {
              "color": "white"
             }
            },
            "type": "table"
           }
          ]
         },
         "layout": {
          "annotationdefaults": {
           "arrowcolor": "#2a3f5f",
           "arrowhead": 0,
           "arrowwidth": 1
          },
          "autotypenumbers": "strict",
          "coloraxis": {
           "colorbar": {
            "outlinewidth": 0,
            "ticks": ""
           }
          },
          "colorscale": {
           "diverging": [
            [
             0,
             "#8e0152"
            ],
            [
             0.1,
             "#c51b7d"
            ],
            [
             0.2,
             "#de77ae"
            ],
            [
             0.3,
             "#f1b6da"
            ],
            [
             0.4,
             "#fde0ef"
            ],
            [
             0.5,
             "#f7f7f7"
            ],
            [
             0.6,
             "#e6f5d0"
            ],
            [
             0.7,
             "#b8e186"
            ],
            [
             0.8,
             "#7fbc41"
            ],
            [
             0.9,
             "#4d9221"
            ],
            [
             1,
             "#276419"
            ]
           ],
           "sequential": [
            [
             0,
             "#0d0887"
            ],
            [
             0.1111111111111111,
             "#46039f"
            ],
            [
             0.2222222222222222,
             "#7201a8"
            ],
            [
             0.3333333333333333,
             "#9c179e"
            ],
            [
             0.4444444444444444,
             "#bd3786"
            ],
            [
             0.5555555555555556,
             "#d8576b"
            ],
            [
             0.6666666666666666,
             "#ed7953"
            ],
            [
             0.7777777777777778,
             "#fb9f3a"
            ],
            [
             0.8888888888888888,
             "#fdca26"
            ],
            [
             1,
             "#f0f921"
            ]
           ],
           "sequentialminus": [
            [
             0,
             "#0d0887"
            ],
            [
             0.1111111111111111,
             "#46039f"
            ],
            [
             0.2222222222222222,
             "#7201a8"
            ],
            [
             0.3333333333333333,
             "#9c179e"
            ],
            [
             0.4444444444444444,
             "#bd3786"
            ],
            [
             0.5555555555555556,
             "#d8576b"
            ],
            [
             0.6666666666666666,
             "#ed7953"
            ],
            [
             0.7777777777777778,
             "#fb9f3a"
            ],
            [
             0.8888888888888888,
             "#fdca26"
            ],
            [
             1,
             "#f0f921"
            ]
           ]
          },
          "colorway": [
           "#636efa",
           "#EF553B",
           "#00cc96",
           "#ab63fa",
           "#FFA15A",
           "#19d3f3",
           "#FF6692",
           "#B6E880",
           "#FF97FF",
           "#FECB52"
          ],
          "font": {
           "color": "#2a3f5f"
          },
          "geo": {
           "bgcolor": "white",
           "lakecolor": "white",
           "landcolor": "#E5ECF6",
           "showlakes": true,
           "showland": true,
           "subunitcolor": "white"
          },
          "hoverlabel": {
           "align": "left"
          },
          "hovermode": "closest",
          "mapbox": {
           "style": "light"
          },
          "paper_bgcolor": "white",
          "plot_bgcolor": "#E5ECF6",
          "polar": {
           "angularaxis": {
            "gridcolor": "white",
            "linecolor": "white",
            "ticks": ""
           },
           "bgcolor": "#E5ECF6",
           "radialaxis": {
            "gridcolor": "white",
            "linecolor": "white",
            "ticks": ""
           }
          },
          "scene": {
           "xaxis": {
            "backgroundcolor": "#E5ECF6",
            "gridcolor": "white",
            "gridwidth": 2,
            "linecolor": "white",
            "showbackground": true,
            "ticks": "",
            "zerolinecolor": "white"
           },
           "yaxis": {
            "backgroundcolor": "#E5ECF6",
            "gridcolor": "white",
            "gridwidth": 2,
            "linecolor": "white",
            "showbackground": true,
            "ticks": "",
            "zerolinecolor": "white"
           },
           "zaxis": {
            "backgroundcolor": "#E5ECF6",
            "gridcolor": "white",
            "gridwidth": 2,
            "linecolor": "white",
            "showbackground": true,
            "ticks": "",
            "zerolinecolor": "white"
           }
          },
          "shapedefaults": {
           "line": {
            "color": "#2a3f5f"
           }
          },
          "ternary": {
           "aaxis": {
            "gridcolor": "white",
            "linecolor": "white",
            "ticks": ""
           },
           "baxis": {
            "gridcolor": "white",
            "linecolor": "white",
            "ticks": ""
           },
           "bgcolor": "#E5ECF6",
           "caxis": {
            "gridcolor": "white",
            "linecolor": "white",
            "ticks": ""
           }
          },
          "title": {
           "x": 0.05
          },
          "xaxis": {
           "automargin": true,
           "gridcolor": "white",
           "linecolor": "white",
           "ticks": "",
           "title": {
            "standoff": 15
           },
           "zerolinecolor": "white",
           "zerolinewidth": 2
          },
          "yaxis": {
           "automargin": true,
           "gridcolor": "white",
           "linecolor": "white",
           "ticks": "",
           "title": {
            "standoff": 15
           },
           "zerolinecolor": "white",
           "zerolinewidth": 2
          }
         }
        },
        "title": {
         "font": {
          "size": 20
         },
         "text": "Distribution of Schedule Type in Aviation Accidents"
        }
       }
      }
     },
     "metadata": {},
     "output_type": "display_data"
    }
   ],
   "source": [
    "\n",
    "\n",
    "schedule_counts = us_data['schedule_type'].value_counts().reset_index()\n",
    "schedule_counts.columns = ['schedule_type', 'count']\n",
    "\n",
    "fig = px.pie(\n",
    "    schedule_counts,\n",
    "    names='schedule_type',\n",
    "    values='count',\n",
    "    title='Distribution of Schedule Type in Aviation Accidents',\n",
    "    color_discrete_sequence=px.colors.sequential.RdBu\n",
    ")\n",
    "\n",
    "fig.update_traces(textinfo='percent+label')\n",
    "fig.update_layout(title_font_size=20)\n",
    "\n",
    "fig.show()\n"
   ]
  },
  {
   "cell_type": "markdown",
   "id": "ef4b124a",
   "metadata": {},
   "source": [
    "The `schedule_type` field provides insight into the **operational discipline** of a flight. While it may appear like a mere formality, how scheduled a flight is often correlates with how **regulated, trained, and predictable** its conditions are.\n",
    "\n",
    "### \n",
    " Observation & Interpretation\n",
    "#### **Non-Scheduled Flights Dominate**\n",
    "- The majority of accidents occur in non-scheduled operations.\n",
    "- These include **personal, instructional, positioning (ferry), and test flights** — all typically part of general aviation.\n",
    "- These operations are often **less structured, less regulated, and flown by pilots with varying levels of experience**.\n",
    "- Maintenance may also be done less frequently or less thoroughly, depending on the operator.\n",
    "\n",
    "#### **Scheduled Flights Have Significantly Fewer Accidents**\n",
    "- Scheduled flights (like commercial airlines) have lower accident counts despite far more frequent operations.\n",
    "- This reflects the **power of structure, checklists, regulatory oversight, and professional training**.\n",
    "- Scheduled carriers follow tight protocols on weather, maintenance, and crew duty limits — a **system that works**.\n",
    "\n",
    "---\n",
    "\n",
    "###  Business Recommendations\n",
    "\n",
    "####  **Lean Into Structured Operations**\n",
    "- **Why**: Accidents are more prevalent in loosely organized, ad-hoc flying.  \n",
    "- For companies investing in aviation, prioritize **scheduled or semi-scheduled** flight models to benefit from safer operational patterns.\n"
   ]
  },
  {
   "cell_type": "markdown",
   "id": "62ffc1fd",
   "metadata": {},
   "source": []
  }
 ],
 "metadata": {
  "kernelspec": {
   "display_name": "learn-env",
   "language": "python",
   "name": "python3"
  },
  "language_info": {
   "codemirror_mode": {
    "name": "ipython",
    "version": 3
   },
   "file_extension": ".py",
   "mimetype": "text/x-python",
   "name": "python",
   "nbconvert_exporter": "python",
   "pygments_lexer": "ipython3",
   "version": "3.9.19"
  }
 },
 "nbformat": 4,
 "nbformat_minor": 5
}
