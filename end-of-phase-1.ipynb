{
 "cells": [
  {
   "cell_type": "markdown",
   "id": "3a4b3ae4",
   "metadata": {},
   "source": [
    "## Aviation Accident Risk Analysis: Data-Driven Recommendations for Safer Investments\n",
    "This project explores historical aviation accident data to identify patterns, contributing factors, and risk profiles associated with various aircraft models, flight conditions, and operational phases. By integrating accident records with regulatory data, weather conditions, and aircraft registration details, I aim to uncover actionable insights that support strategic decision-making—particularly for stakeholders assessing aircraft safety before investment or deployment.\n",
    "\n",
    "Through a combination of statistical techniques and visual analytics, this analysis reveals key trends spanning decades of incidents. The ultimate goal: to deliver **at least three concrete, data-backed business recommendations** that enhance aviation safety and reduce investment risk for operators, insurers, and aviation decision-makers.\n",
    "\n",
    "## Guiding Questions for Analysis\n",
    "\n",
    "To shape meaningful business recommendations and uncover the underlying factors contributing to aviation accidents, the following key questions will guide me in my analysis:\n",
    "\n",
    "1. **Which aircraft models are associated with the highest and lowest accident rates, and how do these rates compare when normalized by fleet size or registration volume?**  \n",
    "   *→ Informs investment risk by identifying safer aircraft models.*\n",
    "\n",
    "2. **What role do weather conditions play in aviation accidents, and which specific weather types are most frequently linked to severe outcomes?**  \n",
    "   *→ Supports operational planning and risk mitigation under adverse weather.*\n",
    "\n",
    "3. **Are there identifiable trends in accidents across different phases of flight (e.g., takeoff, cruise, landing), and do these vary by aircraft type or operator category?**  \n",
    "   *→ Guides targeted safety interventions at high-risk phases.*\n",
    "\n",
    "4. **To what extent do regulatory or maintenance-related issues contribute to accident frequency or severity?**  \n",
    "   *→ Informs policy adjustments and helps rank compliance risk across aircraft categories.*\n",
    "\n",
    "5. **Have accident patterns shifted over time, and what does this reveal about the effectiveness of safety regulations or technological advancements?**  \n",
    "   *→ Tracks progress and identifies areas needing continued focus.*\n",
    "\n",
    "6. **Are there regional or geographical patterns in accident occurrence, especially in relation to weather or regulation enforcement?**  \n",
    "   *→ Offers strategic insight for operators expanding into new territories.*"
   ]
  },
  {
   "cell_type": "markdown",
   "id": "ef3aa15e",
   "metadata": {},
   "source": [
    "## PHASE ONE:  Data Understanding\n",
    "\n",
    "In this section, i will dive into a comprehensive examination of all datasets i will use in the project. The goal is to assess their structure, contents, and quality — and begin identifying how they can be integrated to support meaningful analysis and actionable insights.\n",
    "\n",
    "---\n",
    "\n",
    "###  Objectives\n",
    "\n",
    "- Understand the schema, variables, and value distributions in each dataset.\n",
    "- Assess data quality: missing values, inconsistencies, encoding issues.\n",
    "- Identify relationships and join keys across datasets.\n",
    "- Define preprocessing needs for each dataset.\n",
    "\n",
    "---\n",
    "\n",
    "###  Approach\n",
    "\n",
    "#### 1. **Main Exploration (Aviation DAta)**\n",
    "- Load the aviation accident dataset.\n",
    "- Inspect variable types and value ranges.\n",
    "- Identify missing or inconsistent values.\n",
    "- Explore time, location, aircraft model, and severity distributions.\n",
    "\n",
    "#### 2. **Explore Supplementary Data**\n",
    "- Review each FAA data:\n",
    "  - Are the values well-formatted?\n",
    "  - Any obvious missing or invalid entries?\n",
    "  - What columns are useful?\n",
    "\n",
    "#### 3. **Plan for Dataset Integration**\n",
    "- Identify common keys for joining:\n",
    "  - `Registration.Number` ↔ `N-Number` (FAA)\n",
    "  - `Model` ↔ `MODEL` (FAA)\n",
    "  - Date + Lat/Lon proximity ↔ GHCND Weather\n",
    "- Consider transformations (e.g., date parsing, coordinate matching).\n",
    "\n",
    "---\n",
    "\n"
   ]
  },
  {
   "cell_type": "code",
   "execution_count": null,
   "id": "c06b036c",
   "metadata": {},
   "outputs": [],
   "source": [
    "#importing standard libs\n",
    "import pandas as pd\n",
    "import numpy as np\n",
    "import matplotlib.pyplot as plt\n",
    "import seaborn as sns\n",
    "import warnings\n",
    "warnings.filterwarnings(\"ignore\", category=pd.errors.DtypeWarning)"
   ]
  },
  {
   "cell_type": "markdown",
   "id": "7217e872",
   "metadata": {},
   "source": [
    "## PART ONE: Core Data Set Understanding\n",
    "The primary dataset for this project consists of detailed records of aviation accidents, capturing various attributes such as accident number, date, aircraft model, flight phase, location, injury severity, and more. This dataset serves as the backbone of my analysis and will help me uncover core patterns in accident frequency, severity, and causes.\n",
    "\n",
    "Before diving into analysis, i will begin by examining the structure and content of this dataset to understand its variables, detect missing or inconsistent data, and identify potential areas for transformation. This step is critical in ensuring that my insights are grounded in clean, reliable, and meaningful data.\n",
    "\n",
    "**Objectives:**\n",
    "- Get familiar with the features (columns) present in the dataset  \n",
    "- Check the completeness and data types of each feature  \n",
    "- Identify key columns that will drive our analysis.\n",
    "- Detect potential issues such as missing values, formatting inconsistencies, or ambiguous entries  \n",
    "\n",
    "This understanding will guide the cleaning, enrichment, and merging steps to follow as i prepare this data for deeper analysis and cross-linking with the supplementary datasets.\n"
   ]
  },
  {
   "cell_type": "code",
   "execution_count": null,
   "id": "48ea9b16",
   "metadata": {},
   "outputs": [],
   "source": [
    "#Loading the data\n",
    "aviation_data = pd.read_csv(\"Data/Aviation-data/AviationData.csv\", encoding='latin1')"
   ]
  },
  {
   "cell_type": "code",
   "execution_count": null,
   "id": "c6cc9d02",
   "metadata": {},
   "outputs": [],
   "source": [
    "#check the shape\n",
    "aviation_data.shape"
   ]
  },
  {
   "cell_type": "code",
   "execution_count": null,
   "id": "e9f1edcf",
   "metadata": {},
   "outputs": [],
   "source": [
    "#preview of the first five rows\n",
    "aviation_data.head()"
   ]
  },
  {
   "cell_type": "code",
   "execution_count": null,
   "id": "78ce7ac3",
   "metadata": {},
   "outputs": [],
   "source": [
    "#check the last five rows\n",
    "aviation_data.tail()"
   ]
  },
  {
   "cell_type": "code",
   "execution_count": null,
   "id": "beba4445",
   "metadata": {},
   "outputs": [],
   "source": [
    "#checking columns\n",
    "aviation_data.columns"
   ]
  },
  {
   "cell_type": "code",
   "execution_count": null,
   "id": "10f23c44",
   "metadata": {},
   "outputs": [],
   "source": [
    "#quick view of the data set\n",
    "aviation_data.info()"
   ]
  },
  {
   "cell_type": "code",
   "execution_count": null,
   "id": "8675a4c3",
   "metadata": {},
   "outputs": [],
   "source": [
    "#Checking numerucal data\n",
    "aviation_data.describe().T"
   ]
  },
  {
   "cell_type": "code",
   "execution_count": null,
   "id": "bcd656af",
   "metadata": {},
   "outputs": [],
   "source": [
    "#Checking categorical Data\n",
    "aviation_data.describe(include='O').T"
   ]
  },
  {
   "cell_type": "code",
   "execution_count": null,
   "id": "6395a640",
   "metadata": {},
   "outputs": [],
   "source": [
    "#Checking for missing values\n",
    "aviation_data.isna().any()"
   ]
  },
  {
   "cell_type": "markdown",
   "id": "0c0834a2",
   "metadata": {},
   "source": [
    "\n",
    "\n",
    "###  Findings\n",
    "- The dataset successfully loaded using `latin1` encoding due to extended character sets in some fields.\n",
    "- A preliminary inspection using `.head()` and `.tail()` confirms the structure is consistent across rows.\n",
    "\n",
    "###  Columns & Features\n",
    "- The dataset contains a wide range of features including:\n",
    "  - Aircraft information (make, model, engine type, registration number, etc.)\n",
    "  - Flight conditions (weather, phase of flight, purpose of flight)\n",
    "  - Accident details (date, location, injury severity, aircraft damage, narrative)\n",
    "\n",
    "- Column names are inconsistent and will require **standardization and renaming** for readability and usability in analysis.\n",
    "\n",
    "###  Data Types and Initial Insights\n",
    "- The `.info()` summary reveals a mixture of:\n",
    "  - **Categorical features** such as `Injury.Severity`, `Weather.Condition`, and `Aircraft.Damage`\n",
    "  - **Date fields** like `Event.Date`, which will be parsed into datetime format\n",
    "\n",
    "### Missing Data\n",
    "- A significant number of features contain **missing or null values**, particularly in:\n",
    "  - latitude and longitude\n",
    "  - Airport name and Code\n",
    "  - Aircraft category\n",
    "These issues will be addressed during the **Data Cleaning** phase.\n",
    "\n",
    "---\n",
    "\n",
    "This initial preview establishes a foundational understanding of the dataset. Further steps will involve cleaning, transforming, and preparing the data for analysis.\n"
   ]
  },
  {
   "cell_type": "markdown",
   "id": "875f6bf0",
   "metadata": {},
   "source": [
    "## PART TWO: Supplementary Dataset(s) Understanding\n",
    "\n",
    "To enrich the core data set and support deeper, more actionable insights, i decided to research and found supplimentary data from Federal Aviation Administration (FAA) and U.S. State Codes to fortify my analysis. Each dataset serves a specific analytical purpose and will be preprocessed accordingly.\n",
    "\n",
    "---\n",
    "\n",
    "### FAA Aircraft Registration Data\n",
    "\n",
    "- **Files:** `MASTER.txt`, `ENGINE.txt`, `ACFTREF.txt`, `DEALER.txt`, `DEREG.txt`, `DOCINDEX.txt`\n",
    "- **Purpose:** Provides detailed metadata about aircraft including model specifications, engine details, and ownership history.\n",
    "\n",
    "---\n",
    "\n",
    "### FAA Regulations and Incident Data\n",
    "\n",
    "- **Files:** Cleaned regulation dataset (CSV)\n",
    "- **Purpose:** Captures regulatory environment and safety measures in place during various incidents.\n",
    "\n",
    "---\n",
    "\n",
    "### U.S. State Codes Dataset\n",
    "\n",
    "- **File:** `US_States_Codes.csv`\n",
    "- **Purpose:** Translates state abbreviations to full names and standard codes.\n",
    "\n",
    "---\n",
    "\n",
    "These supplementary datasets will be cleaned, normalized, and merged with the main accident data using common identifiers such as `Registration.Number`, `Model`, and `Event.Date`. This integration will unlock multi-dimensional insights and strengthen the final recommendations.\n"
   ]
  },
  {
   "cell_type": "markdown",
   "id": "31a33762",
   "metadata": {},
   "source": [
    "##  FAA Aircraft Registration Data Overview\n",
    "\n",
    "To enrich the aviation accident dataset and gain deeper insight into aircraft-specific characteristics, we incorporate supplementary data provided by the FAA. These files contain detailed registration, technical, and deregistration records for civil aircraft in the United States. Below is a description of each dataset and its intended use in the project:\n",
    "\n",
    "### 1. `MASTER.txt`\n",
    "- **Description**: This file includes comprehensive records of all currently registered aircraft, with details such as registration numbers, manufacturer info, year of manufacture, type of registrant (e.g., individual, corporation), aircraft type, engine type, and airworthiness certification dates.\n",
    "- **Usage**: We will use `MASTER.txt` to extract key aircraft metadata and merge it with the main accident dataset using the `N-NUMBER` (which corresponds to `Registration.Number`). This will allow analysis of accident trends based on aircraft age, type, ownership category, and certification status.\n",
    "\n",
    "### 2. `ACFTREF.txt`\n",
    "- **Description**: A reference file mapping manufacturer and model codes to their descriptive names, including weight class and engine type.\n",
    "- **Usage**: This will be used to decode the `MFR MDL CODE` in the `MASTER.txt` file, enabling us to identify specific aircraft makes and models in a readable format. This is essential for evaluating accident patterns associated with certain aircraft types.\n",
    "\n",
    "### 3. `ENGINE.txt`\n",
    "- **Description**: Contains technical specifications of various aircraft engines, linked by engine model codes.\n",
    "- **Usage**: We can link this to the engine code field in the `MASTER.txt` file (`ENG MFR MDL`) to analyze whether engine type or engine-specific characteristics correlate with accident severity or frequency.\n",
    "\n",
    "### 4. `DEREG.txt`\n",
    "- **Description**: Records of deregistered aircraft, including reasons and dates of deregistration.\n",
    "- **Usage**: This file may help in identifying aircraft that were involved in an accident and subsequently deregistered. We can use this to validate the aircraft's operational status post-accident and examine patterns in deregistration reasons.\n",
    "\n",
    "---\n",
    "\n",
    "By leveraging these datasets, we can build a richer, aircraft-level profile for each accident, supporting more robust analysis and stronger business recommendations.\n"
   ]
  },
  {
   "cell_type": "markdown",
   "id": "3df9f8f5",
   "metadata": {},
   "source": [
    " ------\n",
    "\n",
    "## FAA Aircraft Registration Data (MASTER.txt)\n",
    "\n",
    "The MASTER.txt file provides comprehensive registration information for aircraft in the United States. It includes ownership details, aircraft identifiers, location of registrants, certification statuses, and model references that can be linked to technical aircraft data from ACFTREF.txt.\n",
    "\n"
   ]
  },
  {
   "cell_type": "code",
   "execution_count": null,
   "id": "74ae4788",
   "metadata": {},
   "outputs": [],
   "source": [
    "#loading the master file\n",
    "master = pd.read_csv(\"supplimentary-data/ReleasableAircraft/MASTER.txt\", delimiter=',', low_memory=False,)"
   ]
  },
  {
   "cell_type": "code",
   "execution_count": null,
   "id": "8a587851",
   "metadata": {},
   "outputs": [],
   "source": [
    "master.shape"
   ]
  },
  {
   "cell_type": "code",
   "execution_count": null,
   "id": "4f9c6b74",
   "metadata": {},
   "outputs": [],
   "source": [
    "master.head()\n"
   ]
  },
  {
   "cell_type": "code",
   "execution_count": null,
   "id": "fc7f0674",
   "metadata": {},
   "outputs": [],
   "source": [
    "master.tail()"
   ]
  },
  {
   "cell_type": "code",
   "execution_count": null,
   "id": "e6d90672",
   "metadata": {},
   "outputs": [],
   "source": [
    "master.columns"
   ]
  },
  {
   "cell_type": "code",
   "execution_count": null,
   "id": "3e9aa076",
   "metadata": {},
   "outputs": [],
   "source": [
    "master.info()"
   ]
  },
  {
   "cell_type": "code",
   "execution_count": null,
   "id": "ad906b22",
   "metadata": {},
   "outputs": [],
   "source": [
    "master.describe().T"
   ]
  },
  {
   "cell_type": "code",
   "execution_count": null,
   "id": "e18bb055",
   "metadata": {},
   "outputs": [],
   "source": [
    "master.describe(include='O').T"
   ]
  },
  {
   "cell_type": "code",
   "execution_count": null,
   "id": "37524db6",
   "metadata": {},
   "outputs": [],
   "source": [
    "master.isna().any()"
   ]
  },
  {
   "cell_type": "markdown",
   "id": "fd194d36",
   "metadata": {},
   "source": [
    "\n",
    "####  Findings:\n",
    "\n",
    "- The data loaded successfully using `pd.read_csv()` with `delimiter=','`.\n",
    "- `.head()` and `.tail()` checks confirm consistent formatting and no structural corruption across rows.\n",
    "- All **35 columns** were correctly recognized and parsed.\n",
    "\n",
    "####  Key Columns:\n",
    "\n",
    "- **`N-NUMBER`**: FAA registration number; serves as a unique aircraft ID.\n",
    "- **`MFR MDL CODE`**: Manufacturer/model code — links to `ACFTREF.txt` for aircraft technical data.\n",
    "- **`ENG MFR MDL`**: Engine model/manufacturer — links to `ENGINE.txt` for engine specifications.\n",
    "- **`YEAR MFR`**: Aircraft manufacturing year — useful for age profiling.\n",
    "- **`TYPE REGISTRANT`, `NAME`, `STREET`, `CITY`, `STATE`, `ZIP CODE`**: Registrant details for identifying aircraft ownership and geographic distribution.\n",
    "- **`CERTIFICATION`, `TYPE AIRCRAFT`, `TYPE ENGINE`, `STATUS CODE`**: Technical and regulatory attributes.\n",
    "- **`AIR WORTH DATE`, `EXPIRATION DATE`**: Aircraft certification and registration validity.\n",
    "\n",
    "#### Data Quality:\n",
    "\n",
    "- No missing values were observed in the sample preview.\n",
    "- One column, **`Unnamed: 34`**, appears to be empty and will be dropped during cleaning.\n",
    "- Some column names (e.g., `' KIT MODEL'`) include leading/trailing whitespace and will be standardized.\n",
    "\n",
    "---\n",
    "\n",
    "####  Planned Usage:\n",
    "\n",
    "This dataset will enhance the **main aviation accident dataset** by providing:\n",
    "\n",
    "- Aircraft ownership and certification context.\n",
    "- Insight into how factors like **aircraft age**, **registrant type**, or **certification status** relate to accident **frequency** or **severity**.\n",
    "- Support for constructing **risk profiles** for different aircraft types based on their historical and regulatory data.\n",
    "\n"
   ]
  },
  {
   "cell_type": "markdown",
   "id": "91e3586c",
   "metadata": {},
   "source": [
    "## FAA Aircraft Reference Data (ACFTREF.txt)\n",
    "\n",
    "The ACFTREF.txt file contains structured reference data for aircraft, detailing the manufacturer, model, engine type, aircraft category, number of engines and seats, weight class, and certification information. This dataset is clean and consistent, with well-defined column names and no missing values, making it readily usable for merging and analysis."
   ]
  },
  {
   "cell_type": "code",
   "execution_count": null,
   "id": "b5412bf9",
   "metadata": {},
   "outputs": [],
   "source": [
    "#loading the acftref file\n",
    "acftref = pd.read_csv(\"supplimentary-data/ReleasableAircraft/ACFTREF.txt\", delimiter=',', low_memory=False)"
   ]
  },
  {
   "cell_type": "code",
   "execution_count": null,
   "id": "a7adb263",
   "metadata": {},
   "outputs": [],
   "source": [
    "acftref.shape"
   ]
  },
  {
   "cell_type": "code",
   "execution_count": null,
   "id": "bbf8ff03",
   "metadata": {},
   "outputs": [],
   "source": [
    "acftref.head()"
   ]
  },
  {
   "cell_type": "code",
   "execution_count": null,
   "id": "db925d48",
   "metadata": {},
   "outputs": [],
   "source": [
    "acftref.tail()"
   ]
  },
  {
   "cell_type": "code",
   "execution_count": null,
   "id": "3c01f3a2",
   "metadata": {},
   "outputs": [],
   "source": [
    "acftref.columns"
   ]
  },
  {
   "cell_type": "code",
   "execution_count": null,
   "id": "2739db12",
   "metadata": {},
   "outputs": [],
   "source": [
    "acftref.info()"
   ]
  },
  {
   "cell_type": "code",
   "execution_count": null,
   "id": "67bc0978",
   "metadata": {},
   "outputs": [],
   "source": [
    "acftref.describe().T"
   ]
  },
  {
   "cell_type": "code",
   "execution_count": null,
   "id": "5f3b1453",
   "metadata": {},
   "outputs": [],
   "source": [
    "acftref.describe(include='O').T"
   ]
  },
  {
   "cell_type": "code",
   "execution_count": null,
   "id": "d2decbb3",
   "metadata": {},
   "outputs": [],
   "source": [
    "acftref.isna().any()"
   ]
  },
  {
   "cell_type": "markdown",
   "id": "0b2d9e44",
   "metadata": {},
   "source": [
    " ---\n",
    "\n",
    "#### Findings:\n",
    "\n",
    "- Successfully loaded using `pd.read_csv()` with `delimiter=','`.\n",
    "- Data is clean with clearly labeled columns and no immediate signs of missing or malformed values.\n",
    "- Column names are structured and self-descriptive, requiring minimal preprocessing.\n",
    "\n",
    "####  Key Columns:\n",
    "\n",
    "- **`CODE`**: Unique identifier for each aircraft model — can be linked to `MASTER.txt` via `MFR MDL CODE`.\n",
    "- **`MFR`, `MODEL`**: Aircraft manufacturer and model — provides context for identifying specific aircraft configurations.\n",
    "- **`TYPE-ACFT`, `TYPE-ENG`**: Encoded aircraft and engine types — useful for categorizing incidents by type.\n",
    "- **`AC-CAT`**: Aircraft category (e.g., airplane, rotorcraft) — helpful for grouping and comparative analysis.\n",
    "- **`NO-ENG`, `NO-SEATS`**: Details on aircraft engine count and seating capacity — key for estimating potential occupancy and accident impact.\n",
    "- **`AC-WEIGHT`**: Aircraft weight classification (e.g., Class 1, Class 3) — used in understanding accident risk per weight class.\n",
    "\n",
    "---\n",
    "\n",
    "####  Planned Usage:\n",
    "\n",
    "This dataset will serve as a **technical reference** for enriching the main aviation accident dataset. By linking through keys like `MFR MDL CODE`, it enables:\n",
    "\n",
    "- Assessment of **aircraft-specific risk factors**, such as engine type or seating capacity.\n",
    "- Enhanced ability to generate **data-backed safety insights** and recommendations based on aircraft configuration.\n",
    "\n"
   ]
  },
  {
   "cell_type": "markdown",
   "id": "fd975a27",
   "metadata": {},
   "source": [
    "## FAA Engine Reference Data (ENGINE.txt)\n",
    "\n",
    "The ENGINE.txt file contains reference data about aircraft engines registered with the FAA. It supplements the main dataset by providing technical specifications related to engine make, model, and performance attributes."
   ]
  },
  {
   "cell_type": "code",
   "execution_count": null,
   "id": "406fbf65",
   "metadata": {},
   "outputs": [],
   "source": [
    "engine = pd.read_csv(\"supplimentary-data/ReleasableAircraft/ENGINE.txt\", delimiter=',', low_memory=False)"
   ]
  },
  {
   "cell_type": "code",
   "execution_count": null,
   "id": "fb21ce31",
   "metadata": {},
   "outputs": [],
   "source": [
    "engine.shape"
   ]
  },
  {
   "cell_type": "code",
   "execution_count": null,
   "id": "483cfb35",
   "metadata": {},
   "outputs": [],
   "source": [
    "engine.head()"
   ]
  },
  {
   "cell_type": "code",
   "execution_count": null,
   "id": "05f6c110",
   "metadata": {},
   "outputs": [],
   "source": [
    "engine.columns"
   ]
  },
  {
   "cell_type": "code",
   "execution_count": null,
   "id": "c33ed9bf",
   "metadata": {},
   "outputs": [],
   "source": [
    "engine.tail()"
   ]
  },
  {
   "cell_type": "code",
   "execution_count": null,
   "id": "e3189f12",
   "metadata": {},
   "outputs": [],
   "source": [
    "engine.describe().T"
   ]
  },
  {
   "cell_type": "code",
   "execution_count": null,
   "id": "c44571dd",
   "metadata": {},
   "outputs": [],
   "source": [
    "engine.describe(include='O').T"
   ]
  },
  {
   "cell_type": "code",
   "execution_count": null,
   "id": "6f19405e",
   "metadata": {},
   "outputs": [],
   "source": [
    "engine.isna().any()"
   ]
  },
  {
   "cell_type": "markdown",
   "id": "b3b0d6fa",
   "metadata": {},
   "source": [
    "###  Engine Reference File (`ENGINE.txt`)\n",
    "\n",
    "---\n",
    "\n",
    "####  Findings:\n",
    "\n",
    "- File successfully read using `pd.read_csv()` with `delimiter='|'`.\n",
    "- Columns are clean, consistently formatted, and intuitive.\n",
    "- No missing values were identified in initial inspection.\n",
    "- One extraneous column (`Unnamed: 6`) appears to be empty and will be dropped during preprocessing.\n",
    "\n",
    "---\n",
    "\n",
    "#### Columns Overview:\n",
    "\n",
    "| Column Name   | Description |\n",
    "|---------------|-------------|\n",
    "| **`CODE`**         | Unique identifier for each engine model. Links to `ENG MFR MDL` in `MASTER.txt`. |\n",
    "| **`MFR`**          | Engine manufacturer (e.g., Lycoming, Pratt & Whitney). |\n",
    "| **`MODEL`**        | Engine model name/designation. |\n",
    "| **`TYPE`**         | Numerical or coded value representing engine type. May require external decoding for interpretation. |\n",
    "| **`HORSEPOWER`**   | Power output of the engine in horsepower. Useful for performance analysis. |\n",
    "| **`THRUST`**       | Thrust power (likely in pounds-force) — relevant for jet and turbine engines. |\n",
    "| **`Unnamed: 6`**   | Empty column (likely due to trailing delimiter in raw file); to be dropped. |\n",
    "\n",
    "---\n",
    "\n",
    "#### Usage Strategy:\n",
    "\n",
    "This dataset will enhance the analysis by:\n",
    "\n",
    "- **Profiling engine performance** (e.g., power-to-weight ratios, aircraft capability).\n",
    "- Investigating **correlations between engine specs and accident frequency or severity**.\n",
    "- Identifying **failure trends** across manufacturers and models for better safety recommendations.\n",
    "- Supporting the development of **engine-specific risk metrics** for use in fleet management or policy planning.\n",
    "\n",
    "After minor cleaning (dropping the empty column), this file is **analysis-ready**.\n"
   ]
  },
  {
   "cell_type": "markdown",
   "id": "7479269d",
   "metadata": {},
   "source": [
    "## FAA Deregistered Aircraft Data (`DEREG.txt`)"
   ]
  },
  {
   "cell_type": "code",
   "execution_count": null,
   "id": "2a7ddaf2",
   "metadata": {},
   "outputs": [],
   "source": [
    "def handle_bad_line(bad_line):\n",
    "    print(\"Bad line encountered:\", bad_line)\n",
    "    return None  # skip the bad line\n",
    "\n",
    "dereg = pd.read_csv(\n",
    "    \"supplimentary-data/ReleasableAircraft/DEREG.txt\",\n",
    "    delimiter=',',\n",
    "    engine='python',\n",
    "    on_bad_lines=handle_bad_line\n",
    ")\n",
    "\n",
    "\n"
   ]
  },
  {
   "cell_type": "code",
   "execution_count": null,
   "id": "fc1bd692",
   "metadata": {},
   "outputs": [],
   "source": [
    "dereg.shape"
   ]
  },
  {
   "cell_type": "code",
   "execution_count": null,
   "id": "38998649",
   "metadata": {},
   "outputs": [],
   "source": [
    "dereg.head()"
   ]
  },
  {
   "cell_type": "code",
   "execution_count": null,
   "id": "3e8c5aa7",
   "metadata": {},
   "outputs": [],
   "source": [
    "dereg.tail()"
   ]
  },
  {
   "cell_type": "code",
   "execution_count": null,
   "id": "21d067ed",
   "metadata": {},
   "outputs": [],
   "source": [
    "dereg.info()"
   ]
  },
  {
   "cell_type": "code",
   "execution_count": null,
   "id": "c928872e",
   "metadata": {},
   "outputs": [],
   "source": [
    "dereg.describe(include='O').T"
   ]
  },
  {
   "cell_type": "code",
   "execution_count": null,
   "id": "2e3d2fee",
   "metadata": {},
   "outputs": [],
   "source": [
    "dereg.describe().T"
   ]
  },
  {
   "cell_type": "code",
   "execution_count": null,
   "id": "b09b6fe7",
   "metadata": {},
   "outputs": [],
   "source": [
    "dereg.columns"
   ]
  },
  {
   "cell_type": "code",
   "execution_count": null,
   "id": "7aa34f12",
   "metadata": {},
   "outputs": [],
   "source": [
    "dereg.isna().any()"
   ]
  },
  {
   "cell_type": "markdown",
   "id": "78b9b53e",
   "metadata": {},
   "source": [
    "## Findings: FAA Deregistered Aircraft Data (`DEREG.txt`)\n",
    "\n",
    "The `DEREG.txt` file presented initial loading challenges due to a malformed line in the dataset. To address this, a custom function was implemented to skip the corrupted row during file read-in using the Python engine. This allowed the dataset to load successfully without compromising the integrity of the rest of the data.\n",
    "\n",
    "---\n",
    "\n",
    "###  File Status\n",
    "\n",
    "- **File successfully loaded** after handling a single bad line.\n",
    "- **Delimiter:** `,`\n",
    "- **Engine used:** `python` (to support custom bad-line handling)\n",
    "- **Data Quality:** Relatively clean; most fields are well-structured and populated.\n",
    "- **Next Steps:** Full inspection and cleaning will be performed during the data wrangling phase.\n",
    "\n",
    "---\n",
    "\n",
    "###  Columns Overview\n",
    "\n",
    "The file contains detailed deregistration and historical aircraft information, including:\n",
    "\n",
    "- `N-NUMBER`, `SERIAL-NUMBER`, `MFR-MDL-CODE`: Unique identifiers for aircraft tracking.\n",
    "- `ENG-MFR-MDL`, `YEAR-MFR`, `CERTIFICATION`: Technical and regulatory aircraft details.\n",
    "- `NAME`, `MAILING & PHYSICAL ADDRESSES`, `COUNTRY`, `STATE`: Owner/registrant contact information.\n",
    "- `STATUS-CODE`, `CANCEL-DATE`, `AIR-WORTH-DATE`: Registration and airworthiness history.\n",
    "- `MODE S CODE` & `HEX`: Avionics transponder identifiers.\n",
    "- `OTHER-NAMES`: Additional ownership or alias records.\n",
    "- `Unnamed: 38`: Appears to be empty and will likely be dropped during cleaning.\n",
    "\n",
    "---\n",
    "\n",
    "###  Usage in Analysis\n",
    "\n",
    "This dataset will supplement the main aviation accident dataset by:\n",
    "\n",
    "- Providing insights into **aircraft deregistration patterns**, potentially flagging risks for previously deregistered or non-airworthy aircraft.\n",
    "- Supporting analysis of how **registration timelines and cancellation dates** correlate with accident occurrence.\n",
    "- Enabling enhanced **ownership and certification history tracking**, useful for investigating compliance or systemic issues.\n"
   ]
  },
  {
   "cell_type": "markdown",
   "id": "9e17f480",
   "metadata": {},
   "source": [
    "## FAA REGULATION DATA\n",
    "This dataset contains information about changes to Federal Aviation Administration (FAA) regulations. It is structured and consistent, with minimal preprocessing required."
   ]
  },
  {
   "cell_type": "code",
   "execution_count": null,
   "id": "d87b0339",
   "metadata": {},
   "outputs": [],
   "source": [
    "regulation = pd.read_csv('supplimentary-data/Regulation-data/all_current_ACs_as_of_2025-06-24.csv')"
   ]
  },
  {
   "cell_type": "code",
   "execution_count": null,
   "id": "34d18a06",
   "metadata": {},
   "outputs": [],
   "source": [
    "regulation.shape"
   ]
  },
  {
   "cell_type": "code",
   "execution_count": null,
   "id": "65df4e78",
   "metadata": {},
   "outputs": [],
   "source": [
    "regulation.head()"
   ]
  },
  {
   "cell_type": "code",
   "execution_count": null,
   "id": "7c039d51",
   "metadata": {},
   "outputs": [],
   "source": [
    "regulation.tail()"
   ]
  },
  {
   "cell_type": "code",
   "execution_count": null,
   "id": "ca3f855d",
   "metadata": {},
   "outputs": [],
   "source": [
    "regulation.info()"
   ]
  },
  {
   "cell_type": "code",
   "execution_count": null,
   "id": "8a42e937",
   "metadata": {},
   "outputs": [],
   "source": [
    "regulation.describe().T"
   ]
  },
  {
   "cell_type": "code",
   "execution_count": null,
   "id": "c42841e3",
   "metadata": {},
   "outputs": [],
   "source": [
    "regulation.describe(include='O').T"
   ]
  },
  {
   "cell_type": "code",
   "execution_count": null,
   "id": "f6ba517c",
   "metadata": {},
   "outputs": [],
   "source": [
    "regulation.columns"
   ]
  },
  {
   "cell_type": "code",
   "execution_count": null,
   "id": "e40f0d9c",
   "metadata": {},
   "outputs": [],
   "source": [
    "regulation.isna().any()"
   ]
  },
  {
   "cell_type": "markdown",
   "id": "27b4a037",
   "metadata": {},
   "source": [
    "## Findings \n",
    "using the `.head` and `.tail`, the data is consistent all through \n",
    "\n",
    "| Column Name     | Description                                                                 |\n",
    "|------------------|-----------------------------------------------------------------------------|\n",
    "| `CHANGENUMBER`   | Unique identifier for the regulation change. Missing in some rows.          |\n",
    "| `DATE`           | Date the regulation change was recorded or issued.                          |\n",
    "| `DOCUMENTNUMBER` | Official document number for the regulatory record.                         |\n",
    "| `OFFICE`         | FAA office responsible for the change or publication.                       |\n",
    "| `TITLE`          | Title or summary of the regulatory change or document.                      |\n",
    "\n",
    "---\n",
    "\n",
    "### Data Quality\n",
    "\n",
    "- The file is **relatively clean and analysis-ready**.\n",
    "- The only notable missing values are in the `CHANGENUMBER` column.\n",
    "- **No corrupted or malformed lines** observed.\n",
    "- Column naming is already **consistent and descriptive**.\n",
    "\n",
    "---\n",
    "\n",
    "### Usage in Analysis\n",
    "\n",
    "This dataset will be used to:\n",
    "\n",
    "- **Overlay regulatory changes over time** with accident trends, helping identify correlations between new rules and safety outcomes.\n",
    "- **Associate specific regulation documents** with incident dates or aircraft models where applicable.\n",
    "- **Enrich the narrative** around FAA oversight, identifying whether accidents occurred before or after relevant safety regulations were enacted.\n"
   ]
  },
  {
   "cell_type": "markdown",
   "id": "59b52325",
   "metadata": {},
   "source": [
    "## PHASE TWO: DATA CLEANING & WRANGLING \n",
    "\n",
    "In this section, I begin the data cleaning and wrangling phase of my analysis. After getting an overview of all datasets, I will now dig deeper into the structure and contents of the aviation accident data — the main dataset powering my analysis.\n",
    "\n",
    "My goal here is to:\n",
    "- Understand the **meaning and relevance** of each column\n",
    "- Decide which features are **critical for analysis**, and which can be **dropped or transformed**\n",
    "- Handle **missing values** using clear logic\n",
    "- Create a **clean, well-structured dataset** ready for Exploratory Data Analysis (EDA) and risk modeling\n",
    "\n",
    "---\n",
    "\n",
    "###  Why Focus on U.S. Data?\n",
    "\n",
    "The aviation accident dataset spans both domestic and international incidents from **1962 to 2023**. After analyzing the `Country` column, I found:\n",
    "\n",
    "- Total records in dataset: **88,889**\n",
    "- Records with `Country == \"United States\"`: **82,248**\n",
    "- Proportion of U.S. data: 92.5%\n",
    "\n",
    "\n",
    "Given that **over 92% of the data is U.S.-based**, it is statistically sound to anchor my cleaning and initial analysis on this subset. This choice ensures:\n",
    "- High-quality and consistent data (due to FAA reporting standards)\n",
    "- Easier cross-referencing with other FAA and registration datasets\n",
    "- A more stable foundation for accurate risk modeling and business recommendations\n",
    "\n",
    "---\n",
    "\n",
    "###  What About the Non-U.S. (Diaspora) Data?\n",
    "\n",
    "While my focus will be on U.S.-based data for the purposes of cleaning, modeling, and initial business recommendations, I will **not discard the international data**.\n",
    "\n",
    "Instead, I will:\n",
    "- Preserve a cleaned version of non-U.S. (diaspora) data separately\n",
    "- Consider adding it in later as a **secondary insight layer**\n",
    "- Allow for potential **interactive filtering in dashboards** (e.g., U.S. vs. Global view)\n",
    "\n",
    "This approach ensures that my analysis is both **deep (U.S. focus)** and **scalable (global relevance)**.\n",
    "\n",
    "---\n",
    "\n",
    "### Next Steps in Cleaning\n",
    "\n",
    "I will now:\n",
    "1. Filter and work with U.S. records only (`Country == \"United States\"`)\n",
    "2. Examine each column in detail\n",
    "3. Handle missing values logically\n",
    "4. Clean inconsistencies (e.g., in aircraft model names, date formats, injury reports)\n",
    "5. Save a clean version of the dataset for further analysis\n",
    "\n",
    "Once complete, this cleaned dataset will form the foundation for:\n",
    "- Exploratory Data Analysis\n",
    "- Aircraft risk profiling\n",
    "- Visualizations and business intelligence recommendations\n",
    "\n"
   ]
  },
  {
   "cell_type": "code",
   "execution_count": null,
   "id": "61834229",
   "metadata": {},
   "outputs": [],
   "source": [
    "#make a copy of the aviation data set since its good practice not working on the actual data \n",
    "aviation_data_copy = aviation_data.copy()\n"
   ]
  },
  {
   "cell_type": "markdown",
   "id": "cbdd3337",
   "metadata": {},
   "source": [
    "## Column Name Meanings\n",
    "\n",
    "| Column Name              | Meaning                                                                       |\n",
    "| ------------------------ | ----------------------------------------------------------------------------- |\n",
    "| `Investigation.Type`     | Whether the event was an \"Accident\" or \"Incident\". Accidents are more severe. |\n",
    "| `Accident.Number`        | Unique ID for each event. Serves as the primary key.                          |\n",
    "| `Event.Date`             | Date the accident or incident occurred.                                       |\n",
    "| `Location`               | General description of where the event happened (e.g., city, area).           |\n",
    "| `Country`                | Country where the event occurred.                                             |\n",
    "| `Latitude`               | Geographic coordinate (north-south) of the event.                             |\n",
    "| `Longitude`              | Geographic coordinate (east-west) of the event.                               |\n",
    "| `Airport.Code`           | FAA/IATA code of the airport involved (if any).                               |\n",
    "| `Airport.Name`           | Full name of the airport involved (if any).                                   |\n",
    "| `Injury.Severity`        | Summary of the severity of injuries (e.g., Fatal, Serious, Minor).            |\n",
    "| `Aircraft.damage`        | Description of damage sustained by the aircraft.                              |\n",
    "| `Aircraft.Category`      | General category of aircraft (e.g., airplane, rotorcraft).                    |\n",
    "| `Registration.Number`    | Aircraft registration number (like a license plate).                          |\n",
    "| `Make`                   | Manufacturer of the aircraft (e.g., Boeing, Cessna).                          |\n",
    "| `Model`                  | Specific model of the aircraft.                                               |\n",
    "| `Amateur.Built`          | Indicates if the aircraft was amateur-built (\"Yes\" or \"No\").                  |\n",
    "| `Number.of.Engines`      | Number of engines the aircraft had.                                           |\n",
    "| `Engine.Type`            | Description of the aircraft’s engine type.                                    |\n",
    "| `FAR.Description`        | FAA regulatory category under which the aircraft was operating.               |\n",
    "| `Schedule`               | Indicates if the flight was scheduled or unscheduled.                         |\n",
    "| `Purpose.of.flight`      | Reason or purpose for the flight (e.g., personal, training).                  |\n",
    "| `Air.carrier`            | Name of the air carrier, if applicable (commercial flights).                  |\n",
    "| `Total.Fatal.Injuries`   | Total number of people who died in the event.                                 |\n",
    "| `Total.Serious.Injuries` | Total number of people with serious injuries.                                 |\n",
    "| `Total.Minor.Injuries`   | Total number of people with minor injuries.                                   |\n",
    "| `Total.Uninjured`        | Total number of people who were not injured.                                  |\n",
    "| `Weather.Condition`      | Weather during the event (e.g., VMC, IMC, UNK).                               |\n",
    "| `Broad.phase.of.flight`  | Phase of flight during which the event occurred (e.g., landing, taxi).        |\n",
    "| `Report.Status`          | Indicates if the report is preliminary or final.                              |\n",
    "| `Publication.Date`       | Date the report was published.                                                |\n",
    "\n",
    "----\n",
    "The meanings provide description of what each column entails, thus expanding my domain knowledge on the data set"
   ]
  },
  {
   "cell_type": "code",
   "execution_count": null,
   "id": "f43bdaab",
   "metadata": {},
   "outputs": [],
   "source": [
    "#cleaning and renaming the columns \n",
    "aviation_data_copy.rename(columns={\n",
    "    'Investigation.Type': 'Investigation_Type',\n",
    "    'Accident.Number': 'Accident_Number',\n",
    "    'Event.Date': 'Event_Date',\n",
    "    'Airport.Code': 'Airport_Code',\n",
    "    'Airport.Name': 'Airport_Name',\n",
    "    'Injury.Severity': 'Injury_Severity',\n",
    "    'Aircraft.damage': 'Aircraft_Damage',\n",
    "    'Aircraft.Category': 'Aircraft_Category',\n",
    "    'Registration.Number': 'Registration_Number',\n",
    "    'Make': 'Aircraft_Make',\n",
    "    'Model': 'Aircraft_Model',\n",
    "    'Amateur.Built': 'Amateur_Built',\n",
    "    'Number.of.Engines': 'Number_of_Engines',\n",
    "    'Engine.Type': 'Engine_Type',\n",
    "    'FAR.Description': 'FAR_Description',\n",
    "    'Schedule': 'Schedule_Type',\n",
    "    'Purpose.of.flight': 'Purpose_of_Flight',\n",
    "    'Air.carrier': 'Air_Carrier',\n",
    "    'Total.Fatal.Injuries': 'Fatal_Injuries',\n",
    "    'Total.Serious.Injuries': 'Serious_Injuries',\n",
    "    'Total.Minor.Injuries': 'Minor_Injuries',\n",
    "    'Total.Uninjured': 'Uninjured',\n",
    "    'Weather.Condition': 'Weather_Condition',\n",
    "    'Broad.phase.of.flight': 'Phase_of_Flight',\n",
    "    'Report.Status': 'Report_Status',\n",
    "    'Publication.Date': 'Publication_Date'\n",
    "}, inplace=True)\n",
    "\n",
    "aviation_data_copy.columns"
   ]
  },
  {
   "cell_type": "code",
   "execution_count": null,
   "id": "de28344a",
   "metadata": {},
   "outputs": [],
   "source": [
    "def clean_column_names(df):\n",
    "    df.columns = (\n",
    "        df.columns\n",
    "        .str.strip()\n",
    "        .str.lower()\n",
    "        .str.replace('.', '_', regex=False)\n",
    "        .str.replace(' ', '_', regex=False)\n",
    "    )\n",
    "    return df\n",
    "\n",
    "aviation_data_copy = clean_column_names(aviation_data_copy)\n",
    "\n",
    "aviation_data_copy.columns\n"
   ]
  },
  {
   "cell_type": "code",
   "execution_count": null,
   "id": "a8d84e47",
   "metadata": {},
   "outputs": [],
   "source": [
    "#make a copy of the US-subset\n",
    "us_data = aviation_data_copy[aviation_data_copy['country'] == 'United States'].copy()\n",
    "#make a copy for the diaspora data\n",
    "diaspora_data = aviation_data_copy[aviation_data_copy['country'] != 'United States'].copy()"
   ]
  },
  {
   "cell_type": "markdown",
   "id": "5d595fbe",
   "metadata": {},
   "source": [
    "##  General Rules for Dropping Data\n",
    "\n",
    "Dropping data—whether rows or columns—should be done cautiously, guided by domain knowledge and data quality goals. Below are standard, defensible rules that i will use in my analysis.\n",
    "\n",
    "---\n",
    "\n",
    "###  Dropping Columns\n",
    "\n",
    "I will drop a column if:\n",
    "\n",
    "- It has a **high percentage of missing values** (typically > 50–70%) and is not critical for analysis.\n",
    "- It contains **only a single unique value** (i.e., zero variance — no information gain).\n",
    "- It is a **duplicate of another column** (redundancy).\n",
    "- The data is **irrelevant to the current analysis objectives** (e.g., IDs or metadata not used for joins or context).\n",
    "- It is **impossible to interpret or decode** (e.g., poorly documented, encoded variables with no lookup).\n",
    "\n",
    "---\n",
    "\n",
    "###  Dropping Rows\n",
    "\n",
    "I will  drop a row if:\n",
    "\n",
    "- **Critical columns are missing**, especially where imputation is not appropriate (e.g., timestamps, unique identifiers, target variable).\n",
    "- It contains **clearly erroneous or corrupted data** (e.g., wrong data types, impossible values like negative injuries or invalid dates).\n",
    "- It is a **complete duplicate** of another row.\n",
    "- It **violates integrity constraints**, such as conflicting values across dependent fields.\n",
    "\n",
    "---\n",
    "\n",
    "### Cautions\n",
    "\n",
    "- Consider **imputation or transformation** before dropping — dropping should be the **last resort** if data is unrecoverable.\n",
    "- **Document your rationale** for each drop, especially in sensitive or audit-heavy domains like aviation or healthcare.\n",
    "- Consider the **impact on representativeness**: Dropping too many rows can introduce bias or reduce statistical power.\n",
    "\n",
    "---\n",
    "\n",
    "### Best Practice\n",
    "\n",
    "I will use `.info()`, `.isnull().sum()`, and `.nunique()` early in EDA to assess the quality of each column and  back decisions with simple visuals (e.g., **missingness heatmaps** or **histograms**).\n"
   ]
  },
  {
   "cell_type": "code",
   "execution_count": null,
   "id": "846a0e6d",
   "metadata": {},
   "outputs": [],
   "source": [
    "\n",
    "us_data.info()"
   ]
  },
  {
   "cell_type": "code",
   "execution_count": null,
   "id": "83609b83",
   "metadata": {},
   "outputs": [],
   "source": [
    "us_data.isna().any()"
   ]
  },
  {
   "cell_type": "markdown",
   "id": "cf34a7c8",
   "metadata": {},
   "source": [
    "## Findings ?\n",
    "The only columns with no missing data are event_id,investigation_type,accident_number, event_date\n",
    "i will go through each column one by one and keep relevant data and drop the rest, i can also use domain knowlege to fill some columns, either way i want to maintain minimal bias according to what i have."
   ]
  },
  {
   "cell_type": "markdown",
   "id": "cbf03012",
   "metadata": {},
   "source": [
    "## COLUMN BY COLUMN INVESTIGATION AND VERDICT\n",
    "----\n"
   ]
  },
  {
   "cell_type": "markdown",
   "id": "67f07b65",
   "metadata": {},
   "source": [
    "### COLUMN ONE:LOCATION"
   ]
  },
  {
   "cell_type": "markdown",
   "id": "f1a4c8da",
   "metadata": {},
   "source": [
    "I noticed a pattern which might help me in one way or another fill missing data in my aviation data set, this is what i found\n",
    "\n",
    "### The NTSB `accident_number` has a patter as shown and explained below:\n",
    "\n",
    "According to the **NTSB Aviation Data Dictionary**, the structure of an `accident_number` follows a specific pattern:\n",
    "\n",
    "###  Format Breakdown:\n",
    "\n",
    "- **First 3 characters**: NTSB **office code**  \n",
    "  *Example*: `MIA` = Miami Regional Office\n",
    "\n",
    "- **Next 2 digits**: **Fiscal year** of the investigation  \n",
    "  *Example*: `85` = Fiscal Year 1985\n",
    "\n",
    "- **Next 2 letters**: **Investigation category and mode**  \n",
    "  *Indicates whether the investigation involved airline, marine, etc.*\n",
    "\n",
    "- **Next 3 digits**: A **sequential number** showing the order the case was opened in that fiscal year\n",
    "\n",
    "- **Optional final letter**: Indicates **multiple aircraft** involved in the same event\n",
    "\n",
    "---\n",
    "\n",
    "### Example: `MIA85LAMS1`\n",
    "\n",
    "This breaks down as:\n",
    "\n",
    "- `MIA` → Miami NTSB Office  \n",
    "- `85` → Fiscal year 1985  \n",
    "- `L` → Likely a **major investigation** in **aviation** mode  \n",
    "- `AMS` → Additional **category codes**  \n",
    "- `1` → First in the sequence (possibly one of multiple aircraft)\n",
    "\n",
    "##  Final Verdict on Missing `Location` Values (U.S. Data)\n",
    "\n",
    "While analyzing the `Accident_Number` syntax, i came up with the following insights:\n",
    "\n",
    "- The prefix (e.g., `MIA`, `FTW`, `LAX`) typically refers to the **NTSB regional office** that conducted the investigation — **not necessarily the accident location**.\n",
    "- In some cases, the prefix aligns with the actual location.\n",
    "- However, in other instances, the office may be **geographically distant** from where the accident occurred, making it **unreliable as a proxy** for true location.\n",
    "\n",
    "---\n",
    "\n",
    "### Conclusion\n",
    "\n",
    "Although the `Accident_Number` can offer **hints**, it **cannot be consistently used** to infer accurate location data. thus the missing values i will use fillna with Unknown\n",
    "\n",
    "---"
   ]
  },
  {
   "cell_type": "code",
   "execution_count": null,
   "id": "24c23783",
   "metadata": {},
   "outputs": [],
   "source": [
    "#location\n",
    "us_data['location'] = us_data['location'].fillna(\"Unknown\")\n",
    "us_data.isna().sum()\n"
   ]
  },
  {
   "cell_type": "markdown",
   "id": "085455e8",
   "metadata": {},
   "source": [
    "At this stage i will split this column into two new columns before i proceed with the cleaning \n",
    "\n",
    "The `location` column combines city and state information in a single string ( `\"COCOA, FL\"`). To support more granular geographic analysis, i will split this column into two distinct fields:\n",
    "\n",
    "- **`city`** – the name of the city, town, or municipality where the event occurred  \n",
    "- **`state`** – the two-letter U.S. state abbreviation ( `FL`, `CA`)\n",
    "\n",
    "-----\n",
    "\n",
    "- **Missing or malformed entries**: If the `location` field is  missing or did not contain a comma, both `city` and `state` will be assigned `'Unknown'`.\n",
    "- **Whitespace handling**: Leading and trailing whitespaces will be stripped from both city and state values for consistency.\n",
    "- **State validation**: I will  U.S. state code reference provided  (`USState_Codes.csv`)  to map abbreviations to full state names.\n",
    "- **New field – `state`**: This additional column improves interpretability and supports advanced analysis (e.g., aggregating by full state name).\n",
    "\n",
    "By structuring the `location` data this way, we enable more precise regional breakdowns, simplify future joins with FAA and weather datasets, and enhance the overall analytical quality of the dataset.\n"
   ]
  },
  {
   "cell_type": "code",
   "execution_count": null,
   "id": "35d781df",
   "metadata": {},
   "outputs": [],
   "source": [
    "us_data[['city', 'state']] = (\n",
    "    us_data['location']\n",
    "    .fillna('Unknown, Unknown')            \n",
    "    .str.split(',', n=1, expand=True)     \n",
    "    .apply(lambda x: x.str.strip())        \n",
    ")\n",
    "us_data['city'] = us_data['city'].fillna('Unknown')\n",
    "us_data['state'] = us_data['state'].fillna('Unknown')\n",
    "us_data['state'] = us_data['state'].str.upper()\n",
    "\n",
    "us_data.head()"
   ]
  },
  {
   "cell_type": "code",
   "execution_count": null,
   "id": "f99a28e8",
   "metadata": {},
   "outputs": [],
   "source": [
    "#loading the USState_Codes.csv\n",
    "state_codes = pd.read_csv('Data/Aviation-data/USState_Codes.csv')\n",
    "state_codes.info()\n",
    "state_codes.head()"
   ]
  },
  {
   "cell_type": "code",
   "execution_count": null,
   "id": "dfa5c17b",
   "metadata": {},
   "outputs": [],
   "source": [
    "state_codes.rename(columns={\n",
    "    'Abbreviation':'state',\n",
    "    'US_State':'state_full'\n",
    "}, inplace=True)\n",
    "us_data = us_data.merge(state_codes, on='state', how='left')\n"
   ]
  },
  {
   "cell_type": "code",
   "execution_count": null,
   "id": "16f22a18",
   "metadata": {},
   "outputs": [],
   "source": [
    "us_data['city'] = us_data['city'].str.strip().str.upper()\n",
    "us_data['state_full']=us_data['state_full'].str.strip().str.upper()\n",
    "us_data['state']=us_data['state'].str.strip().str.upper()\n",
    "us_data.head()"
   ]
  },
  {
   "cell_type": "markdown",
   "id": "5c2d939f",
   "metadata": {},
   "source": [
    "##  Dropping Latitude and Longitude\n",
    "\n",
    "The `latitude` and `longitude` columns represent the geographical coordinates of where each accident occurred. After evaluating their utility for this analysis, a decision was made to **drop both columns** based on the following rationale:\n",
    "\n",
    "---\n",
    "\n",
    "###  Reasons for Dropping:\n",
    "\n",
    "- **Over 60% of values are missing** — specifically, `49,983` out of `82,248` us_data for the latitude column records have null entries, making reliable imputation impractical.\n",
    "- The dataset lacks sufficient **contextual data** (e.g., accident causes, airport coordinates) needed to generate meaningful geospatial insights.\n",
    "- The **focus of this analysis** is on **temporal, categorical, and severity-based trends**, rather than spatial or geographical mapping.\n",
    "- Performing distance calculations (e.g., accident site to nearest airport) would require **external datasets and geolocation logic** not currently available in this phase.\n",
    "\n",
    "---\n",
    "\n",
    "###  Final Verdict:\n",
    "\n",
    "To preserve dataset **cleanliness** and **analytical focus**, both `latitude` and `longitude` columns have been **dropped**.\n"
   ]
  },
  {
   "cell_type": "code",
   "execution_count": null,
   "id": "abec7365",
   "metadata": {},
   "outputs": [],
   "source": [
    "print(us_data.columns)\n"
   ]
  },
  {
   "cell_type": "code",
   "execution_count": null,
   "id": "8a2af5e1",
   "metadata": {},
   "outputs": [],
   "source": [
    "us_data.drop(columns=['latitude', 'longitude'], inplace=True)\n"
   ]
  },
  {
   "cell_type": "markdown",
   "id": "b9046395",
   "metadata": {},
   "source": [
    "## AIRPORT CODES AND NAMES\n",
    "\n",
    "## Why I Considered Using Airport Data\n",
    "\n",
    "At first, I thought about keeping `airport_code` and `airport_name` in the dataset. They could be useful **if** I were analyzing:\n",
    "\n",
    "- Accidents by airport\n",
    "- Geographic clustering\n",
    "- Infrastructure-related risks at specific airports\n",
    "\n",
    "But for that kind of analysis, I’d need **supporting geospatial data** like:\n",
    "\n",
    "- Fuel logs or flight paths  \n",
    "- Maintenance or repair history  \n",
    "- Distances between the origin and crash site  \n",
    "- Data on airport infrastructure or traffic density\n",
    "\n",
    "---\n",
    "\n",
    "## Why I’m Dropping It\n",
    "\n",
    "After thinking it through, I decided to drop the airport data because:\n",
    "\n",
    "- I’m **not analyzing airport-specific risks** in this project  \n",
    "- I **don’t have the complementary data** needed to make airport-level insights meaningful  \n",
    "- I already have **location data**, which offers better granularity — and I’ve taken the time to clean it  \n",
    "- Plus, **airport names and codes are often inconsistent** or messy in large datasets — keeping them without a clear purpose would just add noise\n",
    "- Lastly there mentioned columns have alot missing data\n",
    "\n",
    "---\n",
    "\n",
    "###  Final Decision\n",
    "\n",
    "I’m dropping `airport_code` and `airport_name` to keep the dataset lean, focused, and clean.\n"
   ]
  },
  {
   "cell_type": "code",
   "execution_count": 70,
   "id": "4d6c3b61",
   "metadata": {},
   "outputs": [],
   "source": [
    "us_data.drop(columns=['airport_code', 'airport_name'], inplace=True)\n"
   ]
  },
  {
   "cell_type": "code",
   "execution_count": null,
   "id": "28f93203",
   "metadata": {},
   "outputs": [],
   "source": []
  }
 ],
 "metadata": {
  "kernelspec": {
   "display_name": "learn-env",
   "language": "python",
   "name": "python3"
  },
  "language_info": {
   "codemirror_mode": {
    "name": "ipython",
    "version": 3
   },
   "file_extension": ".py",
   "mimetype": "text/x-python",
   "name": "python",
   "nbconvert_exporter": "python",
   "pygments_lexer": "ipython3",
   "version": "3.9.19"
  }
 },
 "nbformat": 4,
 "nbformat_minor": 5
}
